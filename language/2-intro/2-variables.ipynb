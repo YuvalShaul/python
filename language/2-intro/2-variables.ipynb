{
 "cells": [
  {
   "cell_type": "markdown",
   "id": "358fab99-00e6-4cde-9147-eda314589167",
   "metadata": {},
   "source": [
    "## Variables"
   ]
  },
  {
   "cell_type": "code",
   "execution_count": 8,
   "id": "5ae2920e-a000-476b-9722-7ad7fb5a8652",
   "metadata": {},
   "outputs": [
    {
     "name": "stdout",
     "output_type": "stream",
     "text": [
      "<class 'int'>\n",
      "140724820043176\n"
     ]
    }
   ],
   "source": [
    "# In python, each value is an object, and each object has a type and a unique id\n",
    "# I'll use the print function, so that I can show the result of multiple valuesL:\n",
    "print( type(17) )\n",
    "print( id(17)  )"
   ]
  },
  {
   "cell_type": "code",
   "execution_count": 9,
   "id": "d286291d-da50-4e3b-acd2-e4ed1e1b162c",
   "metadata": {},
   "outputs": [],
   "source": [
    "# A variable is just a name that references a value (=object)\n",
    "num1 = 15"
   ]
  },
  {
   "cell_type": "code",
   "execution_count": 10,
   "id": "9fef797c-ed5b-48e6-9eb2-a255c27e9f87",
   "metadata": {},
   "outputs": [
    {
     "name": "stdout",
     "output_type": "stream",
     "text": [
      "15\n",
      "<class 'int'>\n",
      "140724820043112\n"
     ]
    }
   ],
   "source": [
    "# Let's see everything about the object referenced by num1:\n",
    "print(num1)\n",
    "print(type(num1))\n",
    "print(id(num1))"
   ]
  },
  {
   "cell_type": "markdown",
   "id": "bb0521c7-c22e-4aa6-846d-24404ffc2505",
   "metadata": {},
   "source": [
    "### Note that the variable itself is just a reference to an object:\n",
    "- it does not have a type\n",
    "- it does not have an id"
   ]
  },
  {
   "cell_type": "code",
   "execution_count": 11,
   "id": "3f503a51-d605-4939-b86e-0933389e4827",
   "metadata": {},
   "outputs": [
    {
     "name": "stdout",
     "output_type": "stream",
     "text": [
      "354\n",
      "<class 'int'>\n",
      "2230499800240\n"
     ]
    }
   ],
   "source": [
    "# Your variable can reference other object - so change during the running of your program:\n",
    "num1 = 354\n",
    "print(num1)\n",
    "print(type(num1))\n",
    "print(id(num1))"
   ]
  },
  {
   "cell_type": "markdown",
   "id": "25c18122-212c-4ec4-a3da-e01c0f38297e",
   "metadata": {},
   "source": [
    "### If an object is not referenced by any variable, the interpreter can delete it at any time.\n",
    "This is called **garbage collection**"
   ]
  }
 ],
 "metadata": {
  "kernelspec": {
   "display_name": "Python 3 (ipykernel)",
   "language": "python",
   "name": "python3"
  },
  "language_info": {
   "codemirror_mode": {
    "name": "ipython",
    "version": 3
   },
   "file_extension": ".py",
   "mimetype": "text/x-python",
   "name": "python",
   "nbconvert_exporter": "python",
   "pygments_lexer": "ipython3",
   "version": "3.13.0"
  }
 },
 "nbformat": 4,
 "nbformat_minor": 5
}
