{
 "cells": [
  {
   "cell_type": "markdown",
   "id": "3c5fc3dc-08b8-4a87-aed0-e7597831e01c",
   "metadata": {},
   "source": [
    "### Basics of lists"
   ]
  },
  {
   "cell_type": "code",
   "execution_count": 3,
   "id": "23e93618-be5a-4a5f-b313-3c8abcf35e40",
   "metadata": {},
   "outputs": [
    {
     "data": {
      "text/plain": [
       "[15, 7.4, 'hello', 'goodbye', 99]"
      ]
     },
     "execution_count": 3,
     "metadata": {},
     "output_type": "execute_result"
    }
   ],
   "source": [
    "# List elements can point to any python object\n",
    "[15, 7.4, 'hello', 'goodbye', 99]"
   ]
  },
  {
   "cell_type": "code",
   "execution_count": 4,
   "id": "05c93caa-7632-4ed4-b07b-e923e6b1d5e9",
   "metadata": {},
   "outputs": [
    {
     "data": {
      "text/plain": [
       "[99, 'abcde', [2, 4, 'qwerty', -1], 'end', 100]"
      ]
     },
     "execution_count": 4,
     "metadata": {},
     "output_type": "execute_result"
    }
   ],
   "source": [
    "# You can even point to other list objects:\n",
    "[99, 'abcde', [2, 4, 'qwerty', -1], 'end', 100]"
   ]
  },
  {
   "cell_type": "code",
   "execution_count": 5,
   "id": "7946f828-1c50-4c8e-89e7-6be3086a20e2",
   "metadata": {},
   "outputs": [
    {
     "data": {
      "text/plain": [
       "[4, 'hello', 'abcde', 77]"
      ]
     },
     "execution_count": 5,
     "metadata": {},
     "output_type": "execute_result"
    }
   ],
   "source": [
    "# List is mutable:\n",
    "mylst = [4, 7.5, 'abcde', 77]\n",
    "mylst[1] = 'hello'\n",
    "mylst"
   ]
  },
  {
   "cell_type": "markdown",
   "id": "776fba07-74bc-4f03-863f-1915ef306316",
   "metadata": {},
   "source": [
    "### Some list features"
   ]
  },
  {
   "cell_type": "code",
   "execution_count": 6,
   "id": "aa446eea-e1cb-4f42-bb27-aa9107c10df8",
   "metadata": {},
   "outputs": [
    {
     "data": {
      "text/plain": [
       "'c'"
      ]
     },
     "execution_count": 6,
     "metadata": {},
     "output_type": "execute_result"
    }
   ],
   "source": [
    "# Indexing:\n",
    "lst1 = ['a', 'b', 'c', 'd', 'e', 6, 7, 8]\n",
    "lst1[2]"
   ]
  },
  {
   "cell_type": "code",
   "execution_count": 7,
   "id": "d414a72e-1c7a-43cb-a010-c57b25ea6f0d",
   "metadata": {},
   "outputs": [
    {
     "data": {
      "text/plain": [
       "['d', 'e', 6, 7]"
      ]
     },
     "execution_count": 7,
     "metadata": {},
     "output_type": "execute_result"
    }
   ],
   "source": [
    "# Slicing:\n",
    "lst1[3:7]"
   ]
  },
  {
   "cell_type": "code",
   "execution_count": 8,
   "id": "d672cb33-08a0-4691-a6bf-7e6e30edfaeb",
   "metadata": {},
   "outputs": [
    {
     "name": "stdout",
     "output_type": "stream",
     "text": [
      "2249474080512 2249474215424\n",
      "False\n",
      "['a', 'b', 'c', 'd', 'e', 6, 7, 8]\n",
      "['a', 'b', 100, 'd', 'e', 6, 7, 8]\n"
     ]
    }
   ],
   "source": [
    "# Note that if you return a slice of a list - it is a different object:\n",
    "# This was not true for strings, because they are immutable. For lists, you may want to change the sliced list \n",
    "# without affecting the original list\n",
    "lst2 = lst1[:]\n",
    "print(id(lst1), id(lst2))\n",
    "print(lst1 is lst2)\n",
    "lst2[2] = 100\n",
    "print(lst1)\n",
    "print(lst2)"
   ]
  },
  {
   "cell_type": "code",
   "execution_count": 9,
   "id": "e6540b4e-f8cf-4bba-b434-4787b3280ff7",
   "metadata": {},
   "outputs": [
    {
     "data": {
      "text/plain": [
       "['a', 1, 2, 3, 4, 5, 'd', 'e', 'f']"
      ]
     },
     "execution_count": 9,
     "metadata": {},
     "output_type": "execute_result"
    }
   ],
   "source": [
    "# Slicing assignment:\n",
    "lst2 = ['a', 'b', 'c', 'd', 'e', 'f']\n",
    "lst2[1:3] = [1, 2, 3, 4, 5]       # So only 'b' and 'c' will be replaced\n",
    "lst2"
   ]
  },
  {
   "cell_type": "markdown",
   "id": "8d54da25-bf2b-44f9-8dd8-2b60016b105c",
   "metadata": {},
   "source": [
    "### The del command"
   ]
  },
  {
   "cell_type": "code",
   "execution_count": 10,
   "id": "8ca91f2f-7ba4-472c-b730-595eeb7b08d8",
   "metadata": {},
   "outputs": [
    {
     "ename": "NameError",
     "evalue": "name 'msg' is not defined",
     "output_type": "error",
     "traceback": [
      "\u001b[1;31m---------------------------------------------------------------------------\u001b[0m",
      "\u001b[1;31mNameError\u001b[0m                                 Traceback (most recent call last)",
      "Cell \u001b[1;32mIn[10], line 4\u001b[0m\n\u001b[0;32m      2\u001b[0m msg\u001b[38;5;241m=\u001b[39m\u001b[38;5;124m'\u001b[39m\u001b[38;5;124mHello\u001b[39m\u001b[38;5;124m'\u001b[39m\n\u001b[0;32m      3\u001b[0m \u001b[38;5;28;01mdel\u001b[39;00m msg\n\u001b[1;32m----> 4\u001b[0m \u001b[43mmsg\u001b[49m\n",
      "\u001b[1;31mNameError\u001b[0m: name 'msg' is not defined"
     ]
    }
   ],
   "source": [
    "# del can be used to delete a variable\n",
    "msg='Hello'\n",
    "del msg\n",
    "msg"
   ]
  },
  {
   "cell_type": "code",
   "execution_count": 11,
   "id": "36523a7c-b4cd-4c66-9f22-cc258bdf55db",
   "metadata": {},
   "outputs": [
    {
     "data": {
      "text/plain": [
       "[1, 2, 3, 4, 5, 6, 7, 8, 9, 10]"
      ]
     },
     "execution_count": 11,
     "metadata": {},
     "output_type": "execute_result"
    }
   ],
   "source": [
    "# del can be used to delete a list element\n",
    "l1 = [1, 2, 3, 4, 5, -100, 6, 7, 8, 9, 10]\n",
    "del l1[5]\n",
    "l1"
   ]
  }
 ],
 "metadata": {
  "kernelspec": {
   "display_name": "Python 3 (ipykernel)",
   "language": "python",
   "name": "python3"
  },
  "language_info": {
   "codemirror_mode": {
    "name": "ipython",
    "version": 3
   },
   "file_extension": ".py",
   "mimetype": "text/x-python",
   "name": "python",
   "nbconvert_exporter": "python",
   "pygments_lexer": "ipython3",
   "version": "3.13.0"
  }
 },
 "nbformat": 4,
 "nbformat_minor": 5
}
