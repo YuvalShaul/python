{
 "cells": [
  {
   "cell_type": "markdown",
   "id": "e247db27-fb30-4a55-b03e-43e1ce1b6652",
   "metadata": {},
   "source": [
    "### Strings indexing"
   ]
  },
  {
   "cell_type": "code",
   "execution_count": 19,
   "id": "e3f0100d-cf38-49c1-aa94-0268dd878c01",
   "metadata": {},
   "outputs": [],
   "source": [
    "x=\"abcde\""
   ]
  },
  {
   "cell_type": "code",
   "execution_count": 20,
   "id": "9e4654ee-31da-4c02-b8c8-9d9205a6373c",
   "metadata": {},
   "outputs": [
    {
     "name": "stdout",
     "output_type": "stream",
     "text": [
      "a\n",
      "e\n"
     ]
    }
   ],
   "source": [
    "print(x[0])\n",
    "print(x[4])"
   ]
  },
  {
   "cell_type": "code",
   "execution_count": 21,
   "id": "30f34dff-e6c8-486a-8fb8-7504eea73343",
   "metadata": {
    "jp-MarkdownHeadingCollapsed": true
   },
   "outputs": [
    {
     "name": "stdout",
     "output_type": "stream",
     "text": [
      "e\n",
      "d\n"
     ]
    }
   ],
   "source": [
    "print(x[-1])\n",
    "print(x[-2])"
   ]
  },
  {
   "cell_type": "code",
   "execution_count": 22,
   "id": "e9caed8d-4067-4bf7-a97d-38dba9884f90",
   "metadata": {},
   "outputs": [
    {
     "ename": "IndexError",
     "evalue": "string index out of range",
     "output_type": "error",
     "traceback": [
      "\u001b[1;31m---------------------------------------------------------------------------\u001b[0m",
      "\u001b[1;31mIndexError\u001b[0m                                Traceback (most recent call last)",
      "Cell \u001b[1;32mIn[22], line 2\u001b[0m\n\u001b[0;32m      1\u001b[0m \u001b[38;5;66;03m# Attempting to use an index that is too large will result in an error:\u001b[39;00m\n\u001b[1;32m----> 2\u001b[0m \u001b[43mx\u001b[49m\u001b[43m[\u001b[49m\u001b[38;5;241;43m10\u001b[39;49m\u001b[43m]\u001b[49m\n",
      "\u001b[1;31mIndexError\u001b[0m: string index out of range"
     ]
    }
   ],
   "source": [
    "# Attempting to use an index that is too large will result in an error:\n",
    "x[10]"
   ]
  },
  {
   "cell_type": "markdown",
   "id": "e14f1cdd-1a15-43e6-be2d-f85b3d50fe61",
   "metadata": {},
   "source": [
    "### String slicing"
   ]
  },
  {
   "cell_type": "code",
   "execution_count": null,
   "id": "0ed42f4e-bbf7-4b79-96b5-48ade3f18a5b",
   "metadata": {},
   "outputs": [],
   "source": [
    "print(x[1:3])\n",
    "print(x[:5])\n",
    "print(x[0:])\n",
    "print(x[:])"
   ]
  },
  {
   "cell_type": "code",
   "execution_count": null,
   "id": "aa65f2fd-8702-4339-a862-aefff69f0925",
   "metadata": {},
   "outputs": [],
   "source": [
    "# More complex examples:\n",
    "word = 'encyclopedia'\n",
    "print(word[:4])      # Everything until (not including) 4\n",
    "print(word[7:])      # Starting from 7 and on\n",
    "print(word[-5:])     # Starting from -5 (this is 'p') and on"
   ]
  },
  {
   "cell_type": "code",
   "execution_count": null,
   "id": "89a0043a-5b31-4aae-a369-c267c2c20aed",
   "metadata": {},
   "outputs": [],
   "source": [
    "# out of range slice indexes are handled gracefully:\n",
    "x[2:10]"
   ]
  },
  {
   "cell_type": "markdown",
   "id": "5c6c3e7f-e7e0-4918-8cfa-1cdc57964634",
   "metadata": {},
   "source": [
    "### Skipping when slicing"
   ]
  },
  {
   "cell_type": "code",
   "execution_count": null,
   "id": "6568c28d-4812-4ed2-8343-c250b6621429",
   "metadata": {},
   "outputs": [],
   "source": [
    "abc=\"abcdefghijklmnopqrstuvwxyz\"\n",
    "print(abc[5:23:2])     # Steps of 2\n",
    "print(abc[15:0:-3])\n",
    "print(abc[15:  :-3])     # You can skip backwards, and direction is assumed\n",
    "print(abc[::-1])       # How would you convert a list in python?"
   ]
  }
 ],
 "metadata": {
  "kernelspec": {
   "display_name": "Python 3 (ipykernel)",
   "language": "python",
   "name": "python3"
  },
  "language_info": {
   "codemirror_mode": {
    "name": "ipython",
    "version": 3
   },
   "file_extension": ".py",
   "mimetype": "text/x-python",
   "name": "python",
   "nbconvert_exporter": "python",
   "pygments_lexer": "ipython3",
   "version": "3.13.0"
  }
 },
 "nbformat": 4,
 "nbformat_minor": 5
}
