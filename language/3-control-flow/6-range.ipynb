{
 "cells": [
  {
   "cell_type": "markdown",
   "id": "97e859a2-57a1-438c-aeaa-b25eefb81e74",
   "metadata": {},
   "source": [
    "### Python range object\n",
    "Python **range** objects describe a range of integer numbers.  \n",
    "These objects are generally created by the range() built-in function (technically constructor methods).  \n",
    "The basic syntax is this:\n",
    "- range(stop)              # start=0, step=1 by default\n",
    "- range(start, stop)       # step=1 by default\n",
    "- range(start, stop, step)"
   ]
  },
  {
   "cell_type": "code",
   "execution_count": 31,
   "id": "88e63377-1f28-4309-9aed-7af1b78f102c",
   "metadata": {},
   "outputs": [
    {
     "name": "stdout",
     "output_type": "stream",
     "text": [
      "<class 'range'>\n",
      "range(0, 10)\n",
      "range(5, 10)\n",
      "range(0, 15, 3)\n"
     ]
    }
   ],
   "source": [
    "# Some ranges\n",
    "r1 = range(10)       # so 0 - 9 \n",
    "r2 = range(5, 10)    # 5-9\n",
    "r3 = range(0, 15, 3) #\n",
    "print(type(r1))\n",
    "print(r1)\n",
    "print(r2)\n",
    "print(r3)"
   ]
  },
  {
   "cell_type": "code",
   "execution_count": 32,
   "id": "15cb1499-9868-49d6-b5cd-014616278c66",
   "metadata": {},
   "outputs": [
    {
     "name": "stdout",
     "output_type": "stream",
     "text": [
      "[0, 1, 2, 3, 4, 5, 6, 7, 8, 9]\n",
      "[5, 6, 7, 8, 9]\n",
      "[0, 3, 6, 9, 12]\n"
     ]
    }
   ],
   "source": [
    "# Get what each range by converting it to a list:\n",
    "print(list(r1))\n",
    "print(list(r2))\n",
    "print(list(r3))"
   ]
  },
  {
   "cell_type": "code",
   "execution_count": 33,
   "id": "a4f71e91-8186-4473-9ab1-0781dbeffa8e",
   "metadata": {},
   "outputs": [
    {
     "data": {
      "text/plain": [
       "48"
      ]
     },
     "execution_count": 33,
     "metadata": {},
     "output_type": "execute_result"
    }
   ],
   "source": [
    "# It is efficient in memory consumption:\n",
    "import sys\n",
    "r5 = range(0,1000000,1)\n",
    "sys.getsizeof(r5)"
   ]
  },
  {
   "cell_type": "code",
   "execution_count": 34,
   "id": "ece312a5-d041-493d-90e7-7b5fdc27a8a6",
   "metadata": {},
   "outputs": [
    {
     "name": "stdout",
     "output_type": "stream",
     "text": [
      "6\n"
     ]
    },
    {
     "ename": "TypeError",
     "evalue": "'range' object does not support item assignment",
     "output_type": "error",
     "traceback": [
      "\u001b[1;31m---------------------------------------------------------------------------\u001b[0m",
      "\u001b[1;31mTypeError\u001b[0m                                 Traceback (most recent call last)",
      "Cell \u001b[1;32mIn[34], line 3\u001b[0m\n\u001b[0;32m      1\u001b[0m \u001b[38;5;66;03m# Somehow behaves like a list, but immutable:\u001b[39;00m\n\u001b[0;32m      2\u001b[0m \u001b[38;5;28mprint\u001b[39m(r3[\u001b[38;5;241m2\u001b[39m])\n\u001b[1;32m----> 3\u001b[0m \u001b[43mr3\u001b[49m\u001b[43m[\u001b[49m\u001b[38;5;241;43m2\u001b[39;49m\u001b[43m]\u001b[49m \u001b[38;5;241m=\u001b[39m \u001b[38;5;241m8\u001b[39m\n",
      "\u001b[1;31mTypeError\u001b[0m: 'range' object does not support item assignment"
     ]
    }
   ],
   "source": [
    "# Somehow behaves like a list, but immutable:\n",
    "print(r3[2])\n",
    "r3[2] = 8"
   ]
  },
  {
   "cell_type": "code",
   "execution_count": 35,
   "id": "530342d0-c17b-4c8e-9c05-6e09cde46cbd",
   "metadata": {},
   "outputs": [
    {
     "name": "stdout",
     "output_type": "stream",
     "text": [
      "range(26, 38, 2)\n"
     ]
    }
   ],
   "source": [
    "# Even slicing:\n",
    "r4 = range(10,1000,2)\n",
    "print(r4[8:14])"
   ]
  },
  {
   "cell_type": "code",
   "execution_count": 36,
   "id": "64809b55-eeab-46bc-a150-82e77beac8ff",
   "metadata": {},
   "outputs": [
    {
     "name": "stdout",
     "output_type": "stream",
     "text": [
      "--->> r1:\n",
      "0 in r1:  True\n",
      "9 in r1:  True\n",
      "10 in r1:  False\n",
      "--->> r2:\n",
      "10 in r2:  False\n",
      "4 in r2:  False\n",
      "--->> r3:\n",
      "2 in r3:  False\n",
      "12 in r3:  True\n"
     ]
    }
   ],
   "source": [
    "# Use the in operator\n",
    "print('--->> r1:')\n",
    "print('0 in r1: ', 0 in r1)\n",
    "print('9 in r1: ', 9 in r1)\n",
    "print('10 in r1: ', 10 in r1)\n",
    "print('--->> r2:')\n",
    "print('10 in r2: ', 10 in r2)\n",
    "print('4 in r2: ', 4 in r2)\n",
    "print('--->> r3:')\n",
    "print('2 in r3: ', 2 in r3)\n",
    "print('12 in r3: ', 12 in r3)\n"
   ]
  },
  {
   "cell_type": "code",
   "execution_count": 37,
   "id": "b185e9b0-7c31-484a-90a0-e3250bc3e3c5",
   "metadata": {},
   "outputs": [
    {
     "name": "stdout",
     "output_type": "stream",
     "text": [
      "0\n",
      "15\n",
      "3\n"
     ]
    }
   ],
   "source": [
    "# Some methods:\n",
    "print(r3.start)  # Returns 0\n",
    "print(r3.stop)   # Returns 15\n",
    "print(r3.step)   # Returns 3"
   ]
  },
  {
   "cell_type": "code",
   "execution_count": 38,
   "id": "1c065279-51ab-4517-84cf-aee6409af43d",
   "metadata": {},
   "outputs": [
    {
     "name": "stdout",
     "output_type": "stream",
     "text": [
      "0\n",
      "3\n",
      "6\n",
      "9\n",
      "12\n"
     ]
    }
   ],
   "source": [
    "# Range behaves like a sequence:\n",
    "for num in r3:\n",
    "    print(num)"
   ]
  }
 ],
 "metadata": {
  "kernelspec": {
   "display_name": "Python 3 (ipykernel)",
   "language": "python",
   "name": "python3"
  },
  "language_info": {
   "codemirror_mode": {
    "name": "ipython",
    "version": 3
   },
   "file_extension": ".py",
   "mimetype": "text/x-python",
   "name": "python",
   "nbconvert_exporter": "python",
   "pygments_lexer": "ipython3",
   "version": "3.13.0"
  }
 },
 "nbformat": 4,
 "nbformat_minor": 5
}
