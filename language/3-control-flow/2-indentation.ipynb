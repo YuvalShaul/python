{
 "cells": [
  {
   "cell_type": "markdown",
   "id": "8e87c86b-f942-448e-bad2-e6c9cb0099d0",
   "metadata": {},
   "source": [
    "### indentation - GOOD"
   ]
  },
  {
   "cell_type": "code",
   "execution_count": 18,
   "id": "736bed2b-797d-4619-821e-16a550facef3",
   "metadata": {},
   "outputs": [
    {
     "name": "stdout",
     "output_type": "stream",
     "text": [
      "yes\n",
      "smaller\n"
     ]
    }
   ],
   "source": [
    "if 4 < 19:\n",
    " print('yes')       # indentation of just a single character is GOOD\n",
    " print('smaller')"
   ]
  },
  {
   "cell_type": "markdown",
   "id": "3adffe69-fc35-4dd7-8478-b13d230f9c51",
   "metadata": {},
   "source": [
    "### indentation - BAD"
   ]
  },
  {
   "cell_type": "code",
   "execution_count": 19,
   "id": "da4b578b-1acf-46ae-87ee-ec4115b13d89",
   "metadata": {},
   "outputs": [
    {
     "ename": "IndentationError",
     "evalue": "expected an indented block after 'if' statement on line 1 (1127793171.py, line 2)",
     "output_type": "error",
     "traceback": [
      "\u001b[1;36m  Cell \u001b[1;32mIn[19], line 2\u001b[1;36m\u001b[0m\n\u001b[1;33m    print('smaller')     # This is wrong - should be indented\u001b[0m\n\u001b[1;37m    ^\u001b[0m\n\u001b[1;31mIndentationError\u001b[0m\u001b[1;31m:\u001b[0m expected an indented block after 'if' statement on line 1\n"
     ]
    }
   ],
   "source": [
    "if a < 8:            # a is not defined, but syntax and indentation checks comes first\n",
    "print('smaller')     # This is wrong - should be indented"
   ]
  },
  {
   "cell_type": "code",
   "execution_count": 20,
   "id": "3907bb5e-a69a-4cb5-a8ef-cb0ba1d7db22",
   "metadata": {},
   "outputs": [
    {
     "ename": "IndentationError",
     "evalue": "unexpected indent (2211122682.py, line 2)",
     "output_type": "error",
     "traceback": [
      "\u001b[1;36m  Cell \u001b[1;32mIn[20], line 2\u001b[1;36m\u001b[0m\n\u001b[1;33m    print('two')   # This is wrond: should NOT be indented\u001b[0m\n\u001b[1;37m    ^\u001b[0m\n\u001b[1;31mIndentationError\u001b[0m\u001b[1;31m:\u001b[0m unexpected indent\n"
     ]
    }
   ],
   "source": [
    "print('one')\n",
    " print('two')   # This is wrond: should NOT be indented"
   ]
  },
  {
   "cell_type": "code",
   "execution_count": 21,
   "id": "43af8c64-6b8e-4385-9e2e-09b5655236da",
   "metadata": {},
   "outputs": [
    {
     "name": "stdout",
     "output_type": "stream",
     "text": [
      "tab\n",
      "4 spaces\n"
     ]
    }
   ],
   "source": [
    "# This example works here, but not in other places\n",
    "if 5>4:\n",
    "    print('tab')\n",
    "    print('4 spaces')    # Jupyter converts my 4 spaces into a tab character"
   ]
  },
  {
   "cell_type": "code",
   "execution_count": 22,
   "id": "a7c2369e-68fa-41fd-bdbf-526366f79592",
   "metadata": {},
   "outputs": [
    {
     "ename": "IndentationError",
     "evalue": "unexpected indent (233204125.py, line 4)",
     "output_type": "error",
     "traceback": [
      "\u001b[1;36m  Cell \u001b[1;32mIn[22], line 4\u001b[1;36m\u001b[0m\n\u001b[1;33m    print('indeed')\u001b[0m\n\u001b[1;37m    ^\u001b[0m\n\u001b[1;31mIndentationError\u001b[0m\u001b[1;31m:\u001b[0m unexpected indent\n"
     ]
    }
   ],
   "source": [
    "# indentation here should be the same\n",
    "if a < 8:\n",
    "    print('yes')\n",
    "     print('indeed')"
   ]
  }
 ],
 "metadata": {
  "kernelspec": {
   "display_name": "Python 3 (ipykernel)",
   "language": "python",
   "name": "python3"
  },
  "language_info": {
   "codemirror_mode": {
    "name": "ipython",
    "version": 3
   },
   "file_extension": ".py",
   "mimetype": "text/x-python",
   "name": "python",
   "nbconvert_exporter": "python",
   "pygments_lexer": "ipython3",
   "version": "3.13.0"
  }
 },
 "nbformat": 4,
 "nbformat_minor": 5
}
