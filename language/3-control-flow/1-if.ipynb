{
 "cells": [
  {
   "cell_type": "markdown",
   "id": "e6e128f9-bc69-4cc3-97fb-3a106d25ac0b",
   "metadata": {},
   "source": [
    "## The **if** command"
   ]
  },
  {
   "cell_type": "code",
   "execution_count": 9,
   "id": "80adfff2-9c80-4c3a-b900-27a13ec6e54f",
   "metadata": {},
   "outputs": [
    {
     "name": "stdout",
     "output_type": "stream",
     "text": [
      "3  is smaller than 8\n"
     ]
    }
   ],
   "source": [
    "# A simple if statement\n",
    "a = 3\n",
    "\n",
    "if a < 8:\n",
    "  print(a, \" is smaller than 8\")\n"
   ]
  },
  {
   "cell_type": "code",
   "execution_count": 10,
   "id": "d0c90119-d3b2-44bc-857c-aae0dd4ab786",
   "metadata": {},
   "outputs": [
    {
     "name": "stdin",
     "output_type": "stream",
     "text": [
      "Please enter an integer:  5\n"
     ]
    },
    {
     "name": "stdout",
     "output_type": "stream",
     "text": [
      "Many\n"
     ]
    }
   ],
   "source": [
    "# A complete if statement\n",
    "x = int(input(\"Please enter an integer: \"))\n",
    "if x < 0:\n",
    "    print('Negative.')\n",
    "elif x == 0:\n",
    "    print('Zero.')\n",
    "elif x == 1:\n",
    "    print('One')\n",
    "else:\n",
    "    print('Many')"
   ]
  },
  {
   "cell_type": "markdown",
   "id": "0d6d6652-8e67-45b4-ad1c-6ad754551141",
   "metadata": {},
   "source": [
    "### Match case"
   ]
  },
  {
   "cell_type": "code",
   "execution_count": 11,
   "id": "740d8ac3-14fd-42ea-9cd7-4a278adf612d",
   "metadata": {},
   "outputs": [
    {
     "name": "stdout",
     "output_type": "stream",
     "text": [
      "It's warm\n"
     ]
    }
   ],
   "source": [
    "# Using if/elif/else\n",
    "\n",
    "temp=23\n",
    "if temp > 35:\n",
    "    print(\"It's too hot!\")\n",
    "elif temp > 22:\n",
    "    print(\"It's warm\")\n",
    "elif temp > 18:\n",
    "    print(\"It's cool\")\n",
    "else:\n",
    "    print(\"It's cold!\")\n",
    "\n"
   ]
  },
  {
   "cell_type": "code",
   "execution_count": 12,
   "id": "eb3c2b68-4c0f-422f-9775-8cbdeec37440",
   "metadata": {},
   "outputs": [
    {
     "name": "stdout",
     "output_type": "stream",
     "text": [
      "It's cold!\n"
     ]
    }
   ],
   "source": [
    "# Equivalent using match case (Python 3.10+)\n",
    "temp = 23\n",
    "match temp:\n",
    "    case t if t > 90:\n",
    "        print(\"It's too hot!\")\n",
    "    case t if t > 70:\n",
    "        print(\"It's warm\")\n",
    "    case t if t > 50:\n",
    "        print(\"It's cool\")\n",
    "    case _:\n",
    "        print(\"It's cold!\")"
   ]
  }
 ],
 "metadata": {
  "kernelspec": {
   "display_name": "Python 3 (ipykernel)",
   "language": "python",
   "name": "python3"
  },
  "language_info": {
   "codemirror_mode": {
    "name": "ipython",
    "version": 3
   },
   "file_extension": ".py",
   "mimetype": "text/x-python",
   "name": "python",
   "nbconvert_exporter": "python",
   "pygments_lexer": "ipython3",
   "version": "3.13.0"
  }
 },
 "nbformat": 4,
 "nbformat_minor": 5
}
