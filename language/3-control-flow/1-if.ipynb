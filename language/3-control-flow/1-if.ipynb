{
 "cells": [
  {
   "cell_type": "markdown",
   "id": "e6e128f9-bc69-4cc3-97fb-3a106d25ac0b",
   "metadata": {},
   "source": [
    "## The **if** command"
   ]
  },
  {
   "cell_type": "code",
   "execution_count": 1,
   "id": "80adfff2-9c80-4c3a-b900-27a13ec6e54f",
   "metadata": {},
   "outputs": [
    {
     "name": "stdout",
     "output_type": "stream",
     "text": [
      "3  is smaller than 8\n"
     ]
    }
   ],
   "source": [
    "# A simple if statement\n",
    "a = 3\n",
    "\n",
    "if a < 8:\n",
    "  print(a, \" is smaller than 8\")\n"
   ]
  },
  {
   "cell_type": "code",
   "execution_count": 3,
   "id": "d0c90119-d3b2-44bc-857c-aae0dd4ab786",
   "metadata": {},
   "outputs": [
    {
     "name": "stdin",
     "output_type": "stream",
     "text": [
      "Please enter an integer:  5\n"
     ]
    },
    {
     "name": "stdout",
     "output_type": "stream",
     "text": [
      "Many\n"
     ]
    }
   ],
   "source": [
    "# A complete if statement\n",
    "x = int(input(\"Please enter an integer: \"))\n",
    "if x < 0:\n",
    "    print('Negative.')\n",
    "elif x == 0:\n",
    "    print('Zero.')\n",
    "elif x == 1:\n",
    "    print('One')\n",
    "else:\n",
    "    print('Many')"
   ]
  }
 ],
 "metadata": {
  "kernelspec": {
   "display_name": "Python 3 (ipykernel)",
   "language": "python",
   "name": "python3"
  },
  "language_info": {
   "codemirror_mode": {
    "name": "ipython",
    "version": 3
   },
   "file_extension": ".py",
   "mimetype": "text/x-python",
   "name": "python",
   "nbconvert_exporter": "python",
   "pygments_lexer": "ipython3",
   "version": "3.13.0"
  }
 },
 "nbformat": 4,
 "nbformat_minor": 5
}
