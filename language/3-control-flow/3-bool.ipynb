{
 "cells": [
  {
   "cell_type": "markdown",
   "id": "6d109034-9063-4781-ac82-e1bc0395807f",
   "metadata": {},
   "source": [
    "### The bool type"
   ]
  },
  {
   "cell_type": "code",
   "execution_count": 14,
   "id": "e429121c-3214-4c3d-a3ab-b85d8ed62333",
   "metadata": {},
   "outputs": [
    {
     "name": "stdout",
     "output_type": "stream",
     "text": [
      "<class 'bool'>\n",
      "True\n",
      "False\n"
     ]
    }
   ],
   "source": [
    "# Basics\n",
    "print(type(5 > 4))   # class bool\n",
    "print(5 > 4)         # The value True\n",
    "print(4 > 5)         # The value False"
   ]
  },
  {
   "cell_type": "code",
   "execution_count": 15,
   "id": "851999df-0b96-48f1-972e-fb575569dee8",
   "metadata": {},
   "outputs": [],
   "source": [
    "a = (5 > 4)    # True\n",
    "b = True       # True\n",
    "c = (4 > 11)   # False\n",
    "d = False      # False"
   ]
  },
  {
   "cell_type": "code",
   "execution_count": 16,
   "id": "8cf55e46-0e10-4eb6-a871-3b4c53b9776a",
   "metadata": {},
   "outputs": [
    {
     "name": "stdout",
     "output_type": "stream",
     "text": [
      "True or True:  True\n",
      "False or True:  True\n",
      "True or False:  True\n",
      "False or False:  False\n"
     ]
    }
   ],
   "source": [
    "# Demonstrating the or operator\n",
    "print('True or True: ', a or b)\n",
    "print('False or True: ', c or b)\n",
    "print('True or False: ', b or d)\n",
    "print('False or False: ', c or d)"
   ]
  },
  {
   "cell_type": "code",
   "execution_count": 17,
   "id": "dca0f5ea-f9ec-4b81-b885-df5033beb366",
   "metadata": {},
   "outputs": [
    {
     "name": "stdout",
     "output_type": "stream",
     "text": [
      "True and True:  True\n",
      "False and True:  False\n",
      "True and False:  False\n",
      "False and False:  False\n"
     ]
    }
   ],
   "source": [
    "# Demonstrating the and operator\n",
    "print('True and True: ', a and b)\n",
    "print('False and True: ', c and b)\n",
    "print('True and False: ', b and d)\n",
    "print('False and False: ', c and d)"
   ]
  },
  {
   "cell_type": "code",
   "execution_count": 18,
   "id": "70cd7bbd-8b78-4b07-a7be-ca60ec1ba3d8",
   "metadata": {},
   "outputs": [
    {
     "name": "stdout",
     "output_type": "stream",
     "text": [
      "not True:  False\n",
      "not False:  True\n"
     ]
    }
   ],
   "source": [
    "# Demonstrating the not operator\n",
    "print('not True: ',  not b)\n",
    "print('not False: ', not d)"
   ]
  }
 ],
 "metadata": {
  "kernelspec": {
   "display_name": "Python 3 (ipykernel)",
   "language": "python",
   "name": "python3"
  },
  "language_info": {
   "codemirror_mode": {
    "name": "ipython",
    "version": 3
   },
   "file_extension": ".py",
   "mimetype": "text/x-python",
   "name": "python",
   "nbconvert_exporter": "python",
   "pygments_lexer": "ipython3",
   "version": "3.13.0"
  }
 },
 "nbformat": 4,
 "nbformat_minor": 5
}
