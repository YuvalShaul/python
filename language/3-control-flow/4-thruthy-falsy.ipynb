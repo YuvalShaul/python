{
 "cells": [
  {
   "cell_type": "markdown",
   "id": "6ad2189e-6b48-4ecd-9a6b-4b7a731a5f3d",
   "metadata": {},
   "source": [
    "### Truthy\n",
    "Everything that is not empty, zero or None behaves like the True value (of the bool type)."
   ]
  },
  {
   "cell_type": "code",
   "execution_count": 20,
   "id": "a6ae4413-774c-48d7-8af0-bb85d9504e88",
   "metadata": {},
   "outputs": [
    {
     "name": "stdout",
     "output_type": "stream",
     "text": [
      "5 is like True.\n",
      "4.7 is like True\n",
      "[1, 2, 3] is like True\n",
      "'hello' is like True\n",
      "(1, 2, 3) is like True\n"
     ]
    }
   ],
   "source": [
    "# Numbers:\n",
    "if 5:\n",
    "    print('5 is like True.')        # int\n",
    "if 4.7:\n",
    "    print('4.7 is like True')       # float\n",
    "if [1, 2 ,3]:\n",
    "    print('[1, 2, 3] is like True') # list\n",
    "if 'hello':\n",
    "    print(\"'hello' is like True\")   # str\n",
    "if (1, 2, 3):\n",
    "    print('(1, 2, 3) is like True') # tuple"
   ]
  },
  {
   "cell_type": "markdown",
   "id": "eea61cb0-8137-4551-9b01-f24607768980",
   "metadata": {},
   "source": [
    "### Falsy\n",
    "Everything that is empty or zero behaves like the False value (of the bool type)."
   ]
  },
  {
   "cell_type": "code",
   "execution_count": 21,
   "id": "e84ba003-4f64-4dd3-9eb2-cbd047afd7dd",
   "metadata": {},
   "outputs": [
    {
     "name": "stdout",
     "output_type": "stream",
     "text": [
      "0 is like False.\n",
      "0.0 is like False\n",
      "[] is like False\n",
      "'' is like False\n",
      "() is like False\n"
     ]
    }
   ],
   "source": [
    "if not 0:\n",
    "    print('0 is like False.')  # int\n",
    "if not 0.0:\n",
    "    print('0.0 is like False') # float\n",
    "if not []:\n",
    "    print('[] is like False')  # list\n",
    "if not '':\n",
    "    print(\"'' is like False\")  # str\n",
    "if not ():\n",
    "    print('() is like False')  # tuple"
   ]
  },
  {
   "cell_type": "markdown",
   "id": "45f20adb-c654-4c90-accd-953cc5798c3f",
   "metadata": {},
   "source": [
    "### With operators - or\n",
    "When you use or, if the first element behaves like True, the rest of the elements are not evaluated.  \n",
    "The value of the expression is the value of the first element that behaves like True, or the last element if  \n",
    "all elements behave like False."
   ]
  },
  {
   "cell_type": "code",
   "execution_count": 22,
   "id": "f044425e-8f63-4e2d-ad36-92ba6a7bace5",
   "metadata": {},
   "outputs": [
    {
     "name": "stdout",
     "output_type": "stream",
     "text": [
      "5\n",
      "5\n",
      "5\n"
     ]
    }
   ],
   "source": [
    "# First element behaves like True\n",
    "print(5 or 'hello')\n",
    "print(5 or 0)\n",
    "print(5 or [])"
   ]
  },
  {
   "cell_type": "code",
   "execution_count": 23,
   "id": "5835dabc-21e3-4ad2-a363-d371646e8773",
   "metadata": {},
   "outputs": [
    {
     "name": "stdout",
     "output_type": "stream",
     "text": [
      "hello\n",
      "15\n",
      "[3, 4, 5]\n"
     ]
    }
   ],
   "source": [
    "# First element behaves like False.\n",
    "# Second element is evaluated.\n",
    "# Expression value is that of second element\n",
    "print(0 or 'hello')\n",
    "print([] or 15)\n",
    "print(\"\" or [3,4,5])"
   ]
  },
  {
   "cell_type": "markdown",
   "id": "003ce8b8-8799-4ed5-a65c-8bf5215e67f6",
   "metadata": {},
   "source": [
    "### With operators - and\n",
    "When you use and, if the first element behaves like False, the rest of the elements are not evaluated.  \n",
    "The value of the expression is the value of the first element that behaves like False, or the last element if  \n",
    "all elements behave like True."
   ]
  },
  {
   "cell_type": "code",
   "execution_count": 24,
   "id": "47207679-c041-4391-9916-4f7edc3cb0a9",
   "metadata": {},
   "outputs": [
    {
     "name": "stdout",
     "output_type": "stream",
     "text": [
      "hello\n",
      "0\n",
      "[]\n"
     ]
    }
   ],
   "source": [
    "# First element behaves like True\n",
    "print(5 and 'hello')\n",
    "print(5 and 0)\n",
    "print(5 and [])"
   ]
  },
  {
   "cell_type": "code",
   "execution_count": 25,
   "id": "724bff0e-684c-45ef-937f-7d9d93ebdefb",
   "metadata": {},
   "outputs": [
    {
     "name": "stdout",
     "output_type": "stream",
     "text": [
      "hello\n",
      "15\n",
      "[3, 4, 5]\n"
     ]
    }
   ],
   "source": [
    "# First element behaves like True.\n",
    "# Second element is evaluated.\n",
    "# Expression value is that of second element\n",
    "print(5 and 'hello')\n",
    "print([2, 3, 4] and 15)\n",
    "print(\"hello\" and [3,4,5])"
   ]
  }
 ],
 "metadata": {
  "kernelspec": {
   "display_name": "Python 3 (ipykernel)",
   "language": "python",
   "name": "python3"
  },
  "language_info": {
   "codemirror_mode": {
    "name": "ipython",
    "version": 3
   },
   "file_extension": ".py",
   "mimetype": "text/x-python",
   "name": "python",
   "nbconvert_exporter": "python",
   "pygments_lexer": "ipython3",
   "version": "3.13.0"
  }
 },
 "nbformat": 4,
 "nbformat_minor": 5
}
