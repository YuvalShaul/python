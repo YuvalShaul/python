{
 "cells": [
  {
   "cell_type": "markdown",
   "id": "fd14c07e-9eef-4bb7-a8f4-2b7192035bd5",
   "metadata": {},
   "source": [
    "### While loop"
   ]
  },
  {
   "cell_type": "code",
   "execution_count": 12,
   "id": "70347861-b39a-4fc0-bf02-93670f74bcdc",
   "metadata": {},
   "outputs": [
    {
     "name": "stdout",
     "output_type": "stream",
     "text": [
      "8\n",
      "7\n",
      "6\n",
      "5\n",
      "4\n",
      "3\n",
      "2\n",
      "1\n"
     ]
    }
   ],
   "source": [
    "x = 8\n",
    "while x > 0:\n",
    "    print(x)\n",
    "    x -= 1      # Decrement x by 1 (equal to:   x = x - 1)"
   ]
  },
  {
   "cell_type": "code",
   "execution_count": 13,
   "id": "7acf01b4-6e34-4bc0-9216-cc9258fcd229",
   "metadata": {},
   "outputs": [
    {
     "name": "stdout",
     "output_type": "stream",
     "text": [
      "8\n",
      "7\n",
      "6\n",
      "5\n",
      "4\n",
      "3\n",
      "2\n",
      "1\n",
      "done\n"
     ]
    }
   ],
   "source": [
    "# A complete while loop (with else)\n",
    "# The else part does not make much sense here, but will in later examples with a break statement\n",
    "x = 8\n",
    "while x > 0:\n",
    "    print(x)\n",
    "    x -= 1\n",
    "else:\n",
    "    print('done')"
   ]
  },
  {
   "cell_type": "code",
   "execution_count": 14,
   "id": "1f31feeb-1041-432f-87da-2c2db52fd7fe",
   "metadata": {},
   "outputs": [
    {
     "name": "stdout",
     "output_type": "stream",
     "text": [
      "27  is divisible by 17.\n"
     ]
    }
   ],
   "source": [
    "# A full while example with break and else:\n",
    "# This one finds if there is a number that is devisible by 17\n",
    "# If there is, the program prints that number, and stop.\n",
    "# If there isn't, the program will print a \"num divisible by 17 not found\"\n",
    "# IF A BREAK IS EXECUTED, THE ELSE PART IS NOT EXECUTED\n",
    "\n",
    "x = 30\n",
    "num_to_find = 27\n",
    "\n",
    "while x > 0:\n",
    "    if (x % num_to_find) == 0:\n",
    "        print(num_to_find, ' is divisible by 17.')\n",
    "        break\n",
    "    x -= 1\n",
    "else:\n",
    "    print(\"num divisible by\",  num_to_find,  \"not found\")"
   ]
  }
 ],
 "metadata": {
  "kernelspec": {
   "display_name": "Python 3 (ipykernel)",
   "language": "python",
   "name": "python3"
  },
  "language_info": {
   "codemirror_mode": {
    "name": "ipython",
    "version": 3
   },
   "file_extension": ".py",
   "mimetype": "text/x-python",
   "name": "python",
   "nbconvert_exporter": "python",
   "pygments_lexer": "ipython3",
   "version": "3.13.0"
  }
 },
 "nbformat": 4,
 "nbformat_minor": 5
}
