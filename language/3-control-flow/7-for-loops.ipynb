{
 "cells": [
  {
   "cell_type": "markdown",
   "id": "2716fd76-6f6f-400e-853e-8d6573676acd",
   "metadata": {},
   "source": [
    "### Python for loops\n",
    "In Python, for loops are primarily used to iterate over sequences (lists, tuples, strings, etc.)   \n",
    "or other iterable objects.\n",
    "\n",
    "Here's the syntax\n",
    "```\n",
    "for item in sequence:\n",
    "    # do something with item\n",
    "```"
   ]
  },
  {
   "cell_type": "code",
   "execution_count": 14,
   "id": "00db434c-4981-408a-84d3-09a14d590c7a",
   "metadata": {},
   "outputs": [
    {
     "name": "stdout",
     "output_type": "stream",
     "text": [
      "0\n",
      "1\n",
      "2\n",
      "3\n",
      "4\n"
     ]
    }
   ],
   "source": [
    "# Iterate over a range\n",
    "for i in range(5):\n",
    "    print(i)  # Prints 0, 1, 2, 3, 4"
   ]
  },
  {
   "cell_type": "code",
   "execution_count": 15,
   "id": "4622c13f-3d63-452b-a5f6-29f73bbedb38",
   "metadata": {},
   "outputs": [
    {
     "name": "stdout",
     "output_type": "stream",
     "text": [
      "apple\n",
      "banana\n",
      "orange\n"
     ]
    }
   ],
   "source": [
    "# Iterate over a list:\n",
    "fruits = ['apple', 'banana', 'orange']\n",
    "for fruit in fruits:\n",
    "    print(fruit)"
   ]
  },
  {
   "cell_type": "code",
   "execution_count": 16,
   "id": "e09f6f1f-3d37-435f-ac74-32498501391e",
   "metadata": {},
   "outputs": [
    {
     "name": "stdout",
     "output_type": "stream",
     "text": [
      "Index 0: apple\n",
      "Index 1: banana\n",
      "Index 2: orange\n"
     ]
    }
   ],
   "source": [
    "# Enumerate if you need both index and value\n",
    "for index, fruit in enumerate(fruits):\n",
    "    print(f\"Index {index}: {fruit}\")"
   ]
  },
  {
   "cell_type": "markdown",
   "id": "32bbbc15-c9cc-4952-b354-fc66e99ee44b",
   "metadata": {},
   "source": [
    "### Control flow\n",
    "Use **break** and **continue** in your loops:"
   ]
  },
  {
   "cell_type": "code",
   "execution_count": 17,
   "id": "54e9f82c-abfd-4c6d-8be5-1e13bb69a807",
   "metadata": {},
   "outputs": [
    {
     "name": "stdout",
     "output_type": "stream",
     "text": [
      "0\n",
      "1\n",
      "2\n",
      "3\n",
      "4\n"
     ]
    }
   ],
   "source": [
    "#Use break:\n",
    "for i in range(10):\n",
    "    if i == 5:\n",
    "        break\n",
    "    print(i)  # Prints 0,1,2,3,4"
   ]
  },
  {
   "cell_type": "code",
   "execution_count": 18,
   "id": "027ea26a-11da-4a9f-91d2-4c498ff1fc16",
   "metadata": {},
   "outputs": [
    {
     "name": "stdout",
     "output_type": "stream",
     "text": [
      "0\n",
      "1\n",
      "3\n",
      "4\n"
     ]
    }
   ],
   "source": [
    "# Use continue:\n",
    "for i in range(5):\n",
    "    if i == 2:\n",
    "        continue\n",
    "    print(i)  # Prints 0,1,3,4"
   ]
  },
  {
   "cell_type": "code",
   "execution_count": 19,
   "id": "25bd91e8-fb35-4166-8a15-27d9fe6a67bb",
   "metadata": {},
   "outputs": [
    {
     "name": "stdout",
     "output_type": "stream",
     "text": [
      "27  is divisible by 17.\n"
     ]
    }
   ],
   "source": [
    "# How to use the else part of the for loop\n",
    "num_to_find = 27\n",
    "\n",
    "for x in range(30,0 ,-1):\n",
    "    if (x % num_to_find) == 0:\n",
    "        print(num_to_find, ' is divisible by 17.')\n",
    "        break\n",
    "else:\n",
    "    print(\"num divisible by\",  num_to_find,  \"not found\")"
   ]
  }
 ],
 "metadata": {
  "kernelspec": {
   "display_name": "Python 3 (ipykernel)",
   "language": "python",
   "name": "python3"
  },
  "language_info": {
   "codemirror_mode": {
    "name": "ipython",
    "version": 3
   },
   "file_extension": ".py",
   "mimetype": "text/x-python",
   "name": "python",
   "nbconvert_exporter": "python",
   "pygments_lexer": "ipython3",
   "version": "3.13.0"
  }
 },
 "nbformat": 4,
 "nbformat_minor": 5
}
