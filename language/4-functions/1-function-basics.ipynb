{
 "cells": [
  {
   "cell_type": "markdown",
   "id": "0fd235de-b783-4282-94f8-4160163442e1",
   "metadata": {},
   "source": [
    "### Basics of functions\n",
    "- defined with the **def** keyword\n",
    "- code is indented\n",
    "- Always returns a value (None if you not return anything"
   ]
  },
  {
   "cell_type": "code",
   "execution_count": 29,
   "id": "2c7cc32b-a2dc-4c3c-931c-67617a9b7b38",
   "metadata": {},
   "outputs": [],
   "source": [
    "# A python function definition, with a documentation string:\n",
    "def add_nums(x, y):\n",
    "    ''' This is a demo function that adds numbers.\n",
    "        It accepts the 2 numbers as parameters, and return the result\n",
    "        '''\n",
    "    return x+y"
   ]
  },
  {
   "cell_type": "code",
   "execution_count": 30,
   "id": "1c67fbe2-053a-4ada-9a56-e8ca4ecd3a98",
   "metadata": {},
   "outputs": [
    {
     "name": "stdout",
     "output_type": "stream",
     "text": [
      "9\n"
     ]
    }
   ],
   "source": [
    "# Demo using the function:\n",
    "print(add_nums(4, 5))"
   ]
  },
  {
   "cell_type": "code",
   "execution_count": 31,
   "id": "5a15b450-0844-4003-bac3-8a09061eb1b6",
   "metadata": {},
   "outputs": [
    {
     "name": "stdout",
     "output_type": "stream",
     "text": [
      "Help on function add_nums in module __main__:\n",
      "\n",
      "add_nums(x, y)\n",
      "    This is a demo function that adds numbers.\n",
      "    It accepts the 2 numbers as parameters, and return the result\n",
      "\n"
     ]
    }
   ],
   "source": [
    "# Docstring:\n",
    "# Demo using the built-in help():\n",
    "help(add_nums)"
   ]
  },
  {
   "cell_type": "markdown",
   "id": "a8d57c44-908f-4fb9-8cbd-078a83cc5089",
   "metadata": {},
   "source": [
    "### Returning values"
   ]
  },
  {
   "cell_type": "code",
   "execution_count": 32,
   "id": "4858f124-7f61-464d-b009-020062dfc369",
   "metadata": {},
   "outputs": [
    {
     "name": "stdout",
     "output_type": "stream",
     "text": [
      "<class 'int'>\n"
     ]
    }
   ],
   "source": [
    "# This function returns int (if int values are sent):\n",
    "def f1(a, b):\n",
    "    return a+b\n",
    "\n",
    "print(type(f1(5, 8)))"
   ]
  },
  {
   "cell_type": "code",
   "execution_count": 33,
   "id": "703b2ab2-0bdb-44d7-8bec-2636b002f66d",
   "metadata": {},
   "outputs": [
    {
     "name": "stdout",
     "output_type": "stream",
     "text": [
      "13\n",
      "<class 'NoneType'>\n"
     ]
    }
   ],
   "source": [
    "# This function returns None\n",
    "def f2(a, b):\n",
    "    print(a+b)\n",
    "    return       # return without a value returns None\n",
    "\n",
    "print(type(f2(5, 8)))"
   ]
  },
  {
   "cell_type": "code",
   "execution_count": 34,
   "id": "07e7599c-4b4e-431a-8120-9dacbb87c8be",
   "metadata": {},
   "outputs": [
    {
     "name": "stdout",
     "output_type": "stream",
     "text": [
      "13\n",
      "<class 'NoneType'>\n"
     ]
    }
   ],
   "source": [
    "# this function returns None:\n",
    "def f3(a, b):\n",
    "    print(a+b)\n",
    "    # Not returning anything also returns None\n",
    "\n",
    "print(type(f3(5, 8)))"
   ]
  },
  {
   "cell_type": "markdown",
   "id": "a4fef8dd-0c56-47e1-8cb9-a880907f1733",
   "metadata": {},
   "source": [
    "### The function object"
   ]
  },
  {
   "cell_type": "code",
   "execution_count": 35,
   "id": "2e4158fa-49e3-4d1a-ad59-05233b86ab63",
   "metadata": {},
   "outputs": [
    {
     "name": "stdout",
     "output_type": "stream",
     "text": [
      "<class 'function'>\n",
      "1992232884064\n"
     ]
    }
   ],
   "source": [
    "# A function name is just a name referencing a python object:\n",
    "\n",
    "def my_func(a, b):\n",
    "    return a+b\n",
    "\n",
    "print(type(my_func))\n",
    "print(id(my_func))"
   ]
  },
  {
   "cell_type": "code",
   "execution_count": 36,
   "id": "2aaa76cf-60d8-405a-b6a5-cf6b49c1b4fa",
   "metadata": {},
   "outputs": [
    {
     "name": "stdout",
     "output_type": "stream",
     "text": [
      "9\n"
     ]
    }
   ],
   "source": [
    "# You can reference the function with another name:\n",
    "your_func = my_func\n",
    "print(your_func(4, 5))"
   ]
  },
  {
   "cell_type": "code",
   "execution_count": 37,
   "id": "a51c7016-acd2-4257-84c0-448350796b5c",
   "metadata": {},
   "outputs": [
    {
     "name": "stdout",
     "output_type": "stream",
     "text": [
      "5\n"
     ]
    }
   ],
   "source": [
    "# You can even make the original name reference something else:\n",
    "my_func = 5\n",
    "print(my_func)"
   ]
  },
  {
   "cell_type": "code",
   "execution_count": 38,
   "id": "5ecab555-9258-44b7-90ff-fffc4095be4b",
   "metadata": {},
   "outputs": [
    {
     "name": "stdout",
     "output_type": "stream",
     "text": [
      "9\n"
     ]
    }
   ],
   "source": [
    "# still, the function exists:\n",
    "print(your_func(4,5))"
   ]
  }
 ],
 "metadata": {
  "kernelspec": {
   "display_name": "Python 3 (ipykernel)",
   "language": "python",
   "name": "python3"
  },
  "language_info": {
   "codemirror_mode": {
    "name": "ipython",
    "version": 3
   },
   "file_extension": ".py",
   "mimetype": "text/x-python",
   "name": "python",
   "nbconvert_exporter": "python",
   "pygments_lexer": "ipython3",
   "version": "3.13.0"
  }
 },
 "nbformat": 4,
 "nbformat_minor": 5
}
