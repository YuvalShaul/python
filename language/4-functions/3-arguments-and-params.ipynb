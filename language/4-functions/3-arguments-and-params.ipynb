{
 "cells": [
  {
   "cell_type": "markdown",
   "id": "b3662d47-de6e-4586-84fd-15f44526e89e",
   "metadata": {},
   "source": [
    "### Arguments and params"
   ]
  },
  {
   "cell_type": "code",
   "execution_count": 27,
   "id": "af6c31cb-6d81-4c81-b2a5-f2592bf7afbe",
   "metadata": {},
   "outputs": [
    {
     "name": "stdout",
     "output_type": "stream",
     "text": [
      "9\n",
      "17\n"
     ]
    }
   ],
   "source": [
    "# What they are:\n",
    "def my_sum(a, b):     # these are PARAMETERS - where the function is defines\n",
    "    print(a+b)\n",
    "\n",
    "my_sum(4, 5)          # These are ARGUMENTS, where the function is called.\n",
    "x=8\n",
    "y=9\n",
    "my_sum(x, y)          # These are also ARGUMENTS"
   ]
  },
  {
   "cell_type": "markdown",
   "id": "632bdc1e-96e1-411c-a724-02f6d2ccff0e",
   "metadata": {},
   "source": [
    "### Positional arguments"
   ]
  },
  {
   "cell_type": "code",
   "execution_count": 28,
   "id": "7f30f979-cd31-4a09-ab10-e2841c79af45",
   "metadata": {},
   "outputs": [
    {
     "name": "stdout",
     "output_type": "stream",
     "text": [
      "first: 7 then: 9 at last: 11\n"
     ]
    }
   ],
   "source": [
    "# In this example python send the arguments to the correct parameters by using their locations.\n",
    "def print_nums(a, b, c):\n",
    "    print('first:', a, 'then:', b, 'at last:', c)\n",
    "\n",
    "print_nums(7,9,11)"
   ]
  },
  {
   "cell_type": "markdown",
   "id": "29f75c69-e44b-4741-8611-d6d053aeefc7",
   "metadata": {},
   "source": [
    "### Keyword arguments"
   ]
  },
  {
   "cell_type": "code",
   "execution_count": 29,
   "id": "9ea2df5b-830c-4425-b19a-5a580b366165",
   "metadata": {},
   "outputs": [
    {
     "name": "stdout",
     "output_type": "stream",
     "text": [
      "first: 11 then: 9 at last: 7\n"
     ]
    }
   ],
   "source": [
    "# In this example python send the arguments to the correct parameters by using their names.\n",
    "print_nums(c=7,b=9,a=11)"
   ]
  },
  {
   "cell_type": "code",
   "execution_count": 30,
   "id": "3f6c7d1b-84a7-4a79-a1cd-96b7179c31d1",
   "metadata": {},
   "outputs": [
    {
     "name": "stdout",
     "output_type": "stream",
     "text": [
      "first: 5 then: 4 at last: 3\n",
      "first: 5 then: 3 at last: 4\n"
     ]
    }
   ],
   "source": [
    "# If mixed, keyword arguments always comes after positional arguments\n",
    "\n",
    "print_nums(5,4,c=3)\n",
    "print_nums(5,c=4,b=3)\n",
    "#print_nums(a=7,b=9,11)     THIS IS WRONG!!!"
   ]
  },
  {
   "cell_type": "markdown",
   "id": "0b65c6a2-39c2-46e0-9078-7d81250dcdcd",
   "metadata": {},
   "source": [
    "### Default values for parameters"
   ]
  },
  {
   "cell_type": "code",
   "execution_count": 31,
   "id": "9b179b2b-52a7-47a4-9974-ea7259ee391f",
   "metadata": {},
   "outputs": [
    {
     "name": "stdout",
     "output_type": "stream",
     "text": [
      "first: 5 then: 10 at last: 20\n",
      "first: 6 then: 7 at last: 20\n"
     ]
    }
   ],
   "source": [
    "# If there is a default value, sending an argument is optional\n",
    "def display_nums(a, b=10, c=20):\n",
    "    print('first:', a, 'then:', b, 'at last:', c)\n",
    "\n",
    "display_nums(5)\n",
    "display_nums(a=6, b=7)"
   ]
  },
  {
   "cell_type": "code",
   "execution_count": 32,
   "id": "cbc443d7-b54b-49fc-b914-a38577123d44",
   "metadata": {},
   "outputs": [
    {
     "ename": "SyntaxError",
     "evalue": "positional argument follows keyword argument (2946054182.py, line 2)",
     "output_type": "error",
     "traceback": [
      "\u001b[1;36m  Cell \u001b[1;32mIn[32], line 2\u001b[1;36m\u001b[0m\n\u001b[1;33m    show_nums(a=10, b=20, c):\u001b[0m\n\u001b[1;37m                           ^\u001b[0m\n\u001b[1;31mSyntaxError\u001b[0m\u001b[1;31m:\u001b[0m positional argument follows keyword argument\n"
     ]
    }
   ],
   "source": [
    "# Default values should come first:\n",
    "show_nums(a=10, b=20, c):\n",
    "    print('first:', a, 'then:', b, 'at last:', c)\n"
   ]
  }
 ],
 "metadata": {
  "kernelspec": {
   "display_name": "Python 3 (ipykernel)",
   "language": "python",
   "name": "python3"
  },
  "language_info": {
   "codemirror_mode": {
    "name": "ipython",
    "version": 3
   },
   "file_extension": ".py",
   "mimetype": "text/x-python",
   "name": "python",
   "nbconvert_exporter": "python",
   "pygments_lexer": "ipython3",
   "version": "3.13.0"
  }
 },
 "nbformat": 4,
 "nbformat_minor": 5
}
