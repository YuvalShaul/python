{
 "cells": [
  {
   "cell_type": "markdown",
   "id": "d2e05877-35bb-424c-ba7a-5dbd30e1c7a2",
   "metadata": {},
   "source": [
    "#### zip\n",
    "- [zip documentation](https://docs.python.org/3/library/functions.html#zip)\n",
    "- Iterate over several iterables in parallel, producing tuples with an item from each one."
   ]
  },
  {
   "cell_type": "code",
   "execution_count": 1,
   "id": "c6abe42f-5bbd-41a3-9bc9-f681a5d63180",
   "metadata": {},
   "outputs": [
    {
     "name": "stdout",
     "output_type": "stream",
     "text": [
      "(1, 'a', '=')\n",
      "(2, 'b', '-')\n",
      "(3, 'c', '+')\n"
     ]
    }
   ],
   "source": [
    "z1 = zip([1, 2, 3], ['a', 'b', 'c'], ['=', '-', '+'])\n",
    "for item in z1:\n",
    "    print(item)"
   ]
  }
 ],
 "metadata": {
  "kernelspec": {
   "display_name": "Python 3 (ipykernel)",
   "language": "python",
   "name": "python3"
  },
  "language_info": {
   "codemirror_mode": {
    "name": "ipython",
    "version": 3
   },
   "file_extension": ".py",
   "mimetype": "text/x-python",
   "name": "python",
   "nbconvert_exporter": "python",
   "pygments_lexer": "ipython3",
   "version": "3.13.0"
  }
 },
 "nbformat": 4,
 "nbformat_minor": 5
}
