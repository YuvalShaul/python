{
 "cells": [
  {
   "cell_type": "markdown",
   "id": "62ff77ff-15a6-4c06-9f07-4677ea908e8a",
   "metadata": {},
   "source": [
    "#### sorted(iterable, /, *, key=None, reverse=False)\n",
    "- returns a sorted list from elements in iterable\n",
    "- key specifies a function of one argument that is used to extract a comparison key from each element in iterable"
   ]
  },
  {
   "cell_type": "code",
   "execution_count": 11,
   "id": "e274267f-7fb3-4cc6-b14d-39d958167246",
   "metadata": {},
   "outputs": [
    {
     "name": "stdout",
     "output_type": "stream",
     "text": [
      "[(2, 8), (11, 10), (7, 15), (9, 14)]\n",
      "[(2, 8), (7, 15), (9, 14), (11, 10)]\n"
     ]
    }
   ],
   "source": [
    "# Sort a list of pairs:\n",
    "# - by sum of elements\n",
    "# - by the first element\n",
    "l1 = [(7, 15), (2, 8), (11, 10), (9,14)]\n",
    "ordered1 = sorted(l1,  key = lambda pair: pair[0]+pair[1])\n",
    "ordered2 = sorted(l1,  key = lambda pair: pair[0])\n",
    "print(ordered1)\n",
    "print(ordered2)"
   ]
  },
  {
   "cell_type": "markdown",
   "id": "d2e05877-35bb-424c-ba7a-5dbd30e1c7a2",
   "metadata": {},
   "source": [
    "#### zip\n",
    "- [zip documentation](https://docs.python.org/3/library/functions.html#zip)\n",
    "- Iterate over several iterables in parallel, producing tuples with an item from each one."
   ]
  },
  {
   "cell_type": "code",
   "execution_count": 12,
   "id": "c6abe42f-5bbd-41a3-9bc9-f681a5d63180",
   "metadata": {},
   "outputs": [
    {
     "name": "stdout",
     "output_type": "stream",
     "text": [
      "(1, 'a', '=')\n",
      "(2, 'b', '-')\n",
      "(3, 'c', '+')\n"
     ]
    }
   ],
   "source": [
    "z1 = zip([1, 2, 3], ['a', 'b', 'c'], ['=', '-', '+'])\n",
    "for item in z1:\n",
    "    print(item)"
   ]
  },
  {
   "cell_type": "markdown",
   "id": "f19642d8-740d-4475-bda7-2d6799e5bbc7",
   "metadata": {},
   "source": [
    "#### any(iterable)\n",
    "- Return True if any element of the iterable is true (or truthy)\n",
    "- If the iterable is empty, return False"
   ]
  },
  {
   "cell_type": "code",
   "execution_count": 13,
   "id": "1c56a2b5-3990-4977-9491-032457b15787",
   "metadata": {},
   "outputs": [
    {
     "data": {
      "text/plain": [
       "True"
      ]
     },
     "execution_count": 13,
     "metadata": {},
     "output_type": "execute_result"
    }
   ],
   "source": [
    "any( [3, 5, 6, 9])"
   ]
  },
  {
   "cell_type": "code",
   "execution_count": 18,
   "id": "eb94eee6-7977-4029-953b-c4d4af5d2b56",
   "metadata": {},
   "outputs": [
    {
     "data": {
      "text/plain": [
       "False"
      ]
     },
     "execution_count": 18,
     "metadata": {},
     "output_type": "execute_result"
    }
   ],
   "source": [
    "any( [0, 0.0, None, () , False])"
   ]
  }
 ],
 "metadata": {
  "kernelspec": {
   "display_name": "Python 3 (ipykernel)",
   "language": "python",
   "name": "python3"
  },
  "language_info": {
   "codemirror_mode": {
    "name": "ipython",
    "version": 3
   },
   "file_extension": ".py",
   "mimetype": "text/x-python",
   "name": "python",
   "nbconvert_exporter": "python",
   "pygments_lexer": "ipython3",
   "version": "3.13.0"
  }
 },
 "nbformat": 4,
 "nbformat_minor": 5
}
