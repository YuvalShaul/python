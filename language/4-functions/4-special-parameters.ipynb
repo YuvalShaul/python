{
 "cells": [
  {
   "cell_type": "markdown",
   "id": "eac124c4-df56-4d0d-b048-6b4c06c420e1",
   "metadata": {},
   "source": [
    "### positional or keyword\n",
    "Use / or * special parameters like this:  \n",
    "```\n",
    "def f(pos1, pos2, /, pos_or_kwd, *, kwd1, kwd2):\n",
    "      -----------    ----------     ----------\n",
    "        |                |               |\n",
    "        |        Positional or keyword   |\n",
    "        |                                - Keyword only\n",
    "         -- Positional only\n",
    "```"
   ]
  },
  {
   "cell_type": "code",
   "execution_count": 1,
   "id": "5569b0a5-ff52-405a-958e-206169ce02eb",
   "metadata": {},
   "outputs": [
    {
     "name": "stdout",
     "output_type": "stream",
     "text": [
      "a: 1 b 2 b 3 d: 4 e 5 f 6\n",
      "a: 1 b 2 b 3 d: 4 e 5 f 6\n"
     ]
    }
   ],
   "source": [
    "# Example\n",
    "def show_args(a, b, /, c, d, *, e, f):\n",
    "        print('a:', a, 'b', b, 'b', c, 'd:', d, 'e', e, 'f', f)\n",
    "\n",
    "# Good:\n",
    "show_args(1, 2, 3, d=4, e=5, f=6)\n",
    "show_args(1, 2, 3, 4, e=5, f=6)\n",
    "# Bad:\n",
    "# show_args(1, b=2, c=3, d=4, e=5, f=6)\n",
    "# show_args(1, 2, c=3, 4, e=5, f=6)\n",
    "# show_args(1, 2, 3, 4, 5, f=6)"
   ]
  },
  {
   "cell_type": "markdown",
   "id": "f8add67d-bd55-4bb4-931b-e265333e2ce5",
   "metadata": {},
   "source": [
    "### Argument lists"
   ]
  },
  {
   "cell_type": "code",
   "execution_count": 2,
   "id": "e3746063-8c23-4676-9d12-863a3411a8cd",
   "metadata": {},
   "outputs": [
    {
     "name": "stdout",
     "output_type": "stream",
     "text": [
      "<class 'tuple'>\n",
      "(1, 2, 3)\n",
      "<class 'tuple'>\n",
      "(1, 2, 3, 4, 5)\n"
     ]
    }
   ],
   "source": [
    "def show_args(*nums):\n",
    "    print(type(nums))\n",
    "    print(nums)\n",
    "\n",
    "show_args(1, 2, 3)\n",
    "show_args(1, 2, 3, 4, 5)"
   ]
  },
  {
   "cell_type": "code",
   "execution_count": 3,
   "id": "6bc2a3bb-95e8-4059-bee6-e7569af160cb",
   "metadata": {},
   "outputs": [
    {
     "name": "stdout",
     "output_type": "stream",
     "text": [
      "1 2 (3, 4, 5) 17\n"
     ]
    }
   ],
   "source": [
    "# Before you should have just positional parameters\n",
    "# After - only keywords (it will \"eat\" all positional values)\n",
    "def show_all(a, b, *others, last=100):\n",
    "    print(a, b, others, last)\n",
    "\n",
    "show_all(1, 2, 3, 4, 5, last=17)"
   ]
  },
  {
   "cell_type": "markdown",
   "id": "53fb9921-8ca8-4950-9f14-a54614ea9683",
   "metadata": {},
   "source": [
    "### A dict mapping"
   ]
  },
  {
   "cell_type": "code",
   "execution_count": 4,
   "id": "d642c496-a384-4514-8597-ed139f6b0945",
   "metadata": {},
   "outputs": [
    {
     "name": "stdout",
     "output_type": "stream",
     "text": [
      "1 2 (3, 4, 5) {'name': 'Dave', 'height': 180}\n"
     ]
    }
   ],
   "source": [
    "def show_top(a, b, *others, **person):\n",
    "    print(a, b, others, person)\n",
    "\n",
    "show_top(1, 2, 3, 4, 5, name='Dave', height=180)"
   ]
  }
 ],
 "metadata": {
  "kernelspec": {
   "display_name": "Python 3 (ipykernel)",
   "language": "python",
   "name": "python3"
  },
  "language_info": {
   "codemirror_mode": {
    "name": "ipython",
    "version": 3
   },
   "file_extension": ".py",
   "mimetype": "text/x-python",
   "name": "python",
   "nbconvert_exporter": "python",
   "pygments_lexer": "ipython3",
   "version": "3.13.0"
  }
 },
 "nbformat": 4,
 "nbformat_minor": 5
}
