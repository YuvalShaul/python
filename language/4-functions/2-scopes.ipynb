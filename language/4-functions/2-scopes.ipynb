{
 "cells": [
  {
   "cell_type": "code",
   "execution_count": 6,
   "id": "3584cb6e-b3d4-4079-afd4-2d208eeead62",
   "metadata": {},
   "outputs": [],
   "source": [
    "### Local scope"
   ]
  },
  {
   "cell_type": "code",
   "execution_count": 7,
   "id": "e7e317d6-f7e4-4289-b2bf-c6a74ba6c076",
   "metadata": {},
   "outputs": [
    {
     "name": "stdout",
     "output_type": "stream",
     "text": [
      "in:  5\n"
     ]
    },
    {
     "ename": "NameError",
     "evalue": "name 'num1' is not defined",
     "output_type": "error",
     "traceback": [
      "\u001b[1;31m---------------------------------------------------------------------------\u001b[0m",
      "\u001b[1;31mNameError\u001b[0m                                 Traceback (most recent call last)",
      "Cell \u001b[1;32mIn[7], line 8\u001b[0m\n\u001b[0;32m      5\u001b[0m     \u001b[38;5;28mprint\u001b[39m(\u001b[38;5;124m'\u001b[39m\u001b[38;5;124min: \u001b[39m\u001b[38;5;124m'\u001b[39m, num1)\n\u001b[0;32m      7\u001b[0m make_num()\n\u001b[1;32m----> 8\u001b[0m \u001b[38;5;28mprint\u001b[39m(\u001b[43mnum1\u001b[49m)   \u001b[38;5;66;03m# Error - not defined\u001b[39;00m\n",
      "\u001b[1;31mNameError\u001b[0m: name 'num1' is not defined"
     ]
    }
   ],
   "source": [
    "# A local variable\n",
    "\n",
    "def make_num():\n",
    "    num1 = 5        # This cretes a new local variable\n",
    "    print('in: ', num1)\n",
    "\n",
    "make_num()\n",
    "print(num1)   # Error - not defined"
   ]
  },
  {
   "cell_type": "code",
   "execution_count": 8,
   "id": "6aecaec1-c963-4fab-acf8-208f0266f4ab",
   "metadata": {},
   "outputs": [
    {
     "name": "stdout",
     "output_type": "stream",
     "text": [
      "in:  7\n",
      "5\n"
     ]
    }
   ],
   "source": [
    "# Try to change global variable\n",
    "num2 = 5\n",
    "\n",
    "def change_num(new_value):\n",
    "    num2 = new_value        # This actually cretes a new local variable that hides the global variable\n",
    "    print('in: ', num2)\n",
    "\n",
    "change_num(7)\n",
    "print(num2)"
   ]
  },
  {
   "cell_type": "markdown",
   "id": "402ec59d-6f71-4032-8918-da1185abaf06",
   "metadata": {},
   "source": [
    "### Using the global keyword"
   ]
  },
  {
   "cell_type": "code",
   "execution_count": 9,
   "id": "2acc83bc-0b17-4cab-9477-01e037d02c18",
   "metadata": {},
   "outputs": [
    {
     "name": "stdout",
     "output_type": "stream",
     "text": [
      "in:  7\n",
      "7\n"
     ]
    }
   ],
   "source": [
    "# Try to change global variable\n",
    "num3 = 5\n",
    "\n",
    "def change_num(new_value):\n",
    "    global num3\n",
    "    num3 = new_value        # This actually uses the global variable\n",
    "    print('in: ', num3)\n",
    "\n",
    "change_num(7)\n",
    "print(num3)"
   ]
  },
  {
   "cell_type": "markdown",
   "id": "b7dd69eb-4621-42ea-bc8a-cac986864987",
   "metadata": {},
   "source": [
    "### enclosing function\n",
    "And using the **nonlocal** keyword"
   ]
  },
  {
   "cell_type": "code",
   "execution_count": 10,
   "id": "dd61e7ea-698e-4a07-87a8-d7d3d679877c",
   "metadata": {},
   "outputs": [
    {
     "name": "stdout",
     "output_type": "stream",
     "text": [
      "inner: 7\n",
      "outer: 7\n",
      "global:  5\n"
     ]
    }
   ],
   "source": [
    "num4 = 5\n",
    "\n",
    "def outer():\n",
    "    num4 = 6\n",
    "    def inner():\n",
    "        # choose and see the differences:\n",
    "        # global num4\n",
    "        nonlocal num4\n",
    "        num4 = 7\n",
    "        print('inner:', num4)\n",
    "    inner()\n",
    "    print(\"outer:\", num4)\n",
    "    \n",
    "outer()\n",
    "\n",
    "print('global: ', num4)"
   ]
  }
 ],
 "metadata": {
  "kernelspec": {
   "display_name": "Python 3 (ipykernel)",
   "language": "python",
   "name": "python3"
  },
  "language_info": {
   "codemirror_mode": {
    "name": "ipython",
    "version": 3
   },
   "file_extension": ".py",
   "mimetype": "text/x-python",
   "name": "python",
   "nbconvert_exporter": "python",
   "pygments_lexer": "ipython3",
   "version": "3.13.0"
  }
 },
 "nbformat": 4,
 "nbformat_minor": 5
}
