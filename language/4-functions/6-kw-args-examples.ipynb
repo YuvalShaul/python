{
 "cells": [
  {
   "cell_type": "code",
   "execution_count": 2,
   "id": "b2a831e2-8159-4c58-a7be-e339e709a5ce",
   "metadata": {},
   "outputs": [],
   "source": [
    "def myfunc(**fields):\n",
    "    print(type(fields))\n",
    "    print(fields)\n"
   ]
  },
  {
   "cell_type": "code",
   "execution_count": 3,
   "id": "5e4db7ac-af20-4a1a-9aef-ed070e7c8372",
   "metadata": {},
   "outputs": [
    {
     "name": "stdout",
     "output_type": "stream",
     "text": [
      "<class 'dict'>\n",
      "{'name': 'Moshe', 'age': 132, 'id': '12345'}\n"
     ]
    }
   ],
   "source": [
    "myfunc(name=\"Moshe\", age=132, id=\"12345\")"
   ]
  },
  {
   "cell_type": "code",
   "execution_count": 20,
   "id": "8c2d9e58-1a5a-4acb-9eeb-bfdabd5d8c5c",
   "metadata": {},
   "outputs": [],
   "source": [
    "def set_test(**test_params):\n",
    "    if 'product' not in test_params:\n",
    "        test_params['product'] = 'default prod'\n",
    "    if 'date' not in test_params:\n",
    "        test_params['date'] = ''\n",
    "    if 'volume' not in test_params:\n",
    "        test_params['volume'] = ''\n",
    "    if 'verions' not in test_params:\n",
    "        test_params['verions'] = ''\n",
    "    print(test_params)\n"
   ]
  },
  {
   "cell_type": "code",
   "execution_count": 21,
   "id": "4fa0b516-94aa-489d-a4f6-a537e28add40",
   "metadata": {},
   "outputs": [
    {
     "name": "stdout",
     "output_type": "stream",
     "text": [
      "{'date': 'April 1st', 'volume': 3, 'version': 15.7, 'product': 'default prod', 'verions': ''}\n"
     ]
    }
   ],
   "source": [
    "set_test(date=\"April 1st\", volume = 3, version = 15.7)"
   ]
  },
  {
   "cell_type": "code",
   "execution_count": 13,
   "id": "7fe2f3d9-5fd8-4e1a-ab22-222fddeacb7d",
   "metadata": {},
   "outputs": [
    {
     "name": "stdout",
     "output_type": "stream",
     "text": [
      "April 1st\n",
      "3\n",
      "15.7\n",
      "default prod\n",
      "April 2nd\n",
      "4\n",
      "15.8\n",
      "aaa\n"
     ]
    }
   ],
   "source": [
    "set_test(date=\"April 1st\", volume = 3, version = 15.7)\n",
    "set_test(date=\"April 2nd\", volume = 4, version = 15.8, product=\"aaa\")"
   ]
  },
  {
   "cell_type": "code",
   "execution_count": 22,
   "id": "e4e3e26f-7d68-41c4-9206-f9e852dbc983",
   "metadata": {},
   "outputs": [
    {
     "name": "stdout",
     "output_type": "stream",
     "text": [
      "{'date': 'April 2nd', 'volume': 4, 'version': 15.8, 'product': 'aaa', 'temperature': 200, 'verions': ''}\n"
     ]
    }
   ],
   "source": [
    "set_test(date=\"April 2nd\", volume = 4, version = 15.8, product=\"aaa\", temperature=200)"
   ]
  },
  {
   "cell_type": "code",
   "execution_count": 23,
   "id": "533c676c-834c-49d2-b7b0-924e2e9965c0",
   "metadata": {},
   "outputs": [
    {
     "name": "stdout",
     "output_type": "stream",
     "text": [
      "{'product': 'default prod', 'date': '', 'volume': '', 'verions': ''}\n"
     ]
    }
   ],
   "source": [
    "set_test()"
   ]
  },
  {
   "cell_type": "code",
   "execution_count": 29,
   "id": "126fb909-f814-49fa-9b4d-890decd97cc4",
   "metadata": {},
   "outputs": [],
   "source": [
    "def show_args(temp, name, version):\n",
    "    print(temp, name, version)"
   ]
  },
  {
   "cell_type": "code",
   "execution_count": 32,
   "id": "c765b38e-3386-4c4d-b4e9-5bd2972022a5",
   "metadata": {},
   "outputs": [
    {
     "name": "stdout",
     "output_type": "stream",
     "text": [
      "138 Yuval 2.0\n"
     ]
    }
   ],
   "source": [
    "args = {'temp': 138, 'name':'Yuval', 'version' : '2.0'}\n",
    "show_args(**args)"
   ]
  }
 ],
 "metadata": {
  "kernelspec": {
   "display_name": "Python 3 (ipykernel)",
   "language": "python",
   "name": "python3"
  },
  "language_info": {
   "codemirror_mode": {
    "name": "ipython",
    "version": 3
   },
   "file_extension": ".py",
   "mimetype": "text/x-python",
   "name": "python",
   "nbconvert_exporter": "python",
   "pygments_lexer": "ipython3",
   "version": "3.13.0"
  }
 },
 "nbformat": 4,
 "nbformat_minor": 5
}
