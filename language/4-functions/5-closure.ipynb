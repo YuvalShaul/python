{
 "cells": [
  {
   "cell_type": "code",
   "execution_count": 29,
   "id": "517b0d65-ca31-495e-9ed5-2fa654d9a4d5",
   "metadata": {},
   "outputs": [
    {
     "name": "stdout",
     "output_type": "stream",
     "text": [
      "40\n",
      "56\n"
     ]
    }
   ],
   "source": [
    "def outer(multiplier):\n",
    "    in_mult = multiplier\n",
    "    def inner(num):\n",
    "        return num * in_mult\n",
    "    \n",
    "    return inner\n",
    "\n",
    "f1 = outer(5)   # f1 also remembers its CLOSURE, so also multiplier\n",
    "f2 = outer(7)\n",
    "print(f1(8))\n",
    "print(f2(8))\n"
   ]
  }
 ],
 "metadata": {
  "kernelspec": {
   "display_name": "Python 3 (ipykernel)",
   "language": "python",
   "name": "python3"
  },
  "language_info": {
   "codemirror_mode": {
    "name": "ipython",
    "version": 3
   },
   "file_extension": ".py",
   "mimetype": "text/x-python",
   "name": "python",
   "nbconvert_exporter": "python",
   "pygments_lexer": "ipython3",
   "version": "3.13.0"
  }
 },
 "nbformat": 4,
 "nbformat_minor": 5
}
