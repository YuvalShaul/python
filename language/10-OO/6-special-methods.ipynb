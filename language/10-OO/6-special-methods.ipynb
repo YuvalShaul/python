{
 "cells": [
  {
   "cell_type": "markdown",
   "id": "62787419-8f0f-4051-91d4-a9480aa8c4c7",
   "metadata": {},
   "source": [
    "### Class Instantiation\n",
    "- Python have many special method names.\n",
    "- This namesare reserved, and these methods are called by the interpreter when their condition is net\n",
    "- For example, the __new__() method is called when python creates a new object\n",
    "- The __init__() method is called immediatelly after __new__(), to allow instantiating the new object"
   ]
  },
  {
   "cell_type": "code",
   "execution_count": 6,
   "id": "5348007b-ac52-4671-927e-20e0a85f3135",
   "metadata": {},
   "outputs": [
    {
     "name": "stdout",
     "output_type": "stream",
     "text": [
      "A new object is created:  3140634920288\n"
     ]
    }
   ],
   "source": [
    "# Example, let's demonstrate the use of __new__() and __init__()\n",
    "# In __new__() we get a reference to the class, but not create a new object, so there is no instantiation\n",
    "class Demo:\n",
    "    def __new__(cls):\n",
    "        print('A new object is created: ', id(cls))\n",
    "\n",
    "    def __init__(self):\n",
    "        print(' Now we can instantiate it.')\n",
    "\n",
    "d1 = Demo()"
   ]
  },
  {
   "cell_type": "code",
   "execution_count": 10,
   "id": "4ea72997-3665-4d38-b4f5-acb58ed11fc9",
   "metadata": {},
   "outputs": [
    {
     "name": "stdout",
     "output_type": "stream",
     "text": [
      "A new object is created:  3140634931200\n",
      " Now we can instantiate it.\n"
     ]
    }
   ],
   "source": [
    "# Now again, but this time we create the new instance:\n",
    "class Demo:\n",
    "    def __new__(cls):\n",
    "        print('Creating and returning a new instance.')\n",
    "        new_obj = super().__new__(cls)\n",
    "        return new_obj\n",
    "\n",
    "    def __init__(self):\n",
    "        print('Now we can instantiate it.')\n",
    "\n",
    "d1 = Demo()"
   ]
  }
 ],
 "metadata": {
  "kernelspec": {
   "display_name": "Python 3 (ipykernel)",
   "language": "python",
   "name": "python3"
  },
  "language_info": {
   "codemirror_mode": {
    "name": "ipython",
    "version": 3
   },
   "file_extension": ".py",
   "mimetype": "text/x-python",
   "name": "python",
   "nbconvert_exporter": "python",
   "pygments_lexer": "ipython3",
   "version": "3.13.0"
  }
 },
 "nbformat": 4,
 "nbformat_minor": 5
}
