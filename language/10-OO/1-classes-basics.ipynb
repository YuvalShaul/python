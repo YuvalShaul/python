{
 "cells": [
  {
   "cell_type": "markdown",
   "id": "9a8e0830-7b7f-4dc4-9f93-c391a7267f54",
   "metadata": {},
   "source": [
    "### Python Classes\n",
    "- A class is a type of an object\n",
    "- We use a class as a \"blueprint\", so that we can create multiple object that has the same shape, same attributes.\n",
    "- In python, all values are object, so all types are classes\n",
    "- let's explore how we can create our own classes, and from them, some objects."
   ]
  },
  {
   "cell_type": "code",
   "execution_count": 24,
   "id": "3fb24fa2-50fc-46a9-8ca8-37242a1b2557",
   "metadata": {},
   "outputs": [],
   "source": [
    "# Creating a Person class, that represent a single person\n",
    "class Person:\n",
    "    pass       #  No content to our class"
   ]
  },
  {
   "cell_type": "code",
   "execution_count": 25,
   "id": "4864d349-197d-4958-b72b-6841cdd1465f",
   "metadata": {},
   "outputs": [
    {
     "name": "stdout",
     "output_type": "stream",
     "text": [
      "p1:  2315969288176  type:  <class '__main__.Person'>\n",
      "p2:  2315975428048  type:  <class '__main__.Person'>\n"
     ]
    }
   ],
   "source": [
    "# Creating two instances of a class (so 2 objects)\n",
    "p1 = Person()\n",
    "p2 = Person()\n",
    "print('p1: ', id(p1), ' type: ', type(p1))\n",
    "print('p2: ', id(p2), ' type: ', type(p2))"
   ]
  },
  {
   "cell_type": "markdown",
   "id": "2f816042-94a0-49bc-89ca-8f21324ca09a",
   "metadata": {},
   "source": [
    "#### Class Variables\n",
    "- If we create a variable in the class definition itself, this is called class variable.\n",
    "- This means that all objects \"can see\" it, but this is a single value that is shared among all object of that class."
   ]
  },
  {
   "cell_type": "code",
   "execution_count": 26,
   "id": "9216f01f-f068-4a03-9814-4a22d70fcf68",
   "metadata": {},
   "outputs": [],
   "source": [
    "class Person:\n",
    "    age=34       # This is a class atribute, so it belong to the class itself. \n",
    "                 # Are all Person's age is 34?\n",
    "\n",
    "p1 = Person()\n",
    "p2 = Person()"
   ]
  },
  {
   "cell_type": "code",
   "execution_count": 27,
   "id": "b0139793-c383-4bcd-9410-88cf2ff4788f",
   "metadata": {},
   "outputs": [
    {
     "name": "stdout",
     "output_type": "stream",
     "text": [
      "34\n"
     ]
    }
   ],
   "source": [
    "# How NOT to modify a class varianle:\n",
    "p1.age  = 52     # this is not affecting the class variable, it rather creates a new attrubute shadowing the class variable\n",
    "print(p2.age)"
   ]
  },
  {
   "cell_type": "code",
   "execution_count": 28,
   "id": "b75e8329-9091-4489-85c0-906a0c02f1c1",
   "metadata": {},
   "outputs": [
    {
     "name": "stdout",
     "output_type": "stream",
     "text": [
      "<class '__main__.Person'>\n",
      "52\n",
      "--------  Through the clas name:  --------------\n",
      "49\n",
      "49\n"
     ]
    }
   ],
   "source": [
    "# direct method to change a class variable:\n",
    "p3 = Person()\n",
    "p4 = Person()\n",
    "\n",
    "print(p3.__class__)\n",
    "p3.__class__.age = 52  # Refer the class, then change the class attribute\n",
    "print(p4.age)\n",
    "\n",
    "# Note that this is actually the same as accessing the class attribute via the class name:\n",
    "print('--------  Through the clas name:  --------------')\n",
    "Person.age = 49\n",
    "print(p3.age)\n",
    "print(p4.age)"
   ]
  },
  {
   "cell_type": "markdown",
   "id": "30ea75d5-78e8-4144-b2be-db4b4a1bcb79",
   "metadata": {},
   "source": [
    "####  Methods\n",
    "- A method is a function that is part of the class\n",
    "- It is invoked from an instance (an object), and automatically get a referenec to this object in the first parameter.\n",
    "- When we call a method, we do not pass a value for the first parameter"
   ]
  },
  {
   "cell_type": "code",
   "execution_count": 29,
   "id": "7e137a67-22f5-4796-9bc2-1f9462be3e32",
   "metadata": {},
   "outputs": [
    {
     "name": "stdout",
     "output_type": "stream",
     "text": [
      "2315969288176 2315969288176\n",
      "2315975429328 2315975429328\n"
     ]
    }
   ],
   "source": [
    "class Person:\n",
    "  def show_person_obj(the_obj):\n",
    "      return id(the_obj)\n",
    "\n",
    "p5 = Person()\n",
    "p6 = Person()\n",
    "id5 = p5.show_person_obj()     # note --> the method gets a reference to p1 in the \"the_obj\" parameter\n",
    "id6 = p6.show_person_obj()\n",
    "print(id(p5),  id5)\n",
    "print(id(p6),  id6)"
   ]
  },
  {
   "cell_type": "code",
   "execution_count": 30,
   "id": "8c37bac0-ce74-466e-8a5b-35c0d6a91157",
   "metadata": {},
   "outputs": [
    {
     "name": "stdout",
     "output_type": "stream",
     "text": [
      "45\n",
      "29\n"
     ]
    }
   ],
   "source": [
    "# A more useful example:\n",
    "# call the first parmeter \"self\", as is customary\n",
    "# Pass an age parameter, and store it in the object\n",
    "# The \"age\" variable is going to be an instance variable\n",
    "class Person:\n",
    "  def save_age(self, the_age):\n",
    "      self.age = the_age        # set \"age\" attribute in the instance referenced by \"self\"\n",
    "\n",
    "p7 = Person()\n",
    "p8 = Person()\n",
    "id7 = p7.save_age(45)     # note --> just a single para in call, but 2 are passed (one is the p1 reference)\n",
    "id8 = p8.save_age(29)\n",
    "print(p7.age)\n",
    "print(p8.age)"
   ]
  }
 ],
 "metadata": {
  "kernelspec": {
   "display_name": "Python 3 (ipykernel)",
   "language": "python",
   "name": "python3"
  },
  "language_info": {
   "codemirror_mode": {
    "name": "ipython",
    "version": 3
   },
   "file_extension": ".py",
   "mimetype": "text/x-python",
   "name": "python",
   "nbconvert_exporter": "python",
   "pygments_lexer": "ipython3",
   "version": "3.13.0"
  }
 },
 "nbformat": 4,
 "nbformat_minor": 5
}
