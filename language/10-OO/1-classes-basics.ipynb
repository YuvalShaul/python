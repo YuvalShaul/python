{
 "cells": [
  {
   "cell_type": "code",
   "execution_count": null,
   "id": "b0b0f7cc-4e8a-46ee-8550-2f32678185a2",
   "metadata": {},
   "outputs": [],
   "source": []
  },
  {
   "cell_type": "code",
   "execution_count": 1,
   "id": "3fb24fa2-50fc-46a9-8ca8-37242a1b2557",
   "metadata": {},
   "outputs": [],
   "source": [
    "class Person:\n",
    "    age=34\n",
    "    def printName(name):\n",
    "        print(name)"
   ]
  },
  {
   "cell_type": "code",
   "execution_count": 3,
   "id": "4864d349-197d-4958-b72b-6841cdd1465f",
   "metadata": {},
   "outputs": [
    {
     "name": "stdout",
     "output_type": "stream",
     "text": [
      "140719384291272\n",
      "140719384291272\n"
     ]
    }
   ],
   "source": [
    "p1 = Person()\n",
    "p2 = Person()\n",
    "\n",
    "print(id(p1.age))   # age is a class variable\n",
    "print(id(p2.age))"
   ]
  }
 ],
 "metadata": {
  "kernelspec": {
   "display_name": "Python 3 (ipykernel)",
   "language": "python",
   "name": "python3"
  },
  "language_info": {
   "codemirror_mode": {
    "name": "ipython",
    "version": 3
   },
   "file_extension": ".py",
   "mimetype": "text/x-python",
   "name": "python",
   "nbconvert_exporter": "python",
   "pygments_lexer": "ipython3",
   "version": "3.13.0"
  }
 },
 "nbformat": 4,
 "nbformat_minor": 5
}
