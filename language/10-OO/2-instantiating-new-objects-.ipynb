{
 "cells": [
  {
   "cell_type": "markdown",
   "id": "62787419-8f0f-4051-91d4-a9480aa8c4c7",
   "metadata": {},
   "source": [
    "### Class Instantiation\n",
    "- Python have many special method names.\n",
    "- The \\__init\\__() method is called immediatelly after a new object is created, so that you can instantiate it (for example set attribute values)"
   ]
  },
  {
   "cell_type": "code",
   "execution_count": 13,
   "id": "5348007b-ac52-4671-927e-20e0a85f3135",
   "metadata": {},
   "outputs": [
    {
     "name": "stdout",
     "output_type": "stream",
     "text": [
      "setting dog namge to:  Spark\n",
      "Spark\n"
     ]
    }
   ],
   "source": [
    "# Example, let's demonstrate the use of __new__() and __init__()\n",
    "# In __new__() we get a reference to the class, but not create a new object, so there is no instantiation\n",
    "class Dog:\n",
    "    def __init__(self, dog_name):\n",
    "        print('setting dog namge to: ', dog_name)\n",
    "        self.name = dog_name\n",
    "\n",
    "d1 = Dog('Spark')\n",
    "print(d1.name)\n"
   ]
  }
 ],
 "metadata": {
  "kernelspec": {
   "display_name": "Python 3 (ipykernel)",
   "language": "python",
   "name": "python3"
  },
  "language_info": {
   "codemirror_mode": {
    "name": "ipython",
    "version": 3
   },
   "file_extension": ".py",
   "mimetype": "text/x-python",
   "name": "python",
   "nbconvert_exporter": "python",
   "pygments_lexer": "ipython3",
   "version": "3.13.0"
  }
 },
 "nbformat": 4,
 "nbformat_minor": 5
}
