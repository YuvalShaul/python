{
 "cells": [
  {
   "cell_type": "code",
   "execution_count": 5,
   "id": "bab90fa2-ac72-4934-9c1d-857e68de244a",
   "metadata": {},
   "outputs": [],
   "source": [
    "import replace_enc\n",
    "\n",
    "def demo_enc():\n",
    "    myconf = replace_enc.set_config(include_key=True)\n",
    "    my_text = \"hello world !!!\"\n",
    "    enc_key = replace_enc.create_enc_key()\n",
    "    dec_key = replace_enc.create_dec_key(enc_key)\n",
    "    enc_text = replace_enc.encrypt_text(my_text, enc_key, myconf)\n",
    "    print(enc_text)\n",
    "    dec_text = replace_enc.decrypt_text(enc_text, enc_key = enc_key, conf= myconf)\n",
    "    print(dec_text)"
   ]
  },
  {
   "cell_type": "code",
   "execution_count": 4,
   "id": "7cfe6669-538a-4468-86af-baa6bdeeb0c1",
   "metadata": {},
   "outputs": [
    {
     "name": "stdout",
     "output_type": "stream",
     "text": [
      "esxxm\n",
      "hello\n"
     ]
    }
   ],
   "source": [
    "demo_enc()"
   ]
  }
 ],
 "metadata": {
  "kernelspec": {
   "display_name": "Python 3 (ipykernel)",
   "language": "python",
   "name": "python3"
  },
  "language_info": {
   "codemirror_mode": {
    "name": "ipython",
    "version": 3
   },
   "file_extension": ".py",
   "mimetype": "text/x-python",
   "name": "python",
   "nbconvert_exporter": "python",
   "pygments_lexer": "ipython3",
   "version": "3.13.0"
  }
 },
 "nbformat": 4,
 "nbformat_minor": 5
}
