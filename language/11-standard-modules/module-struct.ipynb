{
 "cells": [
  {
   "cell_type": "markdown",
   "id": "0627afee-d429-4655-adbe-2b626e02c3ba",
   "metadata": {},
   "source": [
    "### Python struct module\n",
    "See documentation [here](https://docs.python.org/3/library/struct.html)"
   ]
  },
  {
   "cell_type": "code",
   "execution_count": 10,
   "id": "fa1b4b01-8d05-41a3-a991-60361fd83dfe",
   "metadata": {},
   "outputs": [],
   "source": [
    "import struct"
   ]
  },
  {
   "cell_type": "code",
   "execution_count": 11,
   "id": "398f6194-e095-4059-bdf8-bdec4ea75c2c",
   "metadata": {},
   "outputs": [
    {
     "name": "stdout",
     "output_type": "stream",
     "text": [
      "Packed short: b'90'\n",
      "Unpacked short: 12345\n"
     ]
    }
   ],
   "source": [
    "# Basic short (16-bit integer) packing/unpacking\n",
    "# 'h' format code is for short integer\n",
    "number = 12345\n",
    "packed_short = struct.pack('h', number)  \n",
    "print(f\"Packed short: {packed_short}\")\n",
    "unpacked_short = struct.unpack('h', packed_short)[0]\n",
    "print(f\"Unpacked short: {unpacked_short}\")"
   ]
  },
  {
   "cell_type": "code",
   "execution_count": 12,
   "id": "d7687d2f-7050-469f-ac91-2a25ed03b27e",
   "metadata": {},
   "outputs": [
    {
     "name": "stdout",
     "output_type": "stream",
     "text": [
      "BIG Packed short: b'09'\n",
      "SMALL Packed short: b'90'\n"
     ]
    }
   ],
   "source": [
    "# Demonstrating short (16-bit integer) with endianess\n",
    "# 'h' format code is for short integer\n",
    "number = 12345\n",
    "big_packed_short = struct.pack('>h', number)   # signed short - big endian\n",
    "small_packed_short = struct.pack('<h', number)   # signed short - big endian\n",
    "print(f\"BIG Packed short: {big_packed_short}\")\n",
    "print(f\"SMALL Packed short: {small_packed_short}\")"
   ]
  },
  {
   "cell_type": "code",
   "execution_count": 13,
   "id": "5e1c00e0-e1ab-408b-915b-d8dd0a73fe7c",
   "metadata": {},
   "outputs": [
    {
     "name": "stdout",
     "output_type": "stream",
     "text": [
      "hh6s\n",
      "Packed multiple values: b'\\xd2\\x04.\\x16Python'\n"
     ]
    }
   ],
   "source": [
    "# Multiple shorts with a string\n",
    "numbers = [1234, 5678]\n",
    "text = \"Python\"\n",
    "text_encoded = text.encode('utf-8')\n",
    "format_string = f'hh{len(text_encoded)}s'\n",
    "print(format_string)\n",
    "packed = struct.pack(format_string, numbers[0], numbers[1], text_encoded)\n",
    "print(f\"Packed multiple values: {packed}\")"
   ]
  },
  {
   "cell_type": "code",
   "execution_count": 14,
   "id": "10e1cb32-3628-4c30-b0c7-8a98490b5855",
   "metadata": {},
   "outputs": [
    {
     "name": "stdout",
     "output_type": "stream",
     "text": [
      "Unpacked numbers: 1234, 5678\n",
      "Unpacked string: Python\n"
     ]
    }
   ],
   "source": [
    "# Unpack multiple values\n",
    "# But this works only if you already know the length\n",
    "unpacked = struct.unpack(format_string, packed)\n",
    "print(f\"Unpacked numbers: {unpacked[0]}, {unpacked[1]}\")\n",
    "print(f\"Unpacked string: {unpacked[2].decode('utf-8')}\")"
   ]
  },
  {
   "cell_type": "markdown",
   "id": "b0edbbc2-0432-4e89-81f8-e1ed964bbab4",
   "metadata": {},
   "source": [
    "#### Packing strings (or bytes) of a variable length\n",
    "Look [here](https://docs.python.org/3/library/struct.html#format-characters) to see the format characters."
   ]
  },
  {
   "cell_type": "code",
   "execution_count": 15,
   "id": "d362bccd-9c8e-4735-bed4-051ad680e4ca",
   "metadata": {},
   "outputs": [
    {
     "name": "stdout",
     "output_type": "stream",
     "text": [
      "Packed string with length: b'\\r\\x00\\x00\\x00Hello, World!'\n"
     ]
    }
   ],
   "source": [
    "# We'll use 'I' (unsigned int) to store the string length first\n",
    "# Length is 4 byte s\n",
    "text = \"Hello, World!\"\n",
    "text_encoded = text.encode('utf-8')  # Convert string to bytes\n",
    "format_string = 'I%ds' % len(text_encoded)  # Create format string like 'I13s'\n",
    "\n",
    "# Pack length and string together\n",
    "packed_data = struct.pack(format_string, len(text_encoded), text_encoded)\n",
    "print(f\"Packed string with length: {packed_data}\")"
   ]
  },
  {
   "cell_type": "markdown",
   "id": "c07e6eb4-e77d-46d5-a521-cb0e6a9724ce",
   "metadata": {},
   "source": [
    "#### Pack multiple items"
   ]
  },
  {
   "cell_type": "code",
   "execution_count": 16,
   "id": "e262f779-ea6d-4cd3-87ea-69699a953f4f",
   "metadata": {},
   "outputs": [
    {
     "name": "stdout",
     "output_type": "stream",
     "text": [
      "<class 'tuple'> (13,)\n",
      "Unpacked string: Hello, World!\n"
     ]
    }
   ],
   "source": [
    "# Unpack the data:\n",
    "# First get the length (4 bytes for unsigned int)\n",
    "unpack_view = struct.unpack('I', packed_data[:4])\n",
    "print(type(unpack_view), unpack_view)\n",
    "str_length = unpack_view[0]\n",
    "\n",
    "# Then extract the string using the length\n",
    "unpacked_text = struct.unpack('%ds' % str_length, packed_data[4:])[0]\n",
    "print(f\"Unpacked string: {unpacked_text.decode('utf-8')}\")"
   ]
  }
 ],
 "metadata": {
  "kernelspec": {
   "display_name": "Python 3 (ipykernel)",
   "language": "python",
   "name": "python3"
  },
  "language_info": {
   "codemirror_mode": {
    "name": "ipython",
    "version": 3
   },
   "file_extension": ".py",
   "mimetype": "text/x-python",
   "name": "python",
   "nbconvert_exporter": "python",
   "pygments_lexer": "ipython3",
   "version": "3.13.0"
  }
 },
 "nbformat": 4,
 "nbformat_minor": 5
}
