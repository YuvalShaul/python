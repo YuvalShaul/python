{
 "cells": [
  {
   "cell_type": "markdown",
   "id": "0b274105-a87e-448d-ab45-237d917830e4",
   "metadata": {},
   "source": [
    "#### defaultdict\n",
    "- defaultdict is a subclass of Python's built-in dict class that automatically handles missing keys in a special way.\n",
    "- The main advantage is that it never raises a KeyError - instead, it automatically creates new entries with a default value when accessing keys that don't exist."
   ]
  },
  {
   "cell_type": "code",
   "execution_count": 1,
   "id": "a16da2ec-fd85-4b5b-832c-78403ea3d5ca",
   "metadata": {},
   "outputs": [
    {
     "name": "stdout",
     "output_type": "stream",
     "text": [
      "KeyError with regular dict: 'missing'\n"
     ]
    }
   ],
   "source": [
    "from collections import defaultdict\n",
    "\n",
    "# Regular dict vs defaultdict\n",
    "regular_dict = {}\n",
    "try:\n",
    "    print(regular_dict['missing'])\n",
    "except KeyError as e:\n",
    "    print(f\"KeyError with regular dict: {e}\")  # KeyError: 'missing'"
   ]
  },
  {
   "cell_type": "code",
   "execution_count": null,
   "id": "5ac7797a-90ae-4dab-bca3-4d94f678dc43",
   "metadata": {},
   "outputs": [],
   "source": [
    "# Create a defaultdict with int as the default_factory\n",
    "# Note that this means CALLING int() function - that returns 0 by default\n",
    "numbers = defaultdict(int)\n",
    "print(numbers['missing'])  # Prints: 0\n",
    "# The key 'missing' was automatically created with default value 0"
   ]
  },
  {
   "cell_type": "code",
   "execution_count": null,
   "id": "06210078-05b0-4d7b-9feb-608e2210adf1",
   "metadata": {},
   "outputs": [],
   "source": [
    "# Common use case: counting occurrences\n",
    "words = ['apple', 'banana', 'apple', 'cherry', 'banana', 'apple']\n",
    "counts = defaultdict(int)\n",
    "for word in words:\n",
    "    counts[word] += 1  # No need to check if key exists first\n",
    "\n",
    "print(dict(counts))  # {'apple': 3, 'banana': 2, 'cherry': 1}"
   ]
  },
  {
   "cell_type": "code",
   "execution_count": 2,
   "id": "bd3f92f1-2aad-477f-833a-2a3f490e0eb7",
   "metadata": {},
   "outputs": [
    {
     "name": "stdout",
     "output_type": "stream",
     "text": [
      "{'blue': ['Alice', 'Charlie'], 'red': ['Bob']}\n"
     ]
    }
   ],
   "source": [
    "# Using list as default_factory\n",
    "groups = defaultdict(list)\n",
    "# Grouping people by their favorite color\n",
    "people = [('Alice', 'blue'), ('Bob', 'red'), ('Charlie', 'blue')]\n",
    "for name, color in people:\n",
    "    groups[color].append(name)\n",
    "\n",
    "print(dict(groups))  # {'blue': ['Alice', 'Charlie'], 'red': ['Bob']}"
   ]
  },
  {
   "cell_type": "code",
   "execution_count": null,
   "id": "0dfd2e2b-a516-486d-947d-aed80e18ac75",
   "metadata": {},
   "outputs": [],
   "source": [
    "# Using lambda for custom defaults\n",
    "default_greeting = defaultdict(lambda: \"Hello!\")\n",
    "print(default_greeting['English'])  # Prints: \"Hello!\"\n",
    "print(default_greeting['Spanish'])  # Prints: \"Hello!\"\n"
   ]
  },
  {
   "cell_type": "code",
   "execution_count": null,
   "id": "933f4a7e-f9e7-4669-8c66-d67ff7b1e8a7",
   "metadata": {},
   "outputs": [],
   "source": [
    "# Using set as default_factory\n",
    "friends = defaultdict(set)\n",
    "# Adding friend connections\n",
    "connections = [('Alice', 'Bob'), ('Bob', 'Charlie'), ('Alice', 'Charlie')]\n",
    "for person1, person2 in connections:\n",
    "    friends[person1].add(person2)\n",
    "    friends[person2].add(person1)\n",
    "\n",
    "print(dict(friends))  # {'Alice': {'Bob', 'Charlie'}, 'Bob': {'Alice', 'Charlie'}, 'Charlie': {'Alice', 'Bob'}}"
   ]
  }
 ],
 "metadata": {
  "kernelspec": {
   "display_name": "Python 3 (ipykernel)",
   "language": "python",
   "name": "python3"
  },
  "language_info": {
   "codemirror_mode": {
    "name": "ipython",
    "version": 3
   },
   "file_extension": ".py",
   "mimetype": "text/x-python",
   "name": "python",
   "nbconvert_exporter": "python",
   "pygments_lexer": "ipython3",
   "version": "3.13.0"
  }
 },
 "nbformat": 4,
 "nbformat_minor": 5
}
