{
 "cells": [
  {
   "cell_type": "code",
   "execution_count": 10,
   "id": "3c4986c4-0dcd-4547-a877-b0b606fdacbe",
   "metadata": {},
   "outputs": [],
   "source": [
    "from collections import Counter"
   ]
  },
  {
   "cell_type": "markdown",
   "id": "367e80dd-d5ab-4944-bc2e-608ed749d8d8",
   "metadata": {},
   "source": [
    "#### counter([iterable-or-mapping])\n",
    "- The Counter class is a dict subclass that's used for counting hashable objects.\n",
    "- It creates a dictionary where elements are stored as dictionary keys and their counts are stored as dictionary values"
   ]
  },
  {
   "cell_type": "code",
   "execution_count": 11,
   "id": "a06a85e6-8698-442f-98b3-807f689d6a9e",
   "metadata": {},
   "outputs": [
    {
     "data": {
      "text/plain": [
       "Counter({1: 4, 2: 2, 3: 2, 4: 1})"
      ]
     },
     "execution_count": 11,
     "metadata": {},
     "output_type": "execute_result"
    }
   ],
   "source": [
    "# Basic usage\n",
    "numbers = [1, 2, 3, 1, 2, 1, 3, 4, 1]\n",
    "counter = Counter(numbers)\n",
    "counter  # Counter({1: 4, 2: 2, 3: 2, 4: 1})"
   ]
  },
  {
   "cell_type": "code",
   "execution_count": 12,
   "id": "f601b0f4-5e59-47f1-b719-4249e3519b53",
   "metadata": {},
   "outputs": [
    {
     "data": {
      "text/plain": [
       "Counter({'i': 4, 's': 4, 'p': 2, 'm': 1})"
      ]
     },
     "execution_count": 12,
     "metadata": {},
     "output_type": "execute_result"
    }
   ],
   "source": [
    "# Count items in a string\n",
    "text = \"mississippi\"\n",
    "char_count = Counter(text)\n",
    "char_count"
   ]
  },
  {
   "cell_type": "code",
   "execution_count": 13,
   "id": "133e0ad2-f83c-4251-bdb6-cf7836f856ac",
   "metadata": {},
   "outputs": [
    {
     "data": {
      "text/plain": [
       "[('i', 4), ('s', 4)]"
      ]
     },
     "execution_count": 13,
     "metadata": {},
     "output_type": "execute_result"
    }
   ],
   "source": [
    "# Finding most common elements\n",
    "char_count.most_common(2)"
   ]
  },
  {
   "cell_type": "code",
   "execution_count": 14,
   "id": "f6fef09e-54f4-40bd-832d-853c857f3517",
   "metadata": {},
   "outputs": [
    {
     "data": {
      "text/plain": [
       "Counter({1: 5, 2: 2, 3: 2, 5: 2, 4: 1})"
      ]
     },
     "execution_count": 14,
     "metadata": {},
     "output_type": "execute_result"
    }
   ],
   "source": [
    "# Updating counts\n",
    "# reference: it was \n",
    "#      Counter({1: 4, 2: 2, 3: 2, 4: 1})\n",
    "#\n",
    "counter.update([1, 5, 5])\n",
    "counter"
   ]
  },
  {
   "cell_type": "code",
   "execution_count": 15,
   "id": "66932a2c-8210-4c2b-bb01-faacef1b5633",
   "metadata": {},
   "outputs": [],
   "source": [
    "# 4. Mathematical operations\n",
    "c1 = Counter(['a', 'b', 'c', 'a'])\n",
    "c2 = Counter(['a', 'd', 'e', 'a'])"
   ]
  },
  {
   "cell_type": "code",
   "execution_count": 16,
   "id": "6f223cbe-41c2-4bd3-8a3c-8dbd43a5d3b1",
   "metadata": {},
   "outputs": [
    {
     "data": {
      "text/plain": [
       "Counter({'a': 4, 'b': 1, 'c': 1, 'd': 1, 'e': 1})"
      ]
     },
     "execution_count": 16,
     "metadata": {},
     "output_type": "execute_result"
    }
   ],
   "source": [
    "# Addition\n",
    "c1 + c2"
   ]
  },
  {
   "cell_type": "code",
   "execution_count": 17,
   "id": "9c4e3d00-d478-4567-b10d-7f4b2279da28",
   "metadata": {},
   "outputs": [
    {
     "data": {
      "text/plain": [
       "Counter({'b': 1, 'c': 1})"
      ]
     },
     "execution_count": 17,
     "metadata": {},
     "output_type": "execute_result"
    }
   ],
   "source": [
    "# Subtraction\n",
    "c1 - c2"
   ]
  },
  {
   "cell_type": "code",
   "execution_count": 18,
   "id": "a6fbfc8e-6b22-44a6-bb49-ae2451f76913",
   "metadata": {},
   "outputs": [
    {
     "name": "stdout",
     "output_type": "stream",
     "text": [
      "5\n",
      "0\n"
     ]
    }
   ],
   "source": [
    "# Getting counts\n",
    "print(counter[1])  # 5\n",
    "print(counter.get(10, 0))  # 0 (default value if key doesn't exist)"
   ]
  }
 ],
 "metadata": {
  "kernelspec": {
   "display_name": "Python 3 (ipykernel)",
   "language": "python",
   "name": "python3"
  },
  "language_info": {
   "codemirror_mode": {
    "name": "ipython",
    "version": 3
   },
   "file_extension": ".py",
   "mimetype": "text/x-python",
   "name": "python",
   "nbconvert_exporter": "python",
   "pygments_lexer": "ipython3",
   "version": "3.13.0"
  }
 },
 "nbformat": 4,
 "nbformat_minor": 5
}
