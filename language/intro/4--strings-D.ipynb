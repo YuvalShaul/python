{
 "cells": [
  {
   "cell_type": "markdown",
   "id": "cf938ba0-9f01-4325-99ce-e460af279742",
   "metadata": {},
   "source": [
    "### String methods and built-in functions"
   ]
  },
  {
   "cell_type": "code",
   "execution_count": 40,
   "id": "61a3cfb1-b612-42df-81d5-eb1aceb20e77",
   "metadata": {},
   "outputs": [
    {
     "data": {
      "text/plain": [
       "34"
      ]
     },
     "execution_count": 40,
     "metadata": {},
     "output_type": "execute_result"
    }
   ],
   "source": [
    "mystr=\"supercalifragilisticexpialidocious\"\n",
    "len(mystr)                                    # len() is a python built-in function"
   ]
  },
  {
   "cell_type": "code",
   "execution_count": 41,
   "id": "9ec7c195-b891-4d4d-8a77-976274b17ab5",
   "metadata": {},
   "outputs": [
    {
     "data": {
      "text/plain": [
       "True"
      ]
     },
     "execution_count": 41,
     "metadata": {},
     "output_type": "execute_result"
    }
   ],
   "source": [
    "'s' in mystr  # Python 'in' operator"
   ]
  },
  {
   "cell_type": "code",
   "execution_count": 42,
   "id": "fad96647-9edd-40b5-bc25-fdd9e5d05894",
   "metadata": {},
   "outputs": [
    {
     "data": {
      "text/plain": [
       "True"
      ]
     },
     "execution_count": 42,
     "metadata": {},
     "output_type": "execute_result"
    }
   ],
   "source": [
    "'per' in mystr"
   ]
  },
  {
   "cell_type": "code",
   "execution_count": 43,
   "id": "3bdeb3c9-823f-4ecf-8c03-22c17c1e3624",
   "metadata": {},
   "outputs": [
    {
     "data": {
      "text/plain": [
       "False"
      ]
     },
     "execution_count": 43,
     "metadata": {},
     "output_type": "execute_result"
    }
   ],
   "source": [
    "'ccc' in mystr"
   ]
  },
  {
   "cell_type": "code",
   "execution_count": 44,
   "id": "a544b646-6933-4e8a-8e5d-f252df5f9c8a",
   "metadata": {},
   "outputs": [
    {
     "data": {
      "text/plain": [
       "5"
      ]
     },
     "execution_count": 44,
     "metadata": {},
     "output_type": "execute_result"
    }
   ],
   "source": [
    "# index() method works also for other sequences\n",
    "mystr.index('c')"
   ]
  },
  {
   "cell_type": "code",
   "execution_count": 45,
   "id": "39e3e812-d214-4ffa-80f4-a15e96a03e13",
   "metadata": {},
   "outputs": [
    {
     "data": {
      "text/plain": [
       "7"
      ]
     },
     "execution_count": 45,
     "metadata": {},
     "output_type": "execute_result"
    }
   ],
   "source": [
    "mystr.count('i')"
   ]
  },
  {
   "cell_type": "code",
   "execution_count": 46,
   "id": "2788e94c-e0a4-428a-a8ad-58b381bbe01d",
   "metadata": {},
   "outputs": [
    {
     "data": {
      "text/plain": [
       "'Supercalifragilisticexpialidocious'"
      ]
     },
     "execution_count": 46,
     "metadata": {},
     "output_type": "execute_result"
    }
   ],
   "source": [
    "mystr.capitalize()"
   ]
  },
  {
   "cell_type": "code",
   "execution_count": 47,
   "id": "26164a9e-c0be-4642-bcc7-2c986ae99ccf",
   "metadata": {},
   "outputs": [
    {
     "data": {
      "text/plain": [
       "'supercalifragilisticexpialidocious'"
      ]
     },
     "execution_count": 47,
     "metadata": {},
     "output_type": "execute_result"
    }
   ],
   "source": [
    "mystr.center(10,'-')"
   ]
  },
  {
   "cell_type": "code",
   "execution_count": 48,
   "id": "45816b76-efd0-4e24-a2fb-fa2e01fc37da",
   "metadata": {},
   "outputs": [
    {
     "data": {
      "text/plain": [
       "22"
      ]
     },
     "execution_count": 48,
     "metadata": {},
     "output_type": "execute_result"
    }
   ],
   "source": [
    "mystr.find(\"pial\")"
   ]
  },
  {
   "cell_type": "code",
   "execution_count": 49,
   "id": "d405e85c-3fa5-449d-af85-43d373236b93",
   "metadata": {},
   "outputs": [
    {
     "data": {
      "text/plain": [
       "['supercal', 'frag', 'l', 'st', 'cexp', 'al', 'doc', 'ous']"
      ]
     },
     "execution_count": 49,
     "metadata": {},
     "output_type": "execute_result"
    }
   ],
   "source": [
    "mystr.split(\"i\")          # This one returns a list with the splits"
   ]
  },
  {
   "cell_type": "code",
   "execution_count": 50,
   "id": "22b693d4-2c46-40b5-81c3-ece5b94f8fd7",
   "metadata": {},
   "outputs": [
    {
     "data": {
      "text/plain": [
       "'hello_____world'"
      ]
     },
     "execution_count": 50,
     "metadata": {},
     "output_type": "execute_result"
    }
   ],
   "source": [
    "# str.strip removes leading and trailing underscores\n",
    "under_str = '____hello_____world_______________'\n",
    "under_str.strip(\"_\") "
   ]
  },
  {
   "cell_type": "code",
   "execution_count": 51,
   "id": "5bc66228-8343-4ba3-8349-a862edb3d475",
   "metadata": {},
   "outputs": [
    {
     "data": {
      "text/plain": [
       "'0000.123'"
      ]
     },
     "execution_count": 51,
     "metadata": {},
     "output_type": "execute_result"
    }
   ],
   "source": [
    "\"0.123\".zfill(8)"
   ]
  }
 ],
 "metadata": {
  "kernelspec": {
   "display_name": "Python 3 (ipykernel)",
   "language": "python",
   "name": "python3"
  },
  "language_info": {
   "codemirror_mode": {
    "name": "ipython",
    "version": 3
   },
   "file_extension": ".py",
   "mimetype": "text/x-python",
   "name": "python",
   "nbconvert_exporter": "python",
   "pygments_lexer": "ipython3",
   "version": "3.13.0"
  }
 },
 "nbformat": 4,
 "nbformat_minor": 5
}
