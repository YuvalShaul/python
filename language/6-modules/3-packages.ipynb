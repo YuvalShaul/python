{
 "cells": [
  {
   "cell_type": "markdown",
   "id": "5e96766a-cbcc-42b5-9d68-6164a5b27f67",
   "metadata": {},
   "source": [
    "### Python Packages\n",
    "- Packages are a way of structuring Python’s module namespace by using “dotted module names”.\n",
    "- For example, the module name A.B designates a submodule named B in a package named A.\n",
    "- Packages can be nested inside other packages, creating a hierarchical structure\n",
    "- The __init__.py file can be empty or contain initialization code that runs when the package is imported\n",
    "- You can use relative imports within a package using the dot notation   (e.g., **from . import module**)\n",
    "- To import:  \n",
    "```\n",
    "import package.subpackage\n",
    "import package.subpackage.module\n",
    "```\n",
    "you would then use the full path when accessing anything within:\n",
    "```\n",
    "package.subpackage.function()\n",
    "package.subpackage.module.function()\n",
    "```\n"
   ]
  },
  {
   "cell_type": "code",
   "execution_count": 1,
   "id": "d2a362c7-8682-45b5-b989-b5e056738fd6",
   "metadata": {},
   "outputs": [
    {
     "name": "stdout",
     "output_type": "stream",
     "text": [
      "packA was imported (print from __init__.py\n"
     ]
    }
   ],
   "source": [
    "import packA.fileA"
   ]
  },
  {
   "cell_type": "code",
   "execution_count": 2,
   "id": "6a78ec51-e14a-4b8d-8f26-97513fa493a6",
   "metadata": {},
   "outputs": [
    {
     "name": "stdout",
     "output_type": "stream",
     "text": [
      "fileA\n"
     ]
    }
   ],
   "source": [
    "packA.fileA.fileA_msg()"
   ]
  },
  {
   "cell_type": "markdown",
   "id": "4ba6fa15-f70a-45e8-b6c2-a6c1b0474a6f",
   "metadata": {},
   "source": [
    "#### Importing a package does NOT import modules in it\n",
    "- If you import a package, its modules are NOT imported automatically:\n",
    "(reset your kernel before running the next example)\n",
    "- The __init__.py file would be run, so you can include an import statement there\n",
    "- Otherwise, include modules you need directly"
   ]
  },
  {
   "cell_type": "code",
   "execution_count": 3,
   "id": "880295c8-3815-4d04-a55d-85dc7294cf9b",
   "metadata": {},
   "outputs": [],
   "source": [
    "import packA"
   ]
  },
  {
   "cell_type": "code",
   "execution_count": 4,
   "id": "035258ae-fd70-46b0-8629-49737db6db17",
   "metadata": {},
   "outputs": [
    {
     "ename": "AttributeError",
     "evalue": "module 'packA' has no attribute 'fileA_msg'",
     "output_type": "error",
     "traceback": [
      "\u001b[1;31m---------------------------------------------------------------------------\u001b[0m",
      "\u001b[1;31mAttributeError\u001b[0m                            Traceback (most recent call last)",
      "Cell \u001b[1;32mIn[4], line 1\u001b[0m\n\u001b[1;32m----> 1\u001b[0m \u001b[43mpackA\u001b[49m\u001b[38;5;241;43m.\u001b[39;49m\u001b[43mfileA_msg\u001b[49m()\n",
      "\u001b[1;31mAttributeError\u001b[0m: module 'packA' has no attribute 'fileA_msg'"
     ]
    }
   ],
   "source": [
    "packA.fileA_msg()"
   ]
  },
  {
   "cell_type": "markdown",
   "id": "364897a8-2a5a-4165-974c-6d7d9e34cff6",
   "metadata": {},
   "source": [
    "#### Importing a module from within a (even nested) package\n",
    "It will run each __init__.py file"
   ]
  },
  {
   "cell_type": "code",
   "execution_count": 1,
   "id": "08965eac-b879-4205-b2f3-09d2414ef4b2",
   "metadata": {},
   "outputs": [
    {
     "name": "stdout",
     "output_type": "stream",
     "text": [
      "packA was imported (print from __init__.py\n",
      "packAB was imported (print from __init__.py\n",
      "fileAB\n"
     ]
    }
   ],
   "source": [
    "from packA.packAB import fileAB"
   ]
  }
 ],
 "metadata": {
  "kernelspec": {
   "display_name": "Python 3 (ipykernel)",
   "language": "python",
   "name": "python3"
  },
  "language_info": {
   "codemirror_mode": {
    "name": "ipython",
    "version": 3
   },
   "file_extension": ".py",
   "mimetype": "text/x-python",
   "name": "python",
   "nbconvert_exporter": "python",
   "pygments_lexer": "ipython3",
   "version": "3.13.0"
  }
 },
 "nbformat": 4,
 "nbformat_minor": 5
}
