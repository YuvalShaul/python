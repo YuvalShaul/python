{
 "cells": [
  {
   "cell_type": "markdown",
   "id": "5e96766a-cbcc-42b5-9d68-6164a5b27f67",
   "metadata": {},
   "source": [
    "### Python Packages\n",
    "- Packages are a way of structuring Python’s module namespace by using “dotted module names”.\n",
    "- For example, the module name A.B designates a submodule named B in a package named A.\n",
    "- Packages can be nested inside other packages, creating a hierarchical structure\n",
    "- The __init__.py file can be empty or contain initialization code that runs when the package is imported\n",
    "- You can use relative imports within a package using the dot notation   (e.g., **from . import module**)\n",
    "- To import:  \n",
    "```\n",
    "import package.subpackage\n",
    "import package.subpackage.module\n",
    "```\n",
    "you would then use the full path when accessing anything within:\n",
    "```\n",
    "package.subpackage.function()\n",
    "package.subpackage.module.function()\n",
    "```\n"
   ]
  },
  {
   "cell_type": "code",
   "execution_count": 1,
   "id": "880295c8-3815-4d04-a55d-85dc7294cf9b",
   "metadata": {},
   "outputs": [
    {
     "name": "stdout",
     "output_type": "stream",
     "text": [
      "packA was imported\n"
     ]
    }
   ],
   "source": [
    "import packA"
   ]
  },
  {
   "cell_type": "code",
   "execution_count": 4,
   "id": "d2a362c7-8682-45b5-b989-b5e056738fd6",
   "metadata": {},
   "outputs": [],
   "source": [
    "import packA.fileA"
   ]
  },
  {
   "cell_type": "code",
   "execution_count": 6,
   "id": "6a78ec51-e14a-4b8d-8f26-97513fa493a6",
   "metadata": {},
   "outputs": [
    {
     "name": "stdout",
     "output_type": "stream",
     "text": [
      "fileA\n"
     ]
    }
   ],
   "source": [
    "packA.fileA.fileA_msg()"
   ]
  },
  {
   "cell_type": "code",
   "execution_count": 7,
   "id": "08965eac-b879-4205-b2f3-09d2414ef4b2",
   "metadata": {},
   "outputs": [
    {
     "name": "stdout",
     "output_type": "stream",
     "text": [
      "fileAB\n"
     ]
    }
   ],
   "source": [
    "import packA.packAB.fileAB"
   ]
  }
 ],
 "metadata": {
  "kernelspec": {
   "display_name": "Python 3 (ipykernel)",
   "language": "python",
   "name": "python3"
  },
  "language_info": {
   "codemirror_mode": {
    "name": "ipython",
    "version": 3
   },
   "file_extension": ".py",
   "mimetype": "text/x-python",
   "name": "python",
   "nbconvert_exporter": "python",
   "pygments_lexer": "ipython3",
   "version": "3.13.0"
  }
 },
 "nbformat": 4,
 "nbformat_minor": 5
}
