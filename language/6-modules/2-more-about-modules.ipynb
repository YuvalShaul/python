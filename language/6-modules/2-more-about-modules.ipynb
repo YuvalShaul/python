{
 "cells": [
  {
   "cell_type": "markdown",
   "id": "4bc36ca5-7dc2-4c43-9608-10d2d72fc1a9",
   "metadata": {},
   "source": [
    "### The __name__ attribute"
   ]
  },
  {
   "cell_type": "code",
   "execution_count": 1,
   "id": "5914aff2-0cfb-49bb-b26e-0f3483227c80",
   "metadata": {},
   "outputs": [
    {
     "name": "stdout",
     "output_type": "stream",
     "text": [
      "I am module mod2\n",
      "my module name is:  mod2\n"
     ]
    }
   ],
   "source": [
    "# Let's import mod2, and see how it calls itself when imported:\n",
    "import mod2"
   ]
  },
  {
   "cell_type": "markdown",
   "id": "df1ad249-0938-4119-81c4-fa021d952a44",
   "metadata": {},
   "source": [
    "### Running directly in a shell\n",
    "You should now run the module directly:\n",
    "Use jupyter-lab to run a linux terminal, and run this command:\n",
    "```\n",
    "python mod2.py\n",
    "```\n",
    "Note that the module calls itself \"__main__\" when run directly (not imported)"
   ]
  },
  {
   "cell_type": "markdown",
   "id": "963f3e8c-06c3-474c-b4ab-fb962cc56265",
   "metadata": {},
   "source": [
    "### Running directly AS A MODULE in a shell\n",
    "This is simmilar:\n",
    "```\n",
    "python -m mod2\n",
    "```\n",
    "Python will now be able to look for libraries that were installed in your environment."
   ]
  },
  {
   "cell_type": "markdown",
   "id": "34b30f18-398f-4966-b448-b5c162e6a538",
   "metadata": {},
   "source": [
    "Here's an example of running a module.  \n",
    "There's a test_demo.py file in this directory that contains a test function.  \n",
    "You can load and run the module [unittest](https://docs.python.org/3/library/unittest.html#module-unittest) from the python standard library. This module will automatically find and run the test.  \n",
    "\n",
    "Open a terminal and run:\n",
    "```\n",
    "python -m unittest\n",
    "```"
   ]
  }
 ],
 "metadata": {
  "kernelspec": {
   "display_name": "Python 3 (ipykernel)",
   "language": "python",
   "name": "python3"
  },
  "language_info": {
   "codemirror_mode": {
    "name": "ipython",
    "version": 3
   },
   "file_extension": ".py",
   "mimetype": "text/x-python",
   "name": "python",
   "nbconvert_exporter": "python",
   "pygments_lexer": "ipython3",
   "version": "3.13.0"
  }
 },
 "nbformat": 4,
 "nbformat_minor": 5
}
