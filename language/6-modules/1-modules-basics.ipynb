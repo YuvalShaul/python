{
 "cells": [
  {
   "cell_type": "markdown",
   "id": "885d5ed4-eeee-4f38-afa7-3ca498cd7d7a",
   "metadata": {},
   "source": [
    "### Basics of Modules\n",
    "Let's demonstrate modules using this notebook.  \n",
    "- We'll be using **import** python keyword, to import a module defined in this directory.  \n",
    "- Notice the mod1.py file in this directory.\n",
    "- **importing a module means RUNNING THE MODULE**"
   ]
  },
  {
   "cell_type": "code",
   "execution_count": 10,
   "id": "20cdaaf6-e639-460a-a5f6-f231945de1d1",
   "metadata": {},
   "outputs": [
    {
     "name": "stdout",
     "output_type": "stream",
     "text": [
      "mod1:  <module 'mod1' from 'C:\\\\Users\\\\yuval\\\\reps\\\\python\\\\language\\\\6-modules\\\\mod1.py'>\n",
      "type(mod1) is:  <class 'module'>\n",
      "mod1_var:  15\n",
      "This is mod1_func from module mod1. War is:  15\n"
     ]
    }
   ],
   "source": [
    "# To run this cell, make sure you restart your kernel\n",
    "import mod1    # this will import the module (note that the print command will be run)\n",
    "\n",
    "# Note that all names now appear as attributes of the imported module\n",
    "\n",
    "print('mod1: ',  mod1)\n",
    "print('type(mod1) is: ', type(mod1))\n",
    "print('mod1_var: ', mod1.mod1_var)    # access mod1 variable\n",
    "mod1.mod1_func()                      # call a function in mod1"
   ]
  },
  {
   "cell_type": "code",
   "execution_count": 11,
   "id": "9b31e556-b74f-48c0-a0d0-f78590aafc79",
   "metadata": {},
   "outputs": [],
   "source": [
    "# DO NOT RESTART THE KERNEL\n",
    "# let's try to import the module again without restarting the kernel:\n",
    "# .. so try this once ... yes nothing happens\n",
    "# then restart kernel and try again:\n",
    "import mod1"
   ]
  },
  {
   "cell_type": "markdown",
   "id": "52f06971-3257-4395-8ecf-2e6e7e7be815",
   "metadata": {},
   "source": [
    "### import as\n",
    "- Allows you to give another name to your module\n",
    "- (dont forget to restart your kernel)"
   ]
  },
  {
   "cell_type": "code",
   "execution_count": 12,
   "id": "cc5ba2cb-ab2c-4620-91fb-6f4c7d0f1364",
   "metadata": {},
   "outputs": [
    {
     "name": "stdout",
     "output_type": "stream",
     "text": [
      "mod1:  <module 'mod1' from 'C:\\\\Users\\\\yuval\\\\reps\\\\python\\\\language\\\\6-modules\\\\mod1.py'>\n",
      "type(mod1) is:  <class 'module'>\n",
      "mod1_var:  15\n",
      "This is mod1_func from module mod1. War is:  15\n"
     ]
    }
   ],
   "source": [
    "# RESTART KERNEL\n",
    "#\n",
    "import mod1 as mdONE\n",
    "\n",
    "print('mod1: ',  mdONE)\n",
    "print('type(mod1) is: ', type(mdONE))\n",
    "print('mod1_var: ', mdONE.mod1_var)   \n",
    "mdONE.mod1_func()                "
   ]
  },
  {
   "cell_type": "markdown",
   "id": "29a3444d-7c2a-4078-9317-4b2f3c80cf58",
   "metadata": {},
   "source": [
    "### from \\<mod\\> import\n"
   ]
  },
  {
   "cell_type": "code",
   "execution_count": 13,
   "id": "d15f54ba-043e-43b7-b69a-7cb82f67e44a",
   "metadata": {},
   "outputs": [
    {
     "name": "stdout",
     "output_type": "stream",
     "text": [
      "15\n",
      "<module 'mod1' from 'C:\\\\Users\\\\yuval\\\\reps\\\\python\\\\language\\\\6-modules\\\\mod1.py'>\n"
     ]
    }
   ],
   "source": [
    "# RESTART KERNEL\n",
    "# Let's import just a variable\n",
    "# Note that the module is run again\n",
    "from mod1 import mod1_var\n",
    "\n",
    "# the variable is imprted into the current module:\n",
    "print(mod1_var)\n",
    "\n",
    "#note that the module name is not imported\n",
    "print(mod1)"
   ]
  },
  {
   "cell_type": "code",
   "execution_count": 14,
   "id": "849018a4-0680-4d79-aac1-55d5b5c22849",
   "metadata": {},
   "outputs": [
    {
     "name": "stdout",
     "output_type": "stream",
     "text": [
      "15\n"
     ]
    }
   ],
   "source": [
    "# RESTART KERNEL\n",
    "# Now we do the same with the function\n",
    "from mod1 import mod1_func\n",
    "\n",
    "# Let's make sure that the variable was not imported:\n",
    "print(mod1_var)"
   ]
  },
  {
   "cell_type": "code",
   "execution_count": 15,
   "id": "b01eabbf-7198-40b8-8dbd-e259cd3066cc",
   "metadata": {},
   "outputs": [
    {
     "name": "stdout",
     "output_type": "stream",
     "text": [
      "This is mod1_func from module mod1. War is:  15\n"
     ]
    }
   ],
   "source": [
    "# NOW - DO NOT RESTART THE KERNEL\n",
    "# We have imported the function, but not the variable\n",
    "# the name of the function is now part of the current module\n",
    "# But the function prints the \"missing\" varible...\n",
    "mod1_func()"
   ]
  },
  {
   "cell_type": "markdown",
   "id": "26c1a75f-26b9-4841-a7c7-660dfd9c2467",
   "metadata": {},
   "source": [
    "### Importing everything using *"
   ]
  },
  {
   "cell_type": "code",
   "execution_count": 16,
   "id": "0170ed61-9f0b-4394-b0cd-482a5db88246",
   "metadata": {},
   "outputs": [
    {
     "name": "stdout",
     "output_type": "stream",
     "text": [
      "15\n",
      "This is mod1_func from module mod1. War is:  15\n",
      "<module 'mod1' from 'C:\\\\Users\\\\yuval\\\\reps\\\\python\\\\language\\\\6-modules\\\\mod1.py'>\n"
     ]
    }
   ],
   "source": [
    "# RESTART KERNEL\n",
    "# Lets  import everything from mod1\n",
    "from mod1 import *\n",
    "print(mod1_var)\n",
    "mod1_func()\n",
    "print(mod1)      # Does not exist"
   ]
  },
  {
   "cell_type": "markdown",
   "id": "cddfbc95-db41-4f93-ae5b-7d86d224e9e9",
   "metadata": {},
   "source": [
    "#### The dir() function\n",
    "- This is a [built-in function](https://docs.python.org/3/library/functions.html#dir)\n",
    "- Without arguments, return the list of names in the current local scope.\n",
    "- With an argument, attempt to return a list of valid attributes for that object."
   ]
  },
  {
   "cell_type": "code",
   "execution_count": 17,
   "id": "2b70ef06-4261-47df-90a2-282543444121",
   "metadata": {},
   "outputs": [
    {
     "data": {
      "text/plain": [
       "['In',\n",
       " 'Out',\n",
       " '_',\n",
       " '_8',\n",
       " '_9',\n",
       " '__',\n",
       " '___',\n",
       " '__builtin__',\n",
       " '__builtins__',\n",
       " '__doc__',\n",
       " '__loader__',\n",
       " '__name__',\n",
       " '__package__',\n",
       " '__session__',\n",
       " '__spec__',\n",
       " '_dh',\n",
       " '_i',\n",
       " '_i1',\n",
       " '_i10',\n",
       " '_i11',\n",
       " '_i12',\n",
       " '_i13',\n",
       " '_i14',\n",
       " '_i15',\n",
       " '_i16',\n",
       " '_i17',\n",
       " '_i2',\n",
       " '_i3',\n",
       " '_i4',\n",
       " '_i5',\n",
       " '_i6',\n",
       " '_i7',\n",
       " '_i8',\n",
       " '_i9',\n",
       " '_ih',\n",
       " '_ii',\n",
       " '_iii',\n",
       " '_oh',\n",
       " 'exit',\n",
       " 'get_ipython',\n",
       " 'mdONE',\n",
       " 'mod1',\n",
       " 'mod1_func',\n",
       " 'mod1_var',\n",
       " 'open',\n",
       " 'quit']"
      ]
     },
     "execution_count": 17,
     "metadata": {},
     "output_type": "execute_result"
    }
   ],
   "source": [
    "dir()"
   ]
  },
  {
   "cell_type": "code",
   "execution_count": 18,
   "id": "2da9c098-1655-4302-a4f4-2e07198414ed",
   "metadata": {},
   "outputs": [
    {
     "data": {
      "text/plain": [
       "['__builtins__',\n",
       " '__cached__',\n",
       " '__doc__',\n",
       " '__file__',\n",
       " '__loader__',\n",
       " '__name__',\n",
       " '__package__',\n",
       " '__spec__',\n",
       " 'mod1_func',\n",
       " 'mod1_var']"
      ]
     },
     "execution_count": 18,
     "metadata": {},
     "output_type": "execute_result"
    }
   ],
   "source": [
    "import mod1\n",
    "dir(mod1)"
   ]
  }
 ],
 "metadata": {
  "kernelspec": {
   "display_name": "Python 3 (ipykernel)",
   "language": "python",
   "name": "python3"
  },
  "language_info": {
   "codemirror_mode": {
    "name": "ipython",
    "version": 3
   },
   "file_extension": ".py",
   "mimetype": "text/x-python",
   "name": "python",
   "nbconvert_exporter": "python",
   "pygments_lexer": "ipython3",
   "version": "3.13.0"
  }
 },
 "nbformat": 4,
 "nbformat_minor": 5
}
