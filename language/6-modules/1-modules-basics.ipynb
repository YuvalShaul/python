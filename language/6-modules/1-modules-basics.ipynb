{
 "cells": [
  {
   "cell_type": "markdown",
   "id": "885d5ed4-eeee-4f38-afa7-3ca498cd7d7a",
   "metadata": {},
   "source": [
    "### Basics of Modules\n",
    "Let's demonstrate modules using this notebook.  \n",
    "- We'll be using **import** python keyword, to import a module defined in this directory.  \n",
    "- Notice the mod1.py file in this directory.\n",
    "- **importing a module means RUNNING THE MODULE**"
   ]
  },
  {
   "cell_type": "code",
   "execution_count": 1,
   "id": "20cdaaf6-e639-460a-a5f6-f231945de1d1",
   "metadata": {},
   "outputs": [
    {
     "name": "stdout",
     "output_type": "stream",
     "text": [
      "module mod1 imported\n",
      "mod1:  <module 'mod1' from 'C:\\\\Users\\\\yuval\\\\reps\\\\python\\\\language\\\\6-modules\\\\mod1.py'>\n",
      "type(mod1) is:  <class 'module'>\n",
      "mod1_var:  15\n",
      "This is mod1_func from module mod1. War is:  15\n"
     ]
    }
   ],
   "source": [
    "# To run this cell, make sure you restart your kernel\n",
    "import mod1    # this will import the module (note that the print command will be run)\n",
    "\n",
    "# Note that all names now appear as attributes of the imported module\n",
    "\n",
    "print('mod1: ',  mod1)\n",
    "print('type(mod1) is: ', type(mod1))\n",
    "print('mod1_var: ', mod1.mod1_var)    # access mod1 variable\n",
    "mod1.mod1_func()                      # call a function in mod1"
   ]
  },
  {
   "cell_type": "code",
   "execution_count": 2,
   "id": "9b31e556-b74f-48c0-a0d0-f78590aafc79",
   "metadata": {},
   "outputs": [],
   "source": [
    "# DO NOT RESTART THE KERNEL\n",
    "# let's try to import the module again without restarting the kernel:\n",
    "# .. so try this once ... yes nothing happens\n",
    "# then restart kernel and try again:\n",
    "import mod1"
   ]
  },
  {
   "cell_type": "markdown",
   "id": "52f06971-3257-4395-8ecf-2e6e7e7be815",
   "metadata": {},
   "source": [
    "### import as\n",
    "- Allows you to give another name to your module\n",
    "- (dont forget to restart your kernel)"
   ]
  },
  {
   "cell_type": "code",
   "execution_count": 1,
   "id": "cc5ba2cb-ab2c-4620-91fb-6f4c7d0f1364",
   "metadata": {},
   "outputs": [
    {
     "name": "stdout",
     "output_type": "stream",
     "text": [
      "module mod1 imported\n",
      "mod1:  <module 'mod1' from 'C:\\\\Users\\\\yuval\\\\reps\\\\python\\\\language\\\\6-modules\\\\mod1.py'>\n",
      "type(mod1) is:  <class 'module'>\n",
      "mod1_var:  15\n",
      "This is mod1_func from module mod1. War is:  15\n"
     ]
    }
   ],
   "source": [
    "# RESTART KERNEL\n",
    "#\n",
    "import mod1 as mdONE\n",
    "\n",
    "print('mod1: ',  mdONE)\n",
    "print('type(mod1) is: ', type(mdONE))\n",
    "print('mod1_var: ', mdONE.mod1_var)   \n",
    "mdONE.mod1_func()                "
   ]
  },
  {
   "cell_type": "markdown",
   "id": "29a3444d-7c2a-4078-9317-4b2f3c80cf58",
   "metadata": {},
   "source": [
    "### from \\<mod\\> import\n"
   ]
  },
  {
   "cell_type": "code",
   "execution_count": 1,
   "id": "d15f54ba-043e-43b7-b69a-7cb82f67e44a",
   "metadata": {},
   "outputs": [
    {
     "name": "stdout",
     "output_type": "stream",
     "text": [
      "module mod1 imported\n",
      "15\n"
     ]
    },
    {
     "ename": "NameError",
     "evalue": "name 'mod1' is not defined",
     "output_type": "error",
     "traceback": [
      "\u001b[1;31m---------------------------------------------------------------------------\u001b[0m",
      "\u001b[1;31mNameError\u001b[0m                                 Traceback (most recent call last)",
      "Cell \u001b[1;32mIn[1], line 10\u001b[0m\n\u001b[0;32m      7\u001b[0m \u001b[38;5;28mprint\u001b[39m(mod1_var)\n\u001b[0;32m      9\u001b[0m \u001b[38;5;66;03m#note that the module name is not imported\u001b[39;00m\n\u001b[1;32m---> 10\u001b[0m \u001b[38;5;28mprint\u001b[39m(\u001b[43mmod1\u001b[49m)\n",
      "\u001b[1;31mNameError\u001b[0m: name 'mod1' is not defined"
     ]
    }
   ],
   "source": [
    "# RESTART KERNEL\n",
    "# Let's import just a variable\n",
    "# Note that the module is run again\n",
    "from mod1 import mod1_var\n",
    "\n",
    "# the variable is imprted into the current module:\n",
    "print(mod1_var)\n",
    "\n",
    "#note that the module name is not imported\n",
    "print(mod1)"
   ]
  },
  {
   "cell_type": "code",
   "execution_count": 1,
   "id": "849018a4-0680-4d79-aac1-55d5b5c22849",
   "metadata": {},
   "outputs": [
    {
     "name": "stdout",
     "output_type": "stream",
     "text": [
      "module mod1 imported\n"
     ]
    },
    {
     "ename": "NameError",
     "evalue": "name 'mod1_var' is not defined",
     "output_type": "error",
     "traceback": [
      "\u001b[1;31m---------------------------------------------------------------------------\u001b[0m",
      "\u001b[1;31mNameError\u001b[0m                                 Traceback (most recent call last)",
      "Cell \u001b[1;32mIn[1], line 6\u001b[0m\n\u001b[0;32m      3\u001b[0m \u001b[38;5;28;01mfrom\u001b[39;00m \u001b[38;5;21;01mmod1\u001b[39;00m \u001b[38;5;28;01mimport\u001b[39;00m mod1_func\n\u001b[0;32m      5\u001b[0m \u001b[38;5;66;03m# Let's make sure that the variable was not imported:\u001b[39;00m\n\u001b[1;32m----> 6\u001b[0m \u001b[38;5;28mprint\u001b[39m(\u001b[43mmod1_var\u001b[49m)\n",
      "\u001b[1;31mNameError\u001b[0m: name 'mod1_var' is not defined"
     ]
    }
   ],
   "source": [
    "# RESTART KERNEL\n",
    "# Now we do the same with the function\n",
    "from mod1 import mod1_func\n",
    "\n",
    "# Let's make sure that the variable was not imported:\n",
    "print(mod1_var)"
   ]
  },
  {
   "cell_type": "code",
   "execution_count": 2,
   "id": "b01eabbf-7198-40b8-8dbd-e259cd3066cc",
   "metadata": {},
   "outputs": [
    {
     "name": "stdout",
     "output_type": "stream",
     "text": [
      "This is mod1_func from module mod1. War is:  15\n"
     ]
    }
   ],
   "source": [
    "# NOW - DO NOT RESTART THE KERNEL\n",
    "# We have imported the function, but not the variable\n",
    "# the name of the function is now part of the current module\n",
    "# But the function prints the \"missing\" varible...\n",
    "mod1_func()"
   ]
  },
  {
   "cell_type": "markdown",
   "id": "26c1a75f-26b9-4841-a7c7-660dfd9c2467",
   "metadata": {},
   "source": [
    "### Importing everything using *"
   ]
  },
  {
   "cell_type": "code",
   "execution_count": 1,
   "id": "0170ed61-9f0b-4394-b0cd-482a5db88246",
   "metadata": {},
   "outputs": [
    {
     "name": "stdout",
     "output_type": "stream",
     "text": [
      "module mod1 imported\n",
      "15\n",
      "This is mod1_func from module mod1. War is:  15\n"
     ]
    },
    {
     "ename": "NameError",
     "evalue": "name 'mod1' is not defined",
     "output_type": "error",
     "traceback": [
      "\u001b[1;31m---------------------------------------------------------------------------\u001b[0m",
      "\u001b[1;31mNameError\u001b[0m                                 Traceback (most recent call last)",
      "Cell \u001b[1;32mIn[1], line 6\u001b[0m\n\u001b[0;32m      4\u001b[0m \u001b[38;5;28mprint\u001b[39m(mod1_var)\n\u001b[0;32m      5\u001b[0m mod1_func()\n\u001b[1;32m----> 6\u001b[0m \u001b[38;5;28mprint\u001b[39m(\u001b[43mmod1\u001b[49m)      \u001b[38;5;66;03m# Does not exist\u001b[39;00m\n",
      "\u001b[1;31mNameError\u001b[0m: name 'mod1' is not defined"
     ]
    }
   ],
   "source": [
    "# RESTART KERNEL\n",
    "# Lets  import everything from mod1\n",
    "from mod1 import *\n",
    "print(mod1_var)\n",
    "mod1_func()\n",
    "print(mod1)      # Does not exist"
   ]
  }
 ],
 "metadata": {
  "kernelspec": {
   "display_name": "Python 3 (ipykernel)",
   "language": "python",
   "name": "python3"
  },
  "language_info": {
   "codemirror_mode": {
    "name": "ipython",
    "version": 3
   },
   "file_extension": ".py",
   "mimetype": "text/x-python",
   "name": "python",
   "nbconvert_exporter": "python",
   "pygments_lexer": "ipython3",
   "version": "3.13.0"
  }
 },
 "nbformat": 4,
 "nbformat_minor": 5
}
