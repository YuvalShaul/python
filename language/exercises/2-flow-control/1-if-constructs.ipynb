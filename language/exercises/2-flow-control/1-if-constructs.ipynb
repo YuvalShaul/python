{
 "cells": [
  {
   "cell_type": "markdown",
   "id": "83a0aafc-8f5b-4f22-9527-249b477efac3",
   "metadata": {},
   "source": [
    "#### Explore python if statements\n",
    "- Explore **if** statements\n",
    "- Use if/elif/else"
   ]
  },
  {
   "cell_type": "code",
   "execution_count": null,
   "id": "77b845d4-33ce-4643-970e-10f251c38a24",
   "metadata": {},
   "outputs": [],
   "source": [
    "# Write a program that takes a temperature in Celsius and prints:\n",
    "# \"Freezing\" if temp is below 0\n",
    "# \"Cold\" if temp is 0-10\n",
    "# \"Moderate\" if temp is 11-25\n",
    "# \"Hot\" if temp is above 25\n",
    "\n",
    "temperature = float(input(\"Enter temperature in Celsius: \"))\n",
    "# Write your code here"
   ]
  },
  {
   "cell_type": "code",
   "execution_count": null,
   "id": "97a4a328-1da5-464b-8aaf-2df344a957d8",
   "metadata": {},
   "outputs": [],
   "source": [
    "# Write a program that determines if a year is a leap year\n",
    "# Rules: \n",
    "# - Year must be divisible by 4\n",
    "# - If divisible by 100, it must also be divisible by 400\n",
    "# Example: 2000 was a leap year, but 1900 wasn't\n",
    "\n",
    "year = int(input(\"Enter a year: \"))\n",
    "# Write your code here"
   ]
  },
  {
   "cell_type": "code",
   "execution_count": null,
   "id": "1ba5b31e-6d27-46a4-9330-fabdf9cf256b",
   "metadata": {},
   "outputs": [],
   "source": [
    "# Check if a password is strong enough. Print \"Strong\" if:\n",
    "# - At least 8 characters long\n",
    "# - Contains at least one uppercase letter\n",
    "# - Contains at least one lowercase letter\n",
    "# - Contains at least one number\n",
    "# Otherwise print \"Weak\"\n",
    "\n",
    "password = input(\"Enter a password: \")\n",
    "# Write your code here"
   ]
  }
 ],
 "metadata": {
  "kernelspec": {
   "display_name": "Python 3 (ipykernel)",
   "language": "python",
   "name": "python3"
  },
  "language_info": {
   "codemirror_mode": {
    "name": "ipython",
    "version": 3
   },
   "file_extension": ".py",
   "mimetype": "text/x-python",
   "name": "python",
   "nbconvert_exporter": "python",
   "pygments_lexer": "ipython3",
   "version": "3.13.0"
  }
 },
 "nbformat": 4,
 "nbformat_minor": 5
}
