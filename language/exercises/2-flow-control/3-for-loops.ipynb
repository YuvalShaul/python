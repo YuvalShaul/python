{
 "cells": [
  {
   "cell_type": "markdown",
   "id": "3f92bebc-5d83-44ed-917f-0d63d8958943",
   "metadata": {},
   "source": [
    "### Explore for loops\n",
    "- loop over list/tuple or range()\n",
    "- break and continur\n",
    "- for-else"
   ]
  },
  {
   "cell_type": "markdown",
   "id": "394cd9c8-5a2a-4212-b0b5-983cc5bc912d",
   "metadata": {},
   "source": [
    "#### range() objects"
   ]
  },
  {
   "cell_type": "code",
   "execution_count": null,
   "id": "d04a0010-5652-4dc2-80ff-3f27724bbf7b",
   "metadata": {},
   "outputs": [],
   "source": [
    "# Create three range variables:\n",
    "# first covers 0 through 4\n",
    "# second covers numbers 2 through 6\n",
    "# third covers even numbers from 0 to 10\n",
    "# Your code here:\n",
    "\n",
    "\n",
    "# Convert each range into a list and print them"
   ]
  },
  {
   "cell_type": "markdown",
   "id": "d54f5f06-a95d-4dfc-9e65-f13b31a3cf34",
   "metadata": {},
   "source": [
    "#### for loop"
   ]
  },
  {
   "cell_type": "code",
   "execution_count": null,
   "id": "727aac56-5e15-44b7-b664-c3440070515b",
   "metadata": {},
   "outputs": [],
   "source": [
    "# Write a program using range() and a for loop that:\n",
    "# - Counts from 1 to 5\n",
    "# - For each number, prints that many stars (*)\n",
    "# Example output should look like:\n",
    "# *\n",
    "# **\n",
    "# ***\n",
    "# ****\n",
    "# *****\n",
    "# Your code here:\n"
   ]
  },
  {
   "cell_type": "code",
   "execution_count": null,
   "id": "1b165b1a-3342-4e14-b867-978d43a3cb41",
   "metadata": {},
   "outputs": [],
   "source": [
    "# Modify your program to count backwards\n",
    "# Your code here:\n"
   ]
  },
  {
   "cell_type": "code",
   "execution_count": null,
   "id": "ebea7a96-a00d-4813-8ee7-7f7c5c74d969",
   "metadata": {},
   "outputs": [],
   "source": [
    "#### Iterate over a list/tuple"
   ]
  },
  {
   "cell_type": "code",
   "execution_count": null,
   "id": "5cc0f8ef-f772-4af5-9b68-f2789fcdde62",
   "metadata": {},
   "outputs": [],
   "source": [
    "# Create both:\n",
    "# - a list of colors  (strings)\n",
    "# - a tuple of shapes (strings)\n",
    "\n",
    "# Write a loop that prints each color with its position (use enumerate)\n",
    "# You code here:\n",
    "\n",
    "# Write a loop that prints each shape in reverse order\n",
    "# You code here:\n",
    "\n",
    "# Write a loop that pairs each color with each shape\n",
    "# You code here:\n"
   ]
  },
  {
   "cell_type": "code",
   "execution_count": null,
   "id": "bc269091-2bfc-4f67-896f-6cdc41f0fbc3",
   "metadata": {},
   "outputs": [],
   "source": [
    "# Bonus challenge: \n",
    "# Make it print only pairs where the color and shape start with the same letter\n",
    "# You code here:\n"
   ]
  },
  {
   "cell_type": "code",
   "execution_count": null,
   "id": "b753b4eb-58a4-4f59-b4d3-69a95fc92300",
   "metadata": {},
   "outputs": [],
   "source": [
    "#### for-else\n",
    "Exercise: Event Ticket Validator\n",
    "Instructions:\n",
    "\n",
    "1. Create a list of ticket numbers where:\n",
    "\n",
    "- Each ticket is a dictionary with 'id' and 'status' keys\n",
    "- Some tickets are 'valid', some are 'expired'\n",
    "- Include at least 5 tickets in your list\n",
    "\n",
    "\n",
    "2. Write a program that:\n",
    "\n",
    "- Searches for the first expired ticket\n",
    "- If an expired ticket is found, prints \"Found expired ticket: [ticket_id]\"\n",
    "- If no expired tickets are found, uses the else clause to print \"All tickets are valid!\"\n"
   ]
  },
  {
   "cell_type": "code",
   "execution_count": null,
   "id": "552a9fab-7618-4cb8-a47f-746d5d676ad6",
   "metadata": {},
   "outputs": [],
   "source": [
    "# Your code here:\n"
   ]
  }
 ],
 "metadata": {
  "kernelspec": {
   "display_name": "Python 3 (ipykernel)",
   "language": "python",
   "name": "python3"
  },
  "language_info": {
   "codemirror_mode": {
    "name": "ipython",
    "version": 3
   },
   "file_extension": ".py",
   "mimetype": "text/x-python",
   "name": "python",
   "nbconvert_exporter": "python",
   "pygments_lexer": "ipython3",
   "version": "3.13.0"
  }
 },
 "nbformat": 4,
 "nbformat_minor": 5
}
