{
 "cells": [
  {
   "cell_type": "markdown",
   "id": "c5977061-bfd2-4af7-bfa0-6e8c32abf88d",
   "metadata": {},
   "source": [
    "#### Python while loops\n",
    "- explore basic loop\n",
    "- use break and continue\n",
    "- use **else** in loops"
   ]
  },
  {
   "cell_type": "code",
   "execution_count": null,
   "id": "8700832f-8192-4794-a139-f953f5a0af77",
   "metadata": {},
   "outputs": [],
   "source": [
    "# Write a program that counts from 1 to 5, printing each number.\n",
    "# Use while loop\n",
    "# Write your code here:\n"
   ]
  },
  {
   "cell_type": "markdown",
   "id": "9382af5a-a4a8-4c4d-82ae-d2fad7c49044",
   "metadata": {},
   "source": [
    "#### break"
   ]
  },
  {
   "cell_type": "code",
   "execution_count": null,
   "id": "c64e1686-a16c-40e2-876f-8dc3554e571d",
   "metadata": {},
   "outputs": [],
   "source": [
    "# Write a program that finds the first multiple of 7 greater than 50.\n",
    "# use break in your program\n",
    "# Write your code here:\n"
   ]
  },
  {
   "cell_type": "markdown",
   "id": "cd10b54e-c051-4df2-b936-c88f16c3f173",
   "metadata": {},
   "source": [
    "#### continue"
   ]
  },
  {
   "cell_type": "code",
   "execution_count": null,
   "id": "ef3f0723-7bbf-460e-ba43-b8a8e245bbc2",
   "metadata": {},
   "outputs": [],
   "source": [
    "# Print all odd numbers from 1 to 10, skipping even numbers.\n",
    "# Use continue in your solution\n",
    "# Write your code here:\n"
   ]
  },
  {
   "cell_type": "markdown",
   "id": "b2fb4a95-d8a4-410f-8d69-73ab7bc9aeca",
   "metadata": {},
   "source": [
    "#### while - else"
   ]
  },
  {
   "cell_type": "code",
   "execution_count": null,
   "id": "52d850cf-5685-42a0-a415-a415379c2ed0",
   "metadata": {},
   "outputs": [],
   "source": [
    "# Implement a password checker that gives users 3 attempts to enter the correct password. \n",
    "# Use while-else to handle successful/failed attempts.\n",
    "# Write your code here:\n"
   ]
  }
 ],
 "metadata": {
  "kernelspec": {
   "display_name": "Python 3 (ipykernel)",
   "language": "python",
   "name": "python3"
  },
  "language_info": {
   "codemirror_mode": {
    "name": "ipython",
    "version": 3
   },
   "file_extension": ".py",
   "mimetype": "text/x-python",
   "name": "python",
   "nbconvert_exporter": "python",
   "pygments_lexer": "ipython3",
   "version": "3.13.0"
  }
 },
 "nbformat": 4,
 "nbformat_minor": 5
}
