{
 "cells": [
  {
   "cell_type": "markdown",
   "id": "cf89f764-a9eb-436b-88a0-1835bd2152c8",
   "metadata": {},
   "source": [
    "### Explore boolean in Python\n",
    "- type bool\n",
    "- \"truthiness\" and \"falseiness\"\n"
   ]
  },
  {
   "cell_type": "code",
   "execution_count": null,
   "id": "8d70efcc-1586-4bb4-a2a9-3d3746573099",
   "metadata": {},
   "outputs": [],
   "source": []
  },
  {
   "cell_type": "code",
   "execution_count": null,
   "id": "a35778b1-a91a-4693-8c85-1fe54b849070",
   "metadata": {},
   "outputs": [],
   "source": [
    "# Create different \"falsy\" values\n",
    "falsy_values = [___, ___, ___, ___, ___]  # List 5 different falsy values    "
   ]
  },
  {
   "cell_type": "code",
   "execution_count": null,
   "id": "31e74a7a-0bb9-419e-921b-688e7a33bb17",
   "metadata": {},
   "outputs": [],
   "source": [
    "# Demonstrate short-circuit evaluation\n",
    "result1 = ___ or \"Default\"  # Write list so that the result would be \"Default\"\n",
    "result2 = ____ or \"Default\" # Write list so that the result would be the list"
   ]
  },
  {
   "cell_type": "code",
   "execution_count": null,
   "id": "edf357d2-06cb-4d22-8c8a-42f1ea87f6fc",
   "metadata": {},
   "outputs": [],
   "source": [
    "# 5.3 Compare truth values of different objects\n",
    "obj1 = [0]\n",
    "obj2 = []\n",
    "obj3 = \"\"\n",
    "    \n",
    "print(f\"bool([0]): {bool(obj1)}\")\n",
    "print(f\"bool([]): {bool(obj2)}\")\n",
    "print(f\"bool(''): {bool(obj3)}\")"
   ]
  }
 ],
 "metadata": {
  "kernelspec": {
   "display_name": "Python 3 (ipykernel)",
   "language": "python",
   "name": "python3"
  },
  "language_info": {
   "codemirror_mode": {
    "name": "ipython",
    "version": 3
   },
   "file_extension": ".py",
   "mimetype": "text/x-python",
   "name": "python",
   "nbconvert_exporter": "python",
   "pygments_lexer": "ipython3",
   "version": "3.13.0"
  }
 },
 "nbformat": 4,
 "nbformat_minor": 5
}
