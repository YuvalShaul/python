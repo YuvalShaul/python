{
 "cells": [
  {
   "cell_type": "markdown",
   "id": "6455d48c-3cf1-4479-8ee8-f86bdeddf777",
   "metadata": {},
   "source": [
    "### Explore numbers in Python\n",
    "(and also object identity)  \n",
    "Explore how Python handles object identity for numbers.  \n",
    "Complete the tasks and explain the results you observe.  \n",
    "Try to complete and change the code to see the results  "
   ]
  },
  {
   "cell_type": "code",
   "execution_count": null,
   "id": "ece13645-ec8d-4c1b-9c11-d768045c792d",
   "metadata": {},
   "outputs": [],
   "source": [
    "# Fix until it works.  Observer results\n",
    "# Create two variables with the same small integer value (use 42 for both)\n",
    "# Dont use:\n",
    "#     small_b = small_a\n",
    "# Print their id() values and explain if they reference the same object and why\n",
    "small_a = ___\n",
    "small_b = ___\n",
    "print(f\"id(small_a): {id(small_a)}\")\n",
    "print(f\"id(small_b): {id(small_b)}\")\n",
    "print(f\"small_a is small_b: {small_a is small_b}\")"
   ]
  },
  {
   "cell_type": "code",
   "execution_count": null,
   "id": "9825395c-0c61-40aa-a624-f176ce73c9e0",
   "metadata": {},
   "outputs": [],
   "source": [
    "# Fix until it works.  Observer results\n",
    "# Create two variables with the same large integer value (use 864529385069362)\n",
    "# (use the mouse to copy the value)\n",
    "# Print their id() values and explain if they reference the same object and why\n",
    "large_a = ___\n",
    "large_b = ___\n",
    "print(f\"id(large_a): {id(large_a)}\")\n",
    "print(f\"id(large_b): {id(large_b)}\")\n",
    "print(f\"large_a is large_b: {large_a is large_b}\")"
   ]
  },
  {
   "cell_type": "code",
   "execution_count": null,
   "id": "0e51e0ed-ba4d-47b1-8a57-2cade5477586",
   "metadata": {},
   "outputs": [],
   "source": [
    "# Fix until it works.  Observer results\n",
    "# Create two float variables that should be equal but aren't due to floating point arithmetic\n",
    "# Use the values 0.1, 0.2, and 0.3 to demonstrate this\n",
    "calc_a = ___  # Use 0.1 + 0.2\n",
    "calc_b = ___  # Use be 0.3\n",
    "print(f\"{calc_a} == {calc_b}: {calc_a == calc_b}\")\n",
    "print(f\"Difference: {abs(calc_a - calc_b)}\")"
   ]
  },
  {
   "cell_type": "code",
   "execution_count": 5,
   "id": "28433dbc-3338-4eee-939f-263e45469700",
   "metadata": {},
   "outputs": [
    {
     "name": "stdout",
     "output_type": "stream",
     "text": [
      "\n",
      "2 to the power of 1000 has 699 digits\n",
      "Last 10 digits are: 1650390625\n",
      "Number of binary digits to sotre: 2322\n"
     ]
    }
   ],
   "source": [
    "verybignum = 5**1000\n",
    "print(f\"\\n2 to the power of 1000 has {len(str(verybignum))} digits\")\n",
    "print(f\"Last 10 digits are: {str(verybignum)[-10:]}\")\n",
    "print(f\"Number of binary digits to sotre: {verybignum.bit_length()}\")"
   ]
  }
 ],
 "metadata": {
  "kernelspec": {
   "display_name": "Python 3 (ipykernel)",
   "language": "python",
   "name": "python3"
  },
  "language_info": {
   "codemirror_mode": {
    "name": "ipython",
    "version": 3
   },
   "file_extension": ".py",
   "mimetype": "text/x-python",
   "name": "python",
   "nbconvert_exporter": "python",
   "pygments_lexer": "ipython3",
   "version": "3.13.0"
  }
 },
 "nbformat": 4,
 "nbformat_minor": 5
}
