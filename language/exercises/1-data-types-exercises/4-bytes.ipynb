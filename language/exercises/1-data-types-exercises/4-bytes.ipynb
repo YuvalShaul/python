{
 "cells": [
  {
   "cell_type": "markdown",
   "id": "b4c11255-129c-4346-8c4b-e236c0e1e94e",
   "metadata": {},
   "source": [
    "### Explore bytes and bytearray\n",
    "- bytes is an immutable array of bytes\n"
   ]
  },
  {
   "cell_type": "code",
   "execution_count": null,
   "id": "8b54acfb-0c80-46fa-9b17-e67cf1f4111a",
   "metadata": {},
   "outputs": [],
   "source": [
    "# Create bytes from string and list\n",
    "text_bytes = ___  # Convert \"Hello\" to bytes\n",
    "list_bytes = ___  # Create bytes from [65, 66, 67]\n",
    "print(text_bytes)\n",
    "print(list_bytes)"
   ]
  },
  {
   "cell_type": "code",
   "execution_count": null,
   "id": "b4a095fe-157a-45c0-a8cd-46636522fb53",
   "metadata": {},
   "outputs": [],
   "source": [
    "# Create and modify a bytearray\n",
    "ba = bytearray(b'Python')\n",
    "ba[0] = ___  # Change 'P' to 'p' using ASCII value"
   ]
  },
  {
   "cell_type": "code",
   "execution_count": null,
   "id": "d33c9b7a-4746-4288-8ab6-b10482a3e2db",
   "metadata": {},
   "outputs": [],
   "source": [
    "# Demonstrate bytes immutability\n",
    "try:\n",
    "    text_bytes[0] = 112  # Try to change 'H' to 'p'\n",
    "except TypeError as e:\n",
    "    print(f\"Error: {e}\")"
   ]
  },
  {
   "cell_type": "code",
   "execution_count": null,
   "id": "81ba8b76-b98f-457c-853d-37028b4dd690",
   "metadata": {},
   "outputs": [],
   "source": [
    "# Convert between bytes and bytearray\n",
    "# Use values created before\n",
    "new_bytes = bytes(___)\n",
    "new_bytearray = bytearray(___)"
   ]
  },
  {
   "cell_type": "code",
   "execution_count": null,
   "id": "9190a573-a01b-4cc7-8fb9-da98dbad6991",
   "metadata": {},
   "outputs": [],
   "source": [
    "# Work with binary data and text\n",
    "binary_data = bytes.fromhex('48656C6C6F')  # Decode this hex string"
   ]
  },
  {
   "cell_type": "code",
   "execution_count": null,
   "id": "29531a78-2439-46ff-814f-053773aec6d2",
   "metadata": {},
   "outputs": [],
   "source": [
    "# Create a 4-byte integer (32 bits)\n",
    "number = _______    # Use hexadecimal notation to make sure about the size\n",
    "    \n",
    "# Convert to bytes using different byte orders\n",
    "# Fill in the correct methods and byte orders\n",
    "big_endian = ___    # Convert number to 4 bytes in big-endian order\n",
    "little_endian = ___ # Convert number to 4 bytes in little-endian order\n",
    "    \n",
    "# Print individual bytes to see the difference\n",
    "print(f\"Original number: 0x{number:08x}\")\n",
    "print(f\"Big-endian bytes: {[hex(b)[2:].zfill(2) for b in big_endian]}\")\n",
    "print(f\"Little-endian bytes: {[hex(b)[2:].zfill(2) for b in little_endian]}\")\n",
    "    \n",
    "# Convert bytes back to integers\n",
    "# Fill in the correct methods to recover the original number\n",
    "from_big = ___    # Convert big_endian bytes back to integer\n",
    "from_little = ___ # Convert little_endian bytes back to integer\n",
    "    \n",
    "# Verify conversions\n",
    "print(f\"\\nRecovered from big-endian: 0x{from_big:08x}\")\n",
    "print(f\"Recovered from little-endian: 0x{from_little:08x}\")"
   ]
  }
 ],
 "metadata": {
  "kernelspec": {
   "display_name": "Python 3 (ipykernel)",
   "language": "python",
   "name": "python3"
  },
  "language_info": {
   "codemirror_mode": {
    "name": "ipython",
    "version": 3
   },
   "file_extension": ".py",
   "mimetype": "text/x-python",
   "name": "python",
   "nbconvert_exporter": "python",
   "pygments_lexer": "ipython3",
   "version": "3.13.0"
  }
 },
 "nbformat": 4,
 "nbformat_minor": 5
}
