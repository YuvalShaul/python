{
 "cells": [
  {
   "cell_type": "markdown",
   "id": "b4e4c23e-1b52-41a7-895c-bdcaac9f3d43",
   "metadata": {},
   "source": [
    "### Explore strings in Python\n",
    "\n",
    "- Explore indexinga and slicing\n",
    "- Strings are immutable"
   ]
  },
  {
   "cell_type": "code",
   "execution_count": null,
   "id": "94c19c58-db34-4b37-a641-fa98b55e677e",
   "metadata": {},
   "outputs": [],
   "source": [
    "# Create a single string with both single and double quotes inside\n",
    "text =  \n",
    "print(text)"
   ]
  },
  {
   "cell_type": "code",
   "execution_count": null,
   "id": "1a480a74-a6fb-4239-adf9-2ea6fba8a4cf",
   "metadata": {},
   "outputs": [],
   "source": [
    "# Create a multiline string with some indentation\n",
    "multiline = \n",
    "print(multiline)  "
   ]
  },
  {
   "cell_type": "code",
   "execution_count": null,
   "id": "7291ced4-826f-4640-b034-707b41fa310f",
   "metadata": {},
   "outputs": [],
   "source": [
    "# Demonstrate string slicing\n",
    "word = \"Python Programming\"\n",
    "only_programming = \n",
    "reversed_word =           # Slice to reverse the string\n",
    "print(only_programming)   # Should print: \"Programming\"\n",
    "print(reversed_word)      # Should print:  \"gnimmargorP nohtyP\""
   ]
  },
  {
   "cell_type": "code",
   "execution_count": null,
   "id": "d52a8c9c-e92c-4fd4-94a8-47afb52ddea5",
   "metadata": {},
   "outputs": [],
   "source": [
    "# Work with string encoding\n",
    "text = \"Hello, 世界\"\n",
    "encoded = text.encode('utf-8')\n",
    "decoded = encoded.decode('utf-8')\n",
    "print(encoded)\n",
    "print(decoded)"
   ]
  },
  {
   "cell_type": "code",
   "execution_count": null,
   "id": "29c2bbf2-42b4-4f5d-8d02-41c9c707bb1c",
   "metadata": {},
   "outputs": [],
   "source": [
    "# String immutability demonstration\n",
    "try:\n",
    "  text[0] = 'h'\n",
    "except TypeError as e:\n",
    "  print(f\"Error: {e}\")"
   ]
  }
 ],
 "metadata": {
  "kernelspec": {
   "display_name": "Python 3 (ipykernel)",
   "language": "python",
   "name": "python3"
  },
  "language_info": {
   "codemirror_mode": {
    "name": "ipython",
    "version": 3
   },
   "file_extension": ".py",
   "mimetype": "text/x-python",
   "name": "python",
   "nbconvert_exporter": "python",
   "pygments_lexer": "ipython3",
   "version": "3.13.0"
  }
 },
 "nbformat": 4,
 "nbformat_minor": 5
}
