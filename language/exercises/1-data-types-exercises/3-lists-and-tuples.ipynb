{
 "cells": [
  {
   "cell_type": "markdown",
   "id": "083ab740-01dc-44be-ae15-fe1b859ce4b9",
   "metadata": {},
   "source": [
    "### Explore lists and tuples\n",
    "\n",
    "- All are sequences (actually even strings)\n",
    "- tuples are immutables"
   ]
  },
  {
   "cell_type": "code",
   "execution_count": null,
   "id": "c70f7d39-9f93-4474-a671-2a357fe31d83",
   "metadata": {},
   "outputs": [],
   "source": [
    " # Create a list and a tuple with the same values\n",
    "lst = \n",
    "tup =  \n",
    "print(lst)\n",
    "print(tup)"
   ]
  },
  {
   "cell_type": "code",
   "execution_count": null,
   "id": "f9056941-9cf5-465a-b445-55f13416fb08",
   "metadata": {},
   "outputs": [],
   "source": [
    "# Try to modify both (one will fail)\n",
    "try:\n",
    "  lst[0] = 100\n",
    "  tup[0] = 100\n",
    "except TypeError as e:\n",
    "  print(f\"Error modifying tuple: {e}\")\n",
    "    "
   ]
  },
  {
   "cell_type": "code",
   "execution_count": null,
   "id": "f6e046b7-8877-4781-ba91-4941f14786e1",
   "metadata": {},
   "outputs": [],
   "source": [
    "# Create a nested structure: tuples in a list, and a list inside the tuple\n",
    "nested = \n",
    "print(nested)"
   ]
  },
  {
   "cell_type": "code",
   "execution_count": null,
   "id": "c7bbeb22-42dc-4a7f-84fc-6aa4049c98da",
   "metadata": {},
   "outputs": [],
   "source": [
    "# Access and modify a nested element\n",
    "nested[1][0] = "
   ]
  },
  {
   "cell_type": "code",
   "execution_count": null,
   "id": "2784e3d1-8cbb-45d1-94cf-ef6874d589ab",
   "metadata": {},
   "outputs": [],
   "source": [
    "# Demonstrate list comprehension with tuples inside\n",
    "result =           # Create a list of 5 tuples (x, x^2) where x=1, 2, 3, 4, 5"
   ]
  },
  {
   "cell_type": "markdown",
   "id": "5a1104bd-23da-4827-a979-f75332ceb1d5",
   "metadata": {},
   "source": [
    "#### List comprehension"
   ]
  },
  {
   "cell_type": "code",
   "execution_count": null,
   "id": "3deb1fa5-f9e1-4263-867a-3a1df3be4f99",
   "metadata": {},
   "outputs": [],
   "source": [
    "# Given a list of numbers, create a new list containing:\n",
    "# - Only the even numbers\n",
    "# - Each even number should be multiplied by 3\n",
    "# - Only include numbers whose product is less than 100\n",
    "numbers = [1, 2, 3, 4, 5, 6, 7, 8, 9, 10, 11, 12]\n",
    "    \n",
    "result1 = ___               # Write a list comprehension here\n",
    "print(f\"Filtered and transformed numbers: {result1}\")\n",
    "# Expected: [6, 12, 24, 48]"
   ]
  },
  {
   "cell_type": "code",
   "execution_count": null,
   "id": "2c9b9f68-f6b7-4763-a50a-fee9312e9a49",
   "metadata": {},
   "outputs": [],
   "source": [
    "# Task 2: Working with Strings\n",
    "# Given a list of words:\n",
    "# - Include only words that contain the letter 'e'\n",
    "# - Convert them to uppercase\n",
    "# - Add their length as a tuple\n",
    "words = ['hello', 'world', 'python', 'programming', 'code', 'test']\n",
    "    \n",
    "result2 = ___  # Write a list comprehension here\n",
    "print(f\"Processed words: {result2}\")\n",
    "# Expected: [('HELLO', 5), ('PROGRAMMING', 11), ('TEST', 4)]"
   ]
  },
  {
   "cell_type": "code",
   "execution_count": null,
   "id": "9f0c434d-c3e9-414a-a988-df5c18033afe",
   "metadata": {},
   "outputs": [],
   "source": [
    "# Nested List Comprehension\n",
    "# Create a 3x3 multiplication table where each element is:\n",
    "# - Only include products less than 10\n",
    "# - Each element should be a tuple of (x, y, product)\n",
    "    \n",
    "result3 = ___                # Write a nested list comprehension here\n",
    "print(f\"Multiplication table: {result3}\")\n",
    "# Expected: [(1,1,1), (1,2,2), ..., (2,4,8), (3,3,9)]\n",
    "\n",
    "# Note: Solutions should demonstrate:\n",
    "# 1. Multiple conditions in list comprehensions\n",
    "# 2. Complex expressions and tuple creation\n",
    "# 3. Nested comprehensions\n",
    "# 4. Working with different data types"
   ]
  },
  {
   "cell_type": "markdown",
   "id": "69a1b655-afe5-4d9e-8047-cfa02c942f77",
   "metadata": {},
   "source": [
    "#### Packing and unpacking"
   ]
  },
  {
   "cell_type": "code",
   "execution_count": null,
   "id": "99d15c1b-b5b5-4402-a22a-0401f7c174e0",
   "metadata": {},
   "outputs": [],
   "source": [
    "# Basic tuple packing and unpacking\n",
    "# Create a tuple by packing three values\n",
    "packed =                # Pack 1, 2, 3 into a tuple without parentheses\n",
    "print(f\"Packed tuple: {packed}, type: {type(packed)}\")\n",
    "    \n",
    "# Unpack the tuple into three variables: x, y and z\n",
    "____ = ___\n",
    "print(f\"Unpacked values: x={x}, y={y}, z={z}\")"
   ]
  },
  {
   "cell_type": "code",
   "execution_count": null,
   "id": "68184fe9-e7ad-444c-938e-d1597e2cc3b4",
   "metadata": {},
   "outputs": [],
   "source": [
    "# advanced unpacking\n",
    "# Extended unpacking with *\n",
    "numbers = [1, 2, 3, 4, 5, 6]\n",
    "    \n",
    "# Unpack first, middle elements (as list), and last\n",
    "_______ = numbers\n",
    "print(f\"First: {first}, Middle: {middle}, Last: {last}\")\n",
    "    \n",
    "# Get only first and last, ignoring middle\n",
    "_______ = numbers\n",
    "print(f\"Only first and last: {first}, {last}\")"
   ]
  },
  {
   "cell_type": "code",
   "execution_count": null,
   "id": "19a6c589-ad7a-4036-9a66-9094c7b6f8ad",
   "metadata": {},
   "outputs": [],
   "source": [
    "# Swap values\n",
    "# Use packing/unpacking to set values: a=10 b=20\n",
    "____\n",
    "____\n",
    "\n",
    "print(f\"Before swap: a={a}, b={b}\")\n",
    "\n",
    "# Swap values in one line using packing/unpacking\n",
    "___ = _____\n",
    "\n",
    "print(f\"After swap: a={a}, b={b}\")"
   ]
  }
 ],
 "metadata": {
  "kernelspec": {
   "display_name": "Python 3 (ipykernel)",
   "language": "python",
   "name": "python3"
  },
  "language_info": {
   "codemirror_mode": {
    "name": "ipython",
    "version": 3
   },
   "file_extension": ".py",
   "mimetype": "text/x-python",
   "name": "python",
   "nbconvert_exporter": "python",
   "pygments_lexer": "ipython3",
   "version": "3.13.0"
  }
 },
 "nbformat": 4,
 "nbformat_minor": 5
}
