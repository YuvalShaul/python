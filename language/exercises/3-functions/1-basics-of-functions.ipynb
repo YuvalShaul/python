{
 "cells": [
  {
   "cell_type": "markdown",
   "id": "afcc9b18-d0ee-4edb-b4af-2a3491af910d",
   "metadata": {},
   "source": [
    "### Explore the basics of functions\n"
   ]
  },
  {
   "cell_type": "markdown",
   "id": "1bd386d8-7381-4130-9ede-c4c1e4e8c630",
   "metadata": {},
   "source": [
    "Create a function named multiply_numbers that:\n",
    "\n",
    "Takes exactly 3 parameters\n",
    "Multiplies all parameters together\n",
    "Returns the result\n",
    "Include proper docstring documentation"
   ]
  },
  {
   "cell_type": "code",
   "execution_count": null,
   "id": "82e5e524-c496-4cef-ac73-b532b60d5eb0",
   "metadata": {},
   "outputs": [],
   "source": [
    "# Your code here:\n"
   ]
  },
  {
   "cell_type": "markdown",
   "id": "54be3e21-5edc-42b0-927c-bec199bcc577",
   "metadata": {},
   "source": [
    "Create a function named process_items that:\n",
    "\n",
    "Accepts an unlimited number of positional arguments\n",
    "Counts how many arguments were passed\n",
    "Returns both the count and a list of the arguments\n",
    "Test it with different numbers of arguments"
   ]
  },
  {
   "cell_type": "code",
   "execution_count": null,
   "id": "6d2f5f54-4407-42d3-a821-f480f1c708f4",
   "metadata": {},
   "outputs": [],
   "source": [
    "# Your code here:\n"
   ]
  },
  {
   "cell_type": "markdown",
   "id": "68554c0b-f028-49b1-a50a-89b287facbac",
   "metadata": {},
   "source": [
    "Function as Variable Challenge:\n",
    "\n",
    "Create two simple math functions of your choice\n",
    "Store both functions in a dictionary with descriptive keys\n",
    "Write code that calls each function using the dictionary\n",
    "Print the results.\n",
    "Example of code you could use:\n",
    "```\n",
    "math_ops['+'](2, 3)  # will print 5\n",
    "math_ops['*'](3, 4)  # will print 12\n",
    "```"
   ]
  },
  {
   "cell_type": "code",
   "execution_count": null,
   "id": "41e78a81-65df-480f-9493-35feee0646f2",
   "metadata": {},
   "outputs": [],
   "source": [
    "# Your code here:\n"
   ]
  },
  {
   "cell_type": "markdown",
   "id": "78bedec8-6ef5-4921-9a08-a3f38ae4d3fe",
   "metadata": {},
   "source": [
    "Function Type Exploration:\n",
    "\n",
    "Create any function of your choice\n",
    "Write code to examine its type\n",
    "Print out the function's attributes using dir()"
   ]
  },
  {
   "cell_type": "code",
   "execution_count": null,
   "id": "e31fcdba-7844-4c37-b5eb-3bf06f9b4b5f",
   "metadata": {},
   "outputs": [],
   "source": [
    "# Your code here:\n"
   ]
  }
 ],
 "metadata": {
  "kernelspec": {
   "display_name": "Python 3 (ipykernel)",
   "language": "python",
   "name": "python3"
  },
  "language_info": {
   "codemirror_mode": {
    "name": "ipython",
    "version": 3
   },
   "file_extension": ".py",
   "mimetype": "text/x-python",
   "name": "python",
   "nbconvert_exporter": "python",
   "pygments_lexer": "ipython3",
   "version": "3.13.0"
  }
 },
 "nbformat": 4,
 "nbformat_minor": 5
}
