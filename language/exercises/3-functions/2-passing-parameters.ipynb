{
 "cells": [
  {
   "cell_type": "markdown",
   "id": "33d5502e-37c9-43cd-8785-030a55886987",
   "metadata": {},
   "source": [
    "### Explore parameter passing methods in python\n",
    "- positional\n",
    "- keyword\n",
    "- use *, /, **, etc"
   ]
  },
  {
   "cell_type": "markdown",
   "id": "20ec190e-d44a-472b-b5f1-90a80a5e4006",
   "metadata": {},
   "source": [
    "#### Positional arguments\n",
    "Call the following function with the values 5, 3, and 4 using positional arguments\n",
    "Try calling it with the arguments in a different order - what happens?\n",
    "What happens if you provide only two arguments?"
   ]
  },
  {
   "cell_type": "markdown",
   "id": "72ddb7b1-b332-4481-978d-08dc1f238c58",
   "metadata": {},
   "source": [
    "def calculate_volume(length, width, height):\n",
    "    \"\"\"Calculate the volume of a rectangular prism.\"\"\"\n",
    "    return length * width * height\n",
    "\n",
    "# Your code here:\n"
   ]
  },
  {
   "cell_type": "markdown",
   "id": "68db32e2-8a4f-4838-915d-3f9f2844b63e",
   "metadata": {},
   "source": [
    "#### Keyword arguments\n",
    "Call the function using keyword arguments in any order\n",
    "Mix positional and keyword arguments in the same call\n",
    "What happens if you use the same parameter twice?"
   ]
  },
  {
   "cell_type": "code",
   "execution_count": null,
   "id": "53caea2a-79a6-4145-97d7-22c8712b4941",
   "metadata": {},
   "outputs": [],
   "source": [
    "def create_user_profile(username, email, age, location):\n",
    "    \"\"\"Create a user profile dictionary.\"\"\"\n",
    "    return {\n",
    "        \"username\": username,\n",
    "        \"email\": email,\n",
    "        \"age\": age,\n",
    "        \"location\": location\n",
    "    }\n",
    "\n",
    "# Your code here:\n"
   ]
  },
  {
   "cell_type": "markdown",
   "id": "b1c04e81-8ca2-450c-8acc-27db0800eb7b",
   "metadata": {},
   "source": [
    "#### Positional Only\n",
    "Try calling the function with positional arguments for numerator and denominator\n",
    "Attempt to use keyword arguments for numerator or denominator - what error do you get?\n",
    "Use a keyword argument for round_to\n",
    "What's the difference in how you can call parameters before and after the /?"
   ]
  },
  {
   "cell_type": "code",
   "execution_count": null,
   "id": "36a0a79b-d4f3-4dd8-887a-e196143bba96",
   "metadata": {},
   "outputs": [],
   "source": [
    "def divide_numbers(numerator, denominator, /, round_to=2):\n",
    "    \"\"\"Divide two numbers with optional rounding.\"\"\"\n",
    "    result = numerator / denominator\n",
    "    return round(result, round_to)\n",
    "\n",
    "# Your code here\n"
   ]
  },
  {
   "cell_type": "markdown",
   "id": "e8c49afb-99a5-48d0-8569-5009324c1005",
   "metadata": {},
   "source": [
    "#### Keyword only parameters\n",
    "Try calling the function with keyword arguments\n",
    "Attempt to use positional arguments - what happens?\n",
    "Make a call both with and without the middle parameter\n",
    "Why might keyword-only arguments be useful in this case?"
   ]
  },
  {
   "cell_type": "code",
   "execution_count": null,
   "id": "9b4e1dd7-9d80-4ae3-9a14-3b9affa78f32",
   "metadata": {},
   "outputs": [],
   "source": [
    "def format_name(*, first, last, middle=\"\"):\n",
    "    \"\"\"Format a person's name with all keyword-only arguments.\"\"\"\n",
    "    if middle:\n",
    "        return f\"{first} {middle} {last}\"\n",
    "    return f\"{first} {last}\""
   ]
  },
  {
   "cell_type": "markdown",
   "id": "96dcb3cc-178e-4219-b936-959d51877f78",
   "metadata": {},
   "source": [
    "#### Packing arguments\n",
    "Call the function with varying numbers of arguments (2, 3, 5, etc.)\n",
    "What's the difference between the first parameter and the rest?\n",
    "Try passing a list directly - what happens?\n",
    "How would you unpack a list into this function?"
   ]
  },
  {
   "cell_type": "code",
   "execution_count": null,
   "id": "0082fdd6-800a-45d3-b581-451ce5d6631c",
   "metadata": {},
   "outputs": [],
   "source": [
    "def calculate_statistics(first, *numbers):\n",
    "    \"\"\"Calculate min, max, and average of numbers, with first number weighted double.\"\"\"\n",
    "    all_numbers = [first] * 2 + list(numbers)\n",
    "    return min(all_numbers), max(all_numbers), sum(all_numbers) / (len(numbers) + 2)\n",
    "\n",
    "# Your code here\n"
   ]
  },
  {
   "cell_type": "markdown",
   "id": "80986759-0523-4ebf-ad76-5cca7ae40923",
   "metadata": {},
   "source": [
    "#### Pack arguments using a dictionary (**)\n",
    "Call the function with different keyword arguments (e.g., summary=\"...\", key_findings=\"...\", methodology=\"...\")\n",
    "Try using a variable name that has spaces - what happens?\n",
    "Create a dictionary of report sections and unpack it into the function\n",
    "What happens if you try to pass positional arguments?\n",
    "Try nesting dictionaries as values - how are they formatted?\n",
    "Attempt to pass a dictionary directly without unpacking - what error do you get?\n",
    "What happens if you mix regular keyword arguments with dictionary unpacking?"
   ]
  },
  {
   "cell_type": "code",
   "execution_count": null,
   "id": "6b485991-16c5-4604-9c8d-625586024350",
   "metadata": {},
   "outputs": [],
   "source": [
    "def create_report(**report_data):\n",
    "    \"\"\"Create a formatted report from arbitrary keyword arguments.\n",
    "    Each key becomes a section header, and its value becomes the content.\"\"\"\n",
    "    report = []\n",
    "    for section, content in report_data.items():\n",
    "        header = section.replace('_', ' ').title()\n",
    "        report.append(f\"=== {header} ===\")\n",
    "        report.append(str(content))\n",
    "        report.append(\"\")\n",
    "    return \"\\n\".join(report)\n",
    "\n",
    "# Your code here:\n"
   ]
  }
 ],
 "metadata": {
  "kernelspec": {
   "display_name": "Python 3 (ipykernel)",
   "language": "python",
   "name": "python3"
  },
  "language_info": {
   "codemirror_mode": {
    "name": "ipython",
    "version": 3
   },
   "file_extension": ".py",
   "mimetype": "text/x-python",
   "name": "python",
   "nbconvert_exporter": "python",
   "pygments_lexer": "ipython3",
   "version": "3.13.0"
  }
 },
 "nbformat": 4,
 "nbformat_minor": 5
}
