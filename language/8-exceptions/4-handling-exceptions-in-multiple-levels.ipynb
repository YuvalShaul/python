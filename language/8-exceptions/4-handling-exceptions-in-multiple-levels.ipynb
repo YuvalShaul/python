{
 "cells": [
  {
   "cell_type": "code",
   "execution_count": null,
   "id": "df4dfac9-709a-4e56-9c3d-54c61d547547",
   "metadata": {},
   "outputs": [],
   "source": []
  },
  {
   "cell_type": "code",
   "execution_count": 1,
   "id": "e8a7fe3c-74af-4df5-b6a4-49130bc2c3cc",
   "metadata": {},
   "outputs": [
    {
     "name": "stdout",
     "output_type": "stream",
     "text": [
      "top: before\n",
      "a\n",
      "Zero Division error in a()\n",
      "top: Some error happened.\n",
      "top: after\n"
     ]
    }
   ],
   "source": [
    "def a():\n",
    "    print('a')\n",
    "    try:\n",
    "        return 5/0\n",
    "    except ZeroDivisionError:\n",
    "        print('Zero Division error in a()')\n",
    "        raise\n",
    "\n",
    "def b():\n",
    "    print('b')\n",
    "    x = int('ttt')  # ValueError\n",
    "\n",
    "def c():\n",
    "    raise ValueError\n",
    "\n",
    "def middle():\n",
    "    a()\n",
    "    # b()\n",
    "    # c()\n",
    "\n",
    "def top_func():\n",
    "    print('top: before')\n",
    "    try:\n",
    "        middle()\n",
    "    except:\n",
    "        print('top: Some error happened.')\n",
    "    print('top: after')\n",
    "\n",
    "top_func()"
   ]
  }
 ],
 "metadata": {
  "kernelspec": {
   "display_name": "Python 3 (ipykernel)",
   "language": "python",
   "name": "python3"
  },
  "language_info": {
   "codemirror_mode": {
    "name": "ipython",
    "version": 3
   },
   "file_extension": ".py",
   "mimetype": "text/x-python",
   "name": "python",
   "nbconvert_exporter": "python",
   "pygments_lexer": "ipython3",
   "version": "3.13.0"
  }
 },
 "nbformat": 4,
 "nbformat_minor": 5
}
