{
 "cells": [
  {
   "cell_type": "code",
   "execution_count": null,
   "id": "1ec36c14-36ee-4b90-9f60-882304c9cc0d",
   "metadata": {},
   "outputs": [],
   "source": []
  },
  {
   "cell_type": "code",
   "execution_count": 10,
   "id": "b5c1a15c-d319-4e21-b271-1cfdb7e20bfb",
   "metadata": {},
   "outputs": [
    {
     "name": "stdin",
     "output_type": "stream",
     "text": [
      "A number please: aaa\n"
     ]
    },
    {
     "name": "stdout",
     "output_type": "stream",
     "text": [
      "(\"invalid literal for int() with base 10: 'aaa'\",)\n",
      "tb:  <frame at 0x000002C60C90A080, file 'C:\\\\Users\\\\yuval\\\\AppData\\\\Local\\\\Temp\\\\ipykernel_26280\\\\1447613376.py', line 10, code <module>>\n",
      "invalid literal for int() with base 10: 'aaa'\n"
     ]
    }
   ],
   "source": [
    "import sys\n",
    "\n",
    "try:\n",
    "    num = int(input(\"A number please:\"))\n",
    "except ValueError as n:\n",
    "    print(n.args)\n",
    "    err = sys.exc_info()\n",
    "    tb = err[2]\n",
    "    while tb:\n",
    "         print('tb: ', tb.tb_frame)\n",
    "         tb = tb.tb_next\n",
    "    print(n)"
   ]
  }
 ],
 "metadata": {
  "kernelspec": {
   "display_name": "Python 3 (ipykernel)",
   "language": "python",
   "name": "python3"
  },
  "language_info": {
   "codemirror_mode": {
    "name": "ipython",
    "version": 3
   },
   "file_extension": ".py",
   "mimetype": "text/x-python",
   "name": "python",
   "nbconvert_exporter": "python",
   "pygments_lexer": "ipython3",
   "version": "3.13.0"
  }
 },
 "nbformat": 4,
 "nbformat_minor": 5
}
