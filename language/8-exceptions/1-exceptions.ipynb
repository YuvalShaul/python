{
 "cells": [
  {
   "cell_type": "markdown",
   "id": "8984d2e5-e9e2-4193-9642-2858f31a87e4",
   "metadata": {},
   "source": [
    "### Exceptions\n",
    "- Exceptions are error handling mechanism\n",
    "- If you are trying to run a python code that is syntactucally correct, but cause an error, an exception is going to be created"
   ]
  },
  {
   "cell_type": "code",
   "execution_count": 1,
   "id": "2a1956b1-5e69-4e48-bc51-c6688f0ee6a2",
   "metadata": {},
   "outputs": [
    {
     "ename": "ZeroDivisionError",
     "evalue": "division by zero",
     "output_type": "error",
     "traceback": [
      "\u001b[1;31m---------------------------------------------------------------------------\u001b[0m",
      "\u001b[1;31mZeroDivisionError\u001b[0m                         Traceback (most recent call last)",
      "Cell \u001b[1;32mIn[1], line 1\u001b[0m\n\u001b[1;32m----> 1\u001b[0m \u001b[38;5;241;43m15\u001b[39;49m\u001b[38;5;241;43m/\u001b[39;49m\u001b[38;5;241;43m0\u001b[39;49m\n",
      "\u001b[1;31mZeroDivisionError\u001b[0m: division by zero"
     ]
    }
   ],
   "source": [
    "# Example: zero division\n",
    "15/0"
   ]
  },
  {
   "cell_type": "code",
   "execution_count": 5,
   "id": "57bc0b55-7681-4438-ae4a-ec17d08ca66e",
   "metadata": {},
   "outputs": [
    {
     "ename": "KeyError",
     "evalue": "'last_name'",
     "output_type": "error",
     "traceback": [
      "\u001b[1;31m---------------------------------------------------------------------------\u001b[0m",
      "\u001b[1;31mKeyError\u001b[0m                                  Traceback (most recent call last)",
      "Cell \u001b[1;32mIn[5], line 3\u001b[0m\n\u001b[0;32m      1\u001b[0m \u001b[38;5;66;03m# Example: Key error\u001b[39;00m\n\u001b[0;32m      2\u001b[0m details \u001b[38;5;241m=\u001b[39m {\u001b[38;5;124m'\u001b[39m\u001b[38;5;124mname\u001b[39m\u001b[38;5;124m'\u001b[39m:\u001b[38;5;124m'\u001b[39m\u001b[38;5;124mJane\u001b[39m\u001b[38;5;124m'\u001b[39m, \u001b[38;5;124m'\u001b[39m\u001b[38;5;124mphone\u001b[39m\u001b[38;5;124m'\u001b[39m: \u001b[38;5;124m'\u001b[39m\u001b[38;5;124m050-1234567\u001b[39m\u001b[38;5;124m'\u001b[39m, \u001b[38;5;124m'\u001b[39m\u001b[38;5;124mid\u001b[39m\u001b[38;5;124m'\u001b[39m : \u001b[38;5;241m84357\u001b[39m}\n\u001b[1;32m----> 3\u001b[0m \u001b[43mdetails\u001b[49m\u001b[43m[\u001b[49m\u001b[38;5;124;43m'\u001b[39;49m\u001b[38;5;124;43mlast_name\u001b[39;49m\u001b[38;5;124;43m'\u001b[39;49m\u001b[43m]\u001b[49m\n",
      "\u001b[1;31mKeyError\u001b[0m: 'last_name'"
     ]
    }
   ],
   "source": [
    "# Example: Key error\n",
    "details = {'name':'Jane', 'phone': '050-1234567', 'id' : 84357}\n",
    "details['last_name']"
   ]
  },
  {
   "cell_type": "code",
   "execution_count": 6,
   "id": "c953f6a2-014c-4bac-a825-149c2274a7b4",
   "metadata": {},
   "outputs": [
    {
     "ename": "NameError",
     "evalue": "name 'myvar' is not defined",
     "output_type": "error",
     "traceback": [
      "\u001b[1;31m---------------------------------------------------------------------------\u001b[0m",
      "\u001b[1;31mNameError\u001b[0m                                 Traceback (most recent call last)",
      "Cell \u001b[1;32mIn[6], line 2\u001b[0m\n\u001b[0;32m      1\u001b[0m \u001b[38;5;66;03m# Name error\u001b[39;00m\n\u001b[1;32m----> 2\u001b[0m \u001b[43mmyvar\u001b[49m\n",
      "\u001b[1;31mNameError\u001b[0m: name 'myvar' is not defined"
     ]
    }
   ],
   "source": [
    "# Name error\n",
    "myvar"
   ]
  },
  {
   "cell_type": "markdown",
   "id": "107b2199-4e08-45ef-8b49-ce1225833825",
   "metadata": {},
   "source": [
    "#### Handling exceptions\n",
    "- You can \"catch\" an exception, handle it yourself and prevent it from being handled by the interpreter (thus ending your program)\n",
    "- Use **try** and **except** in the following manner:"
   ]
  },
  {
   "cell_type": "code",
   "execution_count": 7,
   "id": "f7ef726a-29ad-4566-817c-cb4f7b332aaf",
   "metadata": {},
   "outputs": [
    {
     "name": "stdin",
     "output_type": "stream",
     "text": [
      "Please enter a number:  t\n"
     ]
    },
    {
     "name": "stdout",
     "output_type": "stream",
     "text": [
      "Oops!  That was no valid number.  Try again...\n"
     ]
    },
    {
     "name": "stdin",
     "output_type": "stream",
     "text": [
      "Please enter a number:  4\n"
     ]
    }
   ],
   "source": [
    "# This is taken from the formal Python tutorial:\n",
    "\n",
    "while True:\n",
    "    try:\n",
    "        x = int(input(\"Please enter a number: \"))\n",
    "        break\n",
    "    except ValueError:\n",
    "        print(\"Oops!  That was no valid number.  Try again...\")"
   ]
  }
 ],
 "metadata": {
  "kernelspec": {
   "display_name": "Python 3 (ipykernel)",
   "language": "python",
   "name": "python3"
  },
  "language_info": {
   "codemirror_mode": {
    "name": "ipython",
    "version": 3
   },
   "file_extension": ".py",
   "mimetype": "text/x-python",
   "name": "python",
   "nbconvert_exporter": "python",
   "pygments_lexer": "ipython3",
   "version": "3.13.0"
  }
 },
 "nbformat": 4,
 "nbformat_minor": 5
}
