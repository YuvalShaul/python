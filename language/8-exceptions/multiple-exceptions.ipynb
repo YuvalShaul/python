{
 "cells": [
  {
   "cell_type": "code",
   "execution_count": null,
   "id": "6db91265-979b-4b73-8901-dd5e7be8aa3f",
   "metadata": {},
   "outputs": [],
   "source": []
  },
  {
   "cell_type": "code",
   "execution_count": 2,
   "id": "3547c738-35a4-4120-807c-3e3b78a326fe",
   "metadata": {},
   "outputs": [
    {
     "name": "stdout",
     "output_type": "stream",
     "text": [
      "divide by zero\n"
     ]
    }
   ],
   "source": [
    "# Handle one exception\n",
    "# I not matched - move to a higher level\n",
    "\n",
    "import sys\n",
    "a = 0\n",
    "try:\n",
    "    print(5/a)\n",
    "    print(b)\n",
    "except ZeroDivisionError:\n",
    "    print('divide by zero')\n",
    "except:\n",
    "    # print('some error')\n",
    "    e = sys.exc_info()\n",
    "    #print(e)\n",
    "    raise"
   ]
  }
 ],
 "metadata": {
  "kernelspec": {
   "display_name": "Python 3 (ipykernel)",
   "language": "python",
   "name": "python3"
  },
  "language_info": {
   "codemirror_mode": {
    "name": "ipython",
    "version": 3
   },
   "file_extension": ".py",
   "mimetype": "text/x-python",
   "name": "python",
   "nbconvert_exporter": "python",
   "pygments_lexer": "ipython3",
   "version": "3.13.0"
  }
 },
 "nbformat": 4,
 "nbformat_minor": 5
}
