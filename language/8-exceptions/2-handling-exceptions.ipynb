{
 "cells": [
  {
   "cell_type": "markdown",
   "id": "6000c484-075b-4629-8d58-d5851ebb1d3c",
   "metadata": {},
   "source": [
    "#### Handling Exceptions"
   ]
  },
  {
   "cell_type": "markdown",
   "id": "1ed47c70-5cba-4a55-8058-f3637d9b1324",
   "metadata": {},
   "source": [
    "#### Built-in exceptions\n",
    "(not a complete list..)\n",
    "- ArithmeticError: Base class for arithmetic errors like OverflowError, ZeroDivisionError, FloatingPointError\n",
    "- AssertionError: Raised when an assert statement fails\n",
    "- AttributeError: Raised when attribute reference or assignment fails\n",
    "- EOFError: Raised when input() hits end-of-file condition\n",
    "- ImportError: Raised when import fails, includes ModuleNotFoundError\n",
    "- IndexError: Raised when sequence subscript is out of range\n",
    "- KeyError: Raised when dictionary key is not found\n",
    "- NameError: Raised when local or global name is not found\n",
    "- RuntimeError: Base class for runtime errors\n",
    "- SyntaxError: Raised when parser encounters syntax error\n",
    "- TypeError: Raised when operation/function is applied to wrong type\n",
    "- ValueError: Raised when operation/function receives argument with right type but wrong value\n",
    "- ZeroDivisionError: Raised when division or modulo by zero\n",
    "- FileNotFoundError: When a file/directory cannot be found\n",
    "- PermissionError: When trying to run an operation without adequate access rights\n",
    "- KeyboardInterrupt: Raised when user hits interrupt key (Ctrl+C)\n",
    "- MemoryError: Raised when operation runs out of memory\n",
    "- NotImplementedError: Raised when abstract methods require derived class implementation\n",
    "- OSError: Base class for system-related errors\n",
    "- OverflowError: When arithmetic operation exceeds maximum limit\n",
    "- RecursionError: When maximum recursion depth is exceeded\n",
    "- StopIteration: Raised by next() when no further items to iterate\n",
    "- SystemExit: Raised by sys.exit()\n",
    "- IndentationError: When improper indentation is encountered\n",
    "- TabError: When indentation contains inconsistent tabs/spaces"
   ]
  },
  {
   "cell_type": "code",
   "execution_count": 11,
   "id": "4607cc89-5b7f-43e4-8dc8-6615b3b30b9c",
   "metadata": {},
   "outputs": [
    {
     "ename": "TypeError",
     "evalue": "open() missing 1 required positional argument: 'file'",
     "output_type": "error",
     "traceback": [
      "\u001b[1;31m---------------------------------------------------------------------------\u001b[0m",
      "\u001b[1;31mTypeError\u001b[0m                                 Traceback (most recent call last)",
      "Cell \u001b[1;32mIn[11], line 5\u001b[0m\n\u001b[0;32m      3\u001b[0m fname \u001b[38;5;241m=\u001b[39m \u001b[38;5;124m'\u001b[39m\u001b[38;5;124mmyfile.txt\u001b[39m\u001b[38;5;124m'\u001b[39m\n\u001b[0;32m      4\u001b[0m \u001b[38;5;28;01mtry\u001b[39;00m:\n\u001b[1;32m----> 5\u001b[0m     f \u001b[38;5;241m=\u001b[39m \u001b[38;5;28;43mopen\u001b[39;49m\u001b[43m(\u001b[49m\u001b[43m)\u001b[49m\n\u001b[0;32m      6\u001b[0m     s \u001b[38;5;241m=\u001b[39m f\u001b[38;5;241m.\u001b[39mreadline()\n\u001b[0;32m      7\u001b[0m     i \u001b[38;5;241m=\u001b[39m \u001b[38;5;28mint\u001b[39m(s\u001b[38;5;241m.\u001b[39mstrip())\n",
      "\u001b[1;31mTypeError\u001b[0m: open() missing 1 required positional argument: 'file'"
     ]
    }
   ],
   "source": [
    "# You can handle several exception for the same try block:\n",
    "import sys\n",
    "fname = 'myfile.txt'\n",
    "try:\n",
    "    f = open()\n",
    "    s = f.readline()\n",
    "    i = int(s.strip())\n",
    "except FileNotFoundError:\n",
    "    print(f'File {fname} not found.')\n",
    "except ValueError:\n",
    "    print(\"Could not convert data to an integer.\")"
   ]
  },
  {
   "cell_type": "markdown",
   "id": "04d46193-dee7-4773-a5d6-cd6b59333039",
   "metadata": {},
   "source": [
    "#### Exceotuib Hierarchy\n",
    "- There is a hierarchy in exceptions\n",
    "- It is based on object inheritence hierarchy (which we'll cover later)\n",
    "- You can handle more specific exceptions (like OSError) first, and later a higher level exceptions (like Exception)"
   ]
  },
  {
   "cell_type": "code",
   "execution_count": 12,
   "id": "c10c3197-3dea-44b9-adc1-f81b037122bb",
   "metadata": {},
   "outputs": [
    {
     "name": "stdout",
     "output_type": "stream",
     "text": [
      "Unexpected err=ValueError(\"invalid literal for int() with base 10: 'this is a bad line - cannot be converted to int'\"), type(err)=<class 'ValueError'>\n"
     ]
    }
   ],
   "source": [
    "# You can handle several exception for the same try block.\n",
    "# Change permission to get OSError\n",
    "import sys\n",
    "\n",
    "try:\n",
    "    f = open('myfile.txt')\n",
    "    s = f.readline()\n",
    "    i = int(s.strip())\n",
    "\n",
    "except FileNotFoundError:                             # lowest level\n",
    "    print(f'File {fname} not found.')\n",
    "except OSError as err:                                # Higher level\n",
    "    print(\"OS error:\", err)\n",
    "except Exception as err:                              # highest level\n",
    "    print(f\"Unexpected {err=}, {type(err)=}\")"
   ]
  },
  {
   "cell_type": "markdown",
   "id": "63cd880e-525f-49db-b304-28ad5cedc646",
   "metadata": {},
   "source": [
    "#### Raising exceptions\n",
    "- The raise statement allows the programmer to force a specified exception to occur.\n",
    "- If you are raising it inside an exception handling code it will be handled + raised again\n",
    "- ..then, another, higher level of handling can handle the exception again, or let Python interpreter handle the exception"
   ]
  },
  {
   "cell_type": "code",
   "execution_count": 13,
   "id": "3547c738-35a4-4120-807c-3e3b78a326fe",
   "metadata": {},
   "outputs": [
    {
     "name": "stdout",
     "output_type": "stream",
     "text": [
      "Unexpected err=ValueError(\"invalid literal for int() with base 10: 'this is a bad line - cannot be converted to int'\"), type(err)=<class 'ValueError'>\n"
     ]
    },
    {
     "ename": "ValueError",
     "evalue": "invalid literal for int() with base 10: 'this is a bad line - cannot be converted to int'",
     "output_type": "error",
     "traceback": [
      "\u001b[1;31m---------------------------------------------------------------------------\u001b[0m",
      "\u001b[1;31mValueError\u001b[0m                                Traceback (most recent call last)",
      "Cell \u001b[1;32mIn[13], line 8\u001b[0m\n\u001b[0;32m      6\u001b[0m     f \u001b[38;5;241m=\u001b[39m \u001b[38;5;28mopen\u001b[39m(\u001b[38;5;124m'\u001b[39m\u001b[38;5;124mmyfile.txt\u001b[39m\u001b[38;5;124m'\u001b[39m)\n\u001b[0;32m      7\u001b[0m     s \u001b[38;5;241m=\u001b[39m f\u001b[38;5;241m.\u001b[39mreadline()\n\u001b[1;32m----> 8\u001b[0m     i \u001b[38;5;241m=\u001b[39m \u001b[38;5;28;43mint\u001b[39;49m\u001b[43m(\u001b[49m\u001b[43ms\u001b[49m\u001b[38;5;241;43m.\u001b[39;49m\u001b[43mstrip\u001b[49m\u001b[43m(\u001b[49m\u001b[43m)\u001b[49m\u001b[43m)\u001b[49m\n\u001b[0;32m     10\u001b[0m \u001b[38;5;28;01mexcept\u001b[39;00m \u001b[38;5;167;01mFileNotFoundError\u001b[39;00m:                             \u001b[38;5;66;03m# lowest level\u001b[39;00m\n\u001b[0;32m     11\u001b[0m     \u001b[38;5;28mprint\u001b[39m(\u001b[38;5;124mf\u001b[39m\u001b[38;5;124m'\u001b[39m\u001b[38;5;124mFile \u001b[39m\u001b[38;5;132;01m{\u001b[39;00mfname\u001b[38;5;132;01m}\u001b[39;00m\u001b[38;5;124m not found.\u001b[39m\u001b[38;5;124m'\u001b[39m)\n",
      "\u001b[1;31mValueError\u001b[0m: invalid literal for int() with base 10: 'this is a bad line - cannot be converted to int'"
     ]
    }
   ],
   "source": [
    "# This time, the base Exception also raises the exception\n",
    "\n",
    "import sys\n",
    "\n",
    "try:\n",
    "    f = open('myfile.txt')\n",
    "    s = f.readline()\n",
    "    i = int(s.strip())\n",
    "\n",
    "except FileNotFoundError:                             # lowest level\n",
    "    print(f'File {fname} not found.')\n",
    "except OSError as err:                                # Higher level\n",
    "    print(\"OS error:\", err)\n",
    "except Exception as err:                              # highest level\n",
    "    print(f\"Unexpected {err=}, {type(err)=}\")\n",
    "    raise"
   ]
  }
 ],
 "metadata": {
  "kernelspec": {
   "display_name": "Python 3 (ipykernel)",
   "language": "python",
   "name": "python3"
  },
  "language_info": {
   "codemirror_mode": {
    "name": "ipython",
    "version": 3
   },
   "file_extension": ".py",
   "mimetype": "text/x-python",
   "name": "python",
   "nbconvert_exporter": "python",
   "pygments_lexer": "ipython3",
   "version": "3.13.0"
  }
 },
 "nbformat": 4,
 "nbformat_minor": 5
}
