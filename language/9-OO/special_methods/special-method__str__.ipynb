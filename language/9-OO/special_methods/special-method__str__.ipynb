{
 "cells": [
  {
   "cell_type": "code",
   "execution_count": 1,
   "id": "eb952b0b-d313-4f62-89b6-e1e3fa2ce650",
   "metadata": {},
   "outputs": [
    {
     "name": "stdout",
     "output_type": "stream",
     "text": [
      "I am Demo.\n",
      "   I store: hello.\n",
      "Directly:  I am Demo.\n",
      "   I store: hello.\n"
     ]
    }
   ],
   "source": [
    "class Demo:\n",
    "    def __init__(self, data):\n",
    "        self._data = data\n",
    "\n",
    "    def __str__(self):\n",
    "        retstr = f'''I am Demo.\n",
    "   I store: {self._data}.'''\n",
    "        return retstr\n",
    "\n",
    "\n",
    "if __name__ == '__main__':\n",
    "    d1 = Demo('hello')\n",
    "\n",
    "    msg1 = str(d1)\n",
    "    print(msg1)\n",
    "    print('Directly: ', d1)"
   ]
  }
 ],
 "metadata": {
  "kernelspec": {
   "display_name": "Python 3 (ipykernel)",
   "language": "python",
   "name": "python3"
  },
  "language_info": {
   "codemirror_mode": {
    "name": "ipython",
    "version": 3
   },
   "file_extension": ".py",
   "mimetype": "text/x-python",
   "name": "python",
   "nbconvert_exporter": "python",
   "pygments_lexer": "ipython3",
   "version": "3.13.0"
  }
 },
 "nbformat": 4,
 "nbformat_minor": 5
}
