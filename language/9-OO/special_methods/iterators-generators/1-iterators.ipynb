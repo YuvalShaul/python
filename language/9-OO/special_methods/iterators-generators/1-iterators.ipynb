{
 "cells": [
  {
   "cell_type": "markdown",
   "id": "52315060-6ab7-4811-839c-f04384023f8c",
   "metadata": {},
   "source": [
    "#### iterable object\n",
    "- An iterable object, implements the __iter__ special method\n",
    "- If you call this special method (or the built-in iter() function which does the same thing), the iterable object will return an Iterator\n",
    "- The Iterator object implements the __next__ special method.\n",
    "- Use the __next__ (or the built in next() ) to get elements from the original object"
   ]
  },
  {
   "cell_type": "code",
   "execution_count": 1,
   "id": "10ccca60-34f7-4ce4-a6b9-b127ae11cd3d",
   "metadata": {},
   "outputs": [
    {
     "name": "stdout",
     "output_type": "stream",
     "text": [
      "<class 'range_iterator'>\n",
      "0\n",
      "1\n",
      "2\n",
      "3\n",
      "4\n"
     ]
    },
    {
     "ename": "StopIteration",
     "evalue": "",
     "output_type": "error",
     "traceback": [
      "\u001b[1;31m---------------------------------------------------------------------------\u001b[0m",
      "\u001b[1;31mStopIteration\u001b[0m                             Traceback (most recent call last)",
      "Cell \u001b[1;32mIn[1], line 11\u001b[0m\n\u001b[0;32m      9\u001b[0m \u001b[38;5;28mprint\u001b[39m(it\u001b[38;5;241m.\u001b[39m\u001b[38;5;21m__next__\u001b[39m())       \u001b[38;5;66;03m# return 3\u001b[39;00m\n\u001b[0;32m     10\u001b[0m \u001b[38;5;28mprint\u001b[39m(it\u001b[38;5;241m.\u001b[39m\u001b[38;5;21m__next__\u001b[39m())       \u001b[38;5;66;03m# return 4\u001b[39;00m\n\u001b[1;32m---> 11\u001b[0m \u001b[38;5;28mprint\u001b[39m(\u001b[43mit\u001b[49m\u001b[38;5;241;43m.\u001b[39;49m\u001b[38;5;21;43m__next__\u001b[39;49m\u001b[43m(\u001b[49m\u001b[43m)\u001b[49m)       \u001b[38;5;66;03m# raises an exception\u001b[39;00m\n",
      "\u001b[1;31mStopIteration\u001b[0m: "
     ]
    }
   ],
   "source": [
    "# Demonstrating the basics of iterators\n",
    "#\n",
    "r1 = range(5)\n",
    "it = r1.__iter__()\n",
    "print(type(it))\n",
    "print(it.__next__())       # return 0\n",
    "print(it.__next__())       # return 1\n",
    "print(it.__next__())       # return 2\n",
    "print(it.__next__())       # return 3\n",
    "print(it.__next__())       # return 4\n",
    "print(it.__next__())       # raises an exception"
   ]
  },
  {
   "cell_type": "code",
   "execution_count": null,
   "id": "612fe525-4fbb-44f1-bfc6-0af955123eb5",
   "metadata": {},
   "outputs": [],
   "source": [
    "# or - just loop on it:\n",
    "for num in range(5):\n",
    "    print(num)"
   ]
  }
 ],
 "metadata": {
  "kernelspec": {
   "display_name": "Python 3 (ipykernel)",
   "language": "python",
   "name": "python3"
  },
  "language_info": {
   "codemirror_mode": {
    "name": "ipython",
    "version": 3
   },
   "file_extension": ".py",
   "mimetype": "text/x-python",
   "name": "python",
   "nbconvert_exporter": "python",
   "pygments_lexer": "ipython3",
   "version": "3.13.0"
  }
 },
 "nbformat": 4,
 "nbformat_minor": 5
}
