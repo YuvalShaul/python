{
 "cells": [
  {
   "cell_type": "markdown",
   "id": "f5ffb9b1-3f95-43e1-8875-8d4a4845decc",
   "metadata": {},
   "source": [
    "#### generator functions\n",
    "- A function with a yield statement is called a generator function\n",
    "- When called, it will return a generator object"
   ]
  },
  {
   "cell_type": "code",
   "execution_count": 1,
   "id": "ac0f6dcd-9f59-44dd-aa50-4dd2c10c6b3d",
   "metadata": {},
   "outputs": [
    {
     "name": "stdout",
     "output_type": "stream",
     "text": [
      "<class 'generator'>\n",
      "<class 'generator'>\n",
      "a\n",
      "b\n",
      "c\n"
     ]
    }
   ],
   "source": [
    "def func_3():\n",
    "    yield 'a'\n",
    "    yield 'b'\n",
    "    yield 'c'\n",
    "\n",
    "g = func_3()\n",
    "print(type(g))\n",
    "it = g.__iter__()\n",
    "print(type(it))\n",
    "\n",
    "\n",
    "for item in it:\n",
    "    print(item)\n"
   ]
  },
  {
   "cell_type": "markdown",
   "id": "a0564a07-e646-4a10-9889-ec625ad5291d",
   "metadata": {},
   "source": [
    "#### A generator expression\n",
    "- it looks like a list comprehension, but using tuple syntax\n",
    "- it does not create a tuple, it creates a generator object\n",
    "- this is why it is called a generator expression"
   ]
  },
  {
   "cell_type": "code",
   "execution_count": 2,
   "id": "7bc36a22-64d6-4b1f-a45c-55d033189639",
   "metadata": {},
   "outputs": [
    {
     "name": "stdout",
     "output_type": "stream",
     "text": [
      "<class 'generator'>\n",
      "0\n",
      "1\n",
      "2\n",
      "3\n",
      "4\n",
      "5\n",
      "6\n",
      "7\n",
      "8\n",
      "9\n"
     ]
    }
   ],
   "source": [
    "g3 = (num for num in range(10) )\n",
    "print(type(g3))\n",
    "for num in g3:\n",
    "    print(num)"
   ]
  }
 ],
 "metadata": {
  "kernelspec": {
   "display_name": "Python 3 (ipykernel)",
   "language": "python",
   "name": "python3"
  },
  "language_info": {
   "codemirror_mode": {
    "name": "ipython",
    "version": 3
   },
   "file_extension": ".py",
   "mimetype": "text/x-python",
   "name": "python",
   "nbconvert_exporter": "python",
   "pygments_lexer": "ipython3",
   "version": "3.13.0"
  }
 },
 "nbformat": 4,
 "nbformat_minor": 5
}
