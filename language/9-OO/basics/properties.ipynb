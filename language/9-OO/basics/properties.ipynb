{
 "cells": [
  {
   "cell_type": "code",
   "execution_count": 1,
   "id": "6887ea1a-cd50-4ccc-b52e-8c0d993f4ca6",
   "metadata": {},
   "outputs": [],
   "source": [
    "class Temperature:\n",
    "    def __init__(self):\n",
    "        # Store temperature internally in Celsius\n",
    "        self._celsius = 0\n",
    "    \n",
    "    @property\n",
    "    def celsius(self):\n",
    "        # Getter returns the temperature in Celsius, rounded to 1 decimal\n",
    "        return round(self._celsius, 1)\n",
    "    \n",
    "    @celsius.setter\n",
    "    def celsius(self, value):\n",
    "        # Setter validates that the temperature is above absolute zero (-273.15°C)\n",
    "        if value < -273.15:\n",
    "            raise ValueError(\"Temperature cannot be below absolute zero!\")\n",
    "        self._celsius = value\n",
    "    \n",
    "    @property\n",
    "    def fahrenheit(self):\n",
    "        # Getter converts Celsius to Fahrenheit\n",
    "        return round((self._celsius * 9/5) + 32, 1)\n",
    "    \n",
    "    @fahrenheit.setter\n",
    "    def fahrenheit(self, value):\n",
    "        # Setter converts Fahrenheit to Celsius and validates\n",
    "        celsius = (value - 32) * 5/9\n",
    "        if celsius < -273.15:\n",
    "            raise ValueError(\"Temperature cannot be below absolute zero!\")\n",
    "        self._celsius = celsius\n",
    "\n"
   ]
  },
  {
   "cell_type": "code",
   "execution_count": 2,
   "id": "24dabbad-dc74-4a57-a958-f025b1e14d9b",
   "metadata": {},
   "outputs": [
    {
     "name": "stdout",
     "output_type": "stream",
     "text": [
      "25\n",
      "77.0\n",
      "20.0\n"
     ]
    }
   ],
   "source": [
    "# Example usage:\n",
    "temp = Temperature()\n",
    "temp.celsius = 25    # Sets temperature to 25°C\n",
    "print(temp.celsius)  # Output: 25.0\n",
    "print(temp.fahrenheit)  # Output: 77.0\n",
    "\n",
    "temp.fahrenheit = 68  # Sets temperature to 68°F (20°C)\n",
    "print(temp.celsius)  # Output: 20.0\n",
    "\n",
    "# This would raise a ValueError:\n",
    "# temp.celsius = -300  # Below absolute zero!"
   ]
  },
  {
   "cell_type": "code",
   "execution_count": null,
   "id": "06d340eb-1c5b-4468-b32f-0849c866bf61",
   "metadata": {},
   "outputs": [],
   "source": []
  }
 ],
 "metadata": {
  "kernelspec": {
   "display_name": "Python 3 (ipykernel)",
   "language": "python",
   "name": "python3"
  },
  "language_info": {
   "codemirror_mode": {
    "name": "ipython",
    "version": 3
   },
   "file_extension": ".py",
   "mimetype": "text/x-python",
   "name": "python",
   "nbconvert_exporter": "python",
   "pygments_lexer": "ipython3",
   "version": "3.13.0"
  }
 },
 "nbformat": 4,
 "nbformat_minor": 5
}
