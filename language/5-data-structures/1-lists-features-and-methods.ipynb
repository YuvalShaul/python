{
 "cells": [
  {
   "cell_type": "markdown",
   "id": "a8144f47-ff7e-4c3f-97a6-4d17d6063a36",
   "metadata": {},
   "source": [
    "### list comprehensions\n",
    "Some syntax patterns:\n",
    "```\n",
    "[out_expression <for_clause>]\n",
    "[out_expression <for_clause> if condition]\n",
    "[expr_if if condition else expr_else <for_clause>]\n",
    "[out_expression <for_clause> <for_clause>]  # nested\n",
    "```\n",
    "- out_expression determines what goes into the final list\n",
    "- for_clause is: for item in iterable\n",
    "- expr_if and expr_else are both output expressions used conditionally\n",
    "\n",
    "Let's demonstrate each one:"
   ]
  },
  {
   "cell_type": "code",
   "execution_count": 19,
   "id": "b83e678a-145b-4822-85cb-8e1385e1d478",
   "metadata": {},
   "outputs": [
    {
     "data": {
      "text/plain": [
       "[0, 1, 2, 3, 4, 5, 6, 7, 8, 9]"
      ]
     },
     "execution_count": 19,
     "metadata": {},
     "output_type": "execute_result"
    }
   ],
   "source": [
    "# [out_expression <for_clause>]\n",
    "[num for num in range(10)]"
   ]
  },
  {
   "cell_type": "code",
   "execution_count": 20,
   "id": "031f58de-f9f4-470f-aadb-b81138e78b6a",
   "metadata": {},
   "outputs": [
    {
     "name": "stdout",
     "output_type": "stream",
     "text": [
      "['Alice', 'beginning', 'very', 'tired', 'sitting', 'sister', 'bank', 'having', 'nothing']\n"
     ]
    }
   ],
   "source": [
    "# [out_expression <for_clause> if condition]\n",
    "words = 'Alice was beginning to get very tired of sitting by her sister on the bank and of having nothing to do'.split()\n",
    "choose = [ word for word in words if len(word)>3]\n",
    "print(choose)"
   ]
  },
  {
   "cell_type": "code",
   "execution_count": 21,
   "id": "4beeeecf-6c1d-42d7-8a97-a28dc0c18732",
   "metadata": {},
   "outputs": [
    {
     "name": "stdout",
     "output_type": "stream",
     "text": [
      "['Alice', '_____', 'beginning', '_____', 'get', 'very', 'tired', '_____', '_____', '_____', 'her', 'sister', '_____', 'the', '_____', '_____', '_____', '_____', '_____', '_____', '_____']\n"
     ]
    }
   ],
   "source": [
    "# [expr_if if condition else expr_else <for_clause>]\n",
    "word_fileter = [word if 'e' in word  else '_____'  for word in words]\n",
    "print(word_fileter)"
   ]
  },
  {
   "cell_type": "code",
   "execution_count": 22,
   "id": "cf68bdbe-8cdd-4d85-85ad-26911b4c07b7",
   "metadata": {},
   "outputs": [
    {
     "data": {
      "text/plain": [
       "[('at', 'ta'), ('cat', 'tac'), ('abc', 'cba')]"
      ]
     },
     "execution_count": 22,
     "metadata": {},
     "output_type": "execute_result"
    }
   ],
   "source": [
    "# [out_expression <for_clause> <for_clause>] \n",
    "# This is nested comprehensions\n",
    "words = ['at', 'ta', 'cat', 'tac', 'abc', 'cab', 'cba' , 'act']\n",
    "[(w1,w2) for w1 in words for w2 in words if w1 != w2 and w1 == w2[::-1] and words.index(w1) < words.index(w2)]\n"
   ]
  }
 ],
 "metadata": {
  "kernelspec": {
   "display_name": "Python 3 (ipykernel)",
   "language": "python",
   "name": "python3"
  },
  "language_info": {
   "codemirror_mode": {
    "name": "ipython",
    "version": 3
   },
   "file_extension": ".py",
   "mimetype": "text/x-python",
   "name": "python",
   "nbconvert_exporter": "python",
   "pygments_lexer": "ipython3",
   "version": "3.13.0"
  }
 },
 "nbformat": 4,
 "nbformat_minor": 5
}
