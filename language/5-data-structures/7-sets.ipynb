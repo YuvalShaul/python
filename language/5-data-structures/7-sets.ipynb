{
 "cells": [
  {
   "cell_type": "code",
   "execution_count": null,
   "id": "0f24a474-ed84-41a2-8dbd-e83c23071094",
   "metadata": {},
   "outputs": [],
   "source": []
  },
  {
   "cell_type": "code",
   "execution_count": 15,
   "id": "f67aafa4-077d-40f7-98ad-e1c8d308bb0d",
   "metadata": {},
   "outputs": [
    {
     "name": "stdout",
     "output_type": "stream",
     "text": [
      "{'d', 'c', 'e', 'g', 'b', 'a', 'f'}\n",
      "{'k', 'e', 'h', 'g', 'j', 'd', 'i', 'l', 'f', 'm'}\n",
      "set()\n",
      "{10, 11, 12, 13, 14, 15, 16, 17, 18, 19}\n"
     ]
    }
   ],
   "source": [
    "# Creating sets\n",
    "\n",
    "letters = {'a', 'b', 'c', 'd', 'e', 'f', 'g'}\n",
    "more_letters=set('defghijklm')\n",
    "# empty set\n",
    "empty = set()\n",
    "\n",
    "# converting list of numbers to set\n",
    "numbers = set([num for num in range(10,20)])\n",
    "print(letters)\n",
    "print(more_letters)\n",
    "print(empty)\n",
    "print(numbers)"
   ]
  },
  {
   "cell_type": "code",
   "execution_count": 16,
   "id": "e932d2e5-0cbf-43b1-ac65-f6bf397ba812",
   "metadata": {},
   "outputs": [
    {
     "name": "stdout",
     "output_type": "stream",
     "text": [
      "'h' in letters:  False\n",
      "'h' in more_letters:  True\n",
      "& op:  {'d', 'e', 'f', 'g'}\n",
      "| op:  {'e', 'h', 'g', 'b', 'f', 'k', 'c', 'j', 'a', 'd', 'i', 'l', 'm'}\n",
      "^ op:  {'k', 'h', 'c', 'b', 'j', 'a', 'i', 'l', 'm'}\n",
      "more_letters - letters:  {'k', 'h', 'j', 'i', 'l', 'm'}\n"
     ]
    }
   ],
   "source": [
    "# set operations\n",
    "\n",
    "print(\"'h' in letters: \", 'h' in letters)\n",
    "print(\"'h' in more_letters: \", 'h' in more_letters)\n",
    "\n",
    "print('& op: ', letters & more_letters)   # set AND operation\n",
    "print('| op: ', letters | more_letters)   # set OR operation\n",
    "print('^ op: ', letters ^ more_letters)   # set XOR operation\n",
    "print('more_letters - letters: ', more_letters - letters)"
   ]
  },
  {
   "cell_type": "code",
   "execution_count": 17,
   "id": "0ff53b22-7e74-4369-953c-0a19d8292dbf",
   "metadata": {},
   "outputs": [
    {
     "data": {
      "text/plain": [
       "{'a', 'b', 'n'}"
      ]
     },
     "execution_count": 17,
     "metadata": {},
     "output_type": "execute_result"
    }
   ],
   "source": [
    "# set comprehension\n",
    "s1 = {letter for letter in 'bannana'}\n",
    "s1"
   ]
  },
  {
   "cell_type": "code",
   "execution_count": 18,
   "id": "51a17395-c86d-4cb4-885a-3b81e3a4683f",
   "metadata": {},
   "outputs": [
    {
     "data": {
      "text/plain": [
       "[2, 3, 5, 7, 8, 9]"
      ]
     },
     "execution_count": 18,
     "metadata": {},
     "output_type": "execute_result"
    }
   ],
   "source": [
    "# remove duplicates from a list\n",
    "l1 = [3, 5, 5, 7, 7, 7, 9, 9, 5, 5, 5, 2, 2,3, 3, 2, 5, 8, 8, 8]\n",
    "list(set(l1))"
   ]
  }
 ],
 "metadata": {
  "kernelspec": {
   "display_name": "Python 3 (ipykernel)",
   "language": "python",
   "name": "python3"
  },
  "language_info": {
   "codemirror_mode": {
    "name": "ipython",
    "version": 3
   },
   "file_extension": ".py",
   "mimetype": "text/x-python",
   "name": "python",
   "nbconvert_exporter": "python",
   "pygments_lexer": "ipython3",
   "version": "3.13.0"
  }
 },
 "nbformat": 4,
 "nbformat_minor": 5
}
