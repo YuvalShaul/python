{
 "cells": [
  {
   "cell_type": "markdown",
   "id": "0454f8d2-337f-4cc1-8d61-82bbf1d9aefe",
   "metadata": {},
   "source": [
    "### Python Dictionary\n",
    "- can store values attached to \"keys\"\n",
    "- There is no order of elements\n",
    "- Search for key is fast, and not dependant on dictionary size"
   ]
  },
  {
   "cell_type": "code",
   "execution_count": 1,
   "id": "f0e469c1-0312-4908-ab1e-66d2ed934693",
   "metadata": {},
   "outputs": [
    {
     "name": "stdout",
     "output_type": "stream",
     "text": [
      "<class 'dict'>\n",
      "{'name': 'Shmulik', 'age': 39, 0: 'this is zero'}\n"
     ]
    }
   ],
   "source": [
    "# Creating a dictionary\n",
    "# \"name\" , \"age\", 0   are keys\n",
    "d1 = {\"name\" : \"Shmulik\", \"age\": 39, 0: 'this is zero'}\n",
    "print(type(d1))\n",
    "print(d1)"
   ]
  },
  {
   "cell_type": "code",
   "execution_count": 2,
   "id": "1181195d-940f-4d56-aa8c-3c647b05fa6b",
   "metadata": {},
   "outputs": [
    {
     "data": {
      "text/plain": [
       "39"
      ]
     },
     "execution_count": 2,
     "metadata": {},
     "output_type": "execute_result"
    }
   ],
   "source": [
    "# Accessing dictionary elements\n",
    "d1['age']"
   ]
  },
  {
   "cell_type": "code",
   "execution_count": 3,
   "id": "d53499c5-f6e8-4c05-807a-17df7ae5b04e",
   "metadata": {},
   "outputs": [
    {
     "data": {
      "text/plain": [
       "{'name': ['David', 'Shmulik', 'Yuval', 38], 'age': 39, 0: 'this is zero'}"
      ]
     },
     "execution_count": 3,
     "metadata": {},
     "output_type": "execute_result"
    }
   ],
   "source": [
    "# Altering value attached to a key:  in this case the new value is a list!\n",
    "d1['name'] = ['David', 'Shmulik','Yuval', 38]\n",
    "d1"
   ]
  },
  {
   "cell_type": "code",
   "execution_count": 4,
   "id": "7df5914c-5aef-4c1c-9a5a-0c8042d69eb9",
   "metadata": {},
   "outputs": [
    {
     "data": {
      "text/plain": [
       "11"
      ]
     },
     "execution_count": 4,
     "metadata": {},
     "output_type": "execute_result"
    }
   ],
   "source": [
    "# This is python: a value can even be a function\n",
    "def myfunc(a, b):\n",
    "    return a+b\n",
    "\n",
    "d1['age'] = myfunc     # Assign a function as a value\n",
    "d1['age'](4, 7)        # Now call that function"
   ]
  },
  {
   "cell_type": "code",
   "execution_count": 5,
   "id": "e29bafeb-3d7d-449e-988c-1f3b86574a26",
   "metadata": {},
   "outputs": [
    {
     "data": {
      "text/plain": [
       "2"
      ]
     },
     "execution_count": 5,
     "metadata": {},
     "output_type": "execute_result"
    }
   ],
   "source": [
    "# Here's a practical example of putting functions as values of a dictionary:\n",
    "def sum_op(x, y):\n",
    "    return x+y\n",
    "\n",
    "def minus_op(x, y):\n",
    "    return x-y\n",
    "\n",
    "ops = {'+': sum_op,  '-': minus_op}\n",
    "ops['-'](5, 3)"
   ]
  },
  {
   "cell_type": "code",
   "execution_count": 6,
   "id": "23f79275-8f83-4726-827a-b99c0972531c",
   "metadata": {},
   "outputs": [
    {
     "data": {
      "text/plain": [
       "2"
      ]
     },
     "execution_count": 6,
     "metadata": {},
     "output_type": "execute_result"
    }
   ],
   "source": [
    "# This is an example of puttomg a lambda function as a values\n",
    "# The reason for that: this is a simple function and we don't need a name for it\n",
    "ops = {'+': lambda x, y : x+y, '-': lambda x,y : x-y}\n",
    "ops['-'](5, 3)"
   ]
  },
  {
   "cell_type": "code",
   "execution_count": 7,
   "id": "43157cc1-667c-486f-bbe7-4c4f28d92e71",
   "metadata": {},
   "outputs": [
    {
     "data": {
      "text/plain": [
       "93"
      ]
     },
     "execution_count": 7,
     "metadata": {},
     "output_type": "execute_result"
    }
   ],
   "source": [
    "# Example:\n",
    "# A list inside a dictionary inside another dictionary, so tripple access\n",
    "a = {'name': 'Avner', 'grades': [86, 99, 67]}\n",
    "b = {'name': 'Sima', 'grades': [94, 93, 92]}\n",
    "c = {'name': 'Gordon', 'grades': [66, 88, 77]}\n",
    "\n",
    "students = {'123456789': a, '987654321': b, '5555555':c}  # put 3 sictionaries inside a parent dict\n",
    "students['987654321']['grades'][1]"
   ]
  }
 ],
 "metadata": {
  "kernelspec": {
   "display_name": "Python 3 (ipykernel)",
   "language": "python",
   "name": "python3"
  },
  "language_info": {
   "codemirror_mode": {
    "name": "ipython",
    "version": 3
   },
   "file_extension": ".py",
   "mimetype": "text/x-python",
   "name": "python",
   "nbconvert_exporter": "python",
   "pygments_lexer": "ipython3",
   "version": "3.13.0"
  }
 },
 "nbformat": 4,
 "nbformat_minor": 5
}
