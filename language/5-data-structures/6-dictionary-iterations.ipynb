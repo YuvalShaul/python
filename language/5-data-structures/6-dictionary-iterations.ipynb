{
 "cells": [
  {
   "cell_type": "markdown",
   "id": "b788b6c5-74f0-4c83-8366-0983820613f2",
   "metadata": {},
   "source": [
    "### Iterating over Dictionaries"
   ]
  },
  {
   "cell_type": "code",
   "execution_count": 1,
   "id": "a1058c29-c883-477a-92b8-6e980ee1ae6a",
   "metadata": {},
   "outputs": [
    {
     "name": "stdout",
     "output_type": "stream",
     "text": [
      "a\n",
      "b\n",
      "c\n",
      "d\n"
     ]
    }
   ],
   "source": [
    "d1 = {'a':1, 'b':2, 'c':3, 'd':4}\n",
    "for x in d1:\n",
    "    print(x)"
   ]
  },
  {
   "cell_type": "code",
   "execution_count": 2,
   "id": "a3c349e3-8bf8-41fe-866c-2df42ab127bb",
   "metadata": {},
   "outputs": [
    {
     "name": "stdout",
     "output_type": "stream",
     "text": [
      "dict_keys(['a', 'b', 'c', 'd']) <class 'dict_keys'>\n",
      "dict_values([1, 2, 3, 4]) <class 'dict_values'>\n",
      "dict_items([('a', 1), ('b', 2), ('c', 3), ('d', 4)]) <class 'dict_items'>\n"
     ]
    }
   ],
   "source": [
    "# Getting to know the functions usefull for iterations\n",
    "# These functions return view objects, which are memory efficient\n",
    "print(d1.keys(),  type(d1.keys()))\n",
    "print(d1.values(),  type(d1.values()))\n",
    "print(d1.items(), type(d1.items()))"
   ]
  },
  {
   "cell_type": "code",
   "execution_count": 3,
   "id": "c118004e-c395-4b86-8f2b-2aa263e969a4",
   "metadata": {},
   "outputs": [
    {
     "name": "stdout",
     "output_type": "stream",
     "text": [
      "a\n",
      "b\n",
      "c\n",
      "d\n"
     ]
    }
   ],
   "source": [
    "for key in d1.keys():\n",
    "    print(key)"
   ]
  },
  {
   "cell_type": "code",
   "execution_count": 4,
   "id": "e62f3ab3-2152-4f2e-8dd6-a58a2c6ec340",
   "metadata": {},
   "outputs": [
    {
     "name": "stdout",
     "output_type": "stream",
     "text": [
      "1\n",
      "2\n",
      "3\n",
      "4\n"
     ]
    }
   ],
   "source": [
    "for v in d1.values():\n",
    "    print(v)"
   ]
  },
  {
   "cell_type": "code",
   "execution_count": 5,
   "id": "60dad42d-8223-4993-8cae-392289487e2a",
   "metadata": {},
   "outputs": [
    {
     "name": "stdout",
     "output_type": "stream",
     "text": [
      "key:  a  value:  1\n",
      "key:  b  value:  2\n",
      "key:  c  value:  3\n",
      "key:  d  value:  4\n"
     ]
    }
   ],
   "source": [
    "for k,v in d1.items():\n",
    "    print('key: ', k, ' value: ', v)"
   ]
  }
 ],
 "metadata": {
  "kernelspec": {
   "display_name": "Python 3 (ipykernel)",
   "language": "python",
   "name": "python3"
  },
  "language_info": {
   "codemirror_mode": {
    "name": "ipython",
    "version": 3
   },
   "file_extension": ".py",
   "mimetype": "text/x-python",
   "name": "python",
   "nbconvert_exporter": "python",
   "pygments_lexer": "ipython3",
   "version": "3.13.0"
  }
 },
 "nbformat": 4,
 "nbformat_minor": 5
}
