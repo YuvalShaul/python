{
 "cells": [
  {
   "cell_type": "markdown",
   "id": "29f12d4c-0bbc-49ed-8c39-ef0e21b4cfc0",
   "metadata": {},
   "source": [
    "### Iterating over a list"
   ]
  },
  {
   "cell_type": "code",
   "execution_count": 3,
   "id": "7470b0c5-9fee-4418-9b12-85bac3d958b5",
   "metadata": {},
   "outputs": [
    {
     "name": "stdout",
     "output_type": "stream",
     "text": [
      "0  \n",
      "1 a\n",
      "2 b\n",
      "3 c\n",
      "4 d\n",
      "5 e\n"
     ]
    }
   ],
   "source": [
    "# Sometimes you needaccess to the index of an item in a list.\n",
    "# This would work, but we'll see a better option soon\n",
    "l1 = [' ', 'a', 'b', 'c', 'd', 'e']\n",
    "for i in range(len(l1)):\n",
    "    print(i, l1[i])\n"
   ]
  },
  {
   "cell_type": "code",
   "execution_count": 4,
   "id": "3bcd629a-cc9a-44ba-aeaf-f1020db7d516",
   "metadata": {},
   "outputs": [
    {
     "name": "stdout",
     "output_type": "stream",
     "text": [
      "0  \n",
      "1 a\n",
      "2 b\n",
      "3 c\n",
      "4 d\n",
      "5 e\n"
     ]
    }
   ],
   "source": [
    "# This is a much better option\n",
    "for i,v in enumerate(l1):\n",
    "    print(i, v)"
   ]
  }
 ],
 "metadata": {
  "kernelspec": {
   "display_name": "Python 3 (ipykernel)",
   "language": "python",
   "name": "python3"
  },
  "language_info": {
   "codemirror_mode": {
    "name": "ipython",
    "version": 3
   },
   "file_extension": ".py",
   "mimetype": "text/x-python",
   "name": "python",
   "nbconvert_exporter": "python",
   "pygments_lexer": "ipython3",
   "version": "3.13.0"
  }
 },
 "nbformat": 4,
 "nbformat_minor": 5
}
