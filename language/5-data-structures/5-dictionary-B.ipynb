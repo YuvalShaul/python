{
 "cells": [
  {
   "cell_type": "markdown",
   "id": "eb54f0cc-3d81-49f9-b721-08d4e3b683e5",
   "metadata": {},
   "source": [
    "### What to use as key?\n",
    "- Only immutable values\n",
    "- Good options:  int, float, str, tuple, bool\n",
    "- Bad optinos:  list, dict, set"
   ]
  },
  {
   "cell_type": "code",
   "execution_count": 1,
   "id": "8fe41a5b-75e8-47ce-a76c-5004d66eb88d",
   "metadata": {},
   "outputs": [
    {
     "data": {
      "text/plain": [
       "{3: 5, 'hello': 88, 19.6: [4, 5, 6]}"
      ]
     },
     "execution_count": 1,
     "metadata": {},
     "output_type": "execute_result"
    }
   ],
   "source": [
    "# All of these are good options\n",
    "d1 = {3: 5, 'hello': 88, 19.6 : [4, 5, 6]}\n",
    "d1"
   ]
  },
  {
   "cell_type": "code",
   "execution_count": 2,
   "id": "5c31aa66-2782-47d4-81be-7aa3370e1197",
   "metadata": {},
   "outputs": [
    {
     "ename": "TypeError",
     "evalue": "unhashable type: 'list'",
     "output_type": "error",
     "traceback": [
      "\u001b[1;31m---------------------------------------------------------------------------\u001b[0m",
      "\u001b[1;31mTypeError\u001b[0m                                 Traceback (most recent call last)",
      "Cell \u001b[1;32mIn[2], line 2\u001b[0m\n\u001b[0;32m      1\u001b[0m \u001b[38;5;66;03m# This is an example of a bad option: list\u001b[39;00m\n\u001b[1;32m----> 2\u001b[0m d2 \u001b[38;5;241m=\u001b[39m { \u001b[38;5;124m'\u001b[39m\u001b[38;5;124mname\u001b[39m\u001b[38;5;124m'\u001b[39m: \u001b[38;5;241m101\u001b[39m, [\u001b[38;5;241m3\u001b[39m, \u001b[38;5;241m4\u001b[39m, \u001b[38;5;241m5\u001b[39m]: \u001b[38;5;241m102\u001b[39m}\n",
      "\u001b[1;31mTypeError\u001b[0m: unhashable type: 'list'"
     ]
    }
   ],
   "source": [
    "# This is an example of a bad option: list\n",
    "d2 = { 'name': 101, [3, 4, 5]: 102}"
   ]
  },
  {
   "cell_type": "code",
   "execution_count": 3,
   "id": "53e5a0c5-f286-4247-8274-887d5ce0435b",
   "metadata": {},
   "outputs": [
    {
     "data": {
      "text/plain": [
       "'two'"
      ]
     },
     "execution_count": 3,
     "metadata": {},
     "output_type": "execute_result"
    }
   ],
   "source": [
    "# Using a tuple as a key:\n",
    "d4 = { (2, 3): 'one', (4, 7):'two'}\n",
    "d4[(4,7)]"
   ]
  },
  {
   "cell_type": "code",
   "execution_count": 5,
   "id": "cec9d12d-b42a-4a3b-8e8e-a0690c163431",
   "metadata": {},
   "outputs": [
    {
     "data": {
      "text/plain": [
       "'three'"
      ]
     },
     "execution_count": 5,
     "metadata": {},
     "output_type": "execute_result"
    }
   ],
   "source": [
    "# Adding values\n",
    "d4['map_name'] = \"Anastasia\"\n",
    "d4[(5, 6, 7)] = 'three'\n",
    "d4[(5, 6, 7)]"
   ]
  },
  {
   "cell_type": "code",
   "execution_count": 10,
   "id": "6ae21a24-1306-42c3-adfb-357f48ff6513",
   "metadata": {},
   "outputs": [
    {
     "name": "stdout",
     "output_type": "stream",
     "text": [
      "<class 'bool'>\n"
     ]
    },
    {
     "data": {
      "text/plain": [
       "100"
      ]
     },
     "execution_count": 10,
     "metadata": {},
     "output_type": "execute_result"
    }
   ],
   "source": [
    "# Using False or True as keys\n",
    "print(type(False))\n",
    "d7 = { (3, 4, 5): 'One', (3, 6, 7, 8, 'good') : 'Two'}\n",
    "d7[(3, 6, 7, 8, 'good')]\n",
    "d7[False] = 100\n",
    "d7[3<1]"
   ]
  },
  {
   "cell_type": "code",
   "execution_count": 9,
   "id": "38630959-6eaf-42ae-aa8b-99683414b347",
   "metadata": {},
   "outputs": [
    {
     "name": "stdout",
     "output_type": "stream",
     "text": [
      "dict_keys([(3, 4, 5), (3, 6, 7, 8, 'good'), False])\n"
     ]
    }
   ],
   "source": [
    "# Getting keys of a dictionary\n",
    "print(d7.keys())"
   ]
  }
 ],
 "metadata": {
  "kernelspec": {
   "display_name": "Python 3 (ipykernel)",
   "language": "python",
   "name": "python3"
  },
  "language_info": {
   "codemirror_mode": {
    "name": "ipython",
    "version": 3
   },
   "file_extension": ".py",
   "mimetype": "text/x-python",
   "name": "python",
   "nbconvert_exporter": "python",
   "pygments_lexer": "ipython3",
   "version": "3.13.0"
  }
 },
 "nbformat": 4,
 "nbformat_minor": 5
}
