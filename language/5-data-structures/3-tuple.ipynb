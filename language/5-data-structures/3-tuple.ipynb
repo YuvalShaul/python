{
 "cells": [
  {
   "cell_type": "markdown",
   "id": "9db74a4e-ac7e-4716-ad3d-6221c5b3602f",
   "metadata": {},
   "source": [
    "### tuple\n",
    "- A tuple is simmilar to a list, but immutable"
   ]
  },
  {
   "cell_type": "code",
   "execution_count": 2,
   "id": "276343bd-fcfb-451a-80c5-425b54bd7e81",
   "metadata": {},
   "outputs": [
    {
     "name": "stdout",
     "output_type": "stream",
     "text": [
      "(5, 6, 7)\n",
      "(17,)\n",
      "(14,)\n",
      "(14, 16, 18)\n"
     ]
    }
   ],
   "source": [
    "# Creating tuples\n",
    "t1 = tuple([5, 6, 7])   # from a list\n",
    "t2 = tuple([17])        # from a list even if it has a single element\n",
    "t3 = (14,)              # directly, one element\n",
    "t4 = (14, 16, 18)       # directly\n",
    "print(t1)\n",
    "print(t2)\n",
    "print(t3)\n",
    "print(t4)"
   ]
  },
  {
   "cell_type": "markdown",
   "id": "591e002e-e3e2-46fc-9e47-9226764dc3b0",
   "metadata": {},
   "source": [
    "### Packing and unpacking"
   ]
  },
  {
   "cell_type": "code",
   "execution_count": 9,
   "id": "fe906491-d45f-44a4-a55c-0474d945fc7c",
   "metadata": {},
   "outputs": [
    {
     "name": "stdout",
     "output_type": "stream",
     "text": [
      "5\n",
      "6\n"
     ]
    }
   ],
   "source": [
    "a = (5, 6)\n",
    "x,y = a    # unpacking the tuple\n",
    "print(x)\n",
    "print(y)"
   ]
  },
  {
   "cell_type": "code",
   "execution_count": 11,
   "id": "1c9fbced-90ab-492c-a7ad-1a9ff28716f2",
   "metadata": {},
   "outputs": [
    {
     "name": "stdout",
     "output_type": "stream",
     "text": [
      "9\n",
      "8\n"
     ]
    }
   ],
   "source": [
    "# Using this to swap content of variables\n",
    "x =8\n",
    "y=9\n",
    "\n",
    "x,y = y,x\n",
    "\n",
    "print(x)\n",
    "print(y)"
   ]
  },
  {
   "cell_type": "code",
   "execution_count": 13,
   "id": "3627af34-5e96-4c54-992c-413b6831c0fc",
   "metadata": {},
   "outputs": [
    {
     "name": "stdout",
     "output_type": "stream",
     "text": [
      "8\n",
      "7\n",
      "9\n"
     ]
    }
   ],
   "source": [
    "# Same with 3 elements\n",
    "a, b, c = 9, 8, \n",
    "a, b, c = b, c, a\n",
    "print(a)\n",
    "print(b)\n",
    "print(c)\n"
   ]
  },
  {
   "cell_type": "code",
   "execution_count": null,
   "id": "2e6c5ab8-f094-4f1c-b4f7-64dcf05f5fda",
   "metadata": {},
   "outputs": [],
   "source": [
    "# Can you write a small program to print the Fibonacci series?"
   ]
  }
 ],
 "metadata": {
  "kernelspec": {
   "display_name": "Python 3 (ipykernel)",
   "language": "python",
   "name": "python3"
  },
  "language_info": {
   "codemirror_mode": {
    "name": "ipython",
    "version": 3
   },
   "file_extension": ".py",
   "mimetype": "text/x-python",
   "name": "python",
   "nbconvert_exporter": "python",
   "pygments_lexer": "ipython3",
   "version": "3.13.0"
  }
 },
 "nbformat": 4,
 "nbformat_minor": 5
}
