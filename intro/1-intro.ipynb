{
 "cells": [
  {
   "cell_type": "markdown",
   "id": "c5b16a51-160d-4cee-b117-50834d083a8c",
   "metadata": {},
   "source": [
    "## Intro to the Language\n",
    "You can use python as a calculator.  \n",
    "Here, you can do it inside a jupyter notebook.  \n",
    "If you are using the interpreter directly you can do the same."
   ]
  },
  {
   "cell_type": "markdown",
   "id": "0baa3055-b36b-4d3a-8a72-0a098293f07c",
   "metadata": {},
   "source": [
    "### Comments"
   ]
  },
  {
   "cell_type": "code",
   "execution_count": 39,
   "id": "8df60492-d463-413f-9179-94b040476a9e",
   "metadata": {},
   "outputs": [
    {
     "data": {
      "text/plain": [
       "5"
      ]
     },
     "execution_count": 39,
     "metadata": {},
     "output_type": "execute_result"
    }
   ],
   "source": [
    "# This is a comment.\n",
    "# Next line calculate something, and the result will be shown directly:\n",
    "2 + 3"
   ]
  },
  {
   "cell_type": "code",
   "execution_count": 40,
   "id": "7e800081-d9cd-49e3-b709-f175610cd2fd",
   "metadata": {},
   "outputs": [
    {
     "data": {
      "text/plain": [
       "8"
      ]
     },
     "execution_count": 40,
     "metadata": {},
     "output_type": "execute_result"
    }
   ],
   "source": [
    "# Comments can come after some code\n",
    "2 * 4  # the asterisk character here means: 'multiply"
   ]
  },
  {
   "cell_type": "markdown",
   "id": "66025bb5-ce2f-42ee-ad55-78257039d200",
   "metadata": {},
   "source": [
    "### Using numbers"
   ]
  },
  {
   "cell_type": "code",
   "execution_count": 41,
   "id": "a60e33cb-6c5b-4c79-be2d-7d0a7a162f79",
   "metadata": {},
   "outputs": [
    {
     "data": {
      "text/plain": [
       "14.75"
      ]
     },
     "execution_count": 41,
     "metadata": {},
     "output_type": "execute_result"
    }
   ],
   "source": [
    "# In Python we divide by using /\n",
    "5+7/4+8"
   ]
  },
  {
   "cell_type": "code",
   "execution_count": 42,
   "id": "f5c1b35a-c43e-4d14-a51c-1fcf2de1a1b1",
   "metadata": {},
   "outputs": [
    {
     "data": {
      "text/plain": [
       "11.0"
      ]
     },
     "execution_count": 42,
     "metadata": {},
     "output_type": "execute_result"
    }
   ],
   "source": [
    "# Parentheses help you keep the order of evaluation you need:\n",
    "(5+7)/4+8"
   ]
  },
  {
   "cell_type": "markdown",
   "id": "581f8cc3-05f8-423b-90ee-6907c15a8a70",
   "metadata": {},
   "source": [
    "### + and -"
   ]
  },
  {
   "cell_type": "code",
   "execution_count": 43,
   "id": "c5edfe21-3156-4699-ab66-a9a21e6b1a44",
   "metadata": {},
   "outputs": [
    {
     "data": {
      "text/plain": [
       "-3"
      ]
     },
     "execution_count": 43,
     "metadata": {},
     "output_type": "execute_result"
    }
   ],
   "source": [
    "4 - 7"
   ]
  },
  {
   "cell_type": "code",
   "execution_count": 44,
   "id": "e2faf144-02c1-4efc-8913-aa31b6ae9c79",
   "metadata": {},
   "outputs": [
    {
     "data": {
      "text/plain": [
       "-13"
      ]
     },
     "execution_count": 44,
     "metadata": {},
     "output_type": "execute_result"
    }
   ],
   "source": [
    "-9 + -4"
   ]
  },
  {
   "cell_type": "code",
   "execution_count": 45,
   "id": "ce66d87a-0441-445d-8f7d-86f5d4d047dc",
   "metadata": {},
   "outputs": [
    {
     "data": {
      "text/plain": [
       "1"
      ]
     },
     "execution_count": 45,
     "metadata": {},
     "output_type": "execute_result"
    }
   ],
   "source": [
    "-5 - -6"
   ]
  },
  {
   "cell_type": "markdown",
   "id": "a38cdb6a-fae8-47de-88e3-03d306a49cf0",
   "metadata": {},
   "source": [
    "### / and //"
   ]
  },
  {
   "cell_type": "code",
   "execution_count": 46,
   "id": "5ff42d10-84d2-41bb-97e8-d42ca8cd60e8",
   "metadata": {},
   "outputs": [
    {
     "data": {
      "text/plain": [
       "4.2"
      ]
     },
     "execution_count": 46,
     "metadata": {},
     "output_type": "execute_result"
    }
   ],
   "source": [
    "# Regulra divide is noted by /, and always returns a floating point number:\n",
    "21/5"
   ]
  },
  {
   "cell_type": "code",
   "execution_count": 47,
   "id": "404c11cd-45eb-412a-a4be-cfa3a7a00d62",
   "metadata": {},
   "outputs": [
    {
     "data": {
      "text/plain": [
       "3.0"
      ]
     },
     "execution_count": 47,
     "metadata": {},
     "output_type": "execute_result"
    }
   ],
   "source": [
    "15/5"
   ]
  },
  {
   "cell_type": "code",
   "execution_count": 48,
   "id": "38d0656f-f00e-4cd5-b79c-de1ec366ad0b",
   "metadata": {},
   "outputs": [
    {
     "data": {
      "text/plain": [
       "4"
      ]
     },
     "execution_count": 48,
     "metadata": {},
     "output_type": "execute_result"
    }
   ],
   "source": [
    "# You can get rid of the fraction and get an integer by using //\n",
    "21//5"
   ]
  },
  {
   "cell_type": "markdown",
   "id": "28b0bb6d-1e02-4c6b-984b-e453945ac0fd",
   "metadata": {},
   "source": [
    "### * and **"
   ]
  },
  {
   "cell_type": "code",
   "execution_count": 49,
   "id": "65c84a4c-579b-4523-878e-0e37eb19b73e",
   "metadata": {},
   "outputs": [
    {
     "data": {
      "text/plain": [
       "30.0"
      ]
     },
     "execution_count": 49,
     "metadata": {},
     "output_type": "execute_result"
    }
   ],
   "source": [
    "# multipication:\n",
    "4 * 7.5"
   ]
  },
  {
   "cell_type": "code",
   "execution_count": 50,
   "id": "006d482a-24e9-43cf-8e55-ba9b8a1431cc",
   "metadata": {},
   "outputs": [
    {
     "data": {
      "text/plain": [
       "-48"
      ]
     },
     "execution_count": 50,
     "metadata": {},
     "output_type": "execute_result"
    }
   ],
   "source": [
    "-8 * 6"
   ]
  },
  {
   "cell_type": "code",
   "execution_count": 51,
   "id": "b0f70f05-91b7-41fe-b8d3-abf999eea18c",
   "metadata": {},
   "outputs": [
    {
     "data": {
      "text/plain": [
       "16"
      ]
     },
     "execution_count": 51,
     "metadata": {},
     "output_type": "execute_result"
    }
   ],
   "source": [
    "# To specify powers, use two asterisks:\n",
    "2**4"
   ]
  },
  {
   "cell_type": "code",
   "execution_count": 52,
   "id": "eb2c506b-57d9-408a-9fca-63e406f343aa",
   "metadata": {},
   "outputs": [
    {
     "data": {
      "text/plain": [
       "-16"
      ]
     },
     "execution_count": 52,
     "metadata": {},
     "output_type": "execute_result"
    }
   ],
   "source": [
    "-2**4"
   ]
  },
  {
   "cell_type": "code",
   "execution_count": 53,
   "id": "ff99aa9f-d96e-4bed-877b-176b34d4cf17",
   "metadata": {},
   "outputs": [
    {
     "data": {
      "text/plain": [
       "16"
      ]
     },
     "execution_count": 53,
     "metadata": {},
     "output_type": "execute_result"
    }
   ],
   "source": [
    "(-2)**4"
   ]
  },
  {
   "cell_type": "code",
   "execution_count": 54,
   "id": "89eabd01-ee3b-4cc7-bec3-c83af1e94736",
   "metadata": {},
   "outputs": [
    {
     "data": {
      "text/plain": [
       "0.0625"
      ]
     },
     "execution_count": 54,
     "metadata": {},
     "output_type": "execute_result"
    }
   ],
   "source": [
    "2**-4"
   ]
  }
 ],
 "metadata": {
  "kernelspec": {
   "display_name": "Python 3 (ipykernel)",
   "language": "python",
   "name": "python3"
  },
  "language_info": {
   "codemirror_mode": {
    "name": "ipython",
    "version": 3
   },
   "file_extension": ".py",
   "mimetype": "text/x-python",
   "name": "python",
   "nbconvert_exporter": "python",
   "pygments_lexer": "ipython3",
   "version": "3.13.0"
  }
 },
 "nbformat": 4,
 "nbformat_minor": 5
}
