{
 "cells": [
  {
   "cell_type": "markdown",
   "id": "c5b16a51-160d-4cee-b117-50834d083a8c",
   "metadata": {},
   "source": [
    "## Intro to the Language\n",
    "You can use python as a calculator.  \n",
    "Here, you can do it inside a jupyter notebook.  \n",
    "If you are using the interpreter directly you can do the same."
   ]
  },
  {
   "cell_type": "markdown",
   "id": "0baa3055-b36b-4d3a-8a72-0a098293f07c",
   "metadata": {},
   "source": [
    "### Comments"
   ]
  },
  {
   "cell_type": "code",
   "execution_count": 18,
   "id": "8df60492-d463-413f-9179-94b040476a9e",
   "metadata": {},
   "outputs": [
    {
     "data": {
      "text/plain": [
       "5"
      ]
     },
     "execution_count": 18,
     "metadata": {},
     "output_type": "execute_result"
    }
   ],
   "source": [
    "# This is a comment.\n",
    "# Next line calculate something, and the result will be shown directly:\n",
    "2 + 3"
   ]
  },
  {
   "cell_type": "code",
   "execution_count": 19,
   "id": "7e800081-d9cd-49e3-b709-f175610cd2fd",
   "metadata": {},
   "outputs": [
    {
     "data": {
      "text/plain": [
       "8"
      ]
     },
     "execution_count": 19,
     "metadata": {},
     "output_type": "execute_result"
    }
   ],
   "source": [
    "# Comments can come after some code\n",
    "2 * 4  # the asterisk character here means: 'multiply"
   ]
  },
  {
   "cell_type": "markdown",
   "id": "66025bb5-ce2f-42ee-ad55-78257039d200",
   "metadata": {},
   "source": [
    "### Using Numbers"
   ]
  },
  {
   "cell_type": "code",
   "execution_count": 20,
   "id": "a60e33cb-6c5b-4c79-be2d-7d0a7a162f79",
   "metadata": {},
   "outputs": [
    {
     "data": {
      "text/plain": [
       "14.75"
      ]
     },
     "execution_count": 20,
     "metadata": {},
     "output_type": "execute_result"
    }
   ],
   "source": [
    "# In Python we divide by using /\n",
    "5+7/4+8"
   ]
  },
  {
   "cell_type": "code",
   "execution_count": 21,
   "id": "f5c1b35a-c43e-4d14-a51c-1fcf2de1a1b1",
   "metadata": {},
   "outputs": [
    {
     "data": {
      "text/plain": [
       "11.0"
      ]
     },
     "execution_count": 21,
     "metadata": {},
     "output_type": "execute_result"
    }
   ],
   "source": [
    "# Parentheses help you keep the order of evaluation you need:\n",
    "(5+7)/4+8"
   ]
  },
  {
   "cell_type": "code",
   "execution_count": 22,
   "id": "b0f70f05-91b7-41fe-b8d3-abf999eea18c",
   "metadata": {},
   "outputs": [
    {
     "data": {
      "text/plain": [
       "16"
      ]
     },
     "execution_count": 22,
     "metadata": {},
     "output_type": "execute_result"
    }
   ],
   "source": [
    "# To specify powers, use two asterisks:\n",
    "2**4"
   ]
  },
  {
   "cell_type": "code",
   "execution_count": 23,
   "id": "eb2c506b-57d9-408a-9fca-63e406f343aa",
   "metadata": {},
   "outputs": [
    {
     "data": {
      "text/plain": [
       "-16"
      ]
     },
     "execution_count": 23,
     "metadata": {},
     "output_type": "execute_result"
    }
   ],
   "source": [
    "-2**4"
   ]
  },
  {
   "cell_type": "code",
   "execution_count": 24,
   "id": "ff99aa9f-d96e-4bed-877b-176b34d4cf17",
   "metadata": {},
   "outputs": [
    {
     "data": {
      "text/plain": [
       "16"
      ]
     },
     "execution_count": 24,
     "metadata": {},
     "output_type": "execute_result"
    }
   ],
   "source": [
    "(-2)**4"
   ]
  },
  {
   "cell_type": "code",
   "execution_count": 25,
   "id": "89eabd01-ee3b-4cc7-bec3-c83af1e94736",
   "metadata": {},
   "outputs": [
    {
     "data": {
      "text/plain": [
       "0.0625"
      ]
     },
     "execution_count": 25,
     "metadata": {},
     "output_type": "execute_result"
    }
   ],
   "source": [
    "2**-4"
   ]
  }
 ],
 "metadata": {
  "kernelspec": {
   "display_name": "Python 3 (ipykernel)",
   "language": "python",
   "name": "python3"
  },
  "language_info": {
   "codemirror_mode": {
    "name": "ipython",
    "version": 3
   },
   "file_extension": ".py",
   "mimetype": "text/x-python",
   "name": "python",
   "nbconvert_exporter": "python",
   "pygments_lexer": "ipython3",
   "version": "3.13.0"
  }
 },
 "nbformat": 4,
 "nbformat_minor": 5
}
