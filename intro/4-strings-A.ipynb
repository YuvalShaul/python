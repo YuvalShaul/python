{
 "cells": [
  {
   "cell_type": "markdown",
   "id": "4cfd736f-25f7-45af-b04e-636c8ca27158",
   "metadata": {},
   "source": [
    "### Some str examples"
   ]
  },
  {
   "cell_type": "code",
   "execution_count": 19,
   "id": "ac3fc553-fa4b-4bb2-bd0f-4d04a1fcd8c8",
   "metadata": {},
   "outputs": [
    {
     "data": {
      "text/plain": [
       "'spam eggs'"
      ]
     },
     "execution_count": 19,
     "metadata": {},
     "output_type": "execute_result"
    }
   ],
   "source": [
    "'spam eggs'  # single quotes"
   ]
  },
  {
   "cell_type": "code",
   "execution_count": 20,
   "id": "9fcd9a41-6267-4ae8-8c6a-30903d208dc2",
   "metadata": {},
   "outputs": [
    {
     "data": {
      "text/plain": [
       "\"doesn't\""
      ]
     },
     "execution_count": 20,
     "metadata": {},
     "output_type": "execute_result"
    }
   ],
   "source": [
    "'doesn\\'t'  # use \\' to escape the single quote..."
   ]
  },
  {
   "cell_type": "code",
   "execution_count": 21,
   "id": "e6283e77-8318-4a47-8227-e8830b846135",
   "metadata": {},
   "outputs": [
    {
     "data": {
      "text/plain": [
       "\"doesn't\""
      ]
     },
     "execution_count": 21,
     "metadata": {},
     "output_type": "execute_result"
    }
   ],
   "source": [
    "\"doesn't\"  # ...or use double quotes instead"
   ]
  },
  {
   "cell_type": "code",
   "execution_count": 22,
   "id": "5e083575-bb84-4832-8422-80d27756412b",
   "metadata": {},
   "outputs": [
    {
     "data": {
      "text/plain": [
       "'\"Yes,\" he said.'"
      ]
     },
     "execution_count": 22,
     "metadata": {},
     "output_type": "execute_result"
    }
   ],
   "source": [
    "'\"Yes,\" he said.'"
   ]
  },
  {
   "cell_type": "code",
   "execution_count": 23,
   "id": "7a25845b-e33d-468f-bea9-adf9eb9b36db",
   "metadata": {},
   "outputs": [
    {
     "data": {
      "text/plain": [
       "'\"Yes,\" he said.'"
      ]
     },
     "execution_count": 23,
     "metadata": {},
     "output_type": "execute_result"
    }
   ],
   "source": [
    "\"\\\"Yes,\\\" he said.\""
   ]
  },
  {
   "cell_type": "code",
   "execution_count": 24,
   "id": "5b721978-0537-4256-9b9a-9368a249fd8a",
   "metadata": {},
   "outputs": [
    {
     "data": {
      "text/plain": [
       "'\"Isn\\'t,\" she said.'"
      ]
     },
     "execution_count": 24,
     "metadata": {},
     "output_type": "execute_result"
    }
   ],
   "source": [
    "'\"Isn\\'t,\" she said.'"
   ]
  },
  {
   "cell_type": "markdown",
   "id": "23deeb75-39f6-4805-85c5-ae1333c3cc78",
   "metadata": {},
   "source": [
    "### Raw strings"
   ]
  },
  {
   "cell_type": "code",
   "execution_count": 25,
   "id": "d15e2748-4bed-463c-9511-997061e3c4a2",
   "metadata": {},
   "outputs": [
    {
     "name": "stdout",
     "output_type": "stream",
     "text": [
      "C:\\some\n",
      "ame\n"
     ]
    },
    {
     "name": "stderr",
     "output_type": "stream",
     "text": [
      "<>:1: SyntaxWarning: invalid escape sequence '\\s'\n",
      "<>:1: SyntaxWarning: invalid escape sequence '\\s'\n",
      "C:\\Users\\yuval\\AppData\\Local\\Temp\\ipykernel_23772\\2526073677.py:1: SyntaxWarning: invalid escape sequence '\\s'\n",
      "  print('C:\\some\\name') # here \\n means newline!\n"
     ]
    }
   ],
   "source": [
    "print('C:\\some\\name') # here \\n means newline!"
   ]
  },
  {
   "cell_type": "code",
   "execution_count": 26,
   "id": "62e300b9-b188-4fb1-b460-955f881cb6d6",
   "metadata": {},
   "outputs": [
    {
     "name": "stdout",
     "output_type": "stream",
     "text": [
      "C:\\some\\name\n"
     ]
    }
   ],
   "source": [
    "print(r'C:\\some\\name')  # note the r before the quote"
   ]
  },
  {
   "cell_type": "markdown",
   "id": "ac3b5848-cd3f-48c9-ab19-af82ba906dcd",
   "metadata": {},
   "source": [
    "### Multi-line string literals"
   ]
  },
  {
   "cell_type": "code",
   "execution_count": 27,
   "id": "c7f08b71-2823-4b5e-8e5e-b73e28cffc97",
   "metadata": {},
   "outputs": [
    {
     "data": {
      "text/plain": [
       "' line 1111\\nline 222\\nline 333 '"
      ]
     },
     "execution_count": 27,
     "metadata": {},
     "output_type": "execute_result"
    }
   ],
   "source": [
    "''' line 1111\n",
    "line 222\n",
    "line 333 '''"
   ]
  },
  {
   "cell_type": "code",
   "execution_count": 28,
   "id": "e2c03e98-fab5-4a39-85d5-ccbedbb4c951",
   "metadata": {},
   "outputs": [
    {
     "name": "stdout",
     "output_type": "stream",
     "text": [
      " line 1111\n",
      "line 222\n",
      "line 333 \n"
     ]
    }
   ],
   "source": [
    "print(''' line 1111\n",
    "line 222\n",
    "line 333 ''')"
   ]
  },
  {
   "cell_type": "code",
   "execution_count": 29,
   "id": "5d183c83-71ec-440d-b5d6-f8c8dccd9492",
   "metadata": {},
   "outputs": [
    {
     "name": "stdout",
     "output_type": "stream",
     "text": [
      " line 1111 line 222 line 333 \n"
     ]
    }
   ],
   "source": [
    "print(''' line 1111 \\\n",
    "line 222 \\\n",
    "line 333 ''')"
   ]
  },
  {
   "cell_type": "markdown",
   "id": "001e50b4-2104-47d6-8220-53d90e22b501",
   "metadata": {},
   "source": [
    "### Concatenate strings"
   ]
  },
  {
   "cell_type": "code",
   "execution_count": 30,
   "id": "8ef50b56-ef05-4a15-ac34-6431d3ca5394",
   "metadata": {},
   "outputs": [
    {
     "data": {
      "text/plain": [
       "'Hello World!!!'"
      ]
     },
     "execution_count": 30,
     "metadata": {},
     "output_type": "execute_result"
    }
   ],
   "source": [
    "# Using + to concatenate strings:\n",
    "\"Hello\" + ' ' + \"World!!!\""
   ]
  },
  {
   "cell_type": "code",
   "execution_count": 31,
   "id": "97200d19-00ae-4603-8ab7-512c29a59fd6",
   "metadata": {},
   "outputs": [
    {
     "data": {
      "text/plain": [
       "'byebye my love'"
      ]
     },
     "execution_count": 31,
     "metadata": {},
     "output_type": "execute_result"
    }
   ],
   "source": [
    "2*'bye' + ' ' + 'my love'"
   ]
  },
  {
   "cell_type": "code",
   "execution_count": 32,
   "id": "c87bd45a-8bd6-4b31-889e-95135fcb73f4",
   "metadata": {},
   "outputs": [
    {
     "data": {
      "text/plain": [
       "'helloworld!!!'"
      ]
     },
     "execution_count": 32,
     "metadata": {},
     "output_type": "execute_result"
    }
   ],
   "source": [
    "# Strings without any operators !!!!\n",
    "\"hello\"   \"world!!!\""
   ]
  }
 ],
 "metadata": {
  "kernelspec": {
   "display_name": "Python 3 (ipykernel)",
   "language": "python",
   "name": "python3"
  },
  "language_info": {
   "codemirror_mode": {
    "name": "ipython",
    "version": 3
   },
   "file_extension": ".py",
   "mimetype": "text/x-python",
   "name": "python",
   "nbconvert_exporter": "python",
   "pygments_lexer": "ipython3",
   "version": "3.13.0"
  }
 },
 "nbformat": 4,
 "nbformat_minor": 5
}
