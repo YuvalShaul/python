{
 "cells": [
  {
   "cell_type": "code",
   "execution_count": 11,
   "metadata": {
    "vscode": {
     "languageId": "plaintext"
    }
   },
   "outputs": [],
   "source": [
    "import numpy as np"
   ]
  },
  {
   "cell_type": "code",
   "execution_count": 12,
   "metadata": {},
   "outputs": [
    {
     "name": "stdout",
     "output_type": "stream",
     "text": [
      "simple 2d:\n",
      " [[1 2 3]\n",
      " [4 5 6]]\n"
     ]
    }
   ],
   "source": [
    "# Creating 2D arrays\n",
    "array_2d = np.array([[1, 2, 3],\n",
    "                     [4, 5, 6]])\n",
    "print('simple 2d:\\n', array_2d)"
   ]
  },
  {
   "cell_type": "code",
   "execution_count": 13,
   "metadata": {},
   "outputs": [
    {
     "name": "stdout",
     "output_type": "stream",
     "text": [
      "simple 2d from ranges:\n",
      " [[0 1 2]\n",
      " [3 4 5]]\n"
     ]
    }
   ],
   "source": [
    "# From range\n",
    "array_range = np.array([range(3), range(3, 6)])  # [[0,1,2], [3,4,5]]\n",
    "print('simple 2d from ranges:\\n', array_range)"
   ]
  },
  {
   "cell_type": "code",
   "execution_count": 14,
   "metadata": {},
   "outputs": [
    {
     "name": "stdout",
     "output_type": "stream",
     "text": [
      "reshape: flat: [0 1 2 3 4 5]\n",
      "reshape: 2d \n",
      " [[0 1 2]\n",
      " [3 4 5]]\n"
     ]
    }
   ],
   "source": [
    "# Using reshape\n",
    "array_flat = np.arange(6)  # [0,1,2,3,4,5]\n",
    "array_2d = array_flat.reshape(2, 3)  # [[0,1,2], [3,4,5]]\n",
    "print('reshape: flat:', array_flat)\n",
    "print('reshape: 2d \\n', array_2d)"
   ]
  },
  {
   "cell_type": "code",
   "execution_count": 15,
   "metadata": {},
   "outputs": [
    {
     "name": "stdout",
     "output_type": "stream",
     "text": [
      "zeros:\n",
      " [[0. 0. 0.]\n",
      " [0. 0. 0.]]\n",
      "ones:\n",
      " [[1. 1. 1.]\n",
      " [1. 1. 1.]]\n",
      "eye:\n",
      " [[1. 0. 0.]\n",
      " [0. 1. 0.]\n",
      " [0. 0. 1.]]\n"
     ]
    }
   ],
   "source": [
    "# Common patterns\n",
    "zeros_2d = np.zeros((2, 3))    # [[0,0,0], [0,0,0]]\n",
    "print('zeros:\\n', zeros_2d)\n",
    "\n",
    "ones_2d = np.ones((2, 3))      # [[1,1,1], [1,1,1]]\n",
    "print('ones:\\n', ones_2d)\n",
    "\n",
    "identity = np.eye(3)           # 3x3 identity matrix\n",
    "print('eye:\\n', identity)"
   ]
  }
 ],
 "metadata": {
  "kernelspec": {
   "display_name": "Python 3 (ipykernel)",
   "language": "python",
   "name": "python3"
  },
  "language_info": {
   "codemirror_mode": {
    "name": "ipython",
    "version": 3
   },
   "file_extension": ".py",
   "mimetype": "text/x-python",
   "name": "python",
   "nbconvert_exporter": "python",
   "pygments_lexer": "ipython3",
   "version": "3.13.0"
  }
 },
 "nbformat": 4,
 "nbformat_minor": 4
}
