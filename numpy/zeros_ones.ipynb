{
 "cells": [
  {
   "cell_type": "code",
   "execution_count": 1,
   "id": "3efd714b-f9a1-4d4b-8e48-fdf52ecd2f80",
   "metadata": {},
   "outputs": [],
   "source": [
    "import numpy as np"
   ]
  },
  {
   "cell_type": "markdown",
   "id": "068127f6-d760-404e-99cd-3d32ec047976",
   "metadata": {},
   "source": [
    "Used to create an array filled with 111.. or 000..."
   ]
  },
  {
   "cell_type": "code",
   "execution_count": 2,
   "id": "5b848f1c-9082-41c3-85c0-9e8838b4810f",
   "metadata": {},
   "outputs": [
    {
     "data": {
      "text/plain": [
       "array([0., 0., 0., 0., 0.])"
      ]
     },
     "execution_count": 2,
     "metadata": {},
     "output_type": "execute_result"
    }
   ],
   "source": [
    "np.zeros(5)"
   ]
  },
  {
   "cell_type": "code",
   "execution_count": 3,
   "id": "eb99a0dd-8f41-46bb-a1b3-90c93b08a658",
   "metadata": {},
   "outputs": [
    {
     "data": {
      "text/plain": [
       "array([1., 1., 1., 1., 1., 1., 1., 1.])"
      ]
     },
     "execution_count": 3,
     "metadata": {},
     "output_type": "execute_result"
    }
   ],
   "source": [
    "np.ones(8)"
   ]
  },
  {
   "cell_type": "markdown",
   "id": "e8e73717-e2e3-4363-8837-e3a414c2e466",
   "metadata": {},
   "source": [
    "**By default:**\n",
    "\n",
    "np.zeros() returns float64: np.zeros(3)  # [0. 0. 0.]  \n",
    "np.ones() returns float64: np.ones(3)  # [1. 1. 1.]  \n",
    "\n",
    "But you can specify a type"
   ]
  },
  {
   "cell_type": "code",
   "execution_count": 4,
   "id": "a29bbbd3-14e2-4a5f-8418-92393f42255b",
   "metadata": {},
   "outputs": [
    {
     "data": {
      "text/plain": [
       "array([0, 0, 0])"
      ]
     },
     "execution_count": 4,
     "metadata": {},
     "output_type": "execute_result"
    }
   ],
   "source": [
    "np.zeros(3, dtype=int)     # [0 0 0]\n"
   ]
  },
  {
   "cell_type": "code",
   "execution_count": 5,
   "id": "185cc6a2-2f45-4c0f-9297-769524cb104a",
   "metadata": {},
   "outputs": [
    {
     "data": {
      "text/plain": [
       "array([1, 1, 1], dtype=int8)"
      ]
     },
     "execution_count": 5,
     "metadata": {},
     "output_type": "execute_result"
    }
   ],
   "source": [
    "np.ones(3, dtype=np.int8)  # [1 1 1]"
   ]
  }
 ],
 "metadata": {
  "kernelspec": {
   "display_name": "Python 3 (ipykernel)",
   "language": "python",
   "name": "python3"
  },
  "language_info": {
   "codemirror_mode": {
    "name": "ipython",
    "version": 3
   },
   "file_extension": ".py",
   "mimetype": "text/x-python",
   "name": "python",
   "nbconvert_exporter": "python",
   "pygments_lexer": "ipython3",
   "version": "3.13.0"
  }
 },
 "nbformat": 4,
 "nbformat_minor": 5
}
