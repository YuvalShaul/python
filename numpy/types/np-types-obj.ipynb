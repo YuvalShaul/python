{
 "cells": [
  {
   "cell_type": "code",
   "execution_count": 1,
   "id": "86db3fb7-0136-4b9f-92c2-c0a9eb389e82",
   "metadata": {},
   "outputs": [],
   "source": [
    "import numpy as np"
   ]
  },
  {
   "cell_type": "code",
   "execution_count": 2,
   "id": "268f8f1b-49cc-4d57-8f64-e0cf530010a3",
   "metadata": {},
   "outputs": [],
   "source": [
    "### obj type"
   ]
  },
  {
   "cell_type": "code",
   "execution_count": 42,
   "id": "1d0de77e-491f-4215-92a9-a4bf4b02d026",
   "metadata": {},
   "outputs": [
    {
     "name": "stdout",
     "output_type": "stream",
     "text": [
      "arr1 type:  <class 'numpy.dtypes.ObjectDType'>\n",
      "arr2 type:  <class 'numpy.dtypes.ObjectDType'>\n",
      "arr3 type:  <class 'numpy.dtypes.ObjectDType'>\n",
      "arr4 type:  <class 'numpy.dtypes.StrDType'>\n"
     ]
    }
   ],
   "source": [
    "arr1 = np.array([1, 2, 3], dtype=np.object_)\n",
    "arr2 = np.array([1, 2, 3], dtype=object)\n",
    "arr3 = np.array([1, 2, 3], dtype=np.dtypes.ObjectDType)\n",
    "arr4 = np.array([1, \"hello\", False])\n",
    "\n",
    "print('arr1 type: ', type(arr1.dtype))\n",
    "print('arr2 type: ', type(arr2.dtype))\n",
    "print('arr3 type: ', type(arr3.dtype))\n",
    "print('arr4 type: ', type(arr4.dtype))\n"
   ]
  },
  {
   "cell_type": "code",
   "execution_count": null,
   "id": "f262a0de-ce30-4a7c-9c4e-d059e8821df2",
   "metadata": {},
   "outputs": [],
   "source": []
  }
 ],
 "metadata": {
  "kernelspec": {
   "display_name": "Python 3 (ipykernel)",
   "language": "python",
   "name": "python3"
  },
  "language_info": {
   "codemirror_mode": {
    "name": "ipython",
    "version": 3
   },
   "file_extension": ".py",
   "mimetype": "text/x-python",
   "name": "python",
   "nbconvert_exporter": "python",
   "pygments_lexer": "ipython3",
   "version": "3.13.0"
  }
 },
 "nbformat": 4,
 "nbformat_minor": 5
}
