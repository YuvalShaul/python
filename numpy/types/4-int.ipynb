{
 "cells": [
  {
   "cell_type": "code",
   "execution_count": 5,
   "id": "0d01857c-36ad-4a4d-b5a4-720b5f914b36",
   "metadata": {},
   "outputs": [],
   "source": [
    "import numpy as np"
   ]
  },
  {
   "cell_type": "markdown",
   "id": "a648bb9e-a6a6-401b-b88a-5706951164e7",
   "metadata": {},
   "source": [
    "### Signed int behaviour\n",
    "This demo uses np.int8  \n",
    "You can assume the same behavior for: int16, int32, int64"
   ]
  },
  {
   "cell_type": "code",
   "execution_count": 6,
   "id": "6250d622-6666-49af-b5b0-23d2af52d8a4",
   "metadata": {},
   "outputs": [
    {
     "name": "stdout",
     "output_type": "stream",
     "text": [
      "Basic int8 array: [1 2 3]\n",
      "Data type: int8\n"
     ]
    }
   ],
   "source": [
    "# Create int8 arrays\n",
    "x = np.array([1, 2, 3], dtype=np.int8)\n",
    "print(f\"Basic int8 array: {x}\")\n",
    "print(f\"Data type: {x.dtype}\")\n",
    "\n"
   ]
  },
  {
   "cell_type": "code",
   "execution_count": 7,
   "id": "681f86d3-b8ef-4425-a133-dd3b880766ef",
   "metadata": {},
   "outputs": [
    {
     "name": "stdout",
     "output_type": "stream",
     "text": [
      "max:  127  min:  -128\n"
     ]
    }
   ],
   "source": [
    "# Demonstrate range limits\n",
    "max_int8 = np.iinfo(np.int8).max  # 127\n",
    "min_int8 = np.iinfo(np.int8).min  # -128\n",
    "print('max: ', max_int8, ' min: ', min_int8)\n"
   ]
  },
  {
   "cell_type": "code",
   "execution_count": 8,
   "id": "63c0e0cb-13e1-480f-93dc-d2bbe7cad7e0",
   "metadata": {},
   "outputs": [
    {
     "name": "stdout",
     "output_type": "stream",
     "text": [
      "OverflowError occurred: Python integer 128 out of bounds for int8\n",
      "OverflowError occurred: Python integer -129 out of bounds for int8\n"
     ]
    }
   ],
   "source": [
    "# Show overflow behavior\n",
    "try:\n",
    "    overflow_array = np.array([127, 128, 129], dtype=np.int8)\n",
    "except OverflowError as e:\n",
    "    print(\"OverflowError occurred:\", e)\n",
    "    \n",
    "try:\n",
    "    overflow_array = np.array([-129], dtype=np.int8)  # -129 is too small for int8\n",
    "except OverflowError as e:\n",
    "    print(\"OverflowError occurred:\", e)\n",
    "\n"
   ]
  },
  {
   "cell_type": "code",
   "execution_count": 9,
   "id": "c63d5e4f-50ee-4227-be28-d695e369c2ec",
   "metadata": {},
   "outputs": [
    {
     "name": "stdout",
     "output_type": "stream",
     "text": [
      "Bytes per element: 1\n"
     ]
    }
   ],
   "source": [
    "# Memory size\n",
    "print(f\"Bytes per element: {x.itemsize}\")  # 1 byte per element"
   ]
  }
 ],
 "metadata": {
  "kernelspec": {
   "display_name": "Python 3 (ipykernel)",
   "language": "python",
   "name": "python3"
  },
  "language_info": {
   "codemirror_mode": {
    "name": "ipython",
    "version": 3
   },
   "file_extension": ".py",
   "mimetype": "text/x-python",
   "name": "python",
   "nbconvert_exporter": "python",
   "pygments_lexer": "ipython3",
   "version": "3.13.0"
  }
 },
 "nbformat": 4,
 "nbformat_minor": 5
}
