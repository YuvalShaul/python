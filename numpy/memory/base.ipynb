{
 "cells": [
  {
   "cell_type": "code",
   "execution_count": 9,
   "id": "d37acdc2-946b-4e20-ab6f-8ed6c216a978",
   "metadata": {},
   "outputs": [],
   "source": [
    "import numpy as np"
   ]
  },
  {
   "cell_type": "markdown",
   "id": "339438bf-d5c4-4811-b7a2-6c7ce4864dc9",
   "metadata": {},
   "source": [
    "### An array that own its memory\n",
    "If this is the case, then the base attribute is None (because the array is not based on any other array)"
   ]
  },
  {
   "cell_type": "code",
   "execution_count": 10,
   "id": "46c111f8-9cf6-4838-b546-365e8a9ec457",
   "metadata": {},
   "outputs": [
    {
     "data": {
      "text/plain": [
       "True"
      ]
     },
     "execution_count": 10,
     "metadata": {},
     "output_type": "execute_result"
    }
   ],
   "source": [
    "x = np.array([1,2,3,4])\n",
    "x.base is None"
   ]
  },
  {
   "cell_type": "markdown",
   "id": "ac2aabf5-f612-46ed-8c11-7caff7a91987",
   "metadata": {},
   "source": [
    "### An array that is based on another array\n",
    "In that case, the base property references the other array.  \n",
    "Changes that are made to the first array are reflected through the 2nd array."
   ]
  },
  {
   "cell_type": "code",
   "execution_count": 11,
   "id": "b94e53b4-b946-46ee-8a42-21ebe563c1c7",
   "metadata": {},
   "outputs": [
    {
     "data": {
      "text/plain": [
       "True"
      ]
     },
     "execution_count": 11,
     "metadata": {},
     "output_type": "execute_result"
    }
   ],
   "source": [
    "y = x[:]\n",
    "y.base is x"
   ]
  },
  {
   "cell_type": "code",
   "execution_count": 12,
   "id": "0a25d977-6580-469e-988a-27a432e23260",
   "metadata": {},
   "outputs": [
    {
     "data": {
      "text/plain": [
       "array([ 1,  2, 17,  4])"
      ]
     },
     "execution_count": 12,
     "metadata": {},
     "output_type": "execute_result"
    }
   ],
   "source": [
    "x[2] = 17\n",
    "x"
   ]
  },
  {
   "cell_type": "code",
   "execution_count": 13,
   "id": "19dccf53-b6d0-49e3-b22c-8285b891de11",
   "metadata": {},
   "outputs": [
    {
     "data": {
      "text/plain": [
       "array([ 1,  2, 17,  4])"
      ]
     },
     "execution_count": 13,
     "metadata": {},
     "output_type": "execute_result"
    }
   ],
   "source": [
    "y"
   ]
  }
 ],
 "metadata": {
  "kernelspec": {
   "display_name": "Python 3 (ipykernel)",
   "language": "python",
   "name": "python3"
  },
  "language_info": {
   "codemirror_mode": {
    "name": "ipython",
    "version": 3
   },
   "file_extension": ".py",
   "mimetype": "text/x-python",
   "name": "python",
   "nbconvert_exporter": "python",
   "pygments_lexer": "ipython3",
   "version": "3.13.0"
  }
 },
 "nbformat": 4,
 "nbformat_minor": 5
}
