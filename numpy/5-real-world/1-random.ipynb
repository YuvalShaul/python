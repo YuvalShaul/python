{
 "cells": [
  {
   "cell_type": "markdown",
   "id": "e5625783-5995-4bad-8de3-6384716e36cc",
   "metadata": {},
   "source": [
    "### Random Number Generators\n",
    "NumPy uses pseudo-random number generators (PRNGs) that produce sequences of numbers that appear random but are actually deterministic when given a starting point (the seed)."
   ]
  },
  {
   "cell_type": "code",
   "execution_count": 13,
   "id": "de33c61b-dee5-4e33-a101-c851ffba096e",
   "metadata": {},
   "outputs": [],
   "source": [
    "import numpy as np"
   ]
  },
  {
   "cell_type": "code",
   "execution_count": 14,
   "id": "f5a5027b-996e-462c-bc84-c0453f6e218c",
   "metadata": {},
   "outputs": [],
   "source": [
    "# Set a seed for reproducibility\n",
    "np.random.seed(42)"
   ]
  },
  {
   "cell_type": "code",
   "execution_count": 15,
   "id": "eae4712d-d258-438b-92f9-338a7f1f2fbc",
   "metadata": {},
   "outputs": [
    {
     "data": {
      "text/plain": [
       "0.3745401188473625"
      ]
     },
     "execution_count": 15,
     "metadata": {},
     "output_type": "execute_result"
    }
   ],
   "source": [
    "np.random.random()           # Single random float between 0 and 1"
   ]
  },
  {
   "cell_type": "code",
   "execution_count": 16,
   "id": "caf0b4a6-2c66-4c6f-b5f9-abb315c80f1d",
   "metadata": {},
   "outputs": [
    {
     "data": {
      "text/plain": [
       "array([0.95071431, 0.73199394, 0.59865848, 0.15601864, 0.15599452])"
      ]
     },
     "execution_count": 16,
     "metadata": {},
     "output_type": "execute_result"
    }
   ],
   "source": [
    "np.random.random(5)         # Array of 5 random floats"
   ]
  },
  {
   "cell_type": "code",
   "execution_count": 17,
   "id": "10952c8c-2e95-4b02-9f1a-07f856c55008",
   "metadata": {},
   "outputs": [
    {
     "data": {
      "text/plain": [
       "array([[0.05808361, 0.86617615, 0.60111501],\n",
       "       [0.70807258, 0.02058449, 0.96990985],\n",
       "       [0.83244264, 0.21233911, 0.18182497]])"
      ]
     },
     "execution_count": 17,
     "metadata": {},
     "output_type": "execute_result"
    }
   ],
   "source": [
    "np.random.random((3, 3))        # 3x3 array of random floats"
   ]
  },
  {
   "cell_type": "markdown",
   "id": "6ec37009-cd30-4107-b116-ae1665e5fc3f",
   "metadata": {},
   "source": [
    "### Sampling"
   ]
  },
  {
   "cell_type": "code",
   "execution_count": 18,
   "id": "f07d59df-1e45-4147-9ffc-547da8210359",
   "metadata": {},
   "outputs": [
    {
     "name": "stdout",
     "output_type": "stream",
     "text": [
      "[ 0  1  2  3  4  5  6  7  8  9 10 11 12 13 14 15 16 17 18 19 20 21 22 23\n",
      " 24 25 26 27 28 29 30 31 32 33 34 35 36 37 38 39 40 41 42 43 44 45 46 47\n",
      " 48 49 50 51 52 53 54 55 56 57 58 59 60 61 62 63 64 65 66 67 68 69 70 71\n",
      " 72 73 74 75 76 77 78 79 80 81 82 83 84 85 86 87 88 89 90 91 92 93 94 95\n",
      " 96 97 98 99]\n"
     ]
    }
   ],
   "source": [
    "# Create a sample dataset\n",
    "data = np.arange(100)\n",
    "print(data)"
   ]
  },
  {
   "cell_type": "markdown",
   "id": "d2308822-0d59-4762-a3cc-b725c05832db",
   "metadata": {},
   "source": [
    "When replace=True (the default):\n",
    "\n",
    "An item can be selected multiple times\n",
    "The same value may appear repeatedly in your sample\n",
    "Each selection is independent of previous selections\n",
    "The probability of selecting any item remains constant throughout the sampling process"
   ]
  },
  {
   "cell_type": "code",
   "execution_count": 19,
   "id": "1e985a37-f898-47c9-969d-561de23fa4e8",
   "metadata": {},
   "outputs": [
    {
     "name": "stdout",
     "output_type": "stream",
     "text": [
      "[20 32 75 57 21 88 48 90 58 41 91 59 79 14 61 61 46 61 50 54]\n",
      "[63  2 50  6 20 72 38 17  3 88 59 13  8 89 52  1 83 91 59 70]\n",
      "[43  7 46 34 77 80 35 49  3  1  5 53  3 53 92 62 17 89 43 33]\n"
     ]
    }
   ],
   "source": [
    "# Random choice with replacement\n",
    "samples1 = np.random.choice(data, size=20) # Choose 10 items\n",
    "samples2 = np.random.choice(data, size=20) # Choose 10 items\n",
    "samples3 = np.random.choice(data, size=20) # Choose 10 items\n",
    "print(samples1)\n",
    "print(samples2)\n",
    "print(samples3)"
   ]
  },
  {
   "cell_type": "markdown",
   "id": "71a02572-0d90-44bd-adf0-d4e9fe3bdb31",
   "metadata": {},
   "source": [
    "When replace=False:\n",
    "\n",
    "Once an item is selected, it cannot be selected again\n",
    "Each value in the result will be unique\n",
    "The sample size must be less than or equal to the population size\n",
    "The probability of selecting remaining items increases with each selection"
   ]
  },
  {
   "cell_type": "code",
   "execution_count": 20,
   "id": "8438abdd-788d-41e0-81c2-05368bbee0ca",
   "metadata": {},
   "outputs": [
    {
     "data": {
      "text/plain": [
       "array([62, 89, 92,  3, 68, 61, 42, 29, 54, 96, 52, 69, 82, 56, 98, 97, 45,\n",
       "       67, 50, 49, 13, 76, 68, 16, 48, 94, 44, 32, 67, 99, 44, 80, 86, 44,\n",
       "       83, 57, 77, 77, 70, 24, 90, 52, 38, 14, 74, 80,  7, 68, 42, 78])"
      ]
     },
     "execution_count": 20,
     "metadata": {},
     "output_type": "execute_result"
    }
   ],
   "source": [
    "# Random choice without replacement\n",
    "samples4 = les = np.random.choice(data, size=10, replace=False)  # 10 unique items\n",
    "\n",
    "# Weighted random sampling\n",
    "weights = np.linspace(1, 10, 100)                                # Increasing weights\n",
    "np.random.choice(data, size=50, p=weights/weights.sum())"
   ]
  }
 ],
 "metadata": {
  "kernelspec": {
   "display_name": "Python 3 (ipykernel)",
   "language": "python",
   "name": "python3"
  },
  "language_info": {
   "codemirror_mode": {
    "name": "ipython",
    "version": 3
   },
   "file_extension": ".py",
   "mimetype": "text/x-python",
   "name": "python",
   "nbconvert_exporter": "python",
   "pygments_lexer": "ipython3",
   "version": "3.13.0"
  }
 },
 "nbformat": 4,
 "nbformat_minor": 5
}
