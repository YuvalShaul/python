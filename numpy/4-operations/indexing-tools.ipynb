{
 "cells": [
  {
   "cell_type": "code",
   "execution_count": 1,
   "id": "ea1a8b05-46a7-46c2-bebd-659c2a7b21de",
   "metadata": {},
   "outputs": [],
   "source": [
    "import numpy as np"
   ]
  },
  {
   "cell_type": "code",
   "execution_count": 2,
   "id": "8513de22-3aa8-44a4-9345-1e91c6ff4f4c",
   "metadata": {},
   "outputs": [
    {
     "name": "stdout",
     "output_type": "stream",
     "text": [
      "3d:\n",
      " [[[ 1  2  3]\n",
      "  [ 4  5  6]]\n",
      "\n",
      " [[ 7  8  9]\n",
      "  [10 11 12]]\n",
      "\n",
      " [[13 14 15]\n",
      "  [16 17 18]]\n",
      "\n",
      " [[23 24 25]\n",
      "  [26 27 28]]]  shape:  (4, 2, 3)\n"
     ]
    }
   ],
   "source": [
    "arr = np.array([ \n",
    "    [[1, 2, 3], [4, 5, 6]],\n",
    "    [[7, 8, 9], [10, 11, 12]],\n",
    "    [[13, 14, 15], [16, 17, 18]],\n",
    "    [[23, 24, 25], [26, 27, 28]]])\n",
    "print('3d:\\n', arr, ' shape: ', arr.shape)"
   ]
  },
  {
   "cell_type": "markdown",
   "id": "acedef6f-44c2-4cb4-abcc-3309440e92c5",
   "metadata": {},
   "source": [
    "### Ellipsis\n",
    "Expands to the number of : objects needed for the selection tuple to index all dimensions"
   ]
  },
  {
   "cell_type": "code",
   "execution_count": 3,
   "id": "50c2b65c-efa8-44d4-9e90-267cbaae4c5d",
   "metadata": {},
   "outputs": [
    {
     "data": {
      "text/plain": [
       "array([[ 1,  4],\n",
       "       [ 7, 10],\n",
       "       [13, 16],\n",
       "       [23, 26]])"
      ]
     },
     "execution_count": 3,
     "metadata": {},
     "output_type": "execute_result"
    }
   ],
   "source": [
    "#This...\n",
    "arr[...,0]"
   ]
  },
  {
   "cell_type": "code",
   "execution_count": 4,
   "id": "4aaca6ce-35da-4c5a-a069-3666a6e77168",
   "metadata": {},
   "outputs": [
    {
     "data": {
      "text/plain": [
       "array([[ 1,  4],\n",
       "       [ 7, 10],\n",
       "       [13, 16],\n",
       "       [23, 26]])"
      ]
     },
     "execution_count": 4,
     "metadata": {},
     "output_type": "execute_result"
    }
   ],
   "source": [
    "# Is equivalent to this:\n",
    "arr[:, :, 0]"
   ]
  },
  {
   "cell_type": "markdown",
   "id": "bd58ffaa-eb30-4980-b5f2-ec6d81cb968b",
   "metadata": {},
   "source": [
    "### np.newaxis\n",
    "np.newaxis is a special object in NumPy used to increase the dimensionality of an array by adding a new axis (dimension) of length 1"
   ]
  },
  {
   "cell_type": "code",
   "execution_count": 5,
   "id": "fa33a2c0-0811-4b33-b607-600415c87626",
   "metadata": {},
   "outputs": [
    {
     "name": "stdout",
     "output_type": "stream",
     "text": [
      "Original array shape: (4,)\n",
      "Column vector shape: (4, 1)\n"
     ]
    }
   ],
   "source": [
    "arr = np.array([1, 2, 3, 4])\n",
    "print(\"Original array shape:\", arr.shape)  # (4,)\n",
    "\n",
    "# Add new axis at the end (make it a column vector)\n",
    "col_vector = arr[:, np.newaxis]\n",
    "print(\"Column vector shape:\", col_vector.shape)  # (4, 1)"
   ]
  },
  {
   "cell_type": "code",
   "execution_count": 6,
   "id": "37d4d2bb-0cd2-4a73-b073-56b6800231bf",
   "metadata": {},
   "outputs": [
    {
     "name": "stdout",
     "output_type": "stream",
     "text": [
      "Row vector shape: (1, 4)\n"
     ]
    }
   ],
   "source": [
    "# Add new axis at the beginning (make it a row vector)\n",
    "row_vector = arr[np.newaxis, :]\n",
    "print(\"Row vector shape:\", row_vector.shape)  # (1, 4)\n"
   ]
  },
  {
   "cell_type": "code",
   "execution_count": 9,
   "id": "69e0f5af-5c00-4bde-8c5e-bed6a8ca356d",
   "metadata": {},
   "outputs": [
    {
     "name": "stdout",
     "output_type": "stream",
     "text": [
      "(4, 1)\n",
      "(1, 4)\n"
     ]
    }
   ],
   "source": [
    "# Alternative syntax using None\n",
    "# These are equivalent to using np.newaxis\n",
    "col_vector_alt = arr[:, None]\n",
    "row_vector_alt = arr[None, :]\n",
    "print(col_vector_alt.shape)\n",
    "print(row_vector_alt.shape)"
   ]
  },
  {
   "cell_type": "code",
   "execution_count": 13,
   "id": "56ea4f05-bbc4-46be-80da-c7fb8809bffc",
   "metadata": {},
   "outputs": [
    {
     "name": "stdout",
     "output_type": "stream",
     "text": [
      "[[0]\n",
      " [1]\n",
      " [2]\n",
      " [3]\n",
      " [4]]\n",
      "[[0 1 2 3 4]]\n",
      "[[0 1 2 3 4]\n",
      " [1 2 3 4 5]\n",
      " [2 3 4 5 6]\n",
      " [3 4 5 6 7]\n",
      " [4 5 6 7 8]]\n"
     ]
    }
   ],
   "source": [
    "x = np.arange(5)\n",
    "A = x[:, np.newaxis]\n",
    "y = np.arange(5)\n",
    "B = x[np.newaxis, :]\n",
    "print(A)\n",
    "print(B)\n",
    "print(A+B)"
   ]
  }
 ],
 "metadata": {
  "kernelspec": {
   "display_name": "Python 3 (ipykernel)",
   "language": "python",
   "name": "python3"
  },
  "language_info": {
   "codemirror_mode": {
    "name": "ipython",
    "version": 3
   },
   "file_extension": ".py",
   "mimetype": "text/x-python",
   "name": "python",
   "nbconvert_exporter": "python",
   "pygments_lexer": "ipython3",
   "version": "3.13.0"
  }
 },
 "nbformat": 4,
 "nbformat_minor": 5
}
