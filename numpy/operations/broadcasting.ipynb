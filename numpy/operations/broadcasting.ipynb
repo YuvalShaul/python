{
 "cells": [
  {
   "cell_type": "markdown",
   "id": "bcc1c66d-d7a0-4e96-ae66-6167c8f02c95",
   "metadata": {},
   "source": [
    "### Simple broadcasting"
   ]
  },
  {
   "cell_type": "code",
   "execution_count": 23,
   "id": "95dcc4d4-5ecf-44e9-b8ff-530244289939",
   "metadata": {},
   "outputs": [],
   "source": [
    "import numpy as np\n"
   ]
  },
  {
   "cell_type": "code",
   "execution_count": 24,
   "id": "3ce3bbb9-4d20-4404-bc06-e9844d27cfd3",
   "metadata": {},
   "outputs": [],
   "source": [
    "a = np.array([1.0, 2.0, 3.0])\n",
    "b = np.array([2.0, 2.0, 2.0])"
   ]
  },
  {
   "cell_type": "code",
   "execution_count": 25,
   "id": "51242580-2456-4f28-88ee-31d03257c580",
   "metadata": {},
   "outputs": [
    {
     "name": "stdout",
     "output_type": "stream",
     "text": [
      "Shape:  (3,)  ndim:  1\n",
      "Result:  [2. 4. 6.]\n"
     ]
    }
   ],
   "source": [
    "# Simplest case: same shape\n",
    "res = a * b\n",
    "print('Shape: ', res.shape, ' ndim: ', res.ndim)\n",
    "print('Result: ', res)"
   ]
  },
  {
   "cell_type": "code",
   "execution_count": 26,
   "id": "81db3799-9f8e-472d-905d-0134043269ed",
   "metadata": {},
   "outputs": [
    {
     "name": "stdout",
     "output_type": "stream",
     "text": [
      "Shape:  (3,)\n",
      "Result:  [ 4.  8. 12.]\n"
     ]
    }
   ],
   "source": [
    "# Array and num:\n",
    "num = 4.0\n",
    "res = a * num\n",
    "print('Shape: ', res.shape)\n",
    "print('Result: ', res)"
   ]
  },
  {
   "cell_type": "markdown",
   "id": "090156c3-f9ae-4ecc-9adf-58ae0dea4397",
   "metadata": {},
   "source": [
    "### More complex\n",
    "Number of dimensions is not the same.  \n",
    "Case 1: Shapes values are the same (right to left) but ndim is not)"
   ]
  },
  {
   "cell_type": "code",
   "execution_count": 27,
   "id": "dc256bf3-68a3-4e5b-80b8-7e3ff478cbfe",
   "metadata": {},
   "outputs": [
    {
     "name": "stdout",
     "output_type": "stream",
     "text": [
      "arr1 shape:  (4, 2, 3)\n",
      "arr2 shape:  (2, 3)\n",
      "[[1 1 1]\n",
      " [1 1 1]]\n"
     ]
    }
   ],
   "source": [
    "arr1 = np.array([ \n",
    "    [[1, 2, 3], [4, 5, 6]],\n",
    "    [[7, 8, 9], [10, 11, 12]],\n",
    "    [[13, 14, 15], [16, 17, 18]],\n",
    "    [[23, 24, 25], [26, 27, 28]]])\n",
    "arr2 = np.ones(6, dtype=np.int64).reshape(2,3) \n",
    "print('arr1 shape: ', arr1.shape)\n",
    "print('arr2 shape: ', arr2.shape)\n",
    "print(arr2)"
   ]
  },
  {
   "cell_type": "code",
   "execution_count": 28,
   "id": "d50667d2-b7f2-46a4-a8c1-291ef7c502a0",
   "metadata": {},
   "outputs": [
    {
     "name": "stdout",
     "output_type": "stream",
     "text": [
      "res sahpe:  (4, 2, 3)\n",
      "[[[ 2  3  4]\n",
      "  [ 5  6  7]]\n",
      "\n",
      " [[ 8  9 10]\n",
      "  [11 12 13]]\n",
      "\n",
      " [[14 15 16]\n",
      "  [17 18 19]]\n",
      "\n",
      " [[24 25 26]\n",
      "  [27 28 29]]]\n"
     ]
    }
   ],
   "source": [
    "res = arr1 + arr2\n",
    "print('res sahpe: ', res.shape)\n",
    "print(res)"
   ]
  },
  {
   "cell_type": "markdown",
   "id": "50e95513-a5a8-4d17-adb8-134df82cbf57",
   "metadata": {},
   "source": [
    "Case 2: Values are NOT the same (right to left) but not-equal value is ONE:"
   ]
  },
  {
   "cell_type": "code",
   "execution_count": 29,
   "id": "18f4a3b2-1ddf-4134-99a7-7cd58bb91c90",
   "metadata": {},
   "outputs": [
    {
     "name": "stdout",
     "output_type": "stream",
     "text": [
      "arr1 shape:  (4, 2, 3)\n",
      "arr2 shape:  (1, 3)\n",
      "[[1 1 1]]\n"
     ]
    }
   ],
   "source": [
    "arr1 = np.array([ \n",
    "    [[1, 2, 3], [4, 5, 6]],\n",
    "    [[7, 8, 9], [10, 11, 12]],\n",
    "    [[13, 14, 15], [16, 17, 18]],\n",
    "    [[23, 24, 25], [26, 27, 28]]])\n",
    "arr2 = np.ones(3, dtype=np.int64).reshape(1,3) \n",
    "print('arr1 shape: ', arr1.shape)\n",
    "print('arr2 shape: ', arr2.shape)\n",
    "print(arr2)"
   ]
  },
  {
   "cell_type": "code",
   "execution_count": 30,
   "id": "53dc804f-705d-4ebf-989a-34965c3f9408",
   "metadata": {},
   "outputs": [
    {
     "name": "stdout",
     "output_type": "stream",
     "text": [
      "res sahpe:  (4, 2, 3)\n",
      "[[[ 2  3  4]\n",
      "  [ 5  6  7]]\n",
      "\n",
      " [[ 8  9 10]\n",
      "  [11 12 13]]\n",
      "\n",
      " [[14 15 16]\n",
      "  [17 18 19]]\n",
      "\n",
      " [[24 25 26]\n",
      "  [27 28 29]]]\n"
     ]
    }
   ],
   "source": [
    "res = arr1 + arr2\n",
    "print('res sahpe: ', res.shape)\n",
    "print(res)"
   ]
  },
  {
   "cell_type": "code",
   "execution_count": 35,
   "id": "2b330cf3-98d1-4abe-9c43-81ca31d9b722",
   "metadata": {},
   "outputs": [
    {
     "name": "stdout",
     "output_type": "stream",
     "text": [
      "shape:  (4, 1)\n",
      "shape:  (1, 3)\n"
     ]
    }
   ],
   "source": [
    "arr1 = np.array([[1], [2], [3], [4]])\n",
    "arr2 = np.array([[100, 200, 300]])\n",
    "print('shape: ', arr1.shape)\n",
    "print('shape: ', arr2.shape)"
   ]
  },
  {
   "cell_type": "code",
   "execution_count": 36,
   "id": "57ee91a3-2868-4e72-bb03-51d1e854bcd4",
   "metadata": {},
   "outputs": [
    {
     "name": "stdout",
     "output_type": "stream",
     "text": [
      "shape:  (4, 3)\n",
      "[[101 201 301]\n",
      " [102 202 302]\n",
      " [103 203 303]\n",
      " [104 204 304]]\n"
     ]
    }
   ],
   "source": [
    "res = arr1 + arr2\n",
    "print('shape: ', res.shape)\n",
    "print(res)"
   ]
  }
 ],
 "metadata": {
  "kernelspec": {
   "display_name": "Python 3 (ipykernel)",
   "language": "python",
   "name": "python3"
  },
  "language_info": {
   "codemirror_mode": {
    "name": "ipython",
    "version": 3
   },
   "file_extension": ".py",
   "mimetype": "text/x-python",
   "name": "python",
   "nbconvert_exporter": "python",
   "pygments_lexer": "ipython3",
   "version": "3.13.0"
  }
 },
 "nbformat": 4,
 "nbformat_minor": 5
}
