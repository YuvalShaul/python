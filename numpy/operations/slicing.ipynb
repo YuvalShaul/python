{
 "cells": [
  {
   "cell_type": "code",
   "execution_count": 53,
   "id": "ad033584-2823-4967-bddd-bca5f23c7a40",
   "metadata": {},
   "outputs": [],
   "source": [
    "import numpy as np"
   ]
  },
  {
   "cell_type": "markdown",
   "id": "6942249a-242c-4496-94ee-ed2d147b87e7",
   "metadata": {},
   "source": [
    "### Basic slicing"
   ]
  },
  {
   "cell_type": "code",
   "execution_count": 54,
   "id": "aacd980f-53ae-4985-9892-fe2e2f3ff7ab",
   "metadata": {},
   "outputs": [
    {
     "name": "stdout",
     "output_type": "stream",
     "text": [
      "3d:\n",
      " [[[ 1  2  3]\n",
      "  [ 4  5  6]]\n",
      "\n",
      " [[ 7  8  9]\n",
      "  [10 11 12]]\n",
      "\n",
      " [[13 14 15]\n",
      "  [16 17 18]]\n",
      "\n",
      " [[23 24 25]\n",
      "  [26 27 28]]]  shape:  (4, 2, 3)\n"
     ]
    }
   ],
   "source": [
    "arr = np.array([ \n",
    "    [[1, 2, 3], [4, 5, 6]],\n",
    "    [[7, 8, 9], [10, 11, 12]],\n",
    "    [[13, 14, 15], [16, 17, 18]],\n",
    "    [[23, 24, 25], [26, 27, 28]]])\n",
    "print('3d:\\n', arr, ' shape: ', arr.shape)"
   ]
  },
  {
   "cell_type": "markdown",
   "id": "080c439e-44ea-4462-9e2b-358065a99d5c",
   "metadata": {},
   "source": [
    "## Slicing"
   ]
  },
  {
   "cell_type": "code",
   "execution_count": 55,
   "id": "8804b6e8-87eb-48c3-a67a-c1765e46ea01",
   "metadata": {},
   "outputs": [
    {
     "data": {
      "text/plain": [
       "array([ 1,  7, 13, 23])"
      ]
     },
     "execution_count": 55,
     "metadata": {},
     "output_type": "execute_result"
    }
   ],
   "source": [
    "arr[:, 0, 0]   # Column 1"
   ]
  },
  {
   "cell_type": "code",
   "execution_count": 56,
   "id": "9b060eee-c5e9-4ae6-b4f9-d92d780fe0ba",
   "metadata": {},
   "outputs": [
    {
     "data": {
      "text/plain": [
       "array([[[ 4,  5]],\n",
       "\n",
       "       [[10, 11]]])"
      ]
     },
     "execution_count": 56,
     "metadata": {},
     "output_type": "execute_result"
    }
   ],
   "source": [
    "arr[0:2, 1:, :2]  # Rows 0-1, array 1 (and on), column 0-1\n"
   ]
  },
  {
   "cell_type": "code",
   "execution_count": 57,
   "id": "8c7c8002-618c-4800-a3d3-1442945e50bf",
   "metadata": {},
   "outputs": [
    {
     "data": {
      "text/plain": [
       "True"
      ]
     },
     "execution_count": 57,
     "metadata": {},
     "output_type": "execute_result"
    }
   ],
   "source": [
    "# Still, the slice is not a copy\n",
    "arr[0:2, 1:, :2].base is arr"
   ]
  },
  {
   "cell_type": "code",
   "execution_count": 58,
   "id": "04c04e62-0dcf-48d1-a198-c3aba8f383f1",
   "metadata": {},
   "outputs": [
    {
     "name": "stdout",
     "output_type": "stream",
     "text": [
      "[[[ 1  2  3]\n",
      "  [ 4  5  6]]\n",
      "\n",
      " [[ 7  8  9]\n",
      "  [10 11 12]]]\n",
      "[[[ 1  2  3]\n",
      "  [ 4  5  6]]\n",
      "\n",
      " [[ 7  8  9]\n",
      "  [10 11 12]]]\n"
     ]
    }
   ],
   "source": [
    "# If the number of slices are less tham the number of dimensions:\n",
    "print(arr[0:2])         # option 1\n",
    "print(arr[0:2, :, :])   # option 2 - the same "
   ]
  },
  {
   "cell_type": "code",
   "execution_count": 59,
   "id": "63449038-bed4-4638-b4db-05cdccfb4c40",
   "metadata": {},
   "outputs": [
    {
     "name": "stdout",
     "output_type": "stream",
     "text": [
      "(2, 2, 3)\n"
     ]
    }
   ],
   "source": [
    "print(arr[0:2].shape)"
   ]
  },
  {
   "cell_type": "code",
   "execution_count": 60,
   "id": "bafb3664-280e-4788-8997-2a576a204093",
   "metadata": {},
   "outputs": [
    {
     "data": {
      "text/plain": [
       "(4, 1, 3)"
      ]
     },
     "execution_count": 60,
     "metadata": {},
     "output_type": "execute_result"
    }
   ],
   "source": [
    "arr[:, 0:1, :].shape"
   ]
  },
  {
   "cell_type": "markdown",
   "id": "71ea4826-4771-4cd5-a161-ec99dbbb2e10",
   "metadata": {},
   "source": [
    "### Setting values with slices\n",
    "- You may use slicing to set values in the array\n",
    "- Unlike lists, you can never grow the array\n",
    "- The size of the value to be set in the slice, must be (broadcastable to) the same shape as the slice."
   ]
  },
  {
   "cell_type": "code",
   "execution_count": 61,
   "id": "f6b760ba-0e36-4202-a664-9df688c0e200",
   "metadata": {},
   "outputs": [
    {
     "data": {
      "text/plain": [
       "array([[[  1,   2, 101],\n",
       "        [  4,   5, 102]],\n",
       "\n",
       "       [[  7,   8, 103],\n",
       "        [ 10,  11, 104]],\n",
       "\n",
       "       [[ 13,  14,  15],\n",
       "        [ 16,  17,  18]],\n",
       "\n",
       "       [[ 23,  24,  25],\n",
       "        [ 26,  27,  28]]])"
      ]
     },
     "execution_count": 61,
     "metadata": {},
     "output_type": "execute_result"
    }
   ],
   "source": [
    "someslice = arr[0:2, 0:2, 2:]\n",
    "arr[0:2, 0:2, 2:] = np.array([101,102,103,104]).reshape(someslice.shape)\n",
    "arr"
   ]
  }
 ],
 "metadata": {
  "kernelspec": {
   "display_name": "Python 3 (ipykernel)",
   "language": "python",
   "name": "python3"
  },
  "language_info": {
   "codemirror_mode": {
    "name": "ipython",
    "version": 3
   },
   "file_extension": ".py",
   "mimetype": "text/x-python",
   "name": "python",
   "nbconvert_exporter": "python",
   "pygments_lexer": "ipython3",
   "version": "3.13.0"
  }
 },
 "nbformat": 4,
 "nbformat_minor": 5
}
