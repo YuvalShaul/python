{
 "cells": [
  {
   "cell_type": "code",
   "execution_count": 27,
   "id": "affa2616-0d46-4113-aa69-17b2cab6264f",
   "metadata": {},
   "outputs": [],
   "source": [
    "import numpy as np"
   ]
  },
  {
   "cell_type": "markdown",
   "id": "c556a39b-2433-47bf-a127-f9bdd5016994",
   "metadata": {},
   "source": [
    "### Variable bytes string\n",
    "- each letter is coded in a single byte\n",
    "- The size of each element of the array is determined by the longest element"
   ]
  },
  {
   "cell_type": "code",
   "execution_count": 28,
   "id": "add5d407-86c3-4ee0-aa22-e2b8e9a805e8",
   "metadata": {},
   "outputs": [],
   "source": [
    "animals = np.array(['cat', 'dog', 'elephant', 'bird'], dtype='S')"
   ]
  },
  {
   "cell_type": "code",
   "execution_count": 29,
   "id": "e9f46141-201d-4404-8dcf-33acca803010",
   "metadata": {},
   "outputs": [
    {
     "name": "stdout",
     "output_type": "stream",
     "text": [
      "dtype:  |S8\n",
      "element size:  8\n",
      "total array size:  32\n"
     ]
    }
   ],
   "source": [
    "print('dtype: ', animals.dtype)     # Uses the maximum size - so S8 (Elephant)\n",
    "print('element size: ', animals.itemsize)   # max-size x 1  ( = 8)\n",
    "print('total array size: ', animals.nbytes)   # num-of-elements x max-element-size ( = 32)"
   ]
  },
  {
   "cell_type": "markdown",
   "id": "474cf378-f5a4-46d7-b17a-76b46f03e2ca",
   "metadata": {},
   "source": [
    "### Variable unicode string\n",
    "- each letter is coded in utf32 (called 'U' in numpy) and is always 4 bytes long\n",
    "- The size of each element of the array is determined by the longest element in the array"
   ]
  },
  {
   "cell_type": "code",
   "execution_count": 30,
   "id": "94e19da8-ba21-4d44-bea7-6a0c5744d02b",
   "metadata": {},
   "outputs": [],
   "source": [
    "# Create variable-length string array\n",
    "# unicode_animals = np.array(['cat', 'dog', 'horse', 'bird'], dtype=np.str_)\n",
    "# or:..\n",
    "unicode_animals = np.array(['cat', 'dog', 'horse', 'bird'], dtype='U')\n"
   ]
  },
  {
   "cell_type": "code",
   "execution_count": 31,
   "id": "a88adab5-5eab-449c-93bc-2518a3b13fef",
   "metadata": {},
   "outputs": [
    {
     "name": "stdout",
     "output_type": "stream",
     "text": [
      "dtype:  <U5\n",
      "element size:  20\n",
      "total array size:  80\n"
     ]
    }
   ],
   "source": [
    "print('dtype: ', unicode_animals.dtype)     # Uses the maximum size - so U5 (horse)\n",
    "print('element size: ', unicode_animals.itemsize)   # maximum-size x 4\n",
    "print('total array size: ', unicode_animals.nbytes)   # item-size x num-of-elements"
   ]
  }
 ],
 "metadata": {
  "kernelspec": {
   "display_name": "Python 3 (ipykernel)",
   "language": "python",
   "name": "python3"
  },
  "language_info": {
   "codemirror_mode": {
    "name": "ipython",
    "version": 3
   },
   "file_extension": ".py",
   "mimetype": "text/x-python",
   "name": "python",
   "nbconvert_exporter": "python",
   "pygments_lexer": "ipython3",
   "version": "3.13.0"
  }
 },
 "nbformat": 4,
 "nbformat_minor": 5
}
