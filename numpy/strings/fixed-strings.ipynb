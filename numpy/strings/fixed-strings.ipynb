{
 "cells": [
  {
   "cell_type": "code",
   "execution_count": 21,
   "id": "6929cd27-bb7c-4cc5-adfe-8909f924eaae",
   "metadata": {},
   "outputs": [],
   "source": [
    "import numpy as np"
   ]
  },
  {
   "cell_type": "markdown",
   "id": "c312e11f-f1f0-4e44-ba22-72a30e3c901b",
   "metadata": {},
   "source": [
    "### Fixed bytes string\n",
    "- each letter is coded in a single byte (so only ASCII letters fit here)\n",
    "- The size of each element of the array is determined in advance, and string are truncated if needed"
   ]
  },
  {
   "cell_type": "code",
   "execution_count": 22,
   "id": "1e67a4a2-49f4-48ae-bddf-0b85a3ae731c",
   "metadata": {},
   "outputs": [
    {
     "name": "stdout",
     "output_type": "stream",
     "text": [
      "|S3\n",
      "[b'cat' b'dog' b'bir']\n",
      "element size:  3\n",
      "total array size:  9\n"
     ]
    }
   ],
   "source": [
    "# Example 1: fixed-length string array\n",
    "fixed_animals = np.array(['cat', 'dog', 'bird'], dtype='S3')\n",
    "print(fixed_animals.dtype)  # |S3 meaning little endian S3 strings\n",
    "print(fixed_animals)        # Note that some strings are truncated\n",
    "print('element size: ', fixed_animals.itemsize)   # fixed-size-of-string x 1 (one byte per letter)\n",
    "print('total array size: ', fixed_animals.nbytes)   # num-of-elements x max-element-size x 1 (one byte per letter)"
   ]
  },
  {
   "cell_type": "code",
   "execution_count": 23,
   "id": "8de1148e-fe23-454e-9e8f-b20237b4068e",
   "metadata": {},
   "outputs": [
    {
     "name": "stdout",
     "output_type": "stream",
     "text": [
      "Cannot put this unicode into S3 encoded array\n"
     ]
    }
   ],
   "source": [
    "# Example 2: fixed-length string array - but with different letters (Chinese)\n",
    "try:\n",
    "    fixed_animals = np.array(['cat', 'dog', 'bird', '你好世'], dtype='S3')\n",
    "except UnicodeEncodeError:\n",
    "    print('Cannot put this unicode into S3 encoded array')\n",
    "    "
   ]
  },
  {
   "cell_type": "markdown",
   "id": "f18977f0-1d54-4f8b-bbf5-59d6719d20fe",
   "metadata": {},
   "source": [
    "### Fixed Unicode string\n",
    "- each letter is coded in a 4 bits (UTF-32) \n",
    "- The size of each element of the array is determined in advance, and string are truncated if needed"
   ]
  },
  {
   "cell_type": "code",
   "execution_count": 24,
   "id": "fbff329a-04c2-4e69-9f42-e285f575849d",
   "metadata": {},
   "outputs": [
    {
     "name": "stdout",
     "output_type": "stream",
     "text": [
      "<U3\n",
      "['ABC' 'DEF']\n",
      "element size:  12\n",
      "total array size:  24\n"
     ]
    }
   ],
   "source": [
    "# Example 3: fixed unicode strings (just ASCII letters)\n",
    "letters = np.array(['ABC', 'DEFG'], dtype='U3')\n",
    "print(letters.dtype)  # <U3 meaning little endian U3 strings\n",
    "print(letters)        # Note that some strings are truncated\n",
    "print('element size: ', letters.itemsize)   # 4-bytes-per-letter x 3-letters-in-each-item\n",
    "print('total array size: ', letters.nbytes)   # item-size x num-of-elements"
   ]
  },
  {
   "cell_type": "code",
   "execution_count": 25,
   "id": "cee2de8d-85cb-4bdf-b8e6-ba63eca4281b",
   "metadata": {},
   "outputs": [
    {
     "name": "stdout",
     "output_type": "stream",
     "text": [
      "<U3\n",
      "['ABC' 'DEF']\n",
      "element size:  12\n",
      "total array size:  24\n"
     ]
    }
   ],
   "source": [
    "# Example 4: fixed unicode strings - with Chinese characters and other icons\n",
    "chinese_letters = np.array(['ABC', '你好世', '🌍🌎🌏'], dtype='U3') # These are 3 Chinese letters\n",
    "print(letters.dtype)  # <U3 meaning little endian U3 strings\n",
    "print(letters)        # Note that some strings are truncated\n",
    "print('element size: ', letters.itemsize)   # 4-bytes-per-letter x 3-letters-in-each-item\n",
    "print('total array size: ', letters.nbytes)   # item-size x num-of-elements"
   ]
  },
  {
   "cell_type": "code",
   "execution_count": null,
   "id": "1cae6c70-a068-4627-b043-f46c1ee02d02",
   "metadata": {},
   "outputs": [],
   "source": []
  }
 ],
 "metadata": {
  "kernelspec": {
   "display_name": "Python 3 (ipykernel)",
   "language": "python",
   "name": "python3"
  },
  "language_info": {
   "codemirror_mode": {
    "name": "ipython",
    "version": 3
   },
   "file_extension": ".py",
   "mimetype": "text/x-python",
   "name": "python",
   "nbconvert_exporter": "python",
   "pygments_lexer": "ipython3",
   "version": "3.13.0"
  }
 },
 "nbformat": 4,
 "nbformat_minor": 5
}
