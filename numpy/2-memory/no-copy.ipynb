{
 "cells": [
  {
   "cell_type": "code",
   "execution_count": 3,
   "id": "144e4819-9674-48fa-95bd-a50ec13e4636",
   "metadata": {},
   "outputs": [],
   "source": [
    "import numpy as np"
   ]
  },
  {
   "cell_type": "code",
   "execution_count": 4,
   "id": "eb21b4b9-fb78-4e0e-bdb4-5119423318ef",
   "metadata": {},
   "outputs": [],
   "source": [
    "x = np.array([1,2,3,4,5])\n",
    "y = x[:]"
   ]
  },
  {
   "cell_type": "code",
   "execution_count": 5,
   "id": "ad134034-66dd-4e90-bfaa-e117462754e2",
   "metadata": {},
   "outputs": [
    {
     "name": "stdout",
     "output_type": "stream",
     "text": [
      "x:  [1 2 3 4 5]\n",
      "y:  [1 2 3 4 5]\n"
     ]
    }
   ],
   "source": [
    "print('x: ', x)\n",
    "print('y: ', y)"
   ]
  },
  {
   "cell_type": "code",
   "execution_count": 10,
   "id": "2a927aca-6497-46dc-9c84-eb9103a73439",
   "metadata": {},
   "outputs": [
    {
     "name": "stdout",
     "output_type": "stream",
     "text": [
      "True\n",
      "False\n",
      "True\n"
     ]
    }
   ],
   "source": [
    "print(x.base is None)    # x OWNS its memory\n",
    "print(y.base is None)    # y DOES NOT OWN its memory\n",
    "print(y.base is x)  # y is based on x"
   ]
  },
  {
   "cell_type": "markdown",
   "id": "8c7aef91-e6f6-4073-b95d-141ca4add1be",
   "metadata": {},
   "source": [
    "So we see that x own its memory, but y is based on x.  \n",
    "Let's see if changes in x are affected in y:"
   ]
  },
  {
   "cell_type": "code",
   "execution_count": 7,
   "id": "025d2cc1-cadb-4931-8efa-7c3eff32518a",
   "metadata": {},
   "outputs": [
    {
     "data": {
      "text/plain": [
       "array([ 1, 17,  3,  4,  5])"
      ]
     },
     "execution_count": 7,
     "metadata": {},
     "output_type": "execute_result"
    }
   ],
   "source": [
    "x[1] = 17\n",
    "x"
   ]
  },
  {
   "cell_type": "code",
   "execution_count": 8,
   "id": "914807ce-dfe4-43ae-af7c-c58b2a779206",
   "metadata": {},
   "outputs": [
    {
     "data": {
      "text/plain": [
       "array([ 1, 17,  3,  4,  5])"
      ]
     },
     "execution_count": 8,
     "metadata": {},
     "output_type": "execute_result"
    }
   ],
   "source": [
    "y"
   ]
  }
 ],
 "metadata": {
  "kernelspec": {
   "display_name": "Python 3 (ipykernel)",
   "language": "python",
   "name": "python3"
  },
  "language_info": {
   "codemirror_mode": {
    "name": "ipython",
    "version": 3
   },
   "file_extension": ".py",
   "mimetype": "text/x-python",
   "name": "python",
   "nbconvert_exporter": "python",
   "pygments_lexer": "ipython3",
   "version": "3.13.0"
  }
 },
 "nbformat": 4,
 "nbformat_minor": 5
}
