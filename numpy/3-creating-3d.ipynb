{
 "cells": [
  {
   "cell_type": "code",
   "execution_count": 5,
   "id": "794d65dd-41a0-4093-9d1a-accc44f7b7f0",
   "metadata": {},
   "outputs": [],
   "source": [
    "import numpy as np"
   ]
  },
  {
   "cell_type": "code",
   "execution_count": 6,
   "id": "3ce70fc3-4275-4acb-88ef-e75b469ce61c",
   "metadata": {},
   "outputs": [
    {
     "name": "stdout",
     "output_type": "stream",
     "text": [
      "Shape: (2, 3, 4)\n",
      "\n",
      "First layer:\n",
      " [[ 1  2  3  4]\n",
      " [ 5  6  7  8]\n",
      " [ 9 10 11 12]]\n",
      "\n",
      "Element at position [1,2,3]: 24\n"
     ]
    }
   ],
   "source": [
    "# Create a 2x3x4 array (2 layers, 3 rows, 4 columns)\n",
    "array_3d = np.array([\n",
    "    [[1, 2, 3, 4],\n",
    "     [5, 6, 7, 8],\n",
    "     [9, 10, 11, 12]],\n",
    "    \n",
    "    [[13, 14, 15, 16],\n",
    "     [17, 18, 19, 20],\n",
    "     [21, 22, 23, 24]]\n",
    "])\n",
    "\n",
    "print(\"Shape:\", array_3d.shape)  # (2, 3, 4)\n",
    "print(\"\\nFirst layer:\\n\", array_3d[0])\n",
    "print(\"\\nElement at position [1,2,3]:\", array_3d[1,2,3])  # 24\n",
    "\n"
   ]
  },
  {
   "cell_type": "code",
   "execution_count": 7,
   "id": "45103b3f-853f-4a21-8e85-c4eb3c9b1d77",
   "metadata": {},
   "outputs": [
    {
     "name": "stdout",
     "output_type": "stream",
     "text": [
      "\n",
      "Sum of all elements: 300\n",
      "Mean value: 12.5\n"
     ]
    }
   ],
   "source": [
    "# Basic operations\n",
    "print(\"\\nSum of all elements:\", array_3d.sum())\n",
    "print(\"Mean value:\", array_3d.mean())\n",
    "\n"
   ]
  },
  {
   "cell_type": "code",
   "execution_count": 8,
   "id": "4716244c-a7c8-4c9d-aafa-50adb4569bc1",
   "metadata": {},
   "outputs": [
    {
     "name": "stdout",
     "output_type": "stream",
     "text": [
      "\n",
      "First row of second layer: [13 14 15 16]\n",
      "Middle column of all layers:\n",
      " [[ 2  6 10]\n",
      " [14 18 22]]\n"
     ]
    }
   ],
   "source": [
    "# Accessing slices\n",
    "print(\"\\nFirst row of second layer:\", array_3d[1,0])\n",
    "print(\"Middle column of all layers:\\n\", array_3d[:,:,1])"
   ]
  }
 ],
 "metadata": {
  "kernelspec": {
   "display_name": "Python 3 (ipykernel)",
   "language": "python",
   "name": "python3"
  },
  "language_info": {
   "codemirror_mode": {
    "name": "ipython",
    "version": 3
   },
   "file_extension": ".py",
   "mimetype": "text/x-python",
   "name": "python",
   "nbconvert_exporter": "python",
   "pygments_lexer": "ipython3",
   "version": "3.13.0"
  }
 },
 "nbformat": 4,
 "nbformat_minor": 5
}
