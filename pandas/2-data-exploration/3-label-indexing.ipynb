{
 "cells": [
  {
   "cell_type": "code",
   "execution_count": 36,
   "id": "9d50df1c-db9b-44c2-a47f-612f26e5888b",
   "metadata": {},
   "outputs": [],
   "source": [
    "import pandas as pd"
   ]
  },
  {
   "cell_type": "code",
   "execution_count": 37,
   "id": "ac184ef9-360b-416a-b5db-5b5391d41d49",
   "metadata": {},
   "outputs": [],
   "source": [
    "# Create a DataFrame with a labeled index\n",
    "df = pd.DataFrame({\n",
    "    'Population': [8.4, 3.9, 2.3, 8.6, 4.7],\n",
    "    'GDP': [1.7, 2.1, 3.3, 2.5, 1.4],\n",
    "    'Continent': ['NA', 'EU', 'AS', 'EU', 'SA']\n",
    "}, index=['NYC', 'Berlin', 'Singapore', 'London', 'São Paulo'])"
   ]
  },
  {
   "cell_type": "code",
   "execution_count": 38,
   "id": "bb2eb885-ab14-4030-a970-84465f545ced",
   "metadata": {},
   "outputs": [
    {
     "name": "stdout",
     "output_type": "stream",
     "text": [
      "DataFrame with city names as index:\n",
      "           Population  GDP Continent\n",
      "NYC               8.4  1.7        NA\n",
      "Berlin            3.9  2.1        EU\n",
      "Singapore         2.3  3.3        AS\n",
      "London            8.6  2.5        EU\n",
      "São Paulo         4.7  1.4        SA\n",
      "\n",
      "\n"
     ]
    }
   ],
   "source": [
    "print(\"DataFrame with city names as index:\")\n",
    "print(df)\n",
    "print(\"\\n\")"
   ]
  },
  {
   "cell_type": "code",
   "execution_count": 39,
   "id": "b668c501-ce64-42a7-a1ef-e3097b9c8a57",
   "metadata": {},
   "outputs": [
    {
     "name": "stdout",
     "output_type": "stream",
     "text": [
      "1. Single city using .loc:\n",
      "Population    3.9\n",
      "GDP           2.1\n",
      "Continent      EU\n",
      "Name: Berlin, dtype: object\n",
      "\n",
      "\n"
     ]
    }
   ],
   "source": [
    "# 1. Basic label access using the loc method\n",
    "print(\"1. Single city using .loc:\")\n",
    "print(df.loc['Berlin'])    # loc selects from rows, from all columns\n",
    "# print(df['Berlin'])    This would not work, as it tries to find a column with this name\n",
    "print(\"\\n\")"
   ]
  },
  {
   "cell_type": "code",
   "execution_count": 40,
   "id": "3c772f40-65dc-43b2-990e-a87b61e73e82",
   "metadata": {},
   "outputs": [
    {
     "name": "stdout",
     "output_type": "stream",
     "text": [
      "2. Multiple cities:\n",
      "        Population  GDP Continent\n",
      "NYC            8.4  1.7        NA\n",
      "London         8.6  2.5        EU\n",
      "\n",
      "\n"
     ]
    }
   ],
   "source": [
    "# 2. Multiple labels\n",
    "print(\"2. Multiple cities:\")\n",
    "print(df.loc[['NYC', 'London']])      # Multiple rows, all columns\n",
    "print(\"\\n\")"
   ]
  },
  {
   "cell_type": "code",
   "execution_count": 41,
   "id": "29dd70cf-b201-444f-89f9-748f68950710",
   "metadata": {},
   "outputs": [
    {
     "name": "stdout",
     "output_type": "stream",
     "text": [
      "3. Slice from Berlin to London (inclusive):\n",
      "           Population  GDP Continent\n",
      "Berlin            3.9  2.1        EU\n",
      "Singapore         2.3  3.3        AS\n",
      "London            8.6  2.5        EU\n",
      "\n",
      "\n"
     ]
    }
   ],
   "source": [
    "# 3. Label slicing (inclusive)\n",
    "print(\"3. Slice from Berlin to London (inclusive):\")\n",
    "print(df.loc['Berlin':'London'])\n",
    "print(\"\\n\")"
   ]
  },
  {
   "cell_type": "code",
   "execution_count": 42,
   "id": "11fcd34c-b033-43c2-8751-d38a4f457c53",
   "metadata": {},
   "outputs": [
    {
     "name": "stdout",
     "output_type": "stream",
     "text": [
      "4. Cities with population > 5:\n",
      "        Population  GDP Continent\n",
      "NYC            8.4  1.7        NA\n",
      "London         8.6  2.5        EU\n",
      "\n",
      "\n",
      "-----------------------------\n",
      "Population:\n",
      "NYC          8.4\n",
      "Berlin       3.9\n",
      "Singapore    2.3\n",
      "London       8.6\n",
      "São Paulo    4.7\n",
      "Name: Population, dtype: float64\n",
      "-----------------------------\n",
      "type of df['Population']\n",
      "<class 'pandas.core.series.Series'>\n",
      "-----------------------------\n",
      "df['Population:'] > 5\n",
      "NYC           True\n",
      "Berlin       False\n",
      "Singapore    False\n",
      "London        True\n",
      "São Paulo    False\n",
      "Name: Population, dtype: bool\n"
     ]
    }
   ],
   "source": [
    "# 4. Conditional selection with labeled index\n",
    "print(\"4. Cities with population > 5:\")\n",
    "print(df[df['Population'] > 5])\n",
    "print(\"\\n\")\n",
    "print('-----------------------------')\n",
    "print('Population:')\n",
    "print(df['Population'])\n",
    "print('-----------------------------')\n",
    "print(\"type of df['Population']\")\n",
    "print(type(df['Population']))\n",
    "print('-----------------------------')\n",
    "print(\"df['Population:'] > 5\")\n",
    "print(df['Population'] > 5)"
   ]
  },
  {
   "cell_type": "code",
   "execution_count": 43,
   "id": "81f0886d-8232-4fc6-8361-cb1f3bffe1df",
   "metadata": {},
   "outputs": [
    {
     "name": "stdout",
     "output_type": "stream",
     "text": [
      "5. After updating NYC's GDP:\n",
      "           Population  GDP Continent\n",
      "NYC               8.4  1.8        NA\n",
      "Berlin            3.9  2.1        EU\n",
      "Singapore         2.3  3.3        AS\n",
      "London            8.6  2.5        EU\n",
      "São Paulo         4.7  1.4        SA\n",
      "\n",
      "\n"
     ]
    }
   ],
   "source": [
    "# 5. Setting values using labels\n",
    "df.loc['NYC', 'GDP'] = 1.8\n",
    "print(\"5. After updating NYC's GDP:\")\n",
    "print(df)\n",
    "print(\"\\n\")"
   ]
  },
  {
   "cell_type": "code",
   "execution_count": 44,
   "id": "5fc5e09b-5311-4727-a2a5-6350c822736a",
   "metadata": {},
   "outputs": [
    {
     "name": "stdout",
     "output_type": "stream",
     "text": [
      "6. Multi-index DataFrame:\n",
      "                     Population  GDP\n",
      "Continent                           \n",
      "NA        NYC               8.4  1.8\n",
      "EU        Berlin            3.9  2.1\n",
      "AS        Singapore         2.3  3.3\n",
      "EU        London            8.6  2.5\n",
      "SA        São Paulo         4.7  1.4\n",
      "MultiIndex([('NA',       'NYC'),\n",
      "            ('EU',    'Berlin'),\n",
      "            ('AS', 'Singapore'),\n",
      "            ('EU',    'London'),\n",
      "            ('SA', 'São Paulo')],\n",
      "           names=['Continent', None])\n",
      "\n",
      "\n"
     ]
    }
   ],
   "source": [
    "# 6. Multi-index example\n",
    "df_multi = df.set_index(['Continent', df.index])\n",
    "print(\"6. Multi-index DataFrame:\")\n",
    "print(df_multi)\n",
    "print(df_multi.index)\n",
    "print(\"\\n\")"
   ]
  },
  {
   "cell_type": "code",
   "execution_count": 45,
   "id": "c9b0d808-572f-45e0-b853-2de6dd329d06",
   "metadata": {},
   "outputs": [
    {
     "name": "stdout",
     "output_type": "stream",
     "text": [
      "7. All cities in EU:\n",
      "        Population  GDP\n",
      "Berlin         3.9  2.1\n",
      "London         8.6  2.5\n",
      "\n",
      "\n"
     ]
    }
   ],
   "source": [
    "# 7. Accessing with multi-index\n",
    "print(\"7. All cities in EU:\")\n",
    "print(df_multi.loc['EU'])\n",
    "print(\"\\n\")"
   ]
  },
  {
   "cell_type": "code",
   "execution_count": 46,
   "id": "b638fde6-d665-49ea-8556-2a5da7bd0e34",
   "metadata": {},
   "outputs": [
    {
     "name": "stdout",
     "output_type": "stream",
     "text": [
      "8. GDP in EU:\n",
      "Berlin    2.1\n",
      "London    2.5\n",
      "Name: GDP, dtype: float64\n"
     ]
    }
   ],
   "source": [
    "# 8. Partial indexing with multi-index\n",
    "print(\"8. GDP in EU:\")\n",
    "print(df_multi.loc['EU', :]['GDP'])"
   ]
  }
 ],
 "metadata": {
  "kernelspec": {
   "display_name": "Python 3 (ipykernel)",
   "language": "python",
   "name": "python3"
  },
  "language_info": {
   "codemirror_mode": {
    "name": "ipython",
    "version": 3
   },
   "file_extension": ".py",
   "mimetype": "text/x-python",
   "name": "python",
   "nbconvert_exporter": "python",
   "pygments_lexer": "ipython3",
   "version": "3.13.0"
  }
 },
 "nbformat": 4,
 "nbformat_minor": 5
}
