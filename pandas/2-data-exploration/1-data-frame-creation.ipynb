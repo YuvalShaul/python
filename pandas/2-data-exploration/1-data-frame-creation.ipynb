{
 "cells": [
  {
   "cell_type": "markdown",
   "id": "05849691-1497-4770-a722-b2cd2d19fdd0",
   "metadata": {},
   "source": [
    "## DataFrame creation"
   ]
  },
  {
   "cell_type": "code",
   "execution_count": 25,
   "id": "0c7ce457-205d-43cb-8f82-a9b9cebe1fba",
   "metadata": {},
   "outputs": [],
   "source": [
    "import pandas as pd\n",
    "import numpy as np"
   ]
  },
  {
   "cell_type": "code",
   "execution_count": 26,
   "id": "5c8a4eb1-e545-4a5b-9806-817e1489ad59",
   "metadata": {},
   "outputs": [
    {
     "name": "stdout",
     "output_type": "stream",
     "text": [
      "1. From dictionary of lists (column-oriented):\n",
      "Shape: (4, 3) in the format: (rows, columns)\n",
      "    Name  Age City\n",
      "0   John   25   NY\n",
      "1   Emma   30   LA\n",
      "2   Alex   22   SF\n",
      "3  Sarah   35  CHI\n",
      "\n",
      "\n"
     ]
    }
   ],
   "source": [
    "# Method 1: From Dictionary of Lists (Column-oriented)\n",
    "# Each key becomes a column name, each list becomes column values\n",
    "# so row#1 will be:  'John', 25, 'NY'..\n",
    "\n",
    "df1 = pd.DataFrame({\n",
    "    'Name': ['John', 'Emma', 'Alex', 'Sarah'],    # So this is a column, not a row\n",
    "    'Age': [25, 30, 22, 35],\n",
    "    'City': ['NY', 'LA', 'SF', 'CHI']\n",
    "})\n",
    "print(\"1. From dictionary of lists (column-oriented):\")\n",
    "print(f\"Shape: {df1.shape} in the format: (rows, columns)\")\n",
    "print(df1)\n",
    "print(\"\\n\")"
   ]
  },
  {
   "cell_type": "code",
   "execution_count": 27,
   "id": "7c58b59f-50a8-468d-8187-046251fdee66",
   "metadata": {},
   "outputs": [
    {
     "name": "stdout",
     "output_type": "stream",
     "text": [
      "2. From list of lists (row-oriented):\n",
      "Shape: (4, 3) in the format: (rows, columns)\n",
      "    Name  Age City\n",
      "0   John   25   NY\n",
      "1   Emma   30   LA\n",
      "2   Alex   22   SF\n",
      "3  Sarah   35  CHI\n",
      "\n",
      "\n"
     ]
    }
   ],
   "source": [
    "# Method 2: From List of Lists (Row-oriented)\n",
    "# Each inner list is a row\n",
    "data = [\n",
    "    ['John', 25, 'NY'],      # this is a row\n",
    "    ['Emma', 30, 'LA'],\n",
    "    ['Alex', 22, 'SF'],\n",
    "    ['Sarah', 35, 'CHI']\n",
    "]\n",
    "df2 = pd.DataFrame(data, columns=['Name', 'Age', 'City'])\n",
    "print(\"2. From list of lists (row-oriented):\")\n",
    "print(f\"Shape: {df2.shape} in the format: (rows, columns)\")\n",
    "print(df2)\n",
    "print(\"\\n\")"
   ]
  },
  {
   "cell_type": "code",
   "execution_count": 28,
   "id": "0556316f-2076-4024-8704-3642e60a7fe3",
   "metadata": {},
   "outputs": [
    {
     "name": "stdout",
     "output_type": "stream",
     "text": [
      "3. From list of dictionaries (row-oriented):\n",
      "Shape: (4, 3) in the format: (rows, columns)\n",
      "    Name  Age City\n",
      "0   John   25   NY\n",
      "1   Emma   30   LA\n",
      "2   Alex   22   SF\n",
      "3  Sarah   35  CHI\n",
      "\n",
      "\n"
     ]
    }
   ],
   "source": [
    "# Method 3: From List of Dictionaries (Row-oriented)\n",
    "# Each dictionary is a row\n",
    "data = [\n",
    "    {'Name': 'John', 'Age': 25, 'City': 'NY'},    #  This is a row\n",
    "    {'Name': 'Emma', 'Age': 30, 'City': 'LA'},\n",
    "    {'Name': 'Alex', 'Age': 22, 'City': 'SF'},\n",
    "    {'Name': 'Sarah', 'Age': 35, 'City': 'CHI'}    \n",
    "]\n",
    "df3 = pd.DataFrame(data)\n",
    "print(\"3. From list of dictionaries (row-oriented):\")\n",
    "print(f\"Shape: {df3.shape} in the format: (rows, columns)\")\n",
    "print(df3)\n",
    "print(\"\\n\")"
   ]
  },
  {
   "cell_type": "code",
   "execution_count": 29,
   "id": "df68a8d5-09e3-4afa-a515-c3347cb65695",
   "metadata": {},
   "outputs": [
    {
     "name": "stdout",
     "output_type": "stream",
     "text": [
      "4. From NumPy array:\n",
      "Shape: (3, 4) in the format: (rows, columns)\n",
      "   A   B   C   D\n",
      "0  1   2   3   4\n",
      "1  5   6   7   8\n",
      "2  9  10  11  12\n",
      "\n",
      "\n"
     ]
    }
   ],
   "source": [
    "# Method 4: From NumPy Array\n",
    "array = np.array([[1, 2, 3, 4],     # this is a row\n",
    "                 [5, 6, 7, 8],\n",
    "                 [9, 10, 11, 12]])\n",
    "df4 = pd.DataFrame(array, columns=['A', 'B', 'C', 'D'])\n",
    "print(\"4. From NumPy array:\")\n",
    "print(f\"Shape: {df4.shape} in the format: (rows, columns)\")\n",
    "print(df4)\n",
    "print(\"\\n\")"
   ]
  },
  {
   "cell_type": "code",
   "execution_count": 30,
   "id": "3793e1f4-2e61-451b-bc50-1c83641d2b46",
   "metadata": {},
   "outputs": [
    {
     "name": "stdout",
     "output_type": "stream",
     "text": [
      "5. Created empty and added rows:\n",
      "Shape: (2, 3) in the format: (rows, columns)\n",
      "   Name  Age City\n",
      "0  John   25   NY\n",
      "1  Emma   30   LA\n",
      "\n",
      "\n"
     ]
    }
   ],
   "source": [
    "# Method 5: Creating an empty DataFrame and adding data\n",
    "df5 = pd.DataFrame(columns=['Name', 'Age', 'City'])\n",
    "# Adding rows one at a time\n",
    "df5.loc[0] = ['John', 25, 'NY']\n",
    "df5.loc[1] = ['Emma', 30, 'LA']\n",
    "print(\"5. Created empty and added rows:\")\n",
    "print(f\"Shape: {df5.shape} in the format: (rows, columns)\")\n",
    "print(df5)\n",
    "print(\"\\n\")"
   ]
  },
  {
   "cell_type": "code",
   "execution_count": 31,
   "id": "6a6f856b-bc78-408e-bedd-386347190aa6",
   "metadata": {},
   "outputs": [
    {
     "name": "stdout",
     "output_type": "stream",
     "text": [
      "6. Using concatenation:\n",
      "Shape: (2, 2) in the format: (rows, columns)\n",
      "   Name  Age\n",
      "0  John   25\n",
      "1  Emma   30\n"
     ]
    }
   ],
   "source": [
    "# Method 6: Using concatenation to add rows or columns\n",
    "df6 = pd.DataFrame({'Name': ['John'], 'Age': [25]})\n",
    "new_row = pd.DataFrame({'Name': ['Emma'], 'Age': [30]})\n",
    "df6 = pd.concat([df6, new_row], ignore_index=True)\n",
    "print(\"6. Using concatenation:\")\n",
    "print(f\"Shape: {df6.shape} in the format: (rows, columns)\")\n",
    "print(df6)"
   ]
  }
 ],
 "metadata": {
  "kernelspec": {
   "display_name": "Python 3 (ipykernel)",
   "language": "python",
   "name": "python3"
  },
  "language_info": {
   "codemirror_mode": {
    "name": "ipython",
    "version": 3
   },
   "file_extension": ".py",
   "mimetype": "text/x-python",
   "name": "python",
   "nbconvert_exporter": "python",
   "pygments_lexer": "ipython3",
   "version": "3.13.0"
  }
 },
 "nbformat": 4,
 "nbformat_minor": 5
}
