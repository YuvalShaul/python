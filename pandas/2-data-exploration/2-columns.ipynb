{
 "cells": [
  {
   "cell_type": "markdown",
   "id": "ce22e8fa-c8d7-45db-9a29-b598fb03966f",
   "metadata": {},
   "source": [
    "## Making sense of columns"
   ]
  },
  {
   "cell_type": "code",
   "execution_count": 56,
   "id": "c625b324-cc59-4230-a8b0-fe47f779f48d",
   "metadata": {},
   "outputs": [],
   "source": [
    "import seaborn as sns\n",
    "import pandas as pd"
   ]
  },
  {
   "cell_type": "markdown",
   "id": "79cfac52-88b6-437b-9911-d50d2d580e05",
   "metadata": {},
   "source": [
    "### Rows & Columns"
   ]
  },
  {
   "cell_type": "code",
   "execution_count": 57,
   "id": "f5c5c0a4-1b96-48ed-a695-b1673a87191f",
   "metadata": {},
   "outputs": [],
   "source": [
    "# List of lists without column names\n",
    "data = [\n",
    "    ['John', 25, 'NY'],\n",
    "    ['Emma', 30, 'LA'],\n",
    "    ['Alex', 22, 'SF'],\n",
    "    ['Sarah', 35, 'CHI']\n",
    "]"
   ]
  },
  {
   "cell_type": "code",
   "execution_count": 58,
   "id": "8d33f8bc-a210-430c-9dd8-1eb698cdd50e",
   "metadata": {},
   "outputs": [
    {
     "name": "stdout",
     "output_type": "stream",
     "text": [
      "Without columns parameter:\n",
      "Shape: (4, 3) in the format: (rows, columns)\n",
      "       0   1    2\n",
      "0   John  25   NY\n",
      "1   Emma  30   LA\n",
      "2   Alex  22   SF\n",
      "3  Sarah  35  CHI\n",
      "\n",
      "\n"
     ]
    }
   ],
   "source": [
    "# Without columns parameter - pandas uses numbers as column names\n",
    "df1 = pd.DataFrame(data)\n",
    "print(\"Without columns parameter:\")\n",
    "print(f\"Shape: {df1.shape} in the format: (rows, columns)\")\n",
    "print(df1)\n",
    "print(\"\\n\")"
   ]
  },
  {
   "cell_type": "code",
   "execution_count": 59,
   "id": "35b3db2c-63bb-4251-b057-2f06a5702cdd",
   "metadata": {},
   "outputs": [
    {
     "name": "stdout",
     "output_type": "stream",
     "text": [
      "With columns parameter:\n",
      "    Name  Age City\n",
      "0   John   25   NY\n",
      "1   Emma   30   LA\n",
      "2   Alex   22   SF\n",
      "3  Sarah   35  CHI\n",
      "\n",
      "\n"
     ]
    }
   ],
   "source": [
    "# Same data WITH columns parameter\n",
    "df2 = pd.DataFrame(data, columns=['Name', 'Age', 'City'])\n",
    "print(\"With columns parameter:\")\n",
    "print(df2)\n",
    "print(\"\\n\")"
   ]
  },
  {
   "cell_type": "code",
   "execution_count": 60,
   "id": "8442ca6d-3425-43a5-9792-5084d57fbc35",
   "metadata": {},
   "outputs": [
    {
     "name": "stdout",
     "output_type": "stream",
     "text": [
      "The index is still numbers:\n",
      "Index: RangeIndex(start=0, stop=4, step=1)\n",
      "Columns: Index(['Name', 'Age', 'City'], dtype='object')\n",
      "\n",
      "\n"
     ]
    }
   ],
   "source": [
    "# Notice that columns only names the columns, not the index\n",
    "print(\"The index is still numbers:\")\n",
    "print(\"Index:\", df2.index)\n",
    "print(\"Columns:\", df2.columns)\n",
    "print(\"\\n\")"
   ]
  },
  {
   "cell_type": "code",
   "execution_count": 61,
   "id": "14edb1c0-ec5f-4650-ab47-5070db76dd50",
   "metadata": {},
   "outputs": [
    {
     "name": "stdout",
     "output_type": "stream",
     "text": [
      "With both custom columns and index:\n",
      "    Name  Age City\n",
      "A   John   25   NY\n",
      "B   Emma   30   LA\n",
      "C   Alex   22   SF\n",
      "D  Sarah   35  CHI\n",
      "\n",
      "\n"
     ]
    }
   ],
   "source": [
    "# If you want to change the index, that's separate:\n",
    "df3 = pd.DataFrame(data, \n",
    "                  columns=['Name', 'Age', 'City'],\n",
    "                  index=['A', 'B', 'C', 'D'])\n",
    "print(\"With both custom columns and index:\")\n",
    "print(df3)\n",
    "print(\"\\n\")"
   ]
  },
  {
   "cell_type": "code",
   "execution_count": 62,
   "id": "881d5a01-ff26-4911-be05-5ca338af3259",
   "metadata": {},
   "outputs": [],
   "source": [
    "# When using dictionary method, columns parameter can reorder or select columns\n",
    "dict_data = {\n",
    "    'Name': ['John', 'Emma', 'Alex'],\n",
    "    'Age': [25, 30, 22],\n",
    "    'City': ['NY', 'LA', 'SF']\n",
    "}"
   ]
  },
  {
   "cell_type": "code",
   "execution_count": 63,
   "id": "f405f599-ced4-4b3f-87da-3e8f7aed3aff",
   "metadata": {},
   "outputs": [
    {
     "name": "stdout",
     "output_type": "stream",
     "text": [
      "Reordered columns using columns parameter:\n",
      "   Age  Name City\n",
      "0   25  John   NY\n",
      "1   30  Emma   LA\n",
      "2   22  Alex   SF\n",
      "\n",
      "\n"
     ]
    }
   ],
   "source": [
    "# Reorder columns\n",
    "df4 = pd.DataFrame(dict_data, columns=['Age', 'Name', 'City'])\n",
    "print(\"Reordered columns using columns parameter:\")\n",
    "print(df4)\n",
    "print(\"\\n\")"
   ]
  },
  {
   "cell_type": "code",
   "execution_count": 64,
   "id": "8879eddb-ce2c-485f-8110-ce5a49aded54",
   "metadata": {},
   "outputs": [
    {
     "name": "stdout",
     "output_type": "stream",
     "text": [
      "Selected subset of columns:\n",
      "   Name  Age\n",
      "0  John   25\n",
      "1  Emma   30\n",
      "2  Alex   22\n"
     ]
    }
   ],
   "source": [
    "# Select only certain columns\n",
    "df5 = pd.DataFrame(dict_data, columns=['Name', 'Age'])  # Omit 'City'\n",
    "print(\"Selected subset of columns:\")\n",
    "print(df5)"
   ]
  },
  {
   "cell_type": "code",
   "execution_count": 65,
   "id": "a01feb5a-5b7b-473f-956d-a20afe1de22b",
   "metadata": {},
   "outputs": [
    {
     "name": "stdout",
     "output_type": "stream",
     "text": [
      "<class 'pandas.core.frame.DataFrame'>\n",
      "(3, 1)\n",
      "Selected subset of columns:\n",
      "   Name  Age\n",
      "0  John   25\n",
      "1  Emma   30\n",
      "2  Alex   22\n"
     ]
    }
   ],
   "source": [
    "# Select just a single column will still create a DataFrame\n",
    "df6 = pd.DataFrame(dict_data, columns=['Age'])  # Omit 'City'\n",
    "print(type(df6))\n",
    "print(df6.shape)\n",
    "print(\"Selected subset of columns:\")\n",
    "print(df5)"
   ]
  },
  {
   "cell_type": "code",
   "execution_count": 66,
   "id": "e91734b0-d980-480d-99d0-da8ff58ff0b2",
   "metadata": {},
   "outputs": [
    {
     "name": "stdout",
     "output_type": "stream",
     "text": [
      "<class 'pandas.core.series.Series'>\n",
      "(3, 1)\n",
      "0    25\n",
      "1    30\n",
      "2    22\n",
      "Name: Age, dtype: int64\n"
     ]
    }
   ],
   "source": [
    "# ...but indexing with a column name will create a Series:\n",
    "df7 = df5['Age']\n",
    "print(type(df7))\n",
    "print(df6.shape)\n",
    "print(df7)"
   ]
  }
 ],
 "metadata": {
  "kernelspec": {
   "display_name": "Python 3 (ipykernel)",
   "language": "python",
   "name": "python3"
  },
  "language_info": {
   "codemirror_mode": {
    "name": "ipython",
    "version": 3
   },
   "file_extension": ".py",
   "mimetype": "text/x-python",
   "name": "python",
   "nbconvert_exporter": "python",
   "pygments_lexer": "ipython3",
   "version": "3.13.0"
  }
 },
 "nbformat": 4,
 "nbformat_minor": 5
}
