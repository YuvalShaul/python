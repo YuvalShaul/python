{
 "cells": [
  {
   "cell_type": "code",
   "execution_count": 27,
   "id": "779b8479-7eed-4ddf-bc02-3aa735ecf727",
   "metadata": {},
   "outputs": [],
   "source": [
    "import pandas as pd\n",
    "import numpy as np"
   ]
  },
  {
   "cell_type": "markdown",
   "id": "67524180-9b76-44ef-8e8d-dd7f1e425ccc",
   "metadata": {},
   "source": [
    "### Index Immutability"
   ]
  },
  {
   "cell_type": "code",
   "execution_count": 28,
   "id": "193b2679-adfe-4dd9-b6ed-c8bfc9e9d38f",
   "metadata": {},
   "outputs": [
    {
     "name": "stdout",
     "output_type": "stream",
     "text": [
      "Original index: Index(['a', 'b', 'c'], dtype='object')\n",
      "Cannot modify index: Index does not support mutable operations\n",
      "New index (copy): Index(['a', 'b', 'c'], dtype='object')\n"
     ]
    }
   ],
   "source": [
    "idx = pd.Index(['a', 'b', 'c'])\n",
    "print(\"Original index:\", idx)\n",
    "\n",
    "# Try to modify index (will raise error)\n",
    "try:\n",
    "    idx[0] = 'x'\n",
    "except TypeError as e:\n",
    "    print(\"Cannot modify index:\", str(e))\n",
    "\n",
    "# However, you can create a new index\n",
    "new_idx = idx.copy()\n",
    "print(\"New index (copy):\", new_idx)"
   ]
  },
  {
   "cell_type": "markdown",
   "id": "a9daf6c1-3ef1-4b4f-a9da-d4ef56d07b04",
   "metadata": {},
   "source": [
    "### Index Uniqueness"
   ]
  },
  {
   "cell_type": "code",
   "execution_count": 29,
   "id": "e1f6bc24-0d4f-4de1-b76a-1972ec448314",
   "metadata": {},
   "outputs": [
    {
     "name": "stdout",
     "output_type": "stream",
     "text": [
      "Index with duplicates: Index(['a', 'b', 'b', 'c'], dtype='object')\n",
      "Is unique? False\n",
      "Get duplicate values: [False False  True False]\n",
      "\n",
      "Index without duplicates: Index(['a', 'b', 'c'], dtype='object')\n",
      "Is unique? True\n"
     ]
    }
   ],
   "source": [
    "# Creating index with duplicates\n",
    "dup_idx = pd.Index(['a', 'b', 'b', 'c'])\n",
    "print(\"Index with duplicates:\", dup_idx)\n",
    "print(\"Is unique?\", dup_idx.is_unique)\n",
    "print(\"Get duplicate values:\", dup_idx.duplicated())\n",
    "\n",
    "# Creating index without duplicates\n",
    "unique_idx = pd.Index(['a', 'b', 'c'])\n",
    "print(\"\\nIndex without duplicates:\", unique_idx)\n",
    "print(\"Is unique?\", unique_idx.is_unique)"
   ]
  },
  {
   "cell_type": "code",
   "execution_count": 30,
   "id": "9e4dba93-b3a4-4556-a671-4e4ccbe85da9",
   "metadata": {},
   "outputs": [
    {
     "name": "stdout",
     "output_type": "stream",
     "text": [
      "3    b\n",
      "3    c\n",
      "dtype: object\n",
      "3    b\n",
      "3    c\n",
      "dtype: object\n",
      "<class 'pandas.core.series.Series'>\n"
     ]
    }
   ],
   "source": [
    "# Accessubg elements of a series with non-unique index\n",
    "ser_non_unique = pd.Series(['a', 'b', 'c', 'd', 'e'], index=[1, 3, 3, 4, 7])\n",
    "print(ser_non_unique[3])\n",
    "print(ser_non_unique.loc[3])\n",
    "print(type(ser_non_unique[3]))"
   ]
  },
  {
   "cell_type": "markdown",
   "id": "2428c7db-ea53-4f5d-96c2-16662f511da0",
   "metadata": {},
   "source": [
    "### Sequence-Like Behavior"
   ]
  },
  {
   "cell_type": "code",
   "execution_count": 31,
   "id": "533a623a-be6c-464b-ad2f-5999acefb521",
   "metadata": {},
   "outputs": [
    {
     "name": "stdout",
     "output_type": "stream",
     "text": [
      "Length: 4\n",
      "\n",
      "Iteration:\n",
      "Label: a\n",
      "Label: b\n",
      "Label: c\n",
      "Label: d\n",
      "\n",
      "Containment:\n",
      "'b' in index? True\n",
      "'x' in index? False\n",
      "\n",
      "Slicing:\n",
      "idx[1:3]: Index(['b', 'c'], dtype='object')\n",
      "idx[:2]: Index(['a', 'b'], dtype='object')\n"
     ]
    }
   ],
   "source": [
    "idx = pd.Index(['a', 'b', 'c', 'd'])\n",
    "\n",
    "# Length\n",
    "print(\"Length:\", len(idx))\n",
    "\n",
    "# Iteration\n",
    "print(\"\\nIteration:\")\n",
    "for label in idx:\n",
    "    print(f\"Label: {label}\")\n",
    "\n",
    "# Containment\n",
    "print(\"\\nContainment:\")\n",
    "print(\"'b' in index?\", 'b' in idx)\n",
    "print(\"'x' in index?\", 'x' in idx)\n",
    "\n",
    "# Slicing\n",
    "print(\"\\nSlicing:\")\n",
    "print(\"idx[1:3]:\", idx[1:3])\n",
    "print(\"idx[:2]:\", idx[:2])"
   ]
  },
  {
   "cell_type": "markdown",
   "id": "ffeef08b-6fcc-4e43-a3c4-dda0e4120222",
   "metadata": {},
   "source": [
    "### Set operations"
   ]
  },
  {
   "cell_type": "code",
   "execution_count": 32,
   "id": "b02d8ee8-2b96-493a-95be-f279eecc53d9",
   "metadata": {},
   "outputs": [
    {
     "name": "stdout",
     "output_type": "stream",
     "text": [
      "\n",
      "Union: Index(['a', 'b', 'c', 'd'], dtype='object')\n",
      "Intersection: Index(['b', 'c'], dtype='object')\n",
      "Difference (idx1 - idx2): Index(['a'], dtype='object')\n"
     ]
    }
   ],
   "source": [
    "idx1 = pd.Index(['a', 'b', 'c'])\n",
    "idx2 = pd.Index(['b', 'c', 'd'])\n",
    "\n",
    "print(\"\\nUnion:\", idx1.union(idx2))\n",
    "print(\"Intersection:\", idx1.intersection(idx2))\n",
    "print(\"Difference (idx1 - idx2):\", idx1.difference(idx2))\n"
   ]
  },
  {
   "cell_type": "markdown",
   "id": "2781c7ad-f863-47bd-81f7-e6a4433da990",
   "metadata": {},
   "source": [
    "### Memory efficiency"
   ]
  },
  {
   "cell_type": "code",
   "execution_count": 33,
   "id": "7bf8865b-9a79-4721-8fbe-dbf8bd54bfa8",
   "metadata": {},
   "outputs": [
    {
     "name": "stdout",
     "output_type": "stream",
     "text": [
      "range_idx type:  <class 'pandas.core.indexes.range.RangeIndex'>\n",
      "integer_idx type:  <class 'pandas.core.indexes.base.Index'>\n",
      "basic_idx type:  <class 'pandas.core.indexes.range.RangeIndex'>\n",
      "RangeIndex size: 132\n",
      "integer_idx size: 8000000\n",
      "basic_idx size: 132\n"
     ]
    }
   ],
   "source": [
    "# Demonstrating RangeIndex efficiency\n",
    "range_idx = pd.RangeIndex(0, 1000000)\n",
    "print('range_idx type: ', type(range_idx))\n",
    "integer_idx = pd.Index(np.arange(1000000))\n",
    "print('integer_idx type: ', type(integer_idx))\n",
    "basic_idx = pd.Index(range(1000000))\n",
    "print('basic_idx type: ', type(basic_idx))\n",
    "\n",
    "\n",
    "print(\"RangeIndex size:\", range_idx.memory_usage())\n",
    "print(\"integer_idx size:\", integer_idx.memory_usage())\n",
    "print(\"basic_idx size:\", basic_idx.memory_usage())"
   ]
  },
  {
   "cell_type": "code",
   "execution_count": 34,
   "id": "de596871-0bc6-4b81-b72c-9bda59e72e4c",
   "metadata": {},
   "outputs": [
    {
     "name": "stdout",
     "output_type": "stream",
     "text": [
      "132\n",
      "<class 'pandas.core.indexes.range.RangeIndex'>\n"
     ]
    }
   ],
   "source": [
    "ser_efficient = pd.Series(range(10,1000000,10))\n",
    "print(ser_efficient.index.memory_usage())\n",
    "print(type(ser_efficient.index))"
   ]
  },
  {
   "cell_type": "markdown",
   "id": "2f1e0ed4-cbea-4d6e-b567-8617ab8b9856",
   "metadata": {},
   "source": [
    "### Index metadata"
   ]
  },
  {
   "cell_type": "code",
   "execution_count": 35,
   "id": "4096f4fd-fa7d-4554-b4c0-85a68556dd3a",
   "metadata": {},
   "outputs": [
    {
     "name": "stdout",
     "output_type": "stream",
     "text": [
      "Index with name: Index(['a', 'b', 'c'], dtype='object', name='letters')\n",
      "Index name: letters\n",
      "Index dtype: object\n",
      "Is monotonic increasing? True\n"
     ]
    }
   ],
   "source": [
    "idx = pd.Index(['a', 'b', 'c' ], name='letters')\n",
    "print(\"Index with name:\", idx)\n",
    "print(\"Index name:\", idx.name)\n",
    "print(\"Index dtype:\", idx.dtype)\n",
    "print(\"Is monotonic increasing?\", idx.is_monotonic_increasing)\n"
   ]
  },
  {
   "cell_type": "markdown",
   "id": "d291d89d-db3f-42a7-afbc-a3b5488923df",
   "metadata": {},
   "source": [
    "### Comparisonsm, searching and sorting"
   ]
  },
  {
   "cell_type": "code",
   "execution_count": 36,
   "id": "b3ab9fa6-60a7-4eff-a50a-c66e76f1502d",
   "metadata": {},
   "outputs": [
    {
     "name": "stdout",
     "output_type": "stream",
     "text": [
      "Index: Index(['a', 'b', 'c', 'd', 'e'], dtype='object')\n",
      "Get location of 'c': 2\n",
      "Get indexer for ['b', 'd']: [1 3]\n",
      "\n",
      "Unsorted: Index(['b', 'a', 'd', 'c'], dtype='object')\n",
      "Sorted: Index(['a', 'b', 'c', 'd'], dtype='object')\n"
     ]
    }
   ],
   "source": [
    "idx = pd.Index(['a', 'b', 'c', 'd', 'e'])\n",
    "print(\"Index:\", idx)\n",
    "print(\"Get location of 'c':\", idx.get_loc('c'))\n",
    "print(\"Get indexer for ['b', 'd']:\", idx.get_indexer(['b', 'd']))\n",
    "\n",
    "# Demonstrating sorting\n",
    "unsorted_idx = pd.Index(['b', 'a', 'd', 'c'])\n",
    "print(\"\\nUnsorted:\", unsorted_idx)\n",
    "print(\"Sorted:\", unsorted_idx.sort_values())"
   ]
  }
 ],
 "metadata": {
  "kernelspec": {
   "display_name": "Python 3 (ipykernel)",
   "language": "python",
   "name": "python3"
  },
  "language_info": {
   "codemirror_mode": {
    "name": "ipython",
    "version": 3
   },
   "file_extension": ".py",
   "mimetype": "text/x-python",
   "name": "python",
   "nbconvert_exporter": "python",
   "pygments_lexer": "ipython3",
   "version": "3.13.0"
  }
 },
 "nbformat": 4,
 "nbformat_minor": 5
}
