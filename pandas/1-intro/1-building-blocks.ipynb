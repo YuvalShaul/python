{
 "cells": [
  {
   "cell_type": "code",
   "execution_count": 11,
   "id": "78c5c1d4-9e11-41c3-ad28-389bc8005dfd",
   "metadata": {},
   "outputs": [],
   "source": [
    "import pandas as pd"
   ]
  },
  {
   "cell_type": "markdown",
   "id": "3b1e6db1-d761-40c1-9227-5cb917f67403",
   "metadata": {},
   "source": [
    "### Pandas series\n",
    "- 1 dimentional\n",
    "- like a smart list"
   ]
  },
  {
   "cell_type": "code",
   "execution_count": 12,
   "id": "587e2bbe-2a96-44f7-b19d-3c27ad67d36a",
   "metadata": {},
   "outputs": [
    {
     "name": "stdout",
     "output_type": "stream",
     "text": [
      "0    1\n",
      "1    3\n",
      "2    5\n",
      "3    7\n",
      "4    9\n",
      "dtype: int64\n",
      "<class 'pandas.core.series.Series'>\n"
     ]
    }
   ],
   "source": [
    "# Creating a Series\n",
    "s1 = pd.Series([1, 3, 5, 7, 9])\n",
    "print(s1, type(s1), sep='\\n')"
   ]
  },
  {
   "cell_type": "markdown",
   "id": "ddc25d3b-2090-4123-8f84-c0ee18685695",
   "metadata": {},
   "source": [
    "### Pandas dataframe\n",
    "- 2 dimentional\n",
    "- like a smart spreadsheet\n",
    "  "
   ]
  },
  {
   "cell_type": "code",
   "execution_count": 13,
   "id": "dff10f63-87d1-4661-a5fd-18bee03e2265",
   "metadata": {},
   "outputs": [
    {
     "name": "stdout",
     "output_type": "stream",
     "text": [
      "    name  age      city\n",
      "0   John   28  New York\n",
      "1   Anna   22     Paris\n",
      "2  Peter   35    London\n"
     ]
    }
   ],
   "source": [
    "# Creating a simple DataFrame\n",
    "data = {\n",
    "    'name': ['John', 'Anna', 'Peter'],\n",
    "    'age': [28, 22, 35],\n",
    "    'city': ['New York', 'Paris', 'London']\n",
    "}\n",
    "df = pd.DataFrame(data)\n",
    "print(df)"
   ]
  }
 ],
 "metadata": {
  "kernelspec": {
   "display_name": "Python 3 (ipykernel)",
   "language": "python",
   "name": "python3"
  },
  "language_info": {
   "codemirror_mode": {
    "name": "ipython",
    "version": 3
   },
   "file_extension": ".py",
   "mimetype": "text/x-python",
   "name": "python",
   "nbconvert_exporter": "python",
   "pygments_lexer": "ipython3",
   "version": "3.13.0"
  }
 },
 "nbformat": 4,
 "nbformat_minor": 5
}
