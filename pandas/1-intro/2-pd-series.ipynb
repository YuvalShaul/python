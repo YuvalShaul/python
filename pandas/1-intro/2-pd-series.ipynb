{
 "cells": [
  {
   "cell_type": "code",
   "execution_count": 17,
   "id": "73c4091b-cf3a-4148-b982-4db3f9eefa02",
   "metadata": {},
   "outputs": [],
   "source": [
    "import pandas as pd"
   ]
  },
  {
   "cell_type": "markdown",
   "id": "453683e9-4c33-409e-ad39-e58e431d8a1c",
   "metadata": {},
   "source": [
    "### A basic series"
   ]
  },
  {
   "cell_type": "code",
   "execution_count": 18,
   "id": "42a92e38-bbe8-4071-bace-54a75aa7b188",
   "metadata": {},
   "outputs": [
    {
     "name": "stdout",
     "output_type": "stream",
     "text": [
      "Basic Series:\n",
      "0    10\n",
      "1    20\n",
      "2    30\n",
      "dtype: int64\n",
      "index:  RangeIndex(start=0, stop=3, step=1)\n",
      "type of pd index:  <class 'pandas.core.indexes.range.RangeIndex'>\n"
     ]
    }
   ],
   "source": [
    "# Series with default index (0, 1, 2, ...)\n",
    "s1 = pd.Series([10, 20, 30])\n",
    "print(\"Basic Series:\")\n",
    "print(s1)\n",
    "print('index: ', s1.index)\n",
    "print('type of pd index: ', type(s1.index))"
   ]
  },
  {
   "cell_type": "markdown",
   "id": "86481046-6dcb-4485-9a7b-b9861997e2c5",
   "metadata": {},
   "source": [
    "### Series with custom index"
   ]
  },
  {
   "cell_type": "code",
   "execution_count": 19,
   "id": "05632f6c-056e-49bc-a150-fcca6b34a6e2",
   "metadata": {},
   "outputs": [
    {
     "name": "stdout",
     "output_type": "stream",
     "text": [
      "a    1\n",
      "b    3\n",
      "c    5\n",
      "d    7\n",
      "e    9\n",
      "dtype: int64\n"
     ]
    }
   ],
   "source": [
    "# Series with custom index\n",
    "s = pd.Series([1, 3, 5, 7, 9],\n",
    "              index=['a', 'b', 'c', 'd', 'e'])\n",
    "print(s)"
   ]
  },
  {
   "cell_type": "markdown",
   "id": "d53ba33a-8b61-4a78-a4ba-30a379403914",
   "metadata": {},
   "source": [
    "### Named series"
   ]
  },
  {
   "cell_type": "code",
   "execution_count": 20,
   "id": "5ac6d35f-2054-4641-abb1-375fcff34b85",
   "metadata": {},
   "outputs": [
    {
     "name": "stdout",
     "output_type": "stream",
     "text": [
      "Named Series:\n",
      "a    10\n",
      "b    20\n",
      "c    30\n",
      "Name: my_series, dtype: int64\n",
      "Index(['a', 'b', 'c'], dtype='object') <class 'pandas.core.indexes.base.Index'>\n"
     ]
    }
   ],
   "source": [
    "# Named Series\n",
    "s3 = pd.Series([10, 20, 30], \n",
    "               index=['a', 'b', 'c'],\n",
    "               name='my_series')\n",
    "print(\"Named Series:\")\n",
    "print(s3)\n",
    "print(s3.index, type(s3.index))\n",
    "# Output:\n",
    "# a    10\n",
    "# b    20\n",
    "# c    30\n",
    "# Name: my_series, dtype: int64"
   ]
  }
 ],
 "metadata": {
  "kernelspec": {
   "display_name": "Python 3 (ipykernel)",
   "language": "python",
   "name": "python3"
  },
  "language_info": {
   "codemirror_mode": {
    "name": "ipython",
    "version": 3
   },
   "file_extension": ".py",
   "mimetype": "text/x-python",
   "name": "python",
   "nbconvert_exporter": "python",
   "pygments_lexer": "ipython3",
   "version": "3.13.0"
  }
 },
 "nbformat": 4,
 "nbformat_minor": 5
}
