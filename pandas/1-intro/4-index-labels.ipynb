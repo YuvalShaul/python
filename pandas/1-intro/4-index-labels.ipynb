{
 "cells": [
  {
   "cell_type": "code",
   "execution_count": 18,
   "id": "05bf4691-d8f6-435c-bb2d-161fbb6b370a",
   "metadata": {},
   "outputs": [],
   "source": [
    "import pandas as pd"
   ]
  },
  {
   "cell_type": "markdown",
   "id": "63438127-a153-493c-8bd3-a5ecc72b2085",
   "metadata": {},
   "source": [
    "### Labels\n",
    "Every time you specify index in your series, you create an index that contains labels.  \n",
    "In this case, you can directly access series elenebts based on these labels.  \n",
    "If there is no label, you'll get a KeyError.  \n",
    "If you want to access series elements based on their position, you should use the [iloc](https://pandas.pydata.org/docs/reference/api/pandas.Series.iloc.html) Series method."
   ]
  },
  {
   "cell_type": "code",
   "execution_count": 19,
   "id": "14603b77-9f53-4894-a853-b61e3ef86a0d",
   "metadata": {},
   "outputs": [
    {
     "name": "stdout",
     "output_type": "stream",
     "text": [
      "30\n",
      "40\n",
      "20\n",
      "20\n"
     ]
    },
    {
     "name": "stderr",
     "output_type": "stream",
     "text": [
      "C:\\Users\\yuval\\AppData\\Local\\Temp\\ipykernel_10744\\1536631119.py:6: FutureWarning: Series.__getitem__ treating keys as positions is deprecated. In a future version, integer keys will always be treated as labels (consistent with DataFrame behavior). To access a value by position, use `ser.iloc[pos]`\n",
      "  print(ser_labels[1])        # This will fail (even if it somehow works these days\n"
     ]
    }
   ],
   "source": [
    "ser_labels = pd.Series([10, 20, 30, 40, 50, 60, 70, 80], \n",
    "               index=['a', 'b', 'c', 'd', 'e', 'f', 'g', 'h'])\n",
    "print(ser_labels['c'])\n",
    "print(ser_labels.loc['d'])\n",
    "print(ser_labels.iloc[1])   # This is the way to find elements based on their position\n",
    "print(ser_labels[1])        # This will fail (even if it somehow works these days"
   ]
  },
  {
   "cell_type": "code",
   "execution_count": 20,
   "id": "24ba6871-3203-40df-af99-67ebe8157630",
   "metadata": {},
   "outputs": [
    {
     "name": "stdout",
     "output_type": "stream",
     "text": [
      "b    20\n",
      "c    30\n",
      "d    40\n",
      "e    50\n",
      "f    60\n",
      "dtype: int64\n"
     ]
    }
   ],
   "source": [
    "print(ser_labels['b':'f'])"
   ]
  },
  {
   "cell_type": "markdown",
   "id": "40206826-1b35-4875-a638-166d0ae2adc8",
   "metadata": {},
   "source": [
    "### Series with default indexes\n",
    "If you create a Series without specifying an index, it will create a RangeIndex by default.  \n",
    "You can then access elements directly using their positions."
   ]
  },
  {
   "cell_type": "code",
   "execution_count": 21,
   "id": "6ad241e3-3e35-40a0-a53a-0b9566ff9512",
   "metadata": {},
   "outputs": [
    {
     "name": "stdout",
     "output_type": "stream",
     "text": [
      "10\n",
      "10\n",
      "10\n",
      "<class 'pandas.core.indexes.range.RangeIndex'>\n"
     ]
    }
   ],
   "source": [
    "ser_indexes = pd.Series([10, 20, 30, 40, 50, 60, 70, 80])\n",
    "print(ser_indexes[0])\n",
    "print(ser_indexes.iloc[0])\n",
    "print(ser_indexes.loc[0])\n",
    "print(type(ser_indexes.index))"
   ]
  }
 ],
 "metadata": {
  "kernelspec": {
   "display_name": "Python 3 (ipykernel)",
   "language": "python",
   "name": "python3"
  },
  "language_info": {
   "codemirror_mode": {
    "name": "ipython",
    "version": 3
   },
   "file_extension": ".py",
   "mimetype": "text/x-python",
   "name": "python",
   "nbconvert_exporter": "python",
   "pygments_lexer": "ipython3",
   "version": "3.13.0"
  }
 },
 "nbformat": 4,
 "nbformat_minor": 5
}
