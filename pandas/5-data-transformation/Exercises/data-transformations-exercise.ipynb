{
 "cells": [
  {
   "cell_type": "markdown",
   "id": "995be8b1-d068-444a-b567-ba9ac4178542",
   "metadata": {},
   "source": [
    "# Pandas Data Transformation Exercises"
   ]
  },
  {
   "cell_type": "code",
   "execution_count": 6,
   "id": "f3b486c3-5461-4bc1-862e-2c15c31b6e4c",
   "metadata": {},
   "outputs": [],
   "source": [
    "import pandas as pd\n",
    "import numpy as np\n",
    "from datetime import datetime, timedelta"
   ]
  },
  {
   "cell_type": "markdown",
   "id": "585cf3ab-1247-400b-a6d0-4fd0b384e991",
   "metadata": {},
   "source": [
    "# Pandas Data Transformation Exercises"
   ]
  },
  {
   "cell_type": "code",
   "execution_count": 8,
   "id": "29690b9e-e52c-49d8-a47e-5b8788d39b64",
   "metadata": {},
   "outputs": [],
   "source": [
    "# Sample dataset for exercises\n",
    "np.random.seed(42)\n",
    "sales_data = pd.DataFrame({\n",
    "    'date': pd.date_range('2024-01-01', periods=100, freq='D'),\n",
    "    'product': np.random.choice(['A', 'B', 'C', 'D'], 100),\n",
    "    'sales_amount': np.random.uniform(100, 1000, 100),\n",
    "    'quantity': np.random.randint(1, 20, 100),\n",
    "    'region': np.random.choice(['North', 'South', 'East', 'West'], 100),\n",
    "    'customer_type': np.random.choice(['Premium', 'Regular', 'Basic'], 100)\n",
    "})\n",
    "# print(sales_data)"
   ]
  },
  {
   "cell_type": "code",
   "execution_count": 10,
   "id": "39146c6f-274f-4225-b23e-2460049bc376",
   "metadata": {},
   "outputs": [],
   "source": [
    "# Employee dataset\n",
    "employees = pd.DataFrame({\n",
    "    'employee_id': range(1, 51),\n",
    "    'name': [f'Employee_{i}' for i in range(1, 51)],\n",
    "    'department': np.random.choice(['Sales', 'Marketing', 'IT', 'HR'], 50),\n",
    "    'salary': np.random.uniform(40000, 120000, 50),\n",
    "    'hire_date': pd.date_range('2020-01-01', periods=50, freq='30D'),\n",
    "    'performance_score': np.random.uniform(3.0, 5.0, 50)\n",
    "})\n",
    "# print(employees)"
   ]
  },
  {
   "cell_type": "markdown",
   "id": "9780f2c9-f21c-4929-9518-a03e51dc9c6c",
   "metadata": {},
   "source": [
    "## Column Transformation Exercises"
   ]
  },
  {
   "cell_type": "code",
   "execution_count": null,
   "id": "4c608013-b9cd-44ea-9108-e34c70e05542",
   "metadata": {},
   "outputs": [],
   "source": [
    "### Exercise 1: Basic Column Creation\n",
    "# Create a new column called `revenue_per_unit` by dividing `sales_amount` by `quantity`.\n",
    "#    Expected Output**: New column with calculated values\n"
   ]
  },
  {
   "cell_type": "code",
   "execution_count": null,
   "id": "1b5ab9a4-9c7a-4210-853a-e3fb36036c73",
   "metadata": {},
   "outputs": [],
   "source": [
    "### Exercise 2: Column Renaming\n",
    "# Rename the columns in the sales_data DataFrame:\n",
    "# - `sales_amount` → `revenue`\n",
    "# - `customer_type` → `customer_segment`\n",
    "# - `quantity` → `units_sold`\n",
    "\n"
   ]
  },
  {
   "cell_type": "code",
   "execution_count": null,
   "id": "4bd23f33-e343-4ca6-b7ff-78fc89ff80ad",
   "metadata": {},
   "outputs": [],
   "source": [
    "### Exercise 3: Conditional Column Creation\n",
    "# Create a new column `sales_category` based on sales_amount:\n",
    "# - 'High' if sales_amount > 700\n",
    "# - 'Medium' if sales_amount between 300-700\n",
    "# - 'Low' if sales_amount < 300\n"
   ]
  },
  {
   "cell_type": "code",
   "execution_count": null,
   "id": "74d2e32e-85ac-426f-8c2f-4f4549701d1d",
   "metadata": {},
   "outputs": [],
   "source": [
    "### Exercise 4: String Manipulation\n",
    "# In the employees DataFrame, create a new column `email` by combining the employee name with '@company.com' \n",
    "# (replace spaces with dots and make lowercase)."
   ]
  },
  {
   "cell_type": "code",
   "execution_count": null,
   "id": "63f216b1-62cb-492f-833b-dea12832e7fc",
   "metadata": {},
   "outputs": [],
   "source": [
    "### Exercise 5: Date Extraction\n",
    "# From the `date` column in sales_data, create three new columns:\n",
    "# - `year`\n",
    "# - `month`\n",
    "# - `day_of_week`"
   ]
  },
  {
   "cell_type": "code",
   "execution_count": null,
   "id": "71280fe7-9098-4c0e-aa82-1bc864c476f5",
   "metadata": {},
   "outputs": [],
   "source": [
    "### Exercise 6: Column Transformation with Apply\n",
    "# Create a new column `adjusted_salary` in the employees DataFrame that increases salary by 10% \n",
    "# for employees with performance_score > 4.0, otherwise keeps the original salary."
   ]
  },
  {
   "cell_type": "code",
   "execution_count": null,
   "id": "fd12ce6f-376a-4dfe-8127-cfb67e793452",
   "metadata": {},
   "outputs": [],
   "source": [
    "### Exercise 7: Multiple Column Operations\n",
    "# Create a new column `efficiency_score` that combines multiple factors:\n",
    "# - (sales_amount / quantity) * 0.6 + (performance_score mapped from customer_type: Premium=5, Regular=3, Basic=1) * 0.4\n"
   ]
  },
  {
   "cell_type": "code",
   "execution_count": null,
   "id": "4d6acc32-eeb8-40ec-9ce3-ae06af3a22c3",
   "metadata": {},
   "outputs": [],
   "source": [
    "### Exercise 8: Column Reordering\n",
    "# Reorder the columns in sales_data to: `date`, `region`, `product`, `quantity`, `sales_amount`, `customer_type`\n"
   ]
  },
  {
   "cell_type": "code",
   "execution_count": null,
   "id": "713ff2db-e480-4a2f-9237-aa9b2336127e",
   "metadata": {},
   "outputs": [],
   "source": [
    "### Exercise 9: Column Data Type Conversion\n",
    "# Convert the following columns to appropriate data types:\n",
    "# - `product` to category\n",
    "# - `region` to category\n",
    "# - `sales_amount` to float32\n",
    "# - `quantity` to int16"
   ]
  },
  {
   "cell_type": "code",
   "execution_count": null,
   "id": "a40fdf09-6761-492d-9579-28ca636e3b50",
   "metadata": {},
   "outputs": [],
   "source": [
    "### Exercise 10: Column Aggregation\n",
    "# Create a new column `total_sales_by_product` that shows the total sales amount for each product across all records.\n"
   ]
  },
  {
   "cell_type": "markdown",
   "id": "e5e7b737-251b-42a0-9731-65082ebbf94d",
   "metadata": {},
   "source": [
    "## Row Transformation Exercises"
   ]
  },
  {
   "cell_type": "code",
   "execution_count": null,
   "id": "2d21b180-4872-44fe-8615-d290dc98c623",
   "metadata": {},
   "outputs": [],
   "source": [
    "### Exercise 11: Row Filtering\n",
    "# Filter the sales_data to show only records where:\n",
    "# - sales_amount > 500\n",
    "# - region is either 'North' or 'South'\n",
    "# - customer_type is 'Premium'"
   ]
  },
  {
   "cell_type": "code",
   "execution_count": null,
   "id": "8b9d074b-0a56-4800-8e3f-6b0ff8cb15f8",
   "metadata": {},
   "outputs": [],
   "source": [
    "### Exercise 12: Row Sorting\n",
    "# Sort the sales_data by multiple criteria:\n",
    "# 1. region (ascending)\n",
    "# 2. sales_amount (descending)\n",
    "# 3. date (ascending)"
   ]
  },
  {
   "cell_type": "code",
   "execution_count": null,
   "id": "acfd1e25-4b5e-47a7-978c-3d2f7ae67d32",
   "metadata": {},
   "outputs": [],
   "source": [
    "### Exercise 13: Row Sampling\n",
    "# Create a random sample of 20% of the sales_data records, ensuring the sample is reproducible.\n"
   ]
  },
  {
   "cell_type": "code",
   "execution_count": null,
   "id": "c7204dff-93bb-4eed-afdd-4b14af16e65e",
   "metadata": {},
   "outputs": [],
   "source": [
    "### Exercise 14: Row Deduplication\n",
    "# Remove duplicate rows based on the combination of `product`, `region`, and `customer_type`, \n",
    "# keeping the first occurrence.\n"
   ]
  },
  {
   "cell_type": "code",
   "execution_count": null,
   "id": "9a120b2c-507d-4e7a-a25b-d38b7d74783f",
   "metadata": {},
   "outputs": [],
   "source": [
    "### Exercise 15: Row Grouping and Aggregation\n",
    "# Group the sales_data by `region` and `product`, then calculate:\n",
    "# - Mean sales_amount\n",
    "# - Total quantity\n",
    "# - Count of records\n",
    "# - Standard deviation of sales_amount"
   ]
  },
  {
   "cell_type": "code",
   "execution_count": null,
   "id": "368606d9-2368-4aa1-98d5-d801b15e38ae",
   "metadata": {},
   "outputs": [],
   "source": [
    "### Exercise 16: Row Transformation with Transform\n",
    "# Add a new column `sales_rank_by_region` that ranks each row's sales_amount \n",
    "# within its region (1 = highest sales in region).\n"
   ]
  },
  {
   "cell_type": "code",
   "execution_count": null,
   "id": "a44539bf-7c4b-415b-8338-360295d3d73b",
   "metadata": {},
   "outputs": [],
   "source": [
    "### Exercise 17: Row-wise Calculations\n",
    "# Create a new column `days_since_hire` in the employees DataFrame \n",
    "# that calculates the number of days between hire_date and today's date.\n"
   ]
  },
  {
   "cell_type": "code",
   "execution_count": null,
   "id": "793a18d1-8b64-4f8c-a043-e421f4203895",
   "metadata": {},
   "outputs": [],
   "source": [
    "### Exercise 18: Advanced Row Filtering\n",
    "# Filter sales_data to show only the top 3 sales records for each product (based on sales_amount).\n"
   ]
  },
  {
   "cell_type": "code",
   "execution_count": null,
   "id": "867e90a5-bf7a-4ab9-b4e8-458621b17568",
   "metadata": {},
   "outputs": [],
   "source": [
    "### Exercise 19: Row Interpolation\n",
    "# Introduce some NaN values in the sales_amount column (randomly set 10% to NaN), then fill them using linear interpolation based on the date order.\n"
   ]
  },
  {
   "cell_type": "code",
   "execution_count": null,
   "id": "2e02901e-fea3-45ea-a376-5f7a067fa6a0",
   "metadata": {},
   "outputs": [],
   "source": [
    "### Exercise 20: Complex Row and Column Transformation\n",
    "# Create a summary transformation that:\n",
    "# 1. Groups data by region and month\n",
    "# 2. Calculates total sales, average quantity, and unique customer count\n",
    "# 3. Adds a column showing the percentage of total sales each region-month represents\n",
    "# 4. Filters to show only region-months with > 5% of total sales\n",
    "# 5. Sorts by percentage descending\n"
   ]
  },
  {
   "cell_type": "markdown",
   "id": "b90db33b",
   "metadata": {},
   "source": [
    "\n",
    "## Solutions Template\n",
    "\n",
    "```python\n",
    "# Exercise 1 Solution\n",
    "sales_data['revenue_per_unit'] = sales_data['sales_amount'] / sales_data['quantity']\n",
    "\n",
    "# Exercise 2 Solution\n",
    "sales_data.rename(columns={\n",
    "    'sales_amount': 'revenue',\n",
    "    'customer_type': 'customer_segment',\n",
    "    'quantity': 'units_sold'\n",
    "}, inplace=True)\n",
    "\n",
    "# Exercise 3 Solution\n",
    "sales_data['sales_category'] = pd.cut(\n",
    "    sales_data['sales_amount'],\n",
    "    bins=[0, 300, 700, float('inf')],\n",
    "    labels=['Low', 'Medium', 'High']\n",
    ")\n",
    "\n",
    "# Continue with remaining solutions...\n",
    "```\n",
    "\n",
    "## Key Learning Objectives\n",
    "\n",
    "After completing these exercises, you should be able to:\n",
    "- Create and modify columns using various methods\n",
    "- Apply conditional logic to create new columns\n",
    "- Perform string and date manipulations\n",
    "- Filter and sort data efficiently\n",
    "- Handle duplicates and missing values\n",
    "- Group data and perform aggregations\n",
    "- Combine multiple transformation techniques\n",
    "- Optimize data types for memory efficiency\n"
   ]
  }
 ],
 "metadata": {
  "kernelspec": {
   "display_name": "Python 3 (ipykernel)",
   "language": "python",
   "name": "python3"
  },
  "language_info": {
   "codemirror_mode": {
    "name": "ipython",
    "version": 3
   },
   "file_extension": ".py",
   "mimetype": "text/x-python",
   "name": "python",
   "nbconvert_exporter": "python",
   "pygments_lexer": "ipython3",
   "version": "3.13.0"
  }
 },
 "nbformat": 4,
 "nbformat_minor": 5
}
