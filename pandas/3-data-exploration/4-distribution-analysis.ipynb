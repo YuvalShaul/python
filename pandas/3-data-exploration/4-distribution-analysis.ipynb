{
 "cells": [
  {
   "cell_type": "code",
   "execution_count": 2,
   "id": "628374b5-6d8c-4c8b-b1fa-f04cd34e3882",
   "metadata": {},
   "outputs": [
    {
     "ename": "ModuleNotFoundError",
     "evalue": "No module named 'scipy'",
     "output_type": "error",
     "traceback": [
      "\u001b[31m---------------------------------------------------------------------------\u001b[39m",
      "\u001b[31mModuleNotFoundError\u001b[39m                       Traceback (most recent call last)",
      "\u001b[36mCell\u001b[39m\u001b[36m \u001b[39m\u001b[32mIn[2]\u001b[39m\u001b[32m, line 3\u001b[39m\n\u001b[32m      1\u001b[39m \u001b[38;5;28;01mimport\u001b[39;00m\u001b[38;5;250m \u001b[39m\u001b[34;01mpandas\u001b[39;00m\u001b[38;5;250m \u001b[39m\u001b[38;5;28;01mas\u001b[39;00m\u001b[38;5;250m \u001b[39m\u001b[34;01mpd\u001b[39;00m\n\u001b[32m      2\u001b[39m \u001b[38;5;28;01mimport\u001b[39;00m\u001b[38;5;250m \u001b[39m\u001b[34;01mseaborn\u001b[39;00m\u001b[38;5;250m \u001b[39m\u001b[38;5;28;01mas\u001b[39;00m\u001b[38;5;250m \u001b[39m\u001b[34;01msns\u001b[39;00m\n\u001b[32m----> \u001b[39m\u001b[32m3\u001b[39m \u001b[38;5;28;01mfrom\u001b[39;00m\u001b[38;5;250m \u001b[39m\u001b[34;01mscipy\u001b[39;00m\u001b[38;5;250m \u001b[39m\u001b[38;5;28;01mimport\u001b[39;00m stats\n",
      "\u001b[31mModuleNotFoundError\u001b[39m: No module named 'scipy'"
     ]
    }
   ],
   "source": [
    "import pandas as pd\n",
    "import seaborn as sns\n",
    "from scipy import stats"
   ]
  },
  {
   "cell_type": "markdown",
   "id": "aa77828c-3eaa-4e8e-bd29-e5829e8a01ae",
   "metadata": {},
   "source": [
    "### The tips dataset show tip given in a restaurant"
   ]
  },
  {
   "cell_type": "code",
   "execution_count": null,
   "id": "574b2b07-3e8c-4bf6-a70c-9b4110a12607",
   "metadata": {},
   "outputs": [],
   "source": [
    "# Load the tips dataset\n",
    "tips = sns.load_dataset('tips')\n",
    "\n",
    "# Let's focus on the 'total_bill' column\n",
    "total_bills = tips['total_bill']\n",
    "tips.head()"
   ]
  },
  {
   "cell_type": "code",
   "execution_count": null,
   "id": "870c25d0-6ac7-4426-8f4a-77aea6b30332",
   "metadata": {
    "scrolled": true
   },
   "outputs": [],
   "source": [
    "# Basic distribution statistics\n",
    "print(\"Basic Distribution Statistics:\")\n",
    "print(total_bills.describe())\n",
    "\n"
   ]
  },
  {
   "cell_type": "markdown",
   "id": "882de690-2f53-4bc9-acbe-6c4acf0b816d",
   "metadata": {},
   "source": [
    "**Skewness** is a statistical measure that describes the asymmetry of a probability distribution or dataset. It tells you whether the data is balanced around its mean or if it \"leans\" more toward one side.  \n",
    "- -0.5 to +0.5: Approximately symmetric (fairly normal)\n",
    "- -1.0 to -0.5 or +0.5 to +1.0: Moderately skewed\n",
    "-  < -1.0 or > +1.0: Highly skewed\n",
    "\n",
    "**Kurtosis** is a statistical measure that describes the \"tailedness\" of a probability distribution - essentially how much of the data is concentrated in the tails (extreme values) compared to a normal distribution.  \n",
    "- 0: Normal distribution (mesokurtic)\n",
    "- \\> 0: Leptokurtic (heavy tails, peaked)\n",
    "- < 0: Platykurtic (light tails, flat)\n"
   ]
  },
  {
   "cell_type": "code",
   "execution_count": null,
   "id": "dd7e6b4b-2e2b-40b6-abde-81e56d5f883a",
   "metadata": {},
   "outputs": [],
   "source": [
    "# Shape of the distribution\n",
    "print(\"\\nDistribution Shape Metrics:\")\n",
    "print(f\"Skewness: {total_bills.skew():.2f}\")\n",
    "print(f\"Kurtosis: {total_bills.kurtosis():.2f}\")\n",
    "\n"
   ]
  }
 ],
 "metadata": {
  "kernelspec": {
   "display_name": "Python 3 (ipykernel)",
   "language": "python",
   "name": "python3"
  },
  "language_info": {
   "codemirror_mode": {
    "name": "ipython",
    "version": 3
   },
   "file_extension": ".py",
   "mimetype": "text/x-python",
   "name": "python",
   "nbconvert_exporter": "python",
   "pygments_lexer": "ipython3",
   "version": "3.13.0"
  }
 },
 "nbformat": 4,
 "nbformat_minor": 5
}
