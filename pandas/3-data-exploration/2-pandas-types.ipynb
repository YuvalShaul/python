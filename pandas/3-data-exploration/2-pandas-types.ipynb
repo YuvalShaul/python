{
 "cells": [
  {
   "cell_type": "markdown",
   "id": "d82bb8dd-b3de-4507-a1ed-c0f665295305",
   "metadata": {},
   "source": [
    "## Pandas types"
   ]
  },
  {
   "cell_type": "code",
   "execution_count": 1,
   "id": "1a494a9d-a475-4faa-b7f0-5756d08533b1",
   "metadata": {},
   "outputs": [],
   "source": [
    "import pandas as pd"
   ]
  },
  {
   "cell_type": "markdown",
   "id": "fd85a97c-42ac-4831-9906-6f9c5dcbba14",
   "metadata": {},
   "source": [
    "### pandas.NA"
   ]
  },
  {
   "cell_type": "code",
   "execution_count": 2,
   "id": "2637b01c-b8ac-45be-b09b-ea03bdb1aa72",
   "metadata": {},
   "outputs": [
    {
     "name": "stdout",
     "output_type": "stream",
     "text": [
      "<NA>\n",
      "<NA>\n",
      "<NA>\n",
      "True\n",
      "True\n",
      "0       2\n",
      "1    <NA>\n",
      "2       4\n",
      "dtype: Int64\n"
     ]
    }
   ],
   "source": [
    "# pandas.NA\n",
    "# It means Not Available (so missing data)\n",
    "# Creating NA\n",
    "x = pd.NA\n",
    "\n",
    "# Key behaviors\n",
    "print(pd.NA + 1)          # NA\n",
    "print(pd.NA * 2)          # NA\n",
    "print(pd.NA == pd.NA)     # NA (not True!)\n",
    "print(pd.NA is pd.NA)     # True (singleton object)\n",
    "print(pd.isna(pd.NA))     # True\n",
    "\n",
    "# Propagation in operations\n",
    "s = pd.Series([1, pd.NA, 3], dtype=\"Int64\")\n",
    "print(s + 1)              # Will propagate NA"
   ]
  },
  {
   "cell_type": "markdown",
   "id": "4799efa9-64d9-4717-aa14-f3fd3850b852",
   "metadata": {},
   "source": [
    "### pandas.StringDtype"
   ]
  },
  {
   "cell_type": "code",
   "execution_count": 3,
   "id": "8fd49722-ec6c-4e96-851d-9e27b7fb77ea",
   "metadata": {},
   "outputs": [
    {
     "name": "stdout",
     "output_type": "stream",
     "text": [
      "0     abc\n",
      "1     def\n",
      "2    None\n",
      "dtype: object object\n",
      "\n",
      "0     abc\n",
      "1     def\n",
      "2    <NA>\n",
      "dtype: string string\n"
     ]
    }
   ],
   "source": [
    "# With object dtype (traditional)\n",
    "s1 = pd.Series(['abc', 'def', None], dtype='object')\n",
    "\n",
    "# With string dtype (newer)\n",
    "s2 = pd.Series(['abc', 'def', None], dtype='string[python]')\n",
    "\n",
    "print(s1, s1.dtype)\n",
    "print()\n",
    "print(s2, s2.dtype)"
   ]
  }
 ],
 "metadata": {
  "kernelspec": {
   "display_name": "Python 3 (ipykernel)",
   "language": "python",
   "name": "python3"
  },
  "language_info": {
   "codemirror_mode": {
    "name": "ipython",
    "version": 3
   },
   "file_extension": ".py",
   "mimetype": "text/x-python",
   "name": "python",
   "nbconvert_exporter": "python",
   "pygments_lexer": "ipython3",
   "version": "3.13.0"
  }
 },
 "nbformat": 4,
 "nbformat_minor": 5
}
