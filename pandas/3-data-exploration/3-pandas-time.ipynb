{
 "cells": [
  {
   "cell_type": "code",
   "execution_count": 1,
   "id": "5290e470-4366-4e00-bdc2-9fc993e53270",
   "metadata": {},
   "outputs": [],
   "source": [
    "import numpy as np\n",
    "import pandas as pd"
   ]
  },
  {
   "cell_type": "markdown",
   "id": "97ce588f-edae-42b9-9587-69aafe7fdb58",
   "metadata": {},
   "source": [
    "### numpy.datetime64[ns]\n",
    "- This is actually [a numpy type](https://numpy.org/doc/stable/reference/arrays.scalars.html#numpy.datetime64).\n",
    "- It is a 64 bit integer that stores [unix epoch type](https://en.wikipedia.org/wiki/Unix_time) in a nanosecond resolution"
   ]
  },
  {
   "cell_type": "code",
   "execution_count": 2,
   "id": "8e83711d-6abb-49d2-822a-bc8bc7f95091",
   "metadata": {},
   "outputs": [
    {
     "data": {
      "text/plain": [
       "np.datetime64('2024-01-04T12:00:00')"
      ]
     },
     "execution_count": 2,
     "metadata": {},
     "output_type": "execute_result"
    }
   ],
   "source": [
    "np.datetime64('2024-01-04 12:00:00')"
   ]
  },
  {
   "cell_type": "code",
   "execution_count": 3,
   "id": "bd5a3c03-5cb2-420c-8cbd-1fcd6e6da688",
   "metadata": {},
   "outputs": [
    {
     "data": {
      "text/plain": [
       "Timestamp('2021-01-02 19:32:00')"
      ]
     },
     "execution_count": 3,
     "metadata": {},
     "output_type": "execute_result"
    }
   ],
   "source": [
    "pd.to_datetime(\"7:32  of 01/02/2021 PM\")"
   ]
  },
  {
   "cell_type": "markdown",
   "id": "c8b66fd1-d3fa-4eb3-abe0-6e5667214917",
   "metadata": {},
   "source": [
    "### pandas.Timesamp\n",
    "- This [a pandas type](https://pandas.pydata.org/docs/reference/api/pandas.Timestamp.html#pandas.Timestamp), built on top of numpy datetime64.\n",
    "- Much more powerful"
   ]
  },
  {
   "cell_type": "code",
   "execution_count": 4,
   "id": "07a3ca9a-dbbc-4f30-94a6-584c68018b19",
   "metadata": {},
   "outputs": [
    {
     "name": "stdout",
     "output_type": "stream",
     "text": [
      "2024-01-04 00:00:00\n",
      "2024-01-04 12:30:45\n",
      "2024-01-04 12:00:00\n",
      "2025-01-04 16:39:42.265905\n",
      "2024-01-04 16:00:00\n"
     ]
    }
   ],
   "source": [
    "# Creating Timestamps\n",
    "ts = pd.Timestamp('2024-01-04')\n",
    "print(ts)\n",
    "ts = pd.Timestamp('2024-01-04 12:30:45')\n",
    "print(ts)\n",
    "ts = pd.Timestamp(year=2024, month=1, day=4, hour=12)\n",
    "print(ts)\n",
    "\n",
    "# From Python datetime\n",
    "from datetime import datetime\n",
    "ts = pd.Timestamp(datetime.now())\n",
    "print(ts)\n",
    "\n",
    "# From Unix timestamp (seconds since 1970)\n",
    "ts = pd.Timestamp(1704384000, unit='s')\n",
    "print(ts)"
   ]
  },
  {
   "cell_type": "code",
   "execution_count": 5,
   "id": "1d22d58b-5b5e-426c-ac92-5c6bb0fd4d59",
   "metadata": {},
   "outputs": [
    {
     "name": "stdout",
     "output_type": "stream",
     "text": [
      "2024-01-04 16:00:00\n",
      "2024-01-04 16:00:00\n",
      "2024-01-04 16:00:00\n"
     ]
    },
    {
     "data": {
      "text/plain": [
       "Timestamp('2024-01-04 00:00:00')"
      ]
     },
     "execution_count": 5,
     "metadata": {},
     "output_type": "execute_result"
    }
   ],
   "source": [
    "# It includes some nice string functions\n",
    "ts.strftime('%Y-%m-%d %H:%M:%S')  # Custom format\n",
    "print(ts)\n",
    "print(str(ts))                           # String representation\n",
    "ts.isoformat()                    # ISO format\n",
    "print(ts)\n",
    "\n",
    "# Parsing strings\n",
    "pd.to_datetime('2024-01-04')"
   ]
  }
 ],
 "metadata": {
  "kernelspec": {
   "display_name": "Python 3 (ipykernel)",
   "language": "python",
   "name": "python3"
  },
  "language_info": {
   "codemirror_mode": {
    "name": "ipython",
    "version": 3
   },
   "file_extension": ".py",
   "mimetype": "text/x-python",
   "name": "python",
   "nbconvert_exporter": "python",
   "pygments_lexer": "ipython3",
   "version": "3.13.0"
  }
 },
 "nbformat": 4,
 "nbformat_minor": 5
}
