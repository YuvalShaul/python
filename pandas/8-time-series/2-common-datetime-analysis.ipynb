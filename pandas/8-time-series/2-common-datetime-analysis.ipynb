{
 "cells": [
  {
   "cell_type": "code",
   "execution_count": 2,
   "id": "c3ffba5c-2221-43d5-96f9-c49914e366c5",
   "metadata": {},
   "outputs": [],
   "source": [
    "import numpy as np\n",
    "import pandas as pd"
   ]
  },
  {
   "cell_type": "code",
   "execution_count": 4,
   "id": "6ea62295-6cbd-4f5d-9edd-c107d5304727",
   "metadata": {},
   "outputs": [
    {
     "data": {
      "text/html": [
       "<div>\n",
       "<style scoped>\n",
       "    .dataframe tbody tr th:only-of-type {\n",
       "        vertical-align: middle;\n",
       "    }\n",
       "\n",
       "    .dataframe tbody tr th {\n",
       "        vertical-align: top;\n",
       "    }\n",
       "\n",
       "    .dataframe thead th {\n",
       "        text-align: right;\n",
       "    }\n",
       "</style>\n",
       "<table border=\"1\" class=\"dataframe\">\n",
       "  <thead>\n",
       "    <tr style=\"text-align: right;\">\n",
       "      <th></th>\n",
       "      <th>date</th>\n",
       "      <th>value</th>\n",
       "    </tr>\n",
       "  </thead>\n",
       "  <tbody>\n",
       "    <tr>\n",
       "      <th>0</th>\n",
       "      <td>2024-01-20</td>\n",
       "      <td>0</td>\n",
       "    </tr>\n",
       "    <tr>\n",
       "      <th>1</th>\n",
       "      <td>2024-01-21</td>\n",
       "      <td>1</td>\n",
       "    </tr>\n",
       "    <tr>\n",
       "      <th>2</th>\n",
       "      <td>2024-01-22</td>\n",
       "      <td>2</td>\n",
       "    </tr>\n",
       "    <tr>\n",
       "      <th>3</th>\n",
       "      <td>2024-01-23</td>\n",
       "      <td>3</td>\n",
       "    </tr>\n",
       "    <tr>\n",
       "      <th>4</th>\n",
       "      <td>2024-01-24</td>\n",
       "      <td>4</td>\n",
       "    </tr>\n",
       "  </tbody>\n",
       "</table>\n",
       "</div>"
      ],
      "text/plain": [
       "        date  value\n",
       "0 2024-01-20      0\n",
       "1 2024-01-21      1\n",
       "2 2024-01-22      2\n",
       "3 2024-01-23      3\n",
       "4 2024-01-24      4"
      ]
     },
     "execution_count": 4,
     "metadata": {},
     "output_type": "execute_result"
    }
   ],
   "source": [
    "# Creating a sample time series DataFrame\n",
    "df = pd.DataFrame({\n",
    "    'date': pd.date_range('2024-01-20', periods=5),   # the default frequency is [D], so 5 days\n",
    "    'value': range(5)\n",
    "})\n",
    "df"
   ]
  },
  {
   "cell_type": "code",
   "execution_count": 5,
   "id": "8df6b8e3-f1d3-4ad1-9f60-a56f4c0e1dad",
   "metadata": {},
   "outputs": [
    {
     "name": "stdout",
     "output_type": "stream",
     "text": [
      "\n",
      "DataFrame with DatetimeIndex:\n"
     ]
    },
    {
     "data": {
      "text/html": [
       "<div>\n",
       "<style scoped>\n",
       "    .dataframe tbody tr th:only-of-type {\n",
       "        vertical-align: middle;\n",
       "    }\n",
       "\n",
       "    .dataframe tbody tr th {\n",
       "        vertical-align: top;\n",
       "    }\n",
       "\n",
       "    .dataframe thead th {\n",
       "        text-align: right;\n",
       "    }\n",
       "</style>\n",
       "<table border=\"1\" class=\"dataframe\">\n",
       "  <thead>\n",
       "    <tr style=\"text-align: right;\">\n",
       "      <th></th>\n",
       "      <th>value</th>\n",
       "    </tr>\n",
       "    <tr>\n",
       "      <th>date</th>\n",
       "      <th></th>\n",
       "    </tr>\n",
       "  </thead>\n",
       "  <tbody>\n",
       "    <tr>\n",
       "      <th>2024-01-20</th>\n",
       "      <td>0</td>\n",
       "    </tr>\n",
       "    <tr>\n",
       "      <th>2024-01-21</th>\n",
       "      <td>1</td>\n",
       "    </tr>\n",
       "    <tr>\n",
       "      <th>2024-01-22</th>\n",
       "      <td>2</td>\n",
       "    </tr>\n",
       "    <tr>\n",
       "      <th>2024-01-23</th>\n",
       "      <td>3</td>\n",
       "    </tr>\n",
       "    <tr>\n",
       "      <th>2024-01-24</th>\n",
       "      <td>4</td>\n",
       "    </tr>\n",
       "  </tbody>\n",
       "</table>\n",
       "</div>"
      ],
      "text/plain": [
       "            value\n",
       "date             \n",
       "2024-01-20      0\n",
       "2024-01-21      1\n",
       "2024-01-22      2\n",
       "2024-01-23      3\n",
       "2024-01-24      4"
      ]
     },
     "execution_count": 5,
     "metadata": {},
     "output_type": "execute_result"
    }
   ],
   "source": [
    "# Setting datetime index\n",
    "df.set_index('date', inplace=True)\n",
    "print(\"\\nDataFrame with DatetimeIndex:\")\n",
    "df"
   ]
  },
  {
   "cell_type": "code",
   "execution_count": 6,
   "id": "9557d5a8-fc2c-4c8d-8ca7-2edc81f27549",
   "metadata": {},
   "outputs": [
    {
     "name": "stdout",
     "output_type": "stream",
     "text": [
      "Year: Index([2024, 2024, 2024, 2024, 2024], dtype='int32', name='date')\n",
      "Month: Index([1, 1, 1, 1, 1], dtype='int32', name='date')\n",
      "Day: Index([20, 21, 22, 23, 24], dtype='int32', name='date')\n",
      "Weekday: Index([5, 6, 0, 1, 2], dtype='int32', name='date')\n"
     ]
    }
   ],
   "source": [
    "# Accessing datetime components\n",
    "print(\"Year:\", df.index.year)\n",
    "print(\"Month:\", df.index.month)\n",
    "print(\"Day:\", df.index.day)\n",
    "print(\"Weekday:\", df.index.dayofweek)"
   ]
  },
  {
   "cell_type": "code",
   "execution_count": 8,
   "id": "92b2e057-60f5-44a9-a4c2-c12f376b19b9",
   "metadata": {},
   "outputs": [
    {
     "name": "stdout",
     "output_type": "stream",
     "text": [
      "DatetimeIndex(['2024-01-20', '2024-01-21', '2024-01-22', '2024-01-23',\n",
      "               '2024-01-24'],\n",
      "              dtype='datetime64[ns]', name='date', freq=None)\n",
      "            value\n",
      "date             \n",
      "2024-01-20      0\n",
      "2024-01-21      1\n",
      "2024-01-22      2\n",
      "2024-01-23      3\n",
      "2024-01-24      4\n"
     ]
    }
   ],
   "source": [
    "print(df.index)  # To see the exact structure of your index\n",
    "print(df.loc['2024-01'])  # Alternative syntax that might work\n",
    "\n",
    "# Date filtering\n",
    "# print(\"January data:\", df['2024-01'])"
   ]
  },
  {
   "cell_type": "code",
   "execution_count": null,
   "id": "6f5fa36f-32cf-4431-b716-2accf5575902",
   "metadata": {},
   "outputs": [],
   "source": [
    "# Resampling\n",
    "print(\"\\nResampling to 2-day frequency:\")\n",
    "print(df.resample('2D').mean())"
   ]
  }
 ],
 "metadata": {
  "kernelspec": {
   "display_name": "Python 3 (ipykernel)",
   "language": "python",
   "name": "python3"
  },
  "language_info": {
   "codemirror_mode": {
    "name": "ipython",
    "version": 3
   },
   "file_extension": ".py",
   "mimetype": "text/x-python",
   "name": "python",
   "nbconvert_exporter": "python",
   "pygments_lexer": "ipython3",
   "version": "3.13.0"
  }
 },
 "nbformat": 4,
 "nbformat_minor": 5
}
