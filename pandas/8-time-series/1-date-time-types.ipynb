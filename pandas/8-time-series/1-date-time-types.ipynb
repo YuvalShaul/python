{
 "cells": [
  {
   "cell_type": "code",
   "execution_count": 22,
   "id": "f946eda4-84de-4354-9781-148f1b06d69f",
   "metadata": {},
   "outputs": [],
   "source": [
    "import datetime\n",
    "import numpy as np\n",
    "import pandas as pd"
   ]
  },
  {
   "cell_type": "markdown",
   "id": "14376f9e-1772-41cf-989a-f8a28b7d1985",
   "metadata": {},
   "source": [
    "#### Python datetime module\n",
    "Core types for date and time handling"
   ]
  },
  {
   "cell_type": "code",
   "execution_count": 23,
   "id": "63913160-a109-474c-9463-c0c54a2e3793",
   "metadata": {},
   "outputs": [
    {
     "name": "stdout",
     "output_type": "stream",
     "text": [
      "<class 'datetime.datetime'>\n",
      "datetime: 2024-01-20 14:30:00\n"
     ]
    }
   ],
   "source": [
    "# datetime.datetime - Point in time\n",
    "dt = datetime.datetime(2024, 1, 20, 14, 30, 0)  # Year, Month, Day, Hour, Minute, Second\n",
    "print(type(dt))\n",
    "print(\"datetime:\", dt)  # 2024-01-20 14:30:00"
   ]
  },
  {
   "cell_type": "code",
   "execution_count": 24,
   "id": "0f24af37-9edd-4353-9b24-c302954b4ca7",
   "metadata": {},
   "outputs": [
    {
     "name": "stdout",
     "output_type": "stream",
     "text": [
      "<class 'datetime.date'>\n",
      "date: 2024-01-20\n"
     ]
    }
   ],
   "source": [
    "# datetime.date - Calendar date without time\n",
    "d = datetime.date(2024, 1, 20)\n",
    "print(type(d))\n",
    "print(\"date:\", d)  # 2024-01-20"
   ]
  },
  {
   "cell_type": "code",
   "execution_count": 25,
   "id": "b3d9fd53-2bba-4c32-b57f-ebef23c5f3e0",
   "metadata": {},
   "outputs": [
    {
     "name": "stdout",
     "output_type": "stream",
     "text": [
      "<class 'datetime.timedelta'>\n",
      "timedelta: 7 days, 12:00:00\n"
     ]
    }
   ],
   "source": [
    "# datetime.timedelta - Duration between dates/times\n",
    "delta = datetime.timedelta(days=7, hours=12)\n",
    "print(type(delta))\n",
    "print(\"timedelta:\", delta)  # 7 days, 12:00:00"
   ]
  },
  {
   "cell_type": "code",
   "execution_count": 26,
   "id": "cb4c41f0-aeb3-4b72-9540-26c4d99dc3ea",
   "metadata": {},
   "outputs": [
    {
     "name": "stdout",
     "output_type": "stream",
     "text": [
      "<class 'datetime.datetime'>\n",
      "Date arithmetic: 2024-01-28 02:30:00\n"
     ]
    }
   ],
   "source": [
    "# Common datetime operations\n",
    "future_date = dt + delta\n",
    "print(type(future_date))\n",
    "print(\"Date arithmetic:\", future_date)  # 2024-01-28 02:30:00\n"
   ]
  },
  {
   "cell_type": "markdown",
   "id": "c1240fe9-c70b-43d0-a9c5-18570f94cd28",
   "metadata": {},
   "source": [
    "#### numpy DateTime64\n",
    "- Used for arrays of dates/times with specified precision"
   ]
  },
  {
   "cell_type": "code",
   "execution_count": 27,
   "id": "0cf2b478-45bb-4b06-93aa-8ae9132bbdb1",
   "metadata": {},
   "outputs": [
    {
     "name": "stdout",
     "output_type": "stream",
     "text": [
      "Days precision: 2024-01-20 datetime64[D]\n",
      "Minutes precision: datetime64[m]\n"
     ]
    }
   ],
   "source": [
    "# Different datetime64 precisions\n",
    "dt64_days = np.datetime64('2024-01-20')  # Day precision\n",
    "dt64_mins = np.datetime64('2024-01-20T14:30')  # Minute precision\n",
    "print(\"Days precision:\", dt64_days, dt64_days.dtype)\n",
    "print(\"Minutes precision:\", dt64_mins.dtype)"
   ]
  },
  {
   "cell_type": "code",
   "execution_count": 28,
   "id": "fa9cb87e-c36e-4b8a-8e1a-7508f037fc2d",
   "metadata": {},
   "outputs": [
    {
     "name": "stdout",
     "output_type": "stream",
     "text": [
      "Array of dates: ['2024-01-20' '2024-01-21']\n"
     ]
    }
   ],
   "source": [
    "# Creating arrays of dates\n",
    "dates_array = np.array(['2024-01-20', '2024-01-21'], dtype='datetime64[D]')\n",
    "print(\"Array of dates:\", dates_array)"
   ]
  },
  {
   "cell_type": "code",
   "execution_count": 29,
   "id": "b2566ec9-5dac-4ce9-a727-1a40b66850cf",
   "metadata": {},
   "outputs": [
    {
     "name": "stdout",
     "output_type": "stream",
     "text": [
      "<class 'numpy.timedelta64'>\n",
      "Time difference: 1 days\n"
     ]
    }
   ],
   "source": [
    "# Time differences in NumPy\n",
    "time_diff = np.datetime64('2024-01-21') - np.datetime64('2024-01-20')\n",
    "print(type(time_diff))\n",
    "print(\"Time difference:\", time_diff)  # 1 days\n"
   ]
  },
  {
   "cell_type": "markdown",
   "id": "10f00363-fba7-4319-9411-7a73ac3d3ee0",
   "metadata": {},
   "source": [
    "#### Pandas DateTime\n",
    "Most versatile for data analysis"
   ]
  },
  {
   "cell_type": "code",
   "execution_count": 30,
   "id": "81a68f43-03b7-47bd-9c09-c9bc3706395d",
   "metadata": {},
   "outputs": [
    {
     "name": "stdout",
     "output_type": "stream",
     "text": [
      "<class 'pandas._libs.tslibs.timestamps.Timestamp'>\n",
      "Pandas Timestamp: 2024-01-20 14:30:00\n"
     ]
    }
   ],
   "source": [
    "# Creating Timestamps (Pandas' datetime type)\n",
    "ts = pd.Timestamp('2024-01-20 14:30:00')\n",
    "print(type(ts))\n",
    "print(\"Pandas Timestamp:\", ts)"
   ]
  },
  {
   "cell_type": "code",
   "execution_count": 31,
   "id": "15745611-e964-4244-bdff-eb41ed12f2f0",
   "metadata": {},
   "outputs": [
    {
     "name": "stdout",
     "output_type": "stream",
     "text": [
      "<class 'pandas.core.indexes.datetimes.DatetimeIndex'>\n",
      "DatetimeIndex: DatetimeIndex(['2024-01-20', '2024-01-21', '2024-01-22', '2024-01-23',\n",
      "               '2024-01-24'],\n",
      "              dtype='datetime64[ns]', freq='D')\n"
     ]
    }
   ],
   "source": [
    "# DatetimeIndex - for time series data\n",
    "dates = pd.date_range('2024-01-20', periods=5, freq='D')\n",
    "print(type(dates))\n",
    "print(\"DatetimeIndex:\", dates)"
   ]
  },
  {
   "cell_type": "code",
   "execution_count": 32,
   "id": "a4afc918-74d7-4c8d-8e1f-dd3b68b05db7",
   "metadata": {},
   "outputs": [
    {
     "name": "stdout",
     "output_type": "stream",
     "text": [
      "TimedeltaIndex: TimedeltaIndex(['1 days', '2 days', '3 days'], dtype='timedelta64[ns]', freq='D')\n"
     ]
    }
   ],
   "source": [
    "# TimedeltaIndex - for time differences\n",
    "deltas = pd.timedelta_range(start='1 day', periods=3, freq='D')\n",
    "print(\"TimedeltaIndex:\", deltas)"
   ]
  }
 ],
 "metadata": {
  "kernelspec": {
   "display_name": "Python 3 (ipykernel)",
   "language": "python",
   "name": "python3"
  },
  "language_info": {
   "codemirror_mode": {
    "name": "ipython",
    "version": 3
   },
   "file_extension": ".py",
   "mimetype": "text/x-python",
   "name": "python",
   "nbconvert_exporter": "python",
   "pygments_lexer": "ipython3",
   "version": "3.13.0"
  }
 },
 "nbformat": 4,
 "nbformat_minor": 5
}
