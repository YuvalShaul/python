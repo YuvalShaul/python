{
 "cells": [
  {
   "cell_type": "markdown",
   "id": "d464698b-dccf-46cc-bedd-97bd91733e30",
   "metadata": {},
   "source": [
    "### Position based indexing\n",
    "Mainly using iloc"
   ]
  },
  {
   "cell_type": "code",
   "execution_count": 18,
   "id": "e824f883-65c9-4a7f-86ef-8a8cb0dbc8c1",
   "metadata": {},
   "outputs": [],
   "source": [
    "import pandas as pd"
   ]
  },
  {
   "cell_type": "code",
   "execution_count": 19,
   "id": "f4e5e27c-a05f-4163-8190-5987e22e5ad8",
   "metadata": {},
   "outputs": [],
   "source": [
    "# Create a sample DataFrame\n",
    "df = pd.DataFrame({\n",
    "    'Name': ['John', 'Sarah', 'Mike', 'Lisa', 'Tom'],\n",
    "    'Age': [25, 30, 35, 28, 32],\n",
    "    'City': ['New York', 'London', 'Paris', 'Tokyo', 'Berlin']\n",
    "})"
   ]
  },
  {
   "cell_type": "code",
   "execution_count": 20,
   "id": "54e43076-59b3-46b5-94d4-6ca468456bdb",
   "metadata": {},
   "outputs": [
    {
     "name": "stdout",
     "output_type": "stream",
     "text": [
      "John\n",
      "30\n"
     ]
    }
   ],
   "source": [
    "# Access single value by position [row, column]\n",
    "print(df.iloc[0, 0])    # First row, first column: 'John'\n",
    "print(df.iloc[1, 1])    # Second row, second column: 30"
   ]
  },
  {
   "cell_type": "code",
   "execution_count": 21,
   "id": "d3c71cb7-8374-49ad-8678-8222326c7f51",
   "metadata": {},
   "outputs": [
    {
     "name": "stdout",
     "output_type": "stream",
     "text": [
      "Name        John\n",
      "Age           25\n",
      "City    New York\n",
      "Name: 0, dtype: object\n",
      "Name       Tom\n",
      "Age         32\n",
      "City    Berlin\n",
      "Name: 4, dtype: object\n"
     ]
    }
   ],
   "source": [
    "# Access entire row by position\n",
    "print(df.iloc[0])       # First row\n",
    "print(df.iloc[-1])      # Last row"
   ]
  },
  {
   "cell_type": "code",
   "execution_count": 22,
   "id": "32fb9942-00d7-4ce2-80b9-440ad3def964",
   "metadata": {},
   "outputs": [
    {
     "name": "stdout",
     "output_type": "stream",
     "text": [
      "    Name  Age      City\n",
      "0   John   25  New York\n",
      "1  Sarah   30    London\n",
      "   Name  Age      City\n",
      "0  John   25  New York\n",
      "2  Mike   35     Paris\n"
     ]
    }
   ],
   "source": [
    "# Access multiple rows\n",
    "print(df.iloc[0:2])     # First two rows\n",
    "print(df.iloc[[0, 2]])  # First and third rows"
   ]
  },
  {
   "cell_type": "code",
   "execution_count": 23,
   "id": "4c1ff843-b000-4f6f-9aaf-9e8f6532c7f1",
   "metadata": {},
   "outputs": [
    {
     "name": "stdout",
     "output_type": "stream",
     "text": [
      "    Name  Age\n",
      "0   John   25\n",
      "1  Sarah   30\n",
      "2   Mike   35\n",
      "3   Lisa   28\n",
      "4    Tom   32\n"
     ]
    }
   ],
   "source": [
    "# Access multiple columns\n",
    "print(df.iloc[:, 0:2])  # All rows, first two columns"
   ]
  },
  {
   "cell_type": "code",
   "execution_count": 24,
   "id": "5a76330b-ba81-4ed9-ae88-7e9083d20380",
   "metadata": {},
   "outputs": [
    {
     "name": "stdout",
     "output_type": "stream",
     "text": [
      "   Name  Age    City\n",
      "2  Mike   35   Paris\n",
      "4   Tom   32  Berlin\n"
     ]
    }
   ],
   "source": [
    "# Boolean indexing with iloc\n",
    "print(df[df.iloc[:, 1] > 30])  # Rows where age > 30"
   ]
  },
  {
   "cell_type": "code",
   "execution_count": 25,
   "id": "08defd1c-3d39-4fba-a06c-899f9eab050f",
   "metadata": {},
   "outputs": [
    {
     "name": "stdout",
     "output_type": "stream",
     "text": [
      "   Age      City\n",
      "0   25  New York\n",
      "1   30    London\n"
     ]
    }
   ],
   "source": [
    "# Combine row and column selection\n",
    "print(df.iloc[0:2, 1:3])  # First two rows, second and third columns"
   ]
  }
 ],
 "metadata": {
  "kernelspec": {
   "display_name": "Python 3 (ipykernel)",
   "language": "python",
   "name": "python3"
  },
  "language_info": {
   "codemirror_mode": {
    "name": "ipython",
    "version": 3
   },
   "file_extension": ".py",
   "mimetype": "text/x-python",
   "name": "python",
   "nbconvert_exporter": "python",
   "pygments_lexer": "ipython3",
   "version": "3.13.0"
  }
 },
 "nbformat": 4,
 "nbformat_minor": 5
}
