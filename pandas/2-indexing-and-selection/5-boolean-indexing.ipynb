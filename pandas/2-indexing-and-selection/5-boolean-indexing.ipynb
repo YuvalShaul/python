{
 "cells": [
  {
   "cell_type": "code",
   "execution_count": 14,
   "id": "d196072e-4e73-422f-a448-662a849c5e25",
   "metadata": {},
   "outputs": [],
   "source": [
    "import numpy as np\n",
    "import pandas as pd"
   ]
  },
  {
   "cell_type": "markdown",
   "id": "57e3d321-c422-4e81-93b9-f16fbf9dfd28",
   "metadata": {},
   "source": [
    "### Basic example"
   ]
  },
  {
   "cell_type": "code",
   "execution_count": 15,
   "id": "a1de2936-4e35-418e-81af-c77961b11bcb",
   "metadata": {},
   "outputs": [],
   "source": [
    "# Create a sample array\n",
    "numbers = np.array([1, 2, 3, 4, 5, 6, 7, 8, 9, 10])"
   ]
  },
  {
   "cell_type": "code",
   "execution_count": 16,
   "id": "42af2b0f-a7f1-4994-9733-dfba43cf32c7",
   "metadata": {},
   "outputs": [
    {
     "data": {
      "text/plain": [
       "array([False, False, False, False, False,  True,  True,  True,  True,\n",
       "        True])"
      ]
     },
     "execution_count": 16,
     "metadata": {},
     "output_type": "execute_result"
    }
   ],
   "source": [
    "# Boolean indexing creates a mask of True/False values\n",
    "greater_than_five = numbers > 5\n",
    "greater_than_five"
   ]
  },
  {
   "cell_type": "code",
   "execution_count": 17,
   "id": "c74d3bf3-7b7d-4066-bf34-4c886f046fcf",
   "metadata": {},
   "outputs": [
    {
     "data": {
      "text/plain": [
       "array([ 6,  7,  8,  9, 10])"
      ]
     },
     "execution_count": 17,
     "metadata": {},
     "output_type": "execute_result"
    }
   ],
   "source": [
    "# Use the mask to filter the array\n",
    "result = numbers[greater_than_five]\n",
    "result"
   ]
  },
  {
   "cell_type": "markdown",
   "id": "e8abca5d-48da-49dd-a518-00c62f6c0c63",
   "metadata": {},
   "source": [
    "### Using boolean operators"
   ]
  },
  {
   "cell_type": "code",
   "execution_count": 18,
   "id": "3cd753f6-0540-41c3-8a29-da0c9be72ad4",
   "metadata": {},
   "outputs": [
    {
     "data": {
      "text/plain": [
       "array([False, False, False,  True,  True,  True,  True, False, False,\n",
       "       False])"
      ]
     },
     "execution_count": 18,
     "metadata": {},
     "output_type": "execute_result"
    }
   ],
   "source": [
    "# Multiple conditions using & (and) or | (or)\n",
    "mask = (numbers > 3) & (numbers < 8)\n",
    "mask"
   ]
  },
  {
   "cell_type": "code",
   "execution_count": 19,
   "id": "657f3fbc-22a4-48e6-910b-1b789b9331b6",
   "metadata": {},
   "outputs": [
    {
     "data": {
      "text/plain": [
       "array([4, 5, 6, 7])"
      ]
     },
     "execution_count": 19,
     "metadata": {},
     "output_type": "execute_result"
    }
   ],
   "source": [
    "numbers[mask]  # Returns [4, 5, 6, 7]"
   ]
  },
  {
   "cell_type": "markdown",
   "id": "091c2c4c-1649-4b17-8379-513f3676f778",
   "metadata": {},
   "source": [
    "### An example with DataFeame"
   ]
  },
  {
   "cell_type": "code",
   "execution_count": 20,
   "id": "3f50219b-f872-4c0b-93d7-47f25d423590",
   "metadata": {},
   "outputs": [],
   "source": [
    "# Common use case with Pandas DataFrame\n",
    "df = pd.DataFrame({\n",
    "    'name': ['Alice', 'Bob', 'Charlie', 'David'],\n",
    "    'age': [25, 30, 35, 28],\n",
    "    'score': [85, 92, 78, 95]\n",
    "})\n"
   ]
  },
  {
   "cell_type": "code",
   "execution_count": 21,
   "id": "c3ead066-5ac9-47d2-8e6b-1f9f5d27cc27",
   "metadata": {},
   "outputs": [
    {
     "data": {
      "text/html": [
       "<div>\n",
       "<style scoped>\n",
       "    .dataframe tbody tr th:only-of-type {\n",
       "        vertical-align: middle;\n",
       "    }\n",
       "\n",
       "    .dataframe tbody tr th {\n",
       "        vertical-align: top;\n",
       "    }\n",
       "\n",
       "    .dataframe thead th {\n",
       "        text-align: right;\n",
       "    }\n",
       "</style>\n",
       "<table border=\"1\" class=\"dataframe\">\n",
       "  <thead>\n",
       "    <tr style=\"text-align: right;\">\n",
       "      <th></th>\n",
       "      <th>name</th>\n",
       "      <th>age</th>\n",
       "      <th>score</th>\n",
       "    </tr>\n",
       "  </thead>\n",
       "  <tbody>\n",
       "    <tr>\n",
       "      <th>1</th>\n",
       "      <td>Bob</td>\n",
       "      <td>30</td>\n",
       "      <td>92</td>\n",
       "    </tr>\n",
       "  </tbody>\n",
       "</table>\n",
       "</div>"
      ],
      "text/plain": [
       "  name  age  score\n",
       "1  Bob   30     92"
      ]
     },
     "execution_count": 21,
     "metadata": {},
     "output_type": "execute_result"
    }
   ],
   "source": [
    "# Filter DataFrame for people over 28 with scores above 80\n",
    "filtered_df = df[(df['age'] > 28) & (df['score'] > 80)]\n",
    "filtered_df"
   ]
  }
 ],
 "metadata": {
  "kernelspec": {
   "display_name": "Python 3 (ipykernel)",
   "language": "python",
   "name": "python3"
  },
  "language_info": {
   "codemirror_mode": {
    "name": "ipython",
    "version": 3
   },
   "file_extension": ".py",
   "mimetype": "text/x-python",
   "name": "python",
   "nbconvert_exporter": "python",
   "pygments_lexer": "ipython3",
   "version": "3.13.0"
  }
 },
 "nbformat": 4,
 "nbformat_minor": 5
}
