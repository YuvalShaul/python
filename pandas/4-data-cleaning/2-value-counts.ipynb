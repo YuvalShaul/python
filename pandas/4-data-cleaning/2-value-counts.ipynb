{
 "cells": [
  {
   "cell_type": "code",
   "execution_count": 2,
   "id": "c45ff0d0-d190-44ea-995e-685c610136c9",
   "metadata": {},
   "outputs": [],
   "source": [
    "import pandas as pd"
   ]
  },
  {
   "cell_type": "markdown",
   "id": "607cd7dd-a3b9-4725-b421-dbb4aa1d24ed",
   "metadata": {},
   "source": [
    "### Dataset Description\n",
    "This dataset contains 1000 sales records with the following columns:\n",
    "\n",
    "- product: Product name (with intentional variations in naming/capitalization)\n",
    "- country: Country of sale (with some variations in country name formats)\n",
    "- status: Order status\n",
    "- quantity: Number of items ordered\n",
    "\n",
    "### Data Characteristics\n",
    "\n",
    "- Inconsistent product names (e.g., \"Laptop\" vs \"laptop\")\n",
    "- Country names with variations (e.g., \"USA\", \"U.S.A.\", \"United States\")\n",
    "- Order statuses with realistic distribution (majority \"Delivered\", fewer \"Cancelled\")\n",
    "- Quantity ranging from 1-9 items per order"
   ]
  },
  {
   "cell_type": "code",
   "execution_count": 6,
   "id": "5e8fcd8e-a98d-4785-b1f9-0d9654212284",
   "metadata": {},
   "outputs": [
    {
     "name": "stdout",
     "output_type": "stream",
     "text": [
      "Product value counts:\n",
      "product\n",
      "Laptop        166\n",
      "Tablet        112\n",
      "Headphones    107\n",
      "laptop        103\n",
      "SmartPhone    102\n",
      "TV             86\n",
      "Smartphone     82\n",
      "smartphone     56\n",
      "LAPTOP         50\n",
      "headphones     46\n",
      "television     46\n",
      "Television     44\n",
      "Name: count, dtype: int64\n",
      "RangeIndex(start=0, stop=1000, step=1)\n"
     ]
    }
   ],
   "source": [
    "df = pd.read_csv('sales_data.csv')\n",
    "\n",
    "# Basic value_counts - shows all variations in product names and their frequencies\n",
    "print(\"Product value counts:\")\n",
    "print(df['product'].value_counts())"
   ]
  },
  {
   "cell_type": "code",
   "execution_count": 4,
   "id": "57653e3b-deb0-4d96-97a5-6ecfd09fe14b",
   "metadata": {},
   "outputs": [
    {
     "name": "stdout",
     "output_type": "stream",
     "text": [
      "\n",
      "Country distribution (in percentages):\n",
      "country\n",
      "USA               0.203\n",
      "UK                0.145\n",
      "United Kingdom    0.123\n",
      "Canada            0.103\n",
      "Germany           0.093\n",
      "U.S.A.            0.093\n",
      "United States     0.089\n",
      "France            0.059\n",
      "CANADA            0.052\n",
      "U.K.              0.040\n",
      "Name: proportion, dtype: float64\n"
     ]
    }
   ],
   "source": [
    "# Value counts with percentages\n",
    "print(\"\\nCountry distribution (in percentages):\")\n",
    "print(df['country'].value_counts(normalize=True))"
   ]
  },
  {
   "cell_type": "code",
   "execution_count": 5,
   "id": "49ef3c2d-efa5-49e9-8c94-ba9cca6e3394",
   "metadata": {},
   "outputs": [
    {
     "name": "stdout",
     "output_type": "stream",
     "text": [
      "\n",
      "Statuses sorted alphabetically:\n",
      "status\n",
      "Cancelled      53\n",
      "Delivered     499\n",
      "Pending       156\n",
      "Processing    101\n",
      "Shipped       191\n",
      "Name: count, dtype: int64\n",
      "status\n",
      "Cancelled      53\n",
      "Processing    101\n",
      "Pending       156\n",
      "Shipped       191\n",
      "Delivered     499\n",
      "Name: count, dtype: int64\n"
     ]
    }
   ],
   "source": [
    "# Value counts sorted by values (not frequency)\n",
    "print(\"\\nStatuses sorted alphabetically:\")\n",
    "# print(df['status'].value_counts(sort=index=True))\n",
    "print(df['status'].value_counts().sort_index())   # sorted VALUES alphabetically\n",
    "print(df['status'].value_counts(ascending=True))  # sorted by frequencies - how many for each unique value appears"
   ]
  },
  {
   "cell_type": "code",
   "execution_count": 6,
   "id": "a243a0c8-50da-4635-b4c1-1081cb2ed4c0",
   "metadata": {},
   "outputs": [
    {
     "name": "stdout",
     "output_type": "stream",
     "text": [
      "\n",
      "All unique product names:\n",
      "['SmartPhone' 'headphones' 'TV' 'Tablet' 'laptop' 'Laptop' 'Headphones'\n",
      " 'television' 'smartphone' 'Smartphone' 'LAPTOP' 'Television']\n"
     ]
    }
   ],
   "source": [
    "# See unique values to spot inconsistencies\n",
    "print(\"\\nAll unique product names:\")\n",
    "print(df['product'].unique())"
   ]
  }
 ],
 "metadata": {
  "kernelspec": {
   "display_name": "Python 3 (ipykernel)",
   "language": "python",
   "name": "python3"
  },
  "language_info": {
   "codemirror_mode": {
    "name": "ipython",
    "version": 3
   },
   "file_extension": ".py",
   "mimetype": "text/x-python",
   "name": "python",
   "nbconvert_exporter": "python",
   "pygments_lexer": "ipython3",
   "version": "3.13.0"
  }
 },
 "nbformat": 4,
 "nbformat_minor": 5
}
