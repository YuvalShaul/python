{
 "cells": [
  {
   "cell_type": "code",
   "execution_count": 13,
   "id": "d7e4b13c-6f30-47e9-ac71-beb930fd11cc",
   "metadata": {},
   "outputs": [],
   "source": [
    "import pandas as pd"
   ]
  },
  {
   "cell_type": "code",
   "execution_count": 14,
   "id": "d14d071f-7622-4802-8127-b85faf03cf47",
   "metadata": {},
   "outputs": [
    {
     "data": {
      "text/html": [
       "<div>\n",
       "<style scoped>\n",
       "    .dataframe tbody tr th:only-of-type {\n",
       "        vertical-align: middle;\n",
       "    }\n",
       "\n",
       "    .dataframe tbody tr th {\n",
       "        vertical-align: top;\n",
       "    }\n",
       "\n",
       "    .dataframe thead th {\n",
       "        text-align: right;\n",
       "    }\n",
       "</style>\n",
       "<table border=\"1\" class=\"dataframe\">\n",
       "  <thead>\n",
       "    <tr style=\"text-align: right;\">\n",
       "      <th></th>\n",
       "      <th>price</th>\n",
       "      <th>cost</th>\n",
       "      <th>date</th>\n",
       "      <th>email</th>\n",
       "    </tr>\n",
       "  </thead>\n",
       "  <tbody>\n",
       "    <tr>\n",
       "      <th>0</th>\n",
       "      <td>100</td>\n",
       "      <td>70</td>\n",
       "      <td>2024-01-01</td>\n",
       "      <td>user@domain.com</td>\n",
       "    </tr>\n",
       "    <tr>\n",
       "      <th>1</th>\n",
       "      <td>80</td>\n",
       "      <td>90</td>\n",
       "      <td>2025-06-01</td>\n",
       "      <td>invalid.email</td>\n",
       "    </tr>\n",
       "    <tr>\n",
       "      <th>2</th>\n",
       "      <td>120</td>\n",
       "      <td>80</td>\n",
       "      <td>2023-12-31</td>\n",
       "      <td>another@domain.com</td>\n",
       "    </tr>\n",
       "    <tr>\n",
       "      <th>3</th>\n",
       "      <td>90</td>\n",
       "      <td>60</td>\n",
       "      <td>2024-03-15</td>\n",
       "      <td>@nocontent.com</td>\n",
       "    </tr>\n",
       "  </tbody>\n",
       "</table>\n",
       "</div>"
      ],
      "text/plain": [
       "   price  cost       date               email\n",
       "0    100    70 2024-01-01     user@domain.com\n",
       "1     80    90 2025-06-01       invalid.email\n",
       "2    120    80 2023-12-31  another@domain.com\n",
       "3     90    60 2024-03-15      @nocontent.com"
      ]
     },
     "execution_count": 14,
     "metadata": {},
     "output_type": "execute_result"
    }
   ],
   "source": [
    "# Sample data with validation issues\n",
    "data = {\n",
    "   'price': [100, 80, 120, 90],\n",
    "   'cost': [70, 90, 80, 60],\n",
    "   'date': ['2024-01-01', '2025-06-01', '2023-12-31', '2024-03-15'],\n",
    "   'email': ['user@domain.com', 'invalid.email', 'another@domain.com', '@nocontent.com']\n",
    "}\n",
    "df = pd.DataFrame(data)\n",
    "# Convert date type\n",
    "df['date'] = pd.to_datetime(df['date'])\n",
    "df"
   ]
  },
  {
   "cell_type": "code",
   "execution_count": 15,
   "id": "65d8489b-9ba8-4312-b286-4c1a4f02b4e5",
   "metadata": {},
   "outputs": [
    {
     "name": "stdout",
     "output_type": "stream",
     "text": [
      "Negative profit at rows: 1\n"
     ]
    }
   ],
   "source": [
    "# Business rule: price > cost\n",
    "profit = df['price'] - df['cost']\n",
    "profit_issues = df[profit < 0].index\n",
    "if len(profit_issues) > 0:\n",
    "   print(f\"Negative profit at rows: {profit_issues[0]}\")"
   ]
  },
  {
   "cell_type": "code",
   "execution_count": 16,
   "id": "dc73e917-6484-41c7-ab1a-07e0bb8a98e3",
   "metadata": {},
   "outputs": [
    {
     "name": "stdout",
     "output_type": "stream",
     "text": [
      "Future dates at rows: [1]\n"
     ]
    }
   ],
   "source": [
    "# Date validation: not in future\n",
    "future_dates = df[df['date'].dt.year > 2024].index\n",
    "if len(future_dates) > 0:\n",
    "    print(f\"Future dates at rows: {future_dates.tolist()}\")\n",
    "   "
   ]
  },
  {
   "cell_type": "code",
   "execution_count": 17,
   "id": "e149d9f2-d03b-4884-9bd8-6848d0042511",
   "metadata": {},
   "outputs": [
    {
     "name": "stdout",
     "output_type": "stream",
     "text": [
      "Invalid emails at rows: [1, 3]\n"
     ]
    }
   ],
   "source": [
    "# Email pattern validation\n",
    "email_pattern = r'^[\\w\\.-]+@[\\w\\.-]+\\.\\w+$'   # That's a regex that matches email address\n",
    "# now, get an Index object with just those bad email entries\n",
    "invalid_emails = df[~df['email'].str.match(email_pattern)].index\n",
    "if len(invalid_emails) > 0:\n",
    "    print(f\"Invalid emails at rows: {invalid_emails.tolist()}\")"
   ]
  }
 ],
 "metadata": {
  "kernelspec": {
   "display_name": "Python 3 (ipykernel)",
   "language": "python",
   "name": "python3"
  },
  "language_info": {
   "codemirror_mode": {
    "name": "ipython",
    "version": 3
   },
   "file_extension": ".py",
   "mimetype": "text/x-python",
   "name": "python",
   "nbconvert_exporter": "python",
   "pygments_lexer": "ipython3",
   "version": "3.13.0"
  }
 },
 "nbformat": 4,
 "nbformat_minor": 5
}
