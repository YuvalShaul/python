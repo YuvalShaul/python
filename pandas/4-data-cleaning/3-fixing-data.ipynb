{
 "cells": [
  {
   "cell_type": "code",
   "execution_count": 6,
   "id": "ffd8c51b-3447-44d2-a6ca-16eec0e8f568",
   "metadata": {},
   "outputs": [],
   "source": [
    "import pandas as pd"
   ]
  },
  {
   "cell_type": "code",
   "execution_count": 7,
   "id": "3953f789-efb7-4d14-a85c-5a3b50273284",
   "metadata": {},
   "outputs": [],
   "source": [
    "df = pd.read_csv('sales_data.csv')"
   ]
  },
  {
   "cell_type": "code",
   "execution_count": 8,
   "id": "4797b84b-034f-41f9-8e5b-62c81c042e0a",
   "metadata": {},
   "outputs": [
    {
     "data": {
      "text/plain": [
       "product\n",
       "Laptop        166\n",
       "Tablet        112\n",
       "Headphones    107\n",
       "laptop        103\n",
       "SmartPhone    102\n",
       "TV             86\n",
       "Smartphone     82\n",
       "smartphone     56\n",
       "LAPTOP         50\n",
       "headphones     46\n",
       "television     46\n",
       "Television     44\n",
       "Name: count, dtype: int64"
      ]
     },
     "execution_count": 8,
     "metadata": {},
     "output_type": "execute_result"
    }
   ],
   "source": [
    "# Before fixing:\n",
    "df.value_counts('product')"
   ]
  },
  {
   "cell_type": "code",
   "execution_count": 9,
   "id": "8c9c726a-0ba7-4961-8bba-7cc681c56bbf",
   "metadata": {},
   "outputs": [],
   "source": [
    "df['product'] = df['product'].str.lower()   # Standardize case \n",
    "df['country'] = df['country'].replace({ \n",
    "    'USA': 'United States', \n",
    "    'U.S.A.': 'United States' \n",
    "})\n"
   ]
  },
  {
   "cell_type": "code",
   "execution_count": 10,
   "id": "c7865f83-3407-49c4-a55d-2365fd60a2d2",
   "metadata": {},
   "outputs": [
    {
     "data": {
      "text/plain": [
       "product\n",
       "laptop        319\n",
       "smartphone    240\n",
       "headphones    153\n",
       "tablet        112\n",
       "television     90\n",
       "tv             86\n",
       "Name: count, dtype: int64"
      ]
     },
     "execution_count": 10,
     "metadata": {},
     "output_type": "execute_result"
    }
   ],
   "source": [
    "# After fixing\n",
    "df.value_counts('product')"
   ]
  }
 ],
 "metadata": {
  "kernelspec": {
   "display_name": "Python 3 (ipykernel)",
   "language": "python",
   "name": "python3"
  },
  "language_info": {
   "codemirror_mode": {
    "name": "ipython",
    "version": 3
   },
   "file_extension": ".py",
   "mimetype": "text/x-python",
   "name": "python",
   "nbconvert_exporter": "python",
   "pygments_lexer": "ipython3",
   "version": "3.13.0"
  }
 },
 "nbformat": 4,
 "nbformat_minor": 5
}
