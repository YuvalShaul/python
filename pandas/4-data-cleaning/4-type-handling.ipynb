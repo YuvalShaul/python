{
 "cells": [
  {
   "cell_type": "code",
   "execution_count": 32,
   "id": "150fdbe9-117d-48b8-bbe3-3ebc0295f339",
   "metadata": {},
   "outputs": [],
   "source": [
    "import pandas as pd"
   ]
  },
  {
   "cell_type": "code",
   "execution_count": 33,
   "id": "bbab919a-58ad-4cce-b543-e2d28b095a1c",
   "metadata": {},
   "outputs": [
    {
     "name": "stdout",
     "output_type": "stream",
     "text": [
      "     id   price        date\n",
      "0     1   19.99  2024-01-01\n",
      "1     2  $25.50  01/15/2024\n",
      "2     3      15  2024-02-01\n",
      "3  None   20.00     Invalid\n"
     ]
    }
   ],
   "source": [
    "# Sample data with type issues\n",
    "data = {\n",
    "   'id': ['1', '2', '3', None],\n",
    "   'price': ['19.99', '$25.50', '15', '20.00'],\n",
    "   'date': ['2024-01-01', '01/15/2024', '2024-02-01', 'Invalid']\n",
    "}\n",
    "df = pd.DataFrame(data)\n",
    "print(df)"
   ]
  },
  {
   "cell_type": "code",
   "execution_count": 34,
   "id": "ce80a335-bc08-435b-b830-666771faea5a",
   "metadata": {},
   "outputs": [
    {
     "name": "stdout",
     "output_type": "stream",
     "text": [
      "Initial types:\n",
      "id       object\n",
      "price    object\n",
      "date     object\n",
      "dtype: object\n"
     ]
    }
   ],
   "source": [
    "# Check types\n",
    "print(\"Initial types:\")\n",
    "print(df.dtypes)  # All objects (strings)"
   ]
  },
  {
   "cell_type": "markdown",
   "id": "d5db7574-0b48-4c9e-b423-e8d53aeadce9",
   "metadata": {},
   "source": [
    "fixing types:\n",
    "- astype -> as a type\n",
    "- 'coerce' force it to succeed, keep going on.\n",
    "   \"If ‘coerce’, then invalid parsing will be set as NaN.\"  \n",
    "    See [here](https://pandas.pydata.org/docs/reference/api/pandas.to_numeric.html#pandas.to_numeric) for details.\n",
    "- NaN - Not A Number (see [here](https://en.wikipedia.org/wiki/NaN#:~:text=In%20mathematics%2C%20the%20result%20of,NaN%20in%20compliant%20computing%20systems.) for details)\n",
    "- NaT - Noa a Time  \n",
    "  NA - Not Available  \n",
    "   (see [here](https://pandas.pydata.org/docs/reference/missing_value.html) for details)"
   ]
  },
  {
   "cell_type": "code",
   "execution_count": 35,
   "id": "318fdd7b-0ce9-4fe6-9001-3060b0ffaaa9",
   "metadata": {},
   "outputs": [],
   "source": [
    "# Fix types\n",
    "df['id'] = pd.to_numeric(df['id'], errors='coerce')\n",
    "df['price'] = df['price'].str.replace('$', '').astype(float) \n",
    "df['date'] = pd.to_datetime(df['date'], errors='coerce')"
   ]
  },
  {
   "cell_type": "code",
   "execution_count": 36,
   "id": "8fc0b171-57b6-4a99-9dac-1f77adf35a83",
   "metadata": {},
   "outputs": [
    {
     "name": "stdout",
     "output_type": "stream",
     "text": [
      "\n",
      "Fixed types:\n",
      "id              float64\n",
      "price           float64\n",
      "date     datetime64[ns]\n",
      "dtype: object\n",
      "\n",
      "Data:\n",
      "    id  price       date\n",
      "0  1.0  19.99 2024-01-01\n",
      "1  2.0  25.50        NaT\n",
      "2  3.0  15.00 2024-02-01\n",
      "3  NaN  20.00        NaT\n"
     ]
    }
   ],
   "source": [
    "print(\"\\nFixed types:\")\n",
    "print(df.dtypes)\n",
    "print(\"\\nData:\")\n",
    "print(df)"
   ]
  }
 ],
 "metadata": {
  "kernelspec": {
   "display_name": "Python 3 (ipykernel)",
   "language": "python",
   "name": "python3"
  },
  "language_info": {
   "codemirror_mode": {
    "name": "ipython",
    "version": 3
   },
   "file_extension": ".py",
   "mimetype": "text/x-python",
   "name": "python",
   "nbconvert_exporter": "python",
   "pygments_lexer": "ipython3",
   "version": "3.13.0"
  }
 },
 "nbformat": 4,
 "nbformat_minor": 5
}
