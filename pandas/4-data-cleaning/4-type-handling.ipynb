{
 "cells": [
  {
   "cell_type": "code",
   "execution_count": 1,
   "id": "150fdbe9-117d-48b8-bbe3-3ebc0295f339",
   "metadata": {},
   "outputs": [],
   "source": [
    "import pandas as pd"
   ]
  },
  {
   "cell_type": "code",
   "execution_count": 2,
   "id": "bbab919a-58ad-4cce-b543-e2d28b095a1c",
   "metadata": {},
   "outputs": [],
   "source": [
    "# Sample data with type issues\n",
    "data = {\n",
    "   'id': ['1', '2', '3', None],\n",
    "   'price': ['19.99', '$25.50', '15', '20.00'],\n",
    "   'date': ['2024-01-01', '01/15/2024', '2024-02-01', 'Invalid']\n",
    "}\n",
    "df = pd.DataFrame(data)"
   ]
  },
  {
   "cell_type": "code",
   "execution_count": 3,
   "id": "ce80a335-bc08-435b-b830-666771faea5a",
   "metadata": {},
   "outputs": [
    {
     "name": "stdout",
     "output_type": "stream",
     "text": [
      "Initial types:\n",
      "id       object\n",
      "price    object\n",
      "date     object\n",
      "dtype: object\n"
     ]
    }
   ],
   "source": [
    "# Check types\n",
    "print(\"Initial types:\")\n",
    "print(df.dtypes)  # All objects (strings)"
   ]
  },
  {
   "cell_type": "markdown",
   "id": "d5db7574-0b48-4c9e-b423-e8d53aeadce9",
   "metadata": {},
   "source": [
    "fixing types:\n",
    "- astype -> as a type\n",
    "- 'coerce' force it to succeed, keep going on.\n",
    "   \"If ‘coerce’, then invalid parsing will be set as NaN.\"  \n",
    "    See [here](https://pandas.pydata.org/docs/reference/api/pandas.to_numeric.html#pandas.to_numeric) for details.\n",
    "- NaN - Not A Number (see [here](https://en.wikipedia.org/wiki/NaN#:~:text=In%20mathematics%2C%20the%20result%20of,NaN%20in%20compliant%20computing%20systems.) for details)\n",
    "- NaT - Noa a Time  \n",
    "  NA - Not Available  \n",
    "   (see [here](https://pandas.pydata.org/docs/reference/missing_value.html) for details)"
   ]
  },
  {
   "cell_type": "code",
   "execution_count": 4,
   "id": "318fdd7b-0ce9-4fe6-9001-3060b0ffaaa9",
   "metadata": {},
   "outputs": [
    {
     "data": {
      "text/html": [
       "<div>\n",
       "<style scoped>\n",
       "    .dataframe tbody tr th:only-of-type {\n",
       "        vertical-align: middle;\n",
       "    }\n",
       "\n",
       "    .dataframe tbody tr th {\n",
       "        vertical-align: top;\n",
       "    }\n",
       "\n",
       "    .dataframe thead th {\n",
       "        text-align: right;\n",
       "    }\n",
       "</style>\n",
       "<table border=\"1\" class=\"dataframe\">\n",
       "  <thead>\n",
       "    <tr style=\"text-align: right;\">\n",
       "      <th></th>\n",
       "      <th>id</th>\n",
       "      <th>price</th>\n",
       "      <th>date</th>\n",
       "    </tr>\n",
       "  </thead>\n",
       "  <tbody>\n",
       "    <tr>\n",
       "      <th>0</th>\n",
       "      <td>1.0</td>\n",
       "      <td>19.99</td>\n",
       "      <td>2024-01-01</td>\n",
       "    </tr>\n",
       "    <tr>\n",
       "      <th>1</th>\n",
       "      <td>2.0</td>\n",
       "      <td>25.50</td>\n",
       "      <td>NaT</td>\n",
       "    </tr>\n",
       "    <tr>\n",
       "      <th>2</th>\n",
       "      <td>3.0</td>\n",
       "      <td>15.00</td>\n",
       "      <td>2024-02-01</td>\n",
       "    </tr>\n",
       "    <tr>\n",
       "      <th>3</th>\n",
       "      <td>NaN</td>\n",
       "      <td>20.00</td>\n",
       "      <td>NaT</td>\n",
       "    </tr>\n",
       "  </tbody>\n",
       "</table>\n",
       "</div>"
      ],
      "text/plain": [
       "    id  price       date\n",
       "0  1.0  19.99 2024-01-01\n",
       "1  2.0  25.50        NaT\n",
       "2  3.0  15.00 2024-02-01\n",
       "3  NaN  20.00        NaT"
      ]
     },
     "execution_count": 4,
     "metadata": {},
     "output_type": "execute_result"
    }
   ],
   "source": [
    "# Fix types\n",
    "df['id'] = pd.to_numeric(df['id'], errors='coerce')\n",
    "df['price'] = df['price'].str.replace('$', '').astype(float) \n",
    "df['date'] = pd.to_datetime(df['date'], errors='coerce')\n",
    "df"
   ]
  },
  {
   "cell_type": "code",
   "execution_count": 5,
   "id": "8fc0b171-57b6-4a99-9dac-1f77adf35a83",
   "metadata": {},
   "outputs": [
    {
     "name": "stdout",
     "output_type": "stream",
     "text": [
      "\n",
      "Fixed types:\n",
      "id              float64\n",
      "price           float64\n",
      "date     datetime64[ns]\n",
      "dtype: object\n",
      "\n",
      "Data:\n",
      "    id  price       date\n",
      "0  1.0  19.99 2024-01-01\n",
      "1  2.0  25.50        NaT\n",
      "2  3.0  15.00 2024-02-01\n",
      "3  NaN  20.00        NaT\n"
     ]
    }
   ],
   "source": [
    "print(\"\\nFixed types:\")\n",
    "print(df.dtypes)\n",
    "print(\"\\nData:\")\n",
    "print(df)"
   ]
  }
 ],
 "metadata": {
  "kernelspec": {
   "display_name": "Python 3 (ipykernel)",
   "language": "python",
   "name": "python3"
  },
  "language_info": {
   "codemirror_mode": {
    "name": "ipython",
    "version": 3
   },
   "file_extension": ".py",
   "mimetype": "text/x-python",
   "name": "python",
   "nbconvert_exporter": "python",
   "pygments_lexer": "ipython3",
   "version": "3.13.0"
  }
 },
 "nbformat": 4,
 "nbformat_minor": 5
}
