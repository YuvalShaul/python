{
 "cells": [
  {
   "cell_type": "code",
   "execution_count": null,
   "id": "f7b80f3a-2675-4d73-9e90-d4a14a8b3b7a",
   "metadata": {},
   "outputs": [],
   "source": [
    "import pandas as pd\n",
    "import numpy as np"
   ]
  },
  {
   "cell_type": "markdown",
   "id": "346a40fc-48c0-4594-82ad-c5cbb6b6a39a",
   "metadata": {},
   "source": [
    "# Pandas GroupBy and Aggregation Exercise"
   ]
  },
  {
   "cell_type": "code",
   "execution_count": null,
   "id": "d3545ae0-5751-40d2-b310-601a1c995418",
   "metadata": {},
   "outputs": [],
   "source": [
    "# Create sample sales data\n",
    "np.random.seed(42)\n",
    "sales_data = pd.DataFrame({\n",
    "    'date': pd.date_range('2023-01-01', periods=100),\n",
    "    'region': np.random.choice(['North', 'South', 'East', 'West'], 100),\n",
    "    'product': np.random.choice(['A', 'B', 'C', 'D'], 100),\n",
    "    'salesperson': np.random.choice(['Alice', 'Bob', 'Charlie', 'Diana'], 100),\n",
    "    'sales_amount': np.random.randint(100, 1000, 100),\n",
    "    'units_sold': np.random.randint(1, 20, 100),\n",
    "    'customer_type': np.random.choice(['New', 'Existing'], 100)\n",
    "})"
   ]
  },
  {
   "cell_type": "code",
   "execution_count": null,
   "id": "10bd87b9-1a36-4d04-b211-d5e4dec3675a",
   "metadata": {},
   "outputs": [],
   "source": [
    "### 1. Basic Grouping\n",
    "# Calculate the total sales amount for each region.\n",
    "# What is the highest selling region?"
   ]
  },
  {
   "cell_type": "code",
   "execution_count": null,
   "id": "0ce2165c-6cd3-4313-8326-f2bf3b73f1b7",
   "metadata": {},
   "outputs": [],
   "source": [
    "### 2. Multiple Aggregations\n",
    "# For each product, calculate the mean sales amount, total units sold, and count of transactions.\n",
    "# Display the results in a single DataFrame."
   ]
  },
  {
   "cell_type": "code",
   "execution_count": null,
   "id": "583fe7c7-972f-4ffe-ae22-cb817d8daffd",
   "metadata": {},
   "outputs": [],
   "source": [
    "### 3. Grouped Statistics\n",
    "# Find the average sales amount per transaction for each salesperson. \n",
    "# Round the results to 2 decimal places."
   ]
  },
  {
   "cell_type": "code",
   "execution_count": null,
   "id": "cdb638db-3358-477e-935b-7f2d1f323cdf",
   "metadata": {},
   "outputs": [],
   "source": [
    "### 4. Multi-level Grouping\n",
    "# Group by both region and product, then calculate the sum of sales amounts. \n",
    "# Which region-product combination has the highest total sales?"
   ]
  },
  {
   "cell_type": "code",
   "execution_count": null,
   "id": "66e2c6dc-9be8-43af-adc0-944c47c1f2b0",
   "metadata": {},
   "outputs": [],
   "source": [
    "### 5. Custom Aggregation\n",
    "# Create a custom aggregation that calculates the range (max - min) of sales amounts for each region. \n",
    "# Use the `agg()` method with a lambda function.\n"
   ]
  },
  {
   "cell_type": "code",
   "execution_count": null,
   "id": "34424686-f619-41be-afe2-174f69e65223",
   "metadata": {},
   "outputs": [],
   "source": [
    "### 6. Conditional Aggregation\n",
    "# For each region, calculate the total sales amount separately for 'New' and 'Existing' customers. \n",
    "# Use pivot_table or groupby with multiple columns.\n"
   ]
  },
  {
   "cell_type": "code",
   "execution_count": null,
   "id": "6b2768ce-06fd-45e8-bccb-20390b077146",
   "metadata": {},
   "outputs": [],
   "source": [
    "### 7. Transform Operation\n",
    "# Add a new column called 'region_avg_sales' that contains the average sales amount for each region \n",
    "# (the same value should appear for all rows in the same region)."
   ]
  },
  {
   "cell_type": "code",
   "execution_count": null,
   "id": "3b5f4c50-c9aa-4dc8-928a-d81ceb38b63c",
   "metadata": {},
   "outputs": [],
   "source": [
    "### 8. Filtering Groups\n",
    "# Find all regions where the total sales amount is greater than 10,000. \n",
    "# Display only these regions and their total sales.\n"
   ]
  },
  {
   "cell_type": "code",
   "execution_count": null,
   "id": "fd2aac16-f959-48f9-a9a0-cac99c3b8e8d",
   "metadata": {},
   "outputs": [],
   "source": [
    "### 9. Time-based Grouping\n",
    "# Group the data by month and calculate the total sales amount for each month. \n",
    "# Which month had the highest sales?\n"
   ]
  },
  {
   "cell_type": "code",
   "execution_count": null,
   "id": "84ab6a13-2a2d-4d7a-9d0b-86bf39ee155b",
   "metadata": {},
   "outputs": [],
   "source": [
    "### 10. Complex Analysis\n",
    "# For each salesperson, calculate:\n",
    "# - Total sales amount\n",
    "# - Average transaction size\n",
    "# - Number of unique products sold\n",
    "# - Percentage of sales to new customers\n",
    "\n",
    "# Display the results sorted by total sales amount in descending order.\n",
    "\n"
   ]
  }
 ],
 "metadata": {
  "kernelspec": {
   "display_name": "Python 3 (ipykernel)",
   "language": "python",
   "name": "python3"
  },
  "language_info": {
   "codemirror_mode": {
    "name": "ipython",
    "version": 3
   },
   "file_extension": ".py",
   "mimetype": "text/x-python",
   "name": "python",
   "nbconvert_exporter": "python",
   "pygments_lexer": "ipython3",
   "version": "3.13.0"
  }
 },
 "nbformat": 4,
 "nbformat_minor": 5
}
