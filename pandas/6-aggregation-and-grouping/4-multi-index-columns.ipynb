{
 "cells": [
  {
   "cell_type": "code",
   "execution_count": 17,
   "id": "ab12bc3b-4f9b-4c95-a18d-ef9fc3730274",
   "metadata": {},
   "outputs": [],
   "source": [
    "import pandas as pd"
   ]
  },
  {
   "cell_type": "code",
   "execution_count": 18,
   "id": "47bb35cc-fce3-447b-a87a-25093a266a2c",
   "metadata": {},
   "outputs": [
    {
     "name": "stdout",
     "output_type": "stream",
     "text": [
      "[('Math', 'Midterm'), ('Math', 'Final'), ('Science', 'Midterm'), ('Science', 'Final'), ('English', 'Midterm'), ('English', 'Final')]\n"
     ]
    }
   ],
   "source": [
    "# Read the CSV and set up MultiIndex columns\n",
    "df = pd.read_csv('student_scores.csv')\n",
    "column_tuples = [(col.split('_')[0], col.split('_')[1]) for col in df.columns]\n",
    "print(column_tuples)\n",
    "df.columns = pd.MultiIndex.from_tuples(column_tuples, names=['Subject', 'Test'])\n",
    "df = df.sort_index(axis=1)\n"
   ]
  },
  {
   "cell_type": "code",
   "execution_count": 19,
   "id": "faeef2fb-7d2e-41da-9714-01ab3d349e02",
   "metadata": {},
   "outputs": [
    {
     "name": "stdout",
     "output_type": "stream",
     "text": [
      "RangeIndex(start=0, stop=10, step=1)\n",
      "MultiIndex([('English',   'Final'),\n",
      "            ('English', 'Midterm'),\n",
      "            (   'Math',   'Final'),\n",
      "            (   'Math', 'Midterm'),\n",
      "            ('Science',   'Final'),\n",
      "            ('Science', 'Midterm')],\n",
      "           names=['Subject', 'Test'])\n"
     ]
    }
   ],
   "source": [
    "# Note that the index is a simle one, have nothing to do with the MultiIndex:\n",
    "print(df.index)\n",
    "# Look at the columns we have created:\n",
    "print(df.columns)\n"
   ]
  },
  {
   "cell_type": "markdown",
   "id": "f8d8e6bd-3b41-47e1-8e0f-923f4a820a67",
   "metadata": {},
   "source": [
    "#### MultiIndex column indexing"
   ]
  },
  {
   "cell_type": "code",
   "execution_count": 20,
   "id": "f95ead55-b0ca-4645-a40a-1faba0a19b7a",
   "metadata": {},
   "outputs": [
    {
     "name": "stdout",
     "output_type": "stream",
     "text": [
      "Test  Final  Midterm\n",
      "0      98.0     75.0\n",
      "1      94.6     62.3\n",
      "2      68.5     93.3\n",
      "3      71.6     77.3\n",
      "4      91.4     78.2\n",
      "5      66.8     84.3\n",
      "6      63.9     72.2\n",
      "7      96.4     61.4\n",
      "8      67.4     81.9\n",
      "9      96.9     83.9\n"
     ]
    }
   ],
   "source": [
    "# Select all columns for one subject\n",
    "print(df['Math'])\n",
    "\n"
   ]
  },
  {
   "cell_type": "code",
   "execution_count": 21,
   "id": "0beac167-a477-4a13-a568-547ce0cffaf7",
   "metadata": {},
   "outputs": [
    {
     "name": "stdout",
     "output_type": "stream",
     "text": [
      "0    75.0\n",
      "1    62.3\n",
      "2    93.3\n",
      "3    77.3\n",
      "4    78.2\n",
      "5    84.3\n",
      "6    72.2\n",
      "7    61.4\n",
      "8    81.9\n",
      "9    83.9\n",
      "Name: Midterm, dtype: float64\n"
     ]
    }
   ],
   "source": [
    "# Select specific subject and test\n",
    "print(df['Math']['Midterm'])"
   ]
  },
  {
   "cell_type": "code",
   "execution_count": 22,
   "id": "c4aa4dd1-61db-4c53-a359-10649d9ae540",
   "metadata": {},
   "outputs": [
    {
     "data": {
      "text/html": [
       "<div>\n",
       "<style scoped>\n",
       "    .dataframe tbody tr th:only-of-type {\n",
       "        vertical-align: middle;\n",
       "    }\n",
       "\n",
       "    .dataframe tbody tr th {\n",
       "        vertical-align: top;\n",
       "    }\n",
       "\n",
       "    .dataframe thead th {\n",
       "        text-align: right;\n",
       "    }\n",
       "</style>\n",
       "<table border=\"1\" class=\"dataframe\">\n",
       "  <thead>\n",
       "    <tr style=\"text-align: right;\">\n",
       "      <th>Subject</th>\n",
       "      <th>English</th>\n",
       "      <th>Math</th>\n",
       "      <th>Science</th>\n",
       "    </tr>\n",
       "  </thead>\n",
       "  <tbody>\n",
       "    <tr>\n",
       "      <th>0</th>\n",
       "      <td>66.2</td>\n",
       "      <td>98.0</td>\n",
       "      <td>83.9</td>\n",
       "    </tr>\n",
       "    <tr>\n",
       "      <th>1</th>\n",
       "      <td>98.8</td>\n",
       "      <td>94.6</td>\n",
       "      <td>88.3</td>\n",
       "    </tr>\n",
       "    <tr>\n",
       "      <th>2</th>\n",
       "      <td>81.0</td>\n",
       "      <td>68.5</td>\n",
       "      <td>67.3</td>\n",
       "    </tr>\n",
       "    <tr>\n",
       "      <th>3</th>\n",
       "      <td>74.7</td>\n",
       "      <td>71.6</td>\n",
       "      <td>65.6</td>\n",
       "    </tr>\n",
       "    <tr>\n",
       "      <th>4</th>\n",
       "      <td>61.9</td>\n",
       "      <td>91.4</td>\n",
       "      <td>80.6</td>\n",
       "    </tr>\n",
       "    <tr>\n",
       "      <th>5</th>\n",
       "      <td>92.3</td>\n",
       "      <td>66.8</td>\n",
       "      <td>98.0</td>\n",
       "    </tr>\n",
       "    <tr>\n",
       "      <th>6</th>\n",
       "      <td>79.8</td>\n",
       "      <td>63.9</td>\n",
       "      <td>77.6</td>\n",
       "    </tr>\n",
       "    <tr>\n",
       "      <th>7</th>\n",
       "      <td>80.8</td>\n",
       "      <td>96.4</td>\n",
       "      <td>86.5</td>\n",
       "    </tr>\n",
       "    <tr>\n",
       "      <th>8</th>\n",
       "      <td>95.8</td>\n",
       "      <td>67.4</td>\n",
       "      <td>91.0</td>\n",
       "    </tr>\n",
       "    <tr>\n",
       "      <th>9</th>\n",
       "      <td>73.0</td>\n",
       "      <td>96.9</td>\n",
       "      <td>67.8</td>\n",
       "    </tr>\n",
       "  </tbody>\n",
       "</table>\n",
       "</div>"
      ],
      "text/plain": [
       "Subject  English  Math  Science\n",
       "0           66.2  98.0     83.9\n",
       "1           98.8  94.6     88.3\n",
       "2           81.0  68.5     67.3\n",
       "3           74.7  71.6     65.6\n",
       "4           61.9  91.4     80.6\n",
       "5           92.3  66.8     98.0\n",
       "6           79.8  63.9     77.6\n",
       "7           80.8  96.4     86.5\n",
       "8           95.8  67.4     91.0\n",
       "9           73.0  96.9     67.8"
      ]
     },
     "execution_count": 22,
     "metadata": {},
     "output_type": "execute_result"
    }
   ],
   "source": [
    "# Get all Final exams across subjects\n",
    "# Using xs (cross section)\n",
    "df.xs('Final', level='Test', axis=1)    # axis=1 refers to columns, not rows"
   ]
  },
  {
   "cell_type": "code",
   "execution_count": 23,
   "id": "3d38e08f-5971-4b2b-ba27-be5da5544c61",
   "metadata": {},
   "outputs": [
    {
     "data": {
      "text/plain": [
       "0    75.0\n",
       "1    62.3\n",
       "2    93.3\n",
       "3    77.3\n",
       "4    78.2\n",
       "5    84.3\n",
       "6    72.2\n",
       "7    61.4\n",
       "8    81.9\n",
       "9    83.9\n",
       "Name: (Math, Midterm), dtype: float64"
      ]
     },
     "execution_count": 23,
     "metadata": {},
     "output_type": "execute_result"
    }
   ],
   "source": [
    "idx = pd.IndexSlice\n",
    "# Get specific combinations\n",
    "df.loc[:, idx['Math', 'Midterm']]"
   ]
  },
  {
   "cell_type": "code",
   "execution_count": 24,
   "id": "0ef4bd09-4063-40e1-9ef3-95c81ed66354",
   "metadata": {},
   "outputs": [
    {
     "data": {
      "text/html": [
       "<div>\n",
       "<style scoped>\n",
       "    .dataframe tbody tr th:only-of-type {\n",
       "        vertical-align: middle;\n",
       "    }\n",
       "\n",
       "    .dataframe tbody tr th {\n",
       "        vertical-align: top;\n",
       "    }\n",
       "\n",
       "    .dataframe thead tr th {\n",
       "        text-align: left;\n",
       "    }\n",
       "</style>\n",
       "<table border=\"1\" class=\"dataframe\">\n",
       "  <thead>\n",
       "    <tr>\n",
       "      <th>Subject</th>\n",
       "      <th>Math</th>\n",
       "      <th>Science</th>\n",
       "    </tr>\n",
       "    <tr>\n",
       "      <th>Test</th>\n",
       "      <th>Final</th>\n",
       "      <th>Final</th>\n",
       "    </tr>\n",
       "  </thead>\n",
       "  <tbody>\n",
       "    <tr>\n",
       "      <th>0</th>\n",
       "      <td>98.0</td>\n",
       "      <td>83.9</td>\n",
       "    </tr>\n",
       "    <tr>\n",
       "      <th>1</th>\n",
       "      <td>94.6</td>\n",
       "      <td>88.3</td>\n",
       "    </tr>\n",
       "    <tr>\n",
       "      <th>2</th>\n",
       "      <td>68.5</td>\n",
       "      <td>67.3</td>\n",
       "    </tr>\n",
       "    <tr>\n",
       "      <th>3</th>\n",
       "      <td>71.6</td>\n",
       "      <td>65.6</td>\n",
       "    </tr>\n",
       "    <tr>\n",
       "      <th>4</th>\n",
       "      <td>91.4</td>\n",
       "      <td>80.6</td>\n",
       "    </tr>\n",
       "    <tr>\n",
       "      <th>5</th>\n",
       "      <td>66.8</td>\n",
       "      <td>98.0</td>\n",
       "    </tr>\n",
       "    <tr>\n",
       "      <th>6</th>\n",
       "      <td>63.9</td>\n",
       "      <td>77.6</td>\n",
       "    </tr>\n",
       "    <tr>\n",
       "      <th>7</th>\n",
       "      <td>96.4</td>\n",
       "      <td>86.5</td>\n",
       "    </tr>\n",
       "    <tr>\n",
       "      <th>8</th>\n",
       "      <td>67.4</td>\n",
       "      <td>91.0</td>\n",
       "    </tr>\n",
       "    <tr>\n",
       "      <th>9</th>\n",
       "      <td>96.9</td>\n",
       "      <td>67.8</td>\n",
       "    </tr>\n",
       "  </tbody>\n",
       "</table>\n",
       "</div>"
      ],
      "text/plain": [
       "Subject  Math Science\n",
       "Test    Final   Final\n",
       "0        98.0    83.9\n",
       "1        94.6    88.3\n",
       "2        68.5    67.3\n",
       "3        71.6    65.6\n",
       "4        91.4    80.6\n",
       "5        66.8    98.0\n",
       "6        63.9    77.6\n",
       "7        96.4    86.5\n",
       "8        67.4    91.0\n",
       "9        96.9    67.8"
      ]
     },
     "execution_count": 24,
     "metadata": {},
     "output_type": "execute_result"
    }
   ],
   "source": [
    "# Get multiple selections\n",
    "df.loc[:, idx[['Math', 'Science'], 'Final']]"
   ]
  }
 ],
 "metadata": {
  "kernelspec": {
   "display_name": "Python 3 (ipykernel)",
   "language": "python",
   "name": "python3"
  },
  "language_info": {
   "codemirror_mode": {
    "name": "ipython",
    "version": 3
   },
   "file_extension": ".py",
   "mimetype": "text/x-python",
   "name": "python",
   "nbconvert_exporter": "python",
   "pygments_lexer": "ipython3",
   "version": "3.13.0"
  }
 },
 "nbformat": 4,
 "nbformat_minor": 5
}
