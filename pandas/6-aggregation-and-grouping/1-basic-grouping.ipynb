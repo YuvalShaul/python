{
 "cells": [
  {
   "cell_type": "code",
   "execution_count": 4,
   "id": "7930f1d8-e332-4988-8c86-3936fe41684b",
   "metadata": {},
   "outputs": [],
   "source": [
    "import pandas as pd"
   ]
  },
  {
   "cell_type": "code",
   "execution_count": 5,
   "id": "3f275bb2-7ee3-44e0-9342-4b2307447249",
   "metadata": {},
   "outputs": [],
   "source": [
    "# Create sample data\n",
    "df = pd.DataFrame({\n",
    "    'department': ['Sales', 'IT', 'Sales', 'IT', 'Sales'],\n",
    "    'employee': ['John', 'Jane', 'Bob', 'Mary', 'Alice'],\n",
    "    'salary': [50000, 60000, 55000, 65000, 52000]\n",
    "})"
   ]
  },
  {
   "cell_type": "markdown",
   "id": "8ca59eae-952a-43aa-8145-90d8d36b3e15",
   "metadata": {},
   "source": [
    "#### groupby object\n",
    "- When we group, we don't get new DataFrames directly\n",
    "- Instead, we get a GroupBy object that we can operate on"
   ]
  },
  {
   "cell_type": "code",
   "execution_count": 6,
   "id": "8e381653-df7b-483c-8049-96b956b68f6a",
   "metadata": {},
   "outputs": [
    {
     "name": "stdout",
     "output_type": "stream",
     "text": [
      "type(group):  <class 'pandas.core.groupby.generic.DataFrameGroupBy'>\n",
      "type(group[\"salary\"]):  <class 'pandas.core.groupby.generic.SeriesGroupBy'>\n",
      "# groups:  2\n",
      "sales:    department employee  salary\n",
      "0      Sales     John   50000\n",
      "2      Sales      Bob   55000\n",
      "4      Sales    Alice   52000\n"
     ]
    }
   ],
   "source": [
    "grouped = df.groupby('department')\n",
    "\n",
    "# Basics\n",
    "print('type(group): ', type(grouped))\n",
    "print('type(group[\"salary\"]): ', type(grouped['salary']))\n",
    "print('# groups: ', len(grouped))\n",
    "print('sales: ', grouped.get_group('Sales'))"
   ]
  },
  {
   "cell_type": "code",
   "execution_count": 7,
   "id": "b386ac94-3e11-493e-93ac-1a4ad0126a9e",
   "metadata": {},
   "outputs": [
    {
     "name": "stdout",
     "output_type": "stream",
     "text": [
      "<class 'pandas.core.series.Series'>\n",
      "Average salary by department:\n",
      "department\n",
      "IT       62500.000000\n",
      "Sales    52333.333333\n",
      "Name: salary, dtype: float64\n"
     ]
    }
   ],
   "source": [
    "# 1. Calculate average salary by department\n",
    "avg_salary = grouped['salary'].mean()\n",
    "print(type(avg_salary))          # This is a Series with the Index taken from the DF\n",
    "print(\"Average salary by department:\")\n",
    "print(avg_salary)"
   ]
  },
  {
   "cell_type": "code",
   "execution_count": 8,
   "id": "70fb888e-ab9b-42a0-bba2-3ad932af6ca9",
   "metadata": {},
   "outputs": [
    {
     "name": "stdout",
     "output_type": "stream",
     "text": [
      "<class 'pandas.core.frame.DataFrame'>\n",
      "\n",
      "Summary statistics by department:\n",
      "                    mean    min    max  count\n",
      "department                                   \n",
      "IT          62500.000000  60000  65000      2\n",
      "Sales       52333.333333  50000  55000      3\n"
     ]
    }
   ],
   "source": [
    "# 2. Multiple statistics at once\n",
    "summary = grouped['salary'].agg(['mean', 'min', 'max', 'count'])\n",
    "print(type(summary))\n",
    "print(\"\\nSummary statistics by department:\")\n",
    "print(summary)"
   ]
  },
  {
   "cell_type": "code",
   "execution_count": 9,
   "id": "8d5e3de9-cbd5-4cbc-8908-b62e30252254",
   "metadata": {},
   "outputs": [
    {
     "name": "stdout",
     "output_type": "stream",
     "text": [
      "MultiIndex([(  'salary',  'mean'),\n",
      "            (  'salary',   'max'),\n",
      "            ('employee', 'count')],\n",
      "           )\n",
      "\n",
      "Custom aggregations:\n",
      "                  salary        employee\n",
      "                    mean    max    count\n",
      "department                              \n",
      "IT          62500.000000  65000        2\n",
      "Sales       52333.333333  55000        3\n"
     ]
    }
   ],
   "source": [
    "# 3. Different operations for different columns\n",
    "custom_agg = grouped.agg({\n",
    "    'salary': ['mean', 'max'],\n",
    "    'employee': 'count'\n",
    "})\n",
    "print(custom_agg.columns)\n",
    "print(\"\\nCustom aggregations:\")\n",
    "print(custom_agg)"
   ]
  }
 ],
 "metadata": {
  "kernelspec": {
   "display_name": "Python 3 (ipykernel)",
   "language": "python",
   "name": "python3"
  },
  "language_info": {
   "codemirror_mode": {
    "name": "ipython",
    "version": 3
   },
   "file_extension": ".py",
   "mimetype": "text/x-python",
   "name": "python",
   "nbconvert_exporter": "python",
   "pygments_lexer": "ipython3",
   "version": "3.13.0"
  }
 },
 "nbformat": 4,
 "nbformat_minor": 5
}
