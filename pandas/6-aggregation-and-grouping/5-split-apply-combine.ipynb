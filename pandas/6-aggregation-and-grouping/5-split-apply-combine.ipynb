{
 "cells": [
  {
   "cell_type": "code",
   "execution_count": 4,
   "id": "990d3916-5b49-419d-bc2c-158c1bcfd302",
   "metadata": {},
   "outputs": [],
   "source": [
    "import pandas as pd\n",
    "import numpy as np"
   ]
  },
  {
   "cell_type": "code",
   "execution_count": 6,
   "id": "bab08183-a333-4066-aa8f-f0019f5c08e9",
   "metadata": {},
   "outputs": [
    {
     "name": "stdout",
     "output_type": "stream",
     "text": [
      "Original DataFrame:\n",
      "        date store  sales\n",
      "0 2024-01-01     A    100\n",
      "1 2024-01-02     B    150\n",
      "2 2024-01-03     A     80\n",
      "3 2024-01-04     B    200\n",
      "4 2024-01-05     A    120\n",
      "5 2024-01-06     B    180\n",
      "6 2024-01-07     A     90\n",
      "7 2024-01-08     B    160\n",
      "\n",
      "\n"
     ]
    }
   ],
   "source": [
    "# Create sample data\n",
    "data = {\n",
    "    'date': pd.date_range('2024-01-01', periods=8),\n",
    "    'store': ['A', 'B', 'A', 'B', 'A', 'B', 'A', 'B'],\n",
    "    'sales': [100, 150, 80, 200, 120, 180, 90, 160]\n",
    "}\n",
    "df = pd.DataFrame(data)\n",
    "print(\"Original DataFrame:\")\n",
    "print(df)\n",
    "print(\"\\n\")"
   ]
  },
  {
   "cell_type": "markdown",
   "id": "c45c9e02-9c62-46ae-b38e-1361588999a1",
   "metadata": {},
   "source": [
    "#### 1. SPLIT"
   ]
  },
  {
   "cell_type": "code",
   "execution_count": 11,
   "id": "bab6e240-36e0-4b55-9c77-17be585a36bb",
   "metadata": {},
   "outputs": [
    {
     "name": "stdout",
     "output_type": "stream",
     "text": [
      "{'A':         date store  sales\n",
      "0 2024-01-01     A    100\n",
      "2 2024-01-03     A     80\n",
      "4 2024-01-05     A    120\n",
      "6 2024-01-07     A     90, 'B':         date store  sales\n",
      "1 2024-01-02     B    150\n",
      "3 2024-01-04     B    200\n",
      "5 2024-01-06     B    180\n",
      "7 2024-01-08     B    160}\n",
      "<class 'pandas.core.frame.DataFrame'>\n"
     ]
    }
   ],
   "source": [
    "# Manual split-apply-combine\n",
    "# 1. Split\n",
    "groups = dict(tuple(df.groupby('store')))\n",
    "print(groups)\n",
    "print(type(groups['A']))"
   ]
  },
  {
   "cell_type": "markdown",
   "id": "62c4c4ae-259f-4916-a2d1-eb70f2cf06a2",
   "metadata": {},
   "source": [
    "#### 2. APPLY\n",
    "- Assign adds ( = assign) new columns to a df, returns a new df\n",
    "- rolling provides rolling window calculations, in this case mean()"
   ]
  },
  {
   "cell_type": "code",
   "execution_count": 13,
   "id": "3977a968-9171-431f-ad64-51e37b5949f7",
   "metadata": {},
   "outputs": [
    {
     "data": {
      "text/plain": [
       "{'A':         date store  sales  moving_avg\n",
       " 0 2024-01-01     A    100         NaN\n",
       " 2 2024-01-03     A     80        90.0\n",
       " 4 2024-01-05     A    120       100.0\n",
       " 6 2024-01-07     A     90       105.0,\n",
       " 'B':         date store  sales  moving_avg\n",
       " 1 2024-01-02     B    150         NaN\n",
       " 3 2024-01-04     B    200       175.0\n",
       " 5 2024-01-06     B    180       190.0\n",
       " 7 2024-01-08     B    160       170.0}"
      ]
     },
     "execution_count": 13,
     "metadata": {},
     "output_type": "execute_result"
    }
   ],
   "source": [
    "# 2. Apply: Calculate moving average for each group separately\n",
    "processed_groups = {}     # this is an empty dict\n",
    "for store, group_df in groups.items():\n",
    "    # Calculate 2-day moving average for this store\n",
    "    processed_groups[store] = group_df.assign(\n",
    "        moving_avg=group_df['sales'].rolling(window=2).mean()\n",
    "    )\n",
    "processed_groups"
   ]
  },
  {
   "cell_type": "markdown",
   "id": "f7c7a6c1-d90b-4ea5-8dd4-1d17bcce9972",
   "metadata": {},
   "source": [
    "#### 3. COMBINE\n",
    "- We get a new column with a moving average over sales"
   ]
  },
  {
   "cell_type": "code",
   "execution_count": 14,
   "id": "c029e1ee-1859-4145-b5b2-5a04b2861196",
   "metadata": {},
   "outputs": [
    {
     "name": "stdout",
     "output_type": "stream",
     "text": [
      "Result after explicit combine:\n",
      "        date store  sales  moving_avg\n",
      "0 2024-01-01     A    100         NaN\n",
      "1 2024-01-02     B    150         NaN\n",
      "2 2024-01-03     A     80        90.0\n",
      "3 2024-01-04     B    200       175.0\n",
      "4 2024-01-05     A    120       100.0\n",
      "5 2024-01-06     B    180       190.0\n",
      "6 2024-01-07     A     90       105.0\n",
      "7 2024-01-08     B    160       170.0\n",
      "\n",
      "\n"
     ]
    }
   ],
   "source": [
    "# 3. Explicit Combine\n",
    "combined_df = pd.concat(processed_groups.values())\n",
    "# Sort to restore original order\n",
    "combined_df = combined_df.sort_index()\n",
    "\n",
    "print(\"Result after explicit combine:\")\n",
    "print(combined_df)\n",
    "print(\"\\n\")"
   ]
  }
 ],
 "metadata": {
  "kernelspec": {
   "display_name": "Python 3 (ipykernel)",
   "language": "python",
   "name": "python3"
  },
  "language_info": {
   "codemirror_mode": {
    "name": "ipython",
    "version": 3
   },
   "file_extension": ".py",
   "mimetype": "text/x-python",
   "name": "python",
   "nbconvert_exporter": "python",
   "pygments_lexer": "ipython3",
   "version": "3.13.0"
  }
 },
 "nbformat": 4,
 "nbformat_minor": 5
}
