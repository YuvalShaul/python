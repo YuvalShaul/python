{
 "cells": [
  {
   "cell_type": "code",
   "execution_count": 45,
   "id": "a9ef3085-594b-4c1d-a1b8-f7b29657ccf2",
   "metadata": {},
   "outputs": [],
   "source": [
    "import pandas as pd"
   ]
  },
  {
   "cell_type": "code",
   "execution_count": 46,
   "id": "d2869d8d-61be-49d3-a96b-4158ae3d46d2",
   "metadata": {},
   "outputs": [
    {
     "name": "stdout",
     "output_type": "stream",
     "text": [
      "RangeIndex(start=0, stop=33, step=1)\n",
      "MultiIndex([(   'USA',    'New York',    'Manhattan'),\n",
      "            (   'USA',    'New York',     'Brooklyn'),\n",
      "            (   'USA',    'New York',       'Queens'),\n",
      "            (   'USA', 'Los Angeles',     'Downtown'),\n",
      "            (   'USA', 'Los Angeles',    'Hollywood'),\n",
      "            (   'USA', 'Los Angeles', 'Santa Monica'),\n",
      "            (   'USA',     'Chicago',         'Loop'),\n",
      "            (   'USA',     'Chicago', 'Lincoln Park'),\n",
      "            ('Canada',     'Toronto',     'Downtown'),\n",
      "            ('Canada',     'Toronto',   'North York')],\n",
      "           names=['Country', 'City', 'District'])\n"
     ]
    }
   ],
   "source": [
    "cities = pd.read_csv('cities_extended.csv')\n",
    "print(cities.index)\n",
    "cities = cities.set_index(['Country', 'City', 'District'])\n",
    "print(cities.index[:10])\n",
    "\n",
    "# Sort the index - to increase performance\n",
    "cities = cities.sort_index()"
   ]
  },
  {
   "cell_type": "code",
   "execution_count": 47,
   "id": "6fb873be-182b-4a05-afae-6dd02904ff44",
   "metadata": {},
   "outputs": [
    {
     "name": "stdout",
     "output_type": "stream",
     "text": [
      "1. All districts in Tokyo:\n",
      "          Population  Temperature  Rainfall  GDP_per_capita  Air_Quality_Index\n",
      "District                                                                      \n",
      "Ginza         339135         18.7      1304           60818                 73\n",
      "Shibuya       252251         23.6      1279           78033                 62\n",
      "Shinjuku      313986         22.9       878           68660                 70\n"
     ]
    }
   ],
   "source": [
    "print(\"1. All districts in Tokyo:\")\n",
    "print(cities.loc[('Japan', 'Tokyo')])"
   ]
  },
  {
   "cell_type": "code",
   "execution_count": 48,
   "id": "3bdb8144-b7f6-4167-89e9-65e25c9c53fc",
   "metadata": {},
   "outputs": [
    {
     "name": "stdout",
     "output_type": "stream",
     "text": [
      "\n",
      "2. All cities in USA:\n",
      "                          Population  Temperature  Rainfall  GDP_per_capita  \\\n",
      "City        District                                                          \n",
      "Chicago     Lincoln Park      153556         19.1       520           44502   \n",
      "            Loop              284654         19.3      1767           61551   \n",
      "Los Angeles Downtown          503355         21.8       959           49769   \n",
      "            Hollywood         271932         24.3       974           55658   \n",
      "            Santa Monica      108431         22.3      1475           30189   \n",
      "New York    Brooklyn         2254886         19.5      1738           67194   \n",
      "            Manhattan        1921958         23.0      1794           74732   \n",
      "            Queens           2041090         15.2      1269           32433   \n",
      "\n",
      "                          Air_Quality_Index  \n",
      "City        District                         \n",
      "Chicago     Lincoln Park                 47  \n",
      "            Loop                         32  \n",
      "Los Angeles Downtown                     51  \n",
      "            Hollywood                    71  \n",
      "            Santa Monica                 91  \n",
      "New York    Brooklyn                     53  \n",
      "            Manhattan                    50  \n",
      "            Queens                       93  \n"
     ]
    }
   ],
   "source": [
    "print(\"\\n2. All cities in USA:\")\n",
    "print(cities.loc['USA'])"
   ]
  },
  {
   "cell_type": "code",
   "execution_count": 49,
   "id": "ae663d42-36b1-4a4c-ae77-3af52d2a7c82",
   "metadata": {},
   "outputs": [
    {
     "name": "stdout",
     "output_type": "stream",
     "text": [
      "\n",
      "3. Just Manhattan's data:\n",
      "Population           1921958.0\n",
      "Temperature               23.0\n",
      "Rainfall                1794.0\n",
      "GDP_per_capita         74732.0\n",
      "Air_Quality_Index         50.0\n",
      "Name: (USA, New York, Manhattan), dtype: float64\n"
     ]
    }
   ],
   "source": [
    "# Access things in cities (rows are multi-index)\n",
    "\n",
    "print(\"\\n3. Just Manhattan's data:\")\n",
    "print(cities.loc[('USA', 'New York', 'Manhattan')])"
   ]
  },
  {
   "cell_type": "markdown",
   "id": "8056f2d6-05ef-4495-a8da-a026318c0726",
   "metadata": {},
   "source": [
    "#### IndexSlice\n",
    "- An object to more easily perform multi-index slicing.\n",
    "- See [documentation](https://pandas.pydata.org/docs/reference/api/pandas.IndexSlice.html#pandas.IndexSlice)"
   ]
  },
  {
   "cell_type": "code",
   "execution_count": 50,
   "id": "51b60ebd-f111-43b2-97e6-c819636640e3",
   "metadata": {},
   "outputs": [
    {
     "name": "stdout",
     "output_type": "stream",
     "text": [
      "\n",
      "4. All districts in New York and Tokyo:\n",
      "                            Population  Temperature  Rainfall  GDP_per_capita  \\\n",
      "Country City     District                                                       \n",
      "USA     New York Brooklyn      2254886         19.5      1738           67194   \n",
      "                 Manhattan     1921958         23.0      1794           74732   \n",
      "                 Queens        2041090         15.2      1269           32433   \n",
      "Japan   Tokyo    Ginza          339135         18.7      1304           60818   \n",
      "                 Shibuya        252251         23.6      1279           78033   \n",
      "                 Shinjuku       313986         22.9       878           68660   \n",
      "\n",
      "                            Air_Quality_Index  \n",
      "Country City     District                      \n",
      "USA     New York Brooklyn                  53  \n",
      "                 Manhattan                 50  \n",
      "                 Queens                    93  \n",
      "Japan   Tokyo    Ginza                     73  \n",
      "                 Shibuya                   62  \n",
      "                 Shinjuku                  70  \n"
     ]
    }
   ],
   "source": [
    "# Using IndexSlice\n",
    "idx = pd.IndexSlice\n",
    "\n",
    "print(\"\\n4. All districts in New York and Tokyo:\")\n",
    "print(cities.loc[idx[  ['USA', 'Japan'], ['New York', 'Tokyo'], :]  ])"
   ]
  },
  {
   "cell_type": "markdown",
   "id": "0b4e8ed9-ebba-4be6-8bb8-e65949f28590",
   "metadata": {},
   "source": [
    "#### DataFrame.xs\n",
    "- The .xs() method (cross-section) looks across all higher levels to find any occurrences of a value in a lower level\n",
    "- See documentation [here](https://pandas.pydata.org/docs/reference/api/pandas.DataFrame.xs.html#pandas.DataFrame.xs)"
   ]
  },
  {
   "cell_type": "code",
   "execution_count": 51,
   "id": "0bbe8701-0d51-48fc-8467-9a770f027275",
   "metadata": {},
   "outputs": [
    {
     "name": "stdout",
     "output_type": "stream",
     "text": [
      "\n",
      "5. Cross-section: All CBD districts:\n",
      "                     Population  Temperature  Rainfall  GDP_per_capita  \\\n",
      "Country   City                                                           \n",
      "Australia Melbourne      203776         17.7      1806           36776   \n",
      "          Sydney         295259         20.2      1863           78925   \n",
      "\n",
      "                     Air_Quality_Index  \n",
      "Country   City                          \n",
      "Australia Melbourne                 32  \n",
      "          Sydney                    91  \n"
     ]
    }
   ],
   "source": [
    "# CBD stands for \"Central Business District\"\n",
    "# Multiple cities may have a district with that name\n",
    "print(\"\\n5. Cross-section: All CBD districts:\")\n",
    "print(cities.xs('CBD', level='District'))"
   ]
  },
  {
   "cell_type": "code",
   "execution_count": 52,
   "id": "c34f1eb6-f66f-402f-8333-d27667bad95d",
   "metadata": {},
   "outputs": [
    {
     "name": "stdout",
     "output_type": "stream",
     "text": [
      "\n",
      "6. Population and Temperature for all districts in Paris:\n",
      "            Population  Temperature\n",
      "District                           \n",
      "Le Marais       174276         15.9\n",
      "Montmartre      201271         15.6\n"
     ]
    }
   ],
   "source": [
    "# Get specific columns for certain locations\n",
    "print(\"\\n6. Population and Temperature for all districts in Paris:\")\n",
    "print(cities.loc[('France', 'Paris'), ['Population', 'Temperature']])"
   ]
  }
 ],
 "metadata": {
  "kernelspec": {
   "display_name": "Python 3 (ipykernel)",
   "language": "python",
   "name": "python3"
  },
  "language_info": {
   "codemirror_mode": {
    "name": "ipython",
    "version": 3
   },
   "file_extension": ".py",
   "mimetype": "text/x-python",
   "name": "python",
   "nbconvert_exporter": "python",
   "pygments_lexer": "ipython3",
   "version": "3.13.0"
  }
 },
 "nbformat": 4,
 "nbformat_minor": 5
}
