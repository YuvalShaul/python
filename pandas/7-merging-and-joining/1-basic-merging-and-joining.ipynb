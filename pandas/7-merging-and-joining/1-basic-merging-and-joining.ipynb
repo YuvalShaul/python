{
 "cells": [
  {
   "cell_type": "code",
   "execution_count": 9,
   "id": "852396ec-f054-40b2-8354-8be3a9716347",
   "metadata": {},
   "outputs": [],
   "source": [
    "import pandas as pd\n",
    "import numpy as np"
   ]
  },
  {
   "cell_type": "markdown",
   "id": "bb12aa8f-d1c7-4c32-ad02-465347723fb3",
   "metadata": {},
   "source": [
    "#### data\n",
    "Creating first 3 DataFrames:\n",
    "- employee data\n",
    "- department data\n",
    "- salary data"
   ]
  },
  {
   "cell_type": "code",
   "execution_count": 10,
   "id": "32393bb2-1733-4b08-969a-559617a1ce4c",
   "metadata": {},
   "outputs": [],
   "source": [
    "# Create sample employee data\n",
    "employees = pd.DataFrame({\n",
    "    'emp_id': [1, 2, 3, 4, 5],\n",
    "    'name': ['John', 'Sarah', 'Mike', 'Lisa', 'David'],\n",
    "    'department_id': [101, 102, 101, 103, 102]\n",
    "})\n",
    "\n",
    "# Create department data (note: department 104 exists but no employees are in it)\n",
    "departments = pd.DataFrame({\n",
    "    'department_id': [101, 102, 103, 104],\n",
    "    'department_name': ['Engineering', 'Marketing', 'Sales', 'HR'],\n",
    "    'location': ['NYC', 'SF', 'Chicago', 'Boston']\n",
    "})\n",
    "\n",
    "# Create salary data (note: no salary info for emp_id 5)\n",
    "salaries = pd.DataFrame({\n",
    "    'emp_id': [1, 2, 3, 4, 6],  # Note: emp_id 6 doesn't exist in employees\n",
    "    'salary': [75000, 82000, 78000, 85000, 77000],\n",
    "    'bonus': [5000, 6000, 5500, 7000, 4000]\n",
    "})"
   ]
  },
  {
   "cell_type": "code",
   "execution_count": 11,
   "id": "c58727c7-58fb-4722-8c46-9afd43db7ec8",
   "metadata": {},
   "outputs": [
    {
     "name": "stdout",
     "output_type": "stream",
     "text": [
      "Original DataFrames:\n",
      "\n",
      "Employees:\n",
      "   emp_id   name  department_id\n",
      "0       1   John            101\n",
      "1       2  Sarah            102\n",
      "2       3   Mike            101\n",
      "3       4   Lisa            103\n",
      "4       5  David            102\n",
      "\n",
      "Departments:\n",
      "   department_id department_name location\n",
      "0            101     Engineering      NYC\n",
      "1            102       Marketing       SF\n",
      "2            103           Sales  Chicago\n",
      "3            104              HR   Boston\n",
      "\n",
      "Salaries:\n",
      "   emp_id  salary  bonus\n",
      "0       1   75000   5000\n",
      "1       2   82000   6000\n",
      "2       3   78000   5500\n",
      "3       4   85000   7000\n",
      "4       6   77000   4000\n"
     ]
    }
   ],
   "source": [
    "# Print all data\n",
    "print(\"Original DataFrames:\")\n",
    "print(\"\\nEmployees:\")\n",
    "print(employees)\n",
    "print(\"\\nDepartments:\")\n",
    "print(departments)\n",
    "print(\"\\nSalaries:\")\n",
    "print(salaries)"
   ]
  },
  {
   "cell_type": "code",
   "execution_count": 12,
   "id": "c740b1fb-a879-4a09-901b-81eebb0b25f4",
   "metadata": {},
   "outputs": [
    {
     "name": "stdout",
     "output_type": "stream",
     "text": [
      "\n",
      "1. Inner Join (employees & departments):\n",
      "<class 'pandas.core.frame.DataFrame'>\n",
      "   emp_id   name  department_id department_name location\n",
      "0       1   John            101     Engineering      NYC\n",
      "1       2  Sarah            102       Marketing       SF\n",
      "2       3   Mike            101     Engineering      NYC\n",
      "3       4   Lisa            103           Sales  Chicago\n",
      "4       5  David            102       Marketing       SF\n"
     ]
    }
   ],
   "source": [
    "# 1. Inner Join: only keeps matches\n",
    "# Note that department 104 does not appear in the join\n",
    "inner_join = employees.merge(departments, \n",
    "                           on='department_id', \n",
    "                           how='inner')\n",
    "print(\"\\n1. Inner Join (employees & departments):\")\n",
    "print(type(inner_join))\n",
    "print(inner_join)"
   ]
  },
  {
   "cell_type": "code",
   "execution_count": 13,
   "id": "3d88d5fd-0223-43f4-8f35-1d8b94518f74",
   "metadata": {},
   "outputs": [
    {
     "name": "stdout",
     "output_type": "stream",
     "text": [
      "\n",
      "2. Left Join (employees & departments):\n",
      "   emp_id   name  department_id department_name location\n",
      "0       1   John            101     Engineering      NYC\n",
      "1       2  Sarah            102       Marketing       SF\n",
      "2       3   Mike            101     Engineering      NYC\n",
      "3       4   Lisa            103           Sales  Chicago\n",
      "4       5  David            102       Marketing       SF\n"
     ]
    }
   ],
   "source": [
    "# 2. Left Join: keeps all employees, even if no department match\n",
    "left_join = employees.merge(departments, \n",
    "                          on='department_id', \n",
    "                          how='left')\n",
    "print(\"\\n2. Left Join (employees & departments):\")\n",
    "print(left_join)"
   ]
  },
  {
   "cell_type": "code",
   "execution_count": 14,
   "id": "1116ced1-804a-4874-b174-52657923a1e8",
   "metadata": {},
   "outputs": [
    {
     "name": "stdout",
     "output_type": "stream",
     "text": [
      "\n",
      "3. Right Join (employees & departments):\n",
      "   emp_id   name  department_id department_name location\n",
      "0     1.0   John            101     Engineering      NYC\n",
      "1     3.0   Mike            101     Engineering      NYC\n",
      "2     2.0  Sarah            102       Marketing       SF\n",
      "3     5.0  David            102       Marketing       SF\n",
      "4     4.0   Lisa            103           Sales  Chicago\n",
      "5     NaN    NaN            104              HR   Boston\n"
     ]
    }
   ],
   "source": [
    "# 3. Right Join: keeps all departments, even if no employees\n",
    "right_join = employees.merge(departments, \n",
    "                           on='department_id', \n",
    "                           how='right')\n",
    "print(\"\\n3. Right Join (employees & departments):\")\n",
    "print(right_join)"
   ]
  },
  {
   "cell_type": "code",
   "execution_count": 15,
   "id": "10170237-a7eb-4139-944f-e23a9df51caa",
   "metadata": {},
   "outputs": [
    {
     "name": "stdout",
     "output_type": "stream",
     "text": [
      "\n",
      "4. Outer Join (employees & departments):\n",
      "   emp_id   name  department_id department_name location\n",
      "0     1.0   John            101     Engineering      NYC\n",
      "1     3.0   Mike            101     Engineering      NYC\n",
      "2     2.0  Sarah            102       Marketing       SF\n",
      "3     5.0  David            102       Marketing       SF\n",
      "4     4.0   Lisa            103           Sales  Chicago\n",
      "5     NaN    NaN            104              HR   Boston\n"
     ]
    }
   ],
   "source": [
    "# 4. Outer Join: keeps everything, filling with NaN where no match\n",
    "outer_join = employees.merge(departments, \n",
    "                           on='department_id', \n",
    "                           how='outer')\n",
    "print(\"\\n4. Outer Join (employees & departments):\")\n",
    "print(outer_join)"
   ]
  },
  {
   "cell_type": "code",
   "execution_count": 16,
   "id": "1992c780-4a0c-4fb9-8210-9d841aff971d",
   "metadata": {},
   "outputs": [
    {
     "name": "stdout",
     "output_type": "stream",
     "text": [
      "\n",
      "5. Multiple table join (employees + departments + salaries):\n",
      "   emp_id   name  department_id department_name location   salary   bonus\n",
      "0       1   John            101     Engineering      NYC  75000.0  5000.0\n",
      "1       2  Sarah            102       Marketing       SF  82000.0  6000.0\n",
      "2       3   Mike            101     Engineering      NYC  78000.0  5500.0\n",
      "3       4   Lisa            103           Sales  Chicago  85000.0  7000.0\n",
      "4       5  David            102       Marketing       SF      NaN     NaN\n"
     ]
    }
   ],
   "source": [
    "# 5. Multiple joins: combining all three tables\n",
    "complete_data = employees.merge(departments, on='department_id', how='left')\\\n",
    "                        .merge(salaries, on='emp_id', how='left')\n",
    "print(\"\\n5. Multiple table join (employees + departments + salaries):\")\n",
    "print(complete_data)"
   ]
  },
  {
   "cell_type": "code",
   "execution_count": 17,
   "id": "772b4e8c-bc1a-47d6-be69-a3c5a3f458ea",
   "metadata": {},
   "outputs": [
    {
     "name": "stdout",
     "output_type": "stream",
     "text": [
      "\n",
      "6. Department Statistics:\n",
      "                  salary                           bonus\n",
      "                    mean      min      max count    mean\n",
      "department_name                                         \n",
      "Engineering      76500.0  75000.0  78000.0     2  5250.0\n",
      "Marketing        82000.0  82000.0  82000.0     1  6000.0\n",
      "Sales            85000.0  85000.0  85000.0     1  7000.0\n"
     ]
    }
   ],
   "source": [
    "# 6. Advanced: Join with aggregation\n",
    "dept_stats = complete_data.groupby('department_name').agg({\n",
    "    'salary': ['mean', 'min', 'max', 'count'],\n",
    "    'bonus': 'mean'\n",
    "}).round(2)\n",
    "\n",
    "print(\"\\n6. Department Statistics:\")\n",
    "print(dept_stats)"
   ]
  }
 ],
 "metadata": {
  "kernelspec": {
   "display_name": "Python 3 (ipykernel)",
   "language": "python",
   "name": "python3"
  },
  "language_info": {
   "codemirror_mode": {
    "name": "ipython",
    "version": 3
   },
   "file_extension": ".py",
   "mimetype": "text/x-python",
   "name": "python",
   "nbconvert_exporter": "python",
   "pygments_lexer": "ipython3",
   "version": "3.13.0"
  }
 },
 "nbformat": 4,
 "nbformat_minor": 5
}
