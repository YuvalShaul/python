{
 "cells": [
  {
   "cell_type": "code",
   "execution_count": null,
   "id": "0500de99-2d04-452b-9f3c-ffda603c6434",
   "metadata": {},
   "outputs": [],
   "source": [
    "import pandas as pd\n",
    "import numpy as np"
   ]
  },
  {
   "cell_type": "markdown",
   "id": "931525b7-acf0-46d6-94ac-4565c39c7852",
   "metadata": {},
   "source": [
    "# Pandas Joining and Merging Exercise"
   ]
  },
  {
   "cell_type": "code",
   "execution_count": null,
   "id": "f9a5ea63-5605-4f93-994f-0226dd099420",
   "metadata": {},
   "outputs": [],
   "source": [
    "# Create sample datasets\n",
    "np.random.seed(42)\n",
    "\n",
    "# Customer data\n",
    "customers = pd.DataFrame({\n",
    "    'customer_id': [1, 2, 3, 4, 5, 6, 7, 8],\n",
    "    'customer_name': ['Alice', 'Bob', 'Charlie', 'Diana', 'Eve', 'Frank', 'Grace', 'Henry'],\n",
    "    'city': ['New York', 'Los Angeles', 'Chicago', 'Houston', 'Phoenix', 'Philadelphia', 'San Antonio', 'San Diego'],\n",
    "    'registration_date': pd.date_range('2023-01-01', periods=8, freq='15D'),\n",
    "    'customer_type': ['Premium', 'Standard', 'Premium', 'Standard', 'Premium', 'Standard', 'Premium', 'Standard']\n",
    "})\n",
    "# Orders data\n",
    "orders = pd.DataFrame({\n",
    "    'order_id': [101, 102, 103, 104, 105, 106, 107, 108, 109, 110],\n",
    "    'customer_id': [1, 2, 3, 1, 4, 2, 5, 9, 1, 3],  # Note: customer_id 9 doesn't exist in customers\n",
    "    'order_date': pd.date_range('2023-02-01', periods=10, freq='5D'),\n",
    "    'order_amount': [250, 180, 320, 150, 410, 220, 380, 290, 170, 350],\n",
    "    'product_category': ['Electronics', 'Clothing', 'Electronics', 'Books', 'Electronics', 'Clothing', 'Electronics', 'Books', 'Clothing', 'Electronics']\n",
    "})\n",
    "\n",
    "# Products data\n",
    "products = pd.DataFrame({\n",
    "    'product_id': ['P001', 'P002', 'P003', 'P004', 'P005', 'P006'],\n",
    "    'product_name': ['Laptop', 'Smartphone', 'Tablet', 'Headphones', 'Smartwatch', 'Camera'],\n",
    "    'category': ['Electronics', 'Electronics', 'Electronics', 'Electronics', 'Electronics', 'Electronics'],\n",
    "    'price': [999, 699, 399, 199, 299, 799],\n",
    "    'supplier_id': [1, 1, 2, 2, 3, 3]\n",
    "})\n",
    "\n",
    "# Order details data\n",
    "order_details = pd.DataFrame({\n",
    "    'order_id': [101, 101, 102, 103, 104, 105, 106, 107, 108, 109, 110],\n",
    "    'product_id': ['P001', 'P004', 'P002', 'P003', 'P005', 'P001', 'P002', 'P006', 'P004', 'P002', 'P003'],\n",
    "    'quantity': [1, 2, 1, 1, 1, 1, 1, 1, 3, 1, 1],\n",
    "    'unit_price': [999, 199, 699, 399, 299, 999, 699, 799, 199, 699, 399]\n",
    "})\n",
    "\n",
    "# Suppliers data\n",
    "suppliers = pd.DataFrame({\n",
    "    'supplier_id': [1, 2, 3, 4],\n",
    "    'supplier_name': ['TechCorp', 'ElectroMax', 'GadgetPro', 'InnovateTech'],\n",
    "    'country': ['USA', 'Germany', 'Japan', 'South Korea'],\n",
    "    'rating': [4.5, 4.2, 4.8, 4.3]\n",
    "})\n",
    "\n",
    "# Regional data (alternative key names)\n",
    "regions = pd.DataFrame({\n",
    "    'city_name': ['New York', 'Los Angeles', 'Chicago', 'Houston', 'Boston'],\n",
    "    'region': ['Northeast', 'West', 'Midwest', 'South', 'Northeast'],\n",
    "    'population': [8400000, 3900000, 2700000, 2300000, 690000]\n",
    "})"
   ]
  },
  {
   "cell_type": "code",
   "execution_count": null,
   "id": "54206056-06f4-4418-b93b-8bc2d8e9baa8",
   "metadata": {},
   "outputs": [],
   "source": [
    "## Questions\n",
    "\n",
    "### 1. Basic Inner Join\n",
    "# Merge the customers and orders DataFrames using an inner join on customer_id.\n",
    "# How many rows are in the result, and why?\n"
   ]
  },
  {
   "cell_type": "code",
   "execution_count": null,
   "id": "bc20fac3-d14d-44b2-a6ce-a031b936c1e5",
   "metadata": {},
   "outputs": [],
   "source": [
    "### 2. Left Join Analysis\n",
    "# Perform a left join between customers and orders.\n",
    "# Which customers have no orders? Display their names and cities.\n"
   ]
  },
  {
   "cell_type": "code",
   "execution_count": null,
   "id": "0bf52cb7-1141-4f2c-9f5c-4767148a0f2c",
   "metadata": {},
   "outputs": [],
   "source": [
    "### 3. Right Join Investigation\n",
    "# Execute a right join between customers and orders.\n",
    "# Identify any orders that don't have corresponding customer information.\n"
   ]
  },
  {
   "cell_type": "code",
   "execution_count": null,
   "id": "f464557e-8982-4f94-b004-5601b2f91bc2",
   "metadata": {},
   "outputs": [],
   "source": [
    "### 4. Outer Join Exploration\n",
    "# Perform an outer join between customers and orders. Count how many records exist in each category:\n",
    "# - Customers with orders\n",
    "# - Customers without orders  \n",
    "# - Orders without customer information\n"
   ]
  },
  {
   "cell_type": "code",
   "execution_count": null,
   "id": "84a57ef0-5699-465b-bb41-79e0cb6b0f60",
   "metadata": {},
   "outputs": [],
   "source": [
    "### 5. Multi-table Join\n",
    "# Join three tables: orders, order_details, and products.\n",
    "# Calculate the total value (quantity × unit_price) for each order and display the top 5 orders by total value.\n"
   ]
  },
  {
   "cell_type": "code",
   "execution_count": null,
   "id": "5f4cbd5b-ec7a-4ca9-a643-b4df5badea09",
   "metadata": {},
   "outputs": [],
   "source": [
    "### 6. Join with Different Column Names\n",
    "# Merge the customers DataFrame with the regions DataFrame.\n",
    "# Note that the city column in customers corresponds to city_name in regions. Show customers with their region information.\n"
   ]
  },
  {
   "cell_type": "code",
   "execution_count": null,
   "id": "4d0e56df-c673-49eb-acfe-459b1f236654",
   "metadata": {},
   "outputs": [],
   "source": [
    "### 7. Index-based Join\n",
    "# Set customer_id as the index in both customers and orders DataFrames, \n",
    "# then join them using the index. Compare the result with a regular column-based join.\n"
   ]
  },
  {
   "cell_type": "code",
   "execution_count": null,
   "id": "c198dd10-1b6c-4dce-bb7d-fa634cf9e624",
   "metadata": {},
   "outputs": [],
   "source": [
    "### 8. Concatenation Challenge\n",
    "# Create two separate DataFrames:\n",
    "# - Orders from the first 5 customers\n",
    "# - Orders from the remaining customers\n",
    "# Then concatenate them back together. Verify that you get the original orders DataFrame.\n"
   ]
  },
  {
   "cell_type": "code",
   "execution_count": null,
   "id": "4484d092-458a-4158-8037-e03c0365993c",
   "metadata": {},
   "outputs": [],
   "source": [
    "### 9. Suffix Handling\n",
    "# When joining customers and orders, both DataFrames might have columns with similar names.\n",
    "# Perform a merge and use suffixes '_cust' and '_ord' to distinguish overlapping column names.\n"
   ]
  },
  {
   "cell_type": "code",
   "execution_count": null,
   "id": "24754a46-fae4-487a-a276-6abc57b35992",
   "metadata": {},
   "outputs": [],
   "source": [
    "### 10. Complex Business Analysis\n",
    "# Create a comprehensive report by joining multiple tables:\n",
    "# - Start with customers\n",
    "# - Add their order information\n",
    "# - Include product details for each order\n",
    "# - Add supplier information\n",
    "# - Calculate for each customer:\n",
    "#   - Total number of orders\n",
    "#   - Total amount spent\n",
    "#   - Average order value\n",
    "#   - Most frequently ordered product category\n",
    "#   - Primary supplier (supplier they buy from most)\n",
    "# Display the results sorted by total amount spent (descending).\n"
   ]
  },
  {
   "cell_type": "code",
   "execution_count": null,
   "id": "16bac741-d9ab-465e-8c37-6037fea10304",
   "metadata": {},
   "outputs": [],
   "source": [
    "## Additional Practice\n",
    "# Try these variations:\n",
    "# 1. Use `pd.concat()` with different `join` parameters ('inner', 'outer')\n",
    "# 2. Experiment with `merge()` using different combinations of `how` parameter\n",
    "# 3. Practice with `DataFrame.join()` method vs `pd.merge()`\n",
    "# 4. Explore indicator parameter in merge to track the source of each row"
   ]
  }
 ],
 "metadata": {
  "kernelspec": {
   "display_name": "Python 3 (ipykernel)",
   "language": "python",
   "name": "python3"
  },
  "language_info": {
   "codemirror_mode": {
    "name": "ipython",
    "version": 3
   },
   "file_extension": ".py",
   "mimetype": "text/x-python",
   "name": "python",
   "nbconvert_exporter": "python",
   "pygments_lexer": "ipython3",
   "version": "3.13.0"
  }
 },
 "nbformat": 4,
 "nbformat_minor": 5
}
