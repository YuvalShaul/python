{
 "cells": [
  {
   "cell_type": "code",
   "execution_count": null,
   "id": "6471952e-7319-49ea-bbf8-2dd7a7cf6338",
   "metadata": {},
   "outputs": [],
   "source": [
    "# Cell 1: Setup and data generation\n",
    "import numpy as np\n",
    "import matplotlib.pyplot as plt\n",
    "\n",
    "# Generate sample data\n",
    "x = np.linspace(0, 10, 100)\n",
    "sin_data = np.sin(x)\n",
    "cos_data = np.cos(x)\n",
    "tan_data = np.tan(x)\n",
    "exp_data = np.exp(-x/5)"
   ]
  },
  {
   "cell_type": "code",
   "execution_count": null,
   "id": "a6c958d1-3986-464b-b46c-e9e8e62b511c",
   "metadata": {},
   "outputs": [],
   "source": [
    "# Cell 2: Create first figure\n",
    "fig1 = plt.figure(figsize=(10, 6))\n",
    "# Note that even though we keep a varible(fig1) to reference it, it is still \n",
    "# the current figure, so in the next line we can call plt.plot\n",
    "plt.plot(x, sin_data, 'b-', label='sin(x)')\n",
    "# What plt.plot does here:\n",
    "# - Creates a default axes (a single plotting system) if none exists\n",
    "# - Makes it the current axes\n",
    "# - Uses that axes for the plotting command\n",
    "plt.grid(True)\n",
    "# Add grid lines to the current axes\n",
    "plt.title('Trigonometric Functions')\n",
    "plt.xlabel('x')\n",
    "plt.ylabel('y')\n",
    "plt.legend()\n",
    "plt.show()\n",
    "# Don't close fig1 - we'll modify it later\n"
   ]
  },
  {
   "cell_type": "code",
   "execution_count": null,
   "id": "88ab427c-2dcf-4d78-bbc5-fb58d9dfd86f",
   "metadata": {},
   "outputs": [],
   "source": [
    "# Cell 3: Create second figure with subplots\n",
    "fig2 = plt.figure(figsize=(12, 8))\n",
    "# Create a 2x2 subplot grid\n",
    "plt.subplot(2, 2, 1)\n",
    "plt.plot(x, sin_data, 'b-')\n",
    "plt.title('Sine Function')\n",
    "plt.grid(True)\n",
    "\n",
    "plt.subplot(2, 2, 2)\n",
    "plt.plot(x, cos_data, 'r-')\n",
    "plt.title('Cosine Function')\n",
    "plt.grid(True)\n",
    "\n",
    "# Only create two subplots initially\n",
    "plt.tight_layout()\n",
    "plt.show()\n",
    "# Don't close fig2 - we'll add more subplots later\n"
   ]
  },
  {
   "cell_type": "code",
   "execution_count": null,
   "id": "a434fff8-c425-4a7b-a109-b88c7795cede",
   "metadata": {},
   "outputs": [],
   "source": [
    "# Cell 4: Go back to first figure and add data\n",
    "print(fig1.number)\n",
    "plt.figure(fig1.number)  # Return to first figure\n",
    "# I could use the number directly (plt.figure(1)) but there is a risk here.\n",
    "# If I close a figure its number can be reused, and if I run jupyter cells \n",
    "# not in the correct order I may get different numbers.\n",
    "plt.plot(x, cos_data, 'g--', label='cos(x)')\n",
    "plt.legend()  # Update legend with new line\n",
    "plt.show()\n",
    "# Still don't close fig1"
   ]
  },
  {
   "cell_type": "code",
   "execution_count": null,
   "id": "1d5a5b62-d70e-4e94-92b6-3da83a8fe504",
   "metadata": {},
   "outputs": [],
   "source": [
    "# Cell 5: Return to second figure and add remaining subplots\n",
    "plt.figure(fig2.number)  # Return to second figure\n",
    "plt.subplot(2, 2, 3)\n",
    "plt.plot(x, tan_data, 'g-')\n",
    "plt.title('Tangent Function')\n",
    "plt.ylim(-5, 5)\n",
    "plt.grid(True)\n",
    "\n",
    "plt.subplot(2, 2, 4)\n",
    "plt.plot(x, exp_data, 'm-')\n",
    "plt.title('Exponential Decay')\n",
    "plt.grid(True)\n",
    "\n",
    "plt.tight_layout()\n",
    "plt.show()\n",
    "# Still don't close fig2"
   ]
  },
  {
   "cell_type": "code",
   "execution_count": null,
   "id": "d9291493-2434-4c99-897b-d5e5f8b16886",
   "metadata": {},
   "outputs": [],
   "source": [
    "# Cell 6: Back to first figure one more time\n",
    "plt.figure(fig1.number)\n",
    "plt.plot(x, exp_data, 'g:', label='exp(-x/5)')\n",
    "plt.title('Updated: Multiple Functions')\n",
    "plt.legend()\n",
    "plt.show()\n"
   ]
  },
  {
   "cell_type": "code",
   "execution_count": null,
   "id": "89dd95db-d089-4a8f-a91d-0b059f0bbf71",
   "metadata": {},
   "outputs": [],
   "source": [
    "# Cell 7: Final cleanup\n",
    "plt.close(fig1)\n",
    "plt.close(fig2)\n",
    "plt.close('all')  # Just to be safe"
   ]
  }
 ],
 "metadata": {
  "kernelspec": {
   "display_name": "Python 3 (ipykernel)",
   "language": "python",
   "name": "python3"
  },
  "language_info": {
   "codemirror_mode": {
    "name": "ipython",
    "version": 3
   },
   "file_extension": ".py",
   "mimetype": "text/x-python",
   "name": "python",
   "nbconvert_exporter": "python",
   "pygments_lexer": "ipython3",
   "version": "3.13.0"
  }
 },
 "nbformat": 4,
 "nbformat_minor": 5
}
