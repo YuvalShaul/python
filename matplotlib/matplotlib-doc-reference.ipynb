{
 "cells": [
  {
   "cell_type": "markdown",
   "id": "f4d8e108-5d3b-4252-8a03-cd7fdecc554e",
   "metadata": {},
   "source": [
    "## Matplotlibt Documentation Reference"
   ]
  },
  {
   "cell_type": "markdown",
   "id": "823339f1-1cc4-4a78-95ac-fdc80da13367",
   "metadata": {},
   "source": [
    "**pyplot**\n",
    "- A [pyplot tutorial](https://matplotlib.org/stable/tutorials/pyplot.html)."
   ]
  },
  {
   "cell_type": "markdown",
   "id": "3f24c75b-c2fb-4593-a0e1-4f1ea9b6954b",
   "metadata": {},
   "source": [
    "Artist\n",
    "- This is the [Artist API](https://matplotlib.org/stable/api/artist_api.html)\n",
    "- An [Artist Tutorial](https://matplotlib.org/stable/tutorials/artists.html)"
   ]
  }
 ],
 "metadata": {
  "kernelspec": {
   "display_name": "Python 3 (ipykernel)",
   "language": "python",
   "name": "python3"
  },
  "language_info": {
   "codemirror_mode": {
    "name": "ipython",
    "version": 3
   },
   "file_extension": ".py",
   "mimetype": "text/x-python",
   "name": "python",
   "nbconvert_exporter": "python",
   "pygments_lexer": "ipython3",
   "version": "3.13.0"
  }
 },
 "nbformat": 4,
 "nbformat_minor": 5
}
