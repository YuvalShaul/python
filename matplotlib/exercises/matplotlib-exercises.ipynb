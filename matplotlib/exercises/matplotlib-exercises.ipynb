{
 "cells": [
  {
   "cell_type": "code",
   "execution_count": null,
   "id": "d492f172-b88f-43b3-889d-b99b9ec2ced1",
   "metadata": {},
   "outputs": [],
   "source": [
    "# Matplotlib Practice Exercises\n",
    "\n",
    "## Setup and Prerequisites\n",
    "# For dynamic plots, you may need to change the backend\n",
    "# Uncomment the line below if you're using Jupyter notebooks\n",
    "# %matplotlib widget\n",
    "\n",
    "import matplotlib.pyplot as plt\n",
    "import numpy as np\n",
    "import matplotlib.animation as animation\n",
    "from matplotlib.widgets import Button, Slider"
   ]
  },
  {
   "cell_type": "code",
   "execution_count": null,
   "id": "c890f92d-a9fc-4800-9f6c-fd1d5a0fe673",
   "metadata": {},
   "outputs": [],
   "source": [
    "## Exercise 1: Basic Line Plot\n",
    "# Create a simple line plot of y = x² for x values from -5 to 5.\n",
    "\n",
    "# Your code here\n"
   ]
  },
  {
   "cell_type": "code",
   "execution_count": null,
   "id": "883c0922-53bc-4899-ae1b-ae4d829dbfd0",
   "metadata": {},
   "outputs": [],
   "source": [
    "## Exercise 2: Multiple Lines on Same Plot\n",
    "# Plot three functions on the same graph: y = x, y = x², and y = x³ for x from -3 to 3. Use different colors and line styles.\n",
    "\n",
    "# Your code here\n"
   ]
  },
  {
   "cell_type": "code",
   "execution_count": null,
   "id": "f5cc661b-5619-465b-bdfe-5ed10ffbcae1",
   "metadata": {},
   "outputs": [],
   "source": [
    "\n",
    "## Exercise 3: Changing Backend for Interactive Plots\n",
    "# Set up matplotlib to use an interactive backend and create a simple plot that you can zoom and pan.\n",
    "\n",
    "# Your code here\n",
    "# Hint: Use plt.switch_backend() or %matplotlib widget\n"
   ]
  },
  {
   "cell_type": "code",
   "execution_count": null,
   "id": "eabf53d6-e6ca-43ce-a20d-1d7f0a1a1474",
   "metadata": {},
   "outputs": [],
   "source": [
    "## Exercise 4: Basic Figure and Axes\n",
    "# Create a figure with explicit figure and axes objects. Plot sin(x) and cos(x) on the same axes.\n",
    "\n",
    "# Your code here\n",
    "# Use fig, ax = plt.subplots()\n"
   ]
  },
  {
   "cell_type": "code",
   "execution_count": null,
   "id": "b029c8cc-3a3c-4a04-9a57-65c3f09f18e2",
   "metadata": {},
   "outputs": [],
   "source": [
    "## Exercise 5: Multiple Subplots (2x2)\n",
    "# Create a 2x2 grid of subplots. Plot different functions in each: sin(x), cos(x), tan(x), and log(x).\n",
    "\n",
    "# Your code here\n"
   ]
  },
  {
   "cell_type": "code",
   "execution_count": null,
   "id": "556b18f0-61ef-45cf-b6df-3814afc1a70e",
   "metadata": {},
   "outputs": [],
   "source": [
    "## Exercise 6: Subplots with Different Sizes\n",
    "# Create subplots with different sizes using `plt.subplot2grid()` or `gridspec`. Make one subplot twice as wide as others.\n",
    "\n",
    "# Your code here\n"
   ]
  },
  {
   "cell_type": "code",
   "execution_count": null,
   "id": "2838f612-024c-48af-9373-1ad1cb06fa95",
   "metadata": {},
   "outputs": [],
   "source": [
    "## Exercise 7: Adding Labels and Titles\n",
    "# Create a plot with proper x-label, y-label, title, and grid. Plot y = e^x.\n",
    "\n",
    "# Your code here\n"
   ]
  },
  {
   "cell_type": "code",
   "execution_count": null,
   "id": "9b7043b4-e163-41c0-9180-aa6ff79a8167",
   "metadata": {},
   "outputs": [],
   "source": [
    "## Exercise 8: Legends and Multiple Series\n",
    "# Plot multiple sine waves with different frequencies and amplitudes. \n",
    "# Add a legend explaining each wave.\n",
    "\n",
    "# Your code here\n",
    "# Include: sin(x), sin(2x), 2*sin(x), sin(x/2)\n"
   ]
  },
  {
   "cell_type": "code",
   "execution_count": null,
   "id": "6991bf83-ea95-4b0a-8e6d-119c44118a9a",
   "metadata": {},
   "outputs": [],
   "source": [
    "## Exercise 9: Custom Legend Properties\n",
    "# Create a plot with custom legend properties: change location, frame, font size, and add a title to the legend.\n",
    "\n",
    "# Your code here\n"
   ]
  },
  {
   "cell_type": "code",
   "execution_count": null,
   "id": "f114e9e4-82d9-4942-bd79-cbc91d4de77f",
   "metadata": {},
   "outputs": [],
   "source": [
    "# ADVANCED\n",
    "## Exercise 10: Dynamic Plot - Simple Animation\n",
    "# Create a simple animated sine wave that moves across the screen.\n",
    "\n",
    "# Your code here\n",
    "# Use matplotlib.animation.FuncAnimation\n"
   ]
  },
  {
   "cell_type": "code",
   "execution_count": 1,
   "id": "7bc479f1-4e16-4898-837c-27f3312020c6",
   "metadata": {},
   "outputs": [],
   "source": [
    "# ADVANCED \n",
    "## Exercise 11: Interactive Plot with Button\n",
    "# Create a plot with a button that changes the displayed function when clicked \n",
    "# (switch between sin and cos).\n",
    "\n",
    "# Your code here\n",
    "# Use matplotlib.widgets.Button\n"
   ]
  },
  {
   "cell_type": "code",
   "execution_count": null,
   "id": "88e4e558-0021-4161-bd41-ed52c9fb9356",
   "metadata": {},
   "outputs": [],
   "source": [
    "# ADVANCED\n",
    "## Exercise 12: Interactive Plot with Slider\n",
    "# Create a plot with a slider that controls the frequency of a sine wave.\n",
    "\n",
    "# Your code here\n",
    "# Use matplotlib.widgets.Slider\n"
   ]
  },
  {
   "cell_type": "code",
   "execution_count": null,
   "id": "e3f7449d-3cf7-4709-89d0-14c8079ff95d",
   "metadata": {},
   "outputs": [],
   "source": [
    "## Exercise 13: Subplots with Shared Axes\n",
    "# Create multiple subplots that share the same x-axis or y-axis. Plot related time series data.\n",
    "\n",
    "# Your code here\n",
    "# Use sharex=True or sharey=True\n"
   ]
  },
  {
   "cell_type": "code",
   "execution_count": null,
   "id": "6da67fb1-fa9e-4342-ae1e-4e67c83f1f56",
   "metadata": {},
   "outputs": [],
   "source": [
    "## Exercise 14: Customizing Subplot Layout\n",
    "# Create subplots with custom spacing using `plt.tight_layout()` or `plt.subplots_adjust()`.\n",
    "\n",
    "# Your code here\n"
   ]
  },
  {
   "cell_type": "code",
   "execution_count": null,
   "id": "d3588e1d-d833-44cb-a527-fb2cc78a5741",
   "metadata": {},
   "outputs": [],
   "source": [
    "## Exercise 15: Advanced Legend Positioning\n",
    "# Create a complex plot with legends positioned outside the plot area and custom legend entries.\n",
    "\n",
    "# Your code here\n"
   ]
  },
  {
   "cell_type": "code",
   "execution_count": null,
   "id": "4fa9a49a-365b-4c3a-8b92-9e3d885eb033",
   "metadata": {},
   "outputs": [],
   "source": [
    "# ADVANCED\n",
    "## Exercise 16: Real-time Data Plot\n",
    "# Create a plot that updates in real-time, simulating live data (use a timer or animation).\n",
    "\n",
    "# Your code here\n"
   ]
  },
  {
   "cell_type": "code",
   "execution_count": null,
   "id": "1c290928-d4df-496b-b629-9b1d8242caf9",
   "metadata": {},
   "outputs": [],
   "source": [
    "## Exercise 17: Histogram\n",
    "# Create histograms of normal and uniform distributions. \n",
    "# Show them as subplots and customize bin sizes.\n",
    "\n",
    "# Your code here\n",
    "# Generate random data: np.random.normal() and np.random.uniform()\n"
   ]
  },
  {
   "cell_type": "code",
   "execution_count": null,
   "id": "15ffdf37-986f-4f90-ab85-2a072d503f0d",
   "metadata": {},
   "outputs": [],
   "source": [
    "## Exercise 18: Bar Chart\n",
    "# Create a bar chart showing sales data for different months. \n",
    "# Include error bars and custom colors.\n",
    "\n",
    "# Your code here\n",
    "# Sample data: months = ['Jan', 'Feb', 'Mar', 'Apr', 'May']\n",
    "#             sales = [20, 35, 30, 35, 27]\n"
   ]
  },
  {
   "cell_type": "code",
   "execution_count": null,
   "id": "ad573a8e-52a2-467e-96b8-f95d2c5cba97",
   "metadata": {},
   "outputs": [],
   "source": [
    "## Exercise 19: Scatter Plot\n",
    "# Create a scatter plot showing the relationship between height and weight. \n",
    "# Add a trend line and color points by category.\n",
    "\n",
    "# Your code here\n",
    "# Generate sample data or use: height = np.random.normal(170, 10, 100)\n",
    "#                              weight = height * 0.8 + np.random.normal(0, 5, 100)\n"
   ]
  },
  {
   "cell_type": "code",
   "execution_count": null,
   "id": "6562a1a5-d634-4c56-8bd0-bc9e447f0b12",
   "metadata": {},
   "outputs": [],
   "source": [
    "## Exercise 20: Combined Advanced Plot\n",
    "# Create a comprehensive dashboard with:\n",
    "# - A histogram in the top-left\n",
    "# - A bar chart in the top-right  \n",
    "# - A scatter plot in the bottom-left\n",
    "# - A line plot with multiple series in the bottom-right\n",
    "# - Proper labels, legends, and titles for all subplots\n",
    "\n",
    "# Your code here\n",
    "# This should combine techniques from all previous exercises\n",
    "\n",
    "\n",
    "## Solutions Hints\n",
    "\n",
    "### For Dynamic Plots:\n",
    "- Use `plt.ion()` for interactive mode\n",
    "- For Jupyter: `%matplotlib widget` or `%matplotlib notebook`\n",
    "- For real-time updates: `plt.pause(0.01)` in loops\n",
    "\n",
    "### For Animations:\n",
    "```python\n",
    "def animate(frame):\n",
    "    # Update your plot data here\n",
    "    pass\n",
    "\n",
    "ani = animation.FuncAnimation(fig, animate, frames=100, interval=50)\n",
    "```\n",
    "\n",
    "### For Interactive Widgets:\n",
    "```python\n",
    "def button_click(event):\n",
    "    # Handle button click\n",
    "    pass\n",
    "\n",
    "button = Button(ax_button, 'Click me')\n",
    "button.on_clicked(button_click)\n",
    "```\n",
    "\n",
    "### For Better Layouts:\n",
    "```python\n",
    "plt.tight_layout()  # Automatic spacing\n",
    "plt.subplots_adjust(hspace=0.3, wspace=0.3)  # Manual spacing\n",
    "```\n",
    "\n",
    "---\n",
    "\n",
    "## Challenge Extensions\n",
    "\n",
    "After completing all exercises, try these advanced challenges:\n",
    "\n",
    "1. **Animation with User Control**: Create an animation that can be paused/resumed with a button\n",
    "2. **3D Plots**: Extend some exercises to 3D using `mplot3d`\n",
    "3. **Style Sheets**: Apply different matplotlib style sheets to your plots\n",
    "4. **Custom Colormaps**: Create and apply custom color maps to your plots\n",
    "5. **Publication Ready**: Format one of your plots to be publication-ready with proper DPI, fonts, and sizing"
   ]
  }
 ],
 "metadata": {
  "kernelspec": {
   "display_name": "Python 3 (ipykernel)",
   "language": "python",
   "name": "python3"
  },
  "language_info": {
   "codemirror_mode": {
    "name": "ipython",
    "version": 3
   },
   "file_extension": ".py",
   "mimetype": "text/x-python",
   "name": "python",
   "nbconvert_exporter": "python",
   "pygments_lexer": "ipython3",
   "version": "3.13.0"
  }
 },
 "nbformat": 4,
 "nbformat_minor": 5
}
