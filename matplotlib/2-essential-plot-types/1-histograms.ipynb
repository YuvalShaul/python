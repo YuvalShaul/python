{
 "cells": [
  {
   "cell_type": "code",
   "execution_count": null,
   "id": "4c9886df-35e2-4531-869a-8b9696675411",
   "metadata": {},
   "outputs": [],
   "source": [
    "import numpy as np\n",
    "import matplotlib.pyplot as plt\n",
    "from scipy import stats"
   ]
  },
  {
   "cell_type": "code",
   "execution_count": null,
   "id": "36d7344e-dffd-46b6-a75e-1a4a9d61b484",
   "metadata": {},
   "outputs": [],
   "source": [
    "# Set random seed for reproducibility\n",
    "np.random.seed(42)\n",
    "\n",
    "# Generate sample data\n",
    "normal_data = np.random.normal(0, 1, 1000)\n",
    "uniform_data = np.random.uniform(-3, 3, 1000)\n",
    "exponential_data = np.random.exponential(1, 1000)\n",
    "bimodal_data = np.concatenate([\n",
    "    np.random.normal(-2, 0.5, 500),\n",
    "    np.random.normal(2, 0.5, 500)\n",
    "])"
   ]
  },
  {
   "cell_type": "code",
   "execution_count": null,
   "id": "19f42b1a-1377-407c-a1c5-1bae31288193",
   "metadata": {},
   "outputs": [],
   "source": [
    "# Create figure and axes\n",
    "fig, axes = plt.subplots(2, 3, figsize=(15, 10))\n",
    "fig.suptitle('Different Types of Histograms', fontsize=16)\n",
    "\n",
    "# Regular histogram\n",
    "axes[0,0].hist(normal_data, bins=30, color='skyblue', edgecolor='black')\n",
    "axes[0,0].set_title('Regular Histogram\\n(Normal Distribution)')\n",
    "axes[0,0].set_xlabel('Value')\n",
    "axes[0,0].set_ylabel('Frequency')\n",
    "axes[0,0].grid(True, alpha=0.3)\n",
    "\n",
    "# Normalized histogram with KDE\n",
    "axes[0,1].hist(uniform_data, bins=30, density=True, color='lightgreen', edgecolor='black')\n",
    "x_uniform = np.linspace(uniform_data.min(), uniform_data.max(), 100)\n",
    "kde_uniform = stats.gaussian_kde(uniform_data)\n",
    "axes[0,1].plot(x_uniform, kde_uniform(x_uniform), 'r-', lw=2, label='KDE')\n",
    "axes[0,1].set_title('Normalized Histogram\\n(Uniform Distribution)')\n",
    "axes[0,1].set_xlabel('Value')\n",
    "axes[0,1].set_ylabel('Density')\n",
    "axes[0,1].legend()\n",
    "axes[0,1].grid(True, alpha=0.3)\n",
    "\n",
    "# Cumulative histogram\n",
    "axes[0,2].hist(exponential_data, bins=30, cumulative=True, density=True,\n",
    "               color='salmon', edgecolor='black')\n",
    "axes[0,2].set_title('Cumulative Histogram\\n(Exponential Distribution)')\n",
    "axes[0,2].set_xlabel('Value')\n",
    "axes[0,2].set_ylabel('Cumulative Density')\n",
    "axes[0,2].grid(True, alpha=0.3)\n",
    "\n",
    "# Stacked histogram\n",
    "axes[1,0].hist([normal_data[normal_data < 0], normal_data[normal_data >= 0]], \n",
    "               bins=30, stacked=True, label=['Negative', 'Positive'],\n",
    "               color=['lightcoral', 'lightblue'])\n",
    "axes[1,0].set_title('Stacked Histogram\\n(Split by Sign)')\n",
    "axes[1,0].set_xlabel('Value')\n",
    "axes[1,0].set_ylabel('Frequency')\n",
    "axes[1,0].legend()\n",
    "axes[1,0].grid(True, alpha=0.3)\n",
    "\n",
    "# Step histogram\n",
    "axes[1,1].hist(bimodal_data, bins=30, histtype='step', color='purple', \n",
    "               linewidth=2, label='Step')\n",
    "axes[1,1].hist(bimodal_data, bins=30, histtype='stepfilled', alpha=0.3,\n",
    "               color='purple', label='Filled')\n",
    "axes[1,1].set_title('Step Histogram\\n(Bimodal Distribution)')\n",
    "axes[1,1].set_xlabel('Value')\n",
    "axes[1,1].set_ylabel('Frequency')\n",
    "axes[1,1].legend()\n",
    "axes[1,1].grid(True, alpha=0.3)\n",
    "\n",
    "# 2D histogram\n",
    "x = normal_data\n",
    "y = x + np.random.normal(0, 0.5, 1000)\n",
    "h = axes[1,2].hist2d(x, y, bins=30, cmap='viridis')\n",
    "plt.colorbar(h[3], ax=axes[1,2])\n",
    "axes[1,2].set_title('2D Histogram\\n(Correlated Normal)')\n",
    "axes[1,2].set_xlabel('X Value')\n",
    "axes[1,2].set_ylabel('Y Value')\n",
    "\n",
    "plt.tight_layout()\n",
    "plt.show()"
   ]
  }
 ],
 "metadata": {
  "kernelspec": {
   "display_name": "Python 3 (ipykernel)",
   "language": "python",
   "name": "python3"
  },
  "language_info": {
   "codemirror_mode": {
    "name": "ipython",
    "version": 3
   },
   "file_extension": ".py",
   "mimetype": "text/x-python",
   "name": "python",
   "nbconvert_exporter": "python",
   "pygments_lexer": "ipython3",
   "version": "3.13.0"
  }
 },
 "nbformat": 4,
 "nbformat_minor": 5
}
