{
 "cells": [
  {
   "cell_type": "code",
   "execution_count": null,
   "id": "6eca0c0b-3fcb-43fe-8390-b98ffc96bbad",
   "metadata": {},
   "outputs": [],
   "source": [
    "import matplotlib.pyplot as plt\n",
    "import numpy as np"
   ]
  },
  {
   "cell_type": "code",
   "execution_count": null,
   "id": "775e50af-6278-459d-9e14-16cf9479dfcf",
   "metadata": {},
   "outputs": [],
   "source": [
    "# Create example data: study time vs test scores\n",
    "study_hours = np.random.normal(5, 2, 50)  # mean of 5 hours, std of 2\n",
    "# Create correlated test scores (higher study time = higher scores + some noise)\n",
    "test_scores = 60 + (study_hours * 7) + np.random.normal(0, 10, 50)\n",
    "\n",
    "fig, ax = plt.subplots()\n",
    "ax.scatter(study_hours, test_scores)\n",
    "ax.set_xlabel('Study Hours')\n",
    "ax.set_ylabel('Test Score')\n",
    "ax.set_title('Study Time vs Test Scores')\n",
    "\n",
    "plt.show()"
   ]
  },
  {
   "cell_type": "markdown",
   "id": "ac21ff74-af4a-4325-94a7-3687a7675dfa",
   "metadata": {},
   "source": [
    "#### Scatter plots can be better at showing "
   ]
  },
  {
   "cell_type": "code",
   "execution_count": null,
   "id": "24025754-e52e-42bf-a703-4e902db23fa7",
   "metadata": {},
   "outputs": [],
   "source": [
    "# Create data with a non-linear relationship\n",
    "x = np.linspace(0, 10, 50)\n",
    "y = x**2 + np.random.normal(0, 10, 50)  # quadratic relationship with noise\n",
    "\n",
    "fig, (ax1, ax2) = plt.subplots(1, 2, figsize=(10, 4))\n",
    "\n",
    "# Line plot - misleading\n",
    "ax1.plot(x, y)\n",
    "ax1.set_title('Line Plot')\n",
    "\n",
    "# Scatter plot - shows true relationship\n",
    "ax2.scatter(x, y)\n",
    "ax2.set_title('Scatter Plot')\n",
    "\n",
    "plt.tight_layout()\n",
    "plt.show()"
   ]
  }
 ],
 "metadata": {
  "kernelspec": {
   "display_name": "Python 3 (ipykernel)",
   "language": "python",
   "name": "python3"
  },
  "language_info": {
   "codemirror_mode": {
    "name": "ipython",
    "version": 3
   },
   "file_extension": ".py",
   "mimetype": "text/x-python",
   "name": "python",
   "nbconvert_exporter": "python",
   "pygments_lexer": "ipython3",
   "version": "3.13.0"
  }
 },
 "nbformat": 4,
 "nbformat_minor": 5
}
