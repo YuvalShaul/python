{
 "cells": [
  {
   "cell_type": "markdown",
   "id": "e6e128f9-bc69-4cc3-97fb-3a106d25ac0b",
   "metadata": {},
   "source": [
    "## The **if** command"
   ]
  },
  {
   "cell_type": "code",
   "execution_count": 1,
   "id": "80adfff2-9c80-4c3a-b900-27a13ec6e54f",
   "metadata": {},
   "outputs": [
    {
     "name": "stdout",
     "output_type": "stream",
     "text": [
      "3  is smaller than 8\n"
     ]
    }
   ],
   "source": [
    "# A simple if statement\n",
    "a = 3\n",
    "\n",
    "if a < 8:\n",
    "  print(a, \" is smaller than 8\")\n"
   ]
  },
  {
   "cell_type": "code",
   "execution_count": 2,
   "id": "d0c90119-d3b2-44bc-857c-aae0dd4ab786",
   "metadata": {},
   "outputs": [
    {
     "name": "stdin",
     "output_type": "stream",
     "text": [
      "Please enter an integer:  2\n"
     ]
    },
    {
     "name": "stdout",
     "output_type": "stream",
     "text": [
      "> one.\n"
     ]
    }
   ],
   "source": [
    "# A complete if statement\n",
    "x = int(input(\"Please enter an integer: \"))\n",
    "if x < 0:\n",
    "    print('Negative.')\n",
    "elif x == 0:\n",
    "    print('Zero.')\n",
    "elif x == 1:\n",
    "    print('One')\n",
    "else:\n",
    "    print('> one.')"
   ]
  },
  {
   "cell_type": "markdown",
   "id": "cc1b564e-9f0a-4a67-9254-15bacf14b0db",
   "metadata": {},
   "source": [
    "### indentation"
   ]
  },
  {
   "cell_type": "code",
   "execution_count": 3,
   "id": "5eba21ef-7367-43ac-a6e8-6d410a0b9b74",
   "metadata": {},
   "outputs": [
    {
     "ename": "IndentationError",
     "evalue": "expected an indented block after 'if' statement on line 1 (3307601437.py, line 2)",
     "output_type": "error",
     "traceback": [
      "\u001b[1;36m  Cell \u001b[1;32mIn[3], line 2\u001b[1;36m\u001b[0m\n\u001b[1;33m    print('smaller')\u001b[0m\n\u001b[1;37m    ^\u001b[0m\n\u001b[1;31mIndentationError\u001b[0m\u001b[1;31m:\u001b[0m expected an indented block after 'if' statement on line 1\n"
     ]
    }
   ],
   "source": [
    "if a < 8:\n",
    "print('smaller')"
   ]
  },
  {
   "cell_type": "code",
   "execution_count": 4,
   "id": "8218fef4-cf7f-496a-ac88-6ae4ec4354ca",
   "metadata": {},
   "outputs": [
    {
     "ename": "IndentationError",
     "evalue": "unexpected indent (2907522140.py, line 2)",
     "output_type": "error",
     "traceback": [
      "\u001b[1;36m  Cell \u001b[1;32mIn[4], line 2\u001b[1;36m\u001b[0m\n\u001b[1;33m    print('two')   # there is a space before the print command. See it?\u001b[0m\n\u001b[1;37m    ^\u001b[0m\n\u001b[1;31mIndentationError\u001b[0m\u001b[1;31m:\u001b[0m unexpected indent\n"
     ]
    }
   ],
   "source": [
    "print('one')\n",
    " print('two')   # there is a space before the print command. See it?"
   ]
  },
  {
   "cell_type": "code",
   "execution_count": 5,
   "id": "d9a4f898-f86f-4d75-85a5-4960b039beee",
   "metadata": {},
   "outputs": [
    {
     "ename": "IndentationError",
     "evalue": "unexpected indent (2340615859.py, line 2)",
     "output_type": "error",
     "traceback": [
      "\u001b[1;36m  Cell \u001b[1;32mIn[5], line 2\u001b[1;36m\u001b[0m\n\u001b[1;33m    print('tab')\u001b[0m\n\u001b[1;37m    ^\u001b[0m\n\u001b[1;31mIndentationError\u001b[0m\u001b[1;31m:\u001b[0m unexpected indent\n"
     ]
    }
   ],
   "source": [
    "# This example works here, but is not a correct python \n",
    "    print('tab')\n",
    "    print('4 spaces')"
   ]
  },
  {
   "cell_type": "code",
   "execution_count": 6,
   "id": "cd5e31e8-8236-4dff-ba13-72dacf39499c",
   "metadata": {},
   "outputs": [
    {
     "ename": "SyntaxError",
     "evalue": "expected ':' (424376756.py, line 2)",
     "output_type": "error",
     "traceback": [
      "\u001b[1;36m  Cell \u001b[1;32mIn[6], line 2\u001b[1;36m\u001b[0m\n\u001b[1;33m    if a < 8\u001b[0m\n\u001b[1;37m            ^\u001b[0m\n\u001b[1;31mSyntaxError\u001b[0m\u001b[1;31m:\u001b[0m expected ':'\n"
     ]
    }
   ],
   "source": [
    "# indentation here should be the same\n",
    "if a < 8\n",
    "    print('yes')\n",
    "     print('indeed')"
   ]
  }
 ],
 "metadata": {
  "kernelspec": {
   "display_name": "Python 3 (ipykernel)",
   "language": "python",
   "name": "python3"
  },
  "language_info": {
   "codemirror_mode": {
    "name": "ipython",
    "version": 3
   },
   "file_extension": ".py",
   "mimetype": "text/x-python",
   "name": "python",
   "nbconvert_exporter": "python",
   "pygments_lexer": "ipython3",
   "version": "3.13.0"
  }
 },
 "nbformat": 4,
 "nbformat_minor": 5
}
